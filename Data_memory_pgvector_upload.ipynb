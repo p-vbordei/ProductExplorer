{
 "cells": [
  {
   "cell_type": "code",
   "execution_count": null,
   "metadata": {},
   "outputs": [],
   "source": []
  },
  {
   "attachments": {},
   "cell_type": "markdown",
   "metadata": {},
   "source": []
  },
  {
   "cell_type": "code",
   "execution_count": 1,
   "metadata": {},
   "outputs": [
    {
     "ename": "ModuleNotFoundError",
     "evalue": "No module named 'pgvector'",
     "output_type": "error",
     "traceback": [
      "\u001b[0;31m---------------------------------------------------------------------------\u001b[0m",
      "\u001b[0;31mModuleNotFoundError\u001b[0m                       Traceback (most recent call last)",
      "Cell \u001b[0;32mIn[1], line 1\u001b[0m\n\u001b[0;32m----> 1\u001b[0m \u001b[39mfrom\u001b[39;00m \u001b[39mpgvector\u001b[39;00m\u001b[39m.\u001b[39;00m\u001b[39msqlalchemy\u001b[39;00m \u001b[39mimport\u001b[39;00m Vector\n\u001b[1;32m      2\u001b[0m \u001b[39mfrom\u001b[39;00m \u001b[39msentence_transformers\u001b[39;00m \u001b[39mimport\u001b[39;00m SentenceTransformer\n\u001b[1;32m      3\u001b[0m \u001b[39mfrom\u001b[39;00m \u001b[39msqlalchemy\u001b[39;00m \u001b[39mimport\u001b[39;00m create_engine, insert, select, text, Integer, String, Text\n",
      "\u001b[0;31mModuleNotFoundError\u001b[0m: No module named 'pgvector'"
     ]
    }
   ],
   "source": [
    "from pgvector.sqlalchemy import Vector\n",
    "from sentence_transformers import SentenceTransformer\n",
    "from sqlalchemy import create_engine, insert, select, text, Integer, String, Text\n",
    "from sqlalchemy.orm import declarative_base, mapped_column, Session"
   ]
  },
  {
   "cell_type": "code",
   "execution_count": null,
   "metadata": {},
   "outputs": [],
   "source": [
    "\n",
    "# Create a connection to the PostgreSQL database\n",
    "engine = create_engine('postgresql+psycopg://localhost/pgvector_example')\n",
    "\n",
    "# Connect to the database and create the required extension\n",
    "with engine.connect() as conn:\n",
    "    conn.execute(text('CREATE EXTENSION IF NOT EXISTS vector'))\n",
    "    conn.commit()\n",
    "\n",
    "# Define the base class for SQLAlchemy models\n",
    "Base = declarative_base()\n",
    "\n",
    "# Define the Document model\n",
    "class Document(Base):\n",
    "    __tablename__ = 'document'\n",
    "\n",
    "    # Define the columns of the document table\n",
    "    id = mapped_column(Integer, primary_key=True)\n",
    "    content = mapped_column(Text)\n",
    "    embedding = mapped_column(Vector(384))\n",
    "\n",
    "# Drop and create the document table in the database\n",
    "Base.metadata.drop_all(engine)\n",
    "Base.metadata.create_all(engine)\n",
    "\n",
    "# Define a list of sentences\n",
    "sentences = [\n",
    "    'The dog is barking',\n",
    "    'The cat is purring',\n",
    "    'The bear is growling'\n",
    "]\n",
    "\n",
    "# Load the SentenceTransformer model\n",
    "model = SentenceTransformer('all-MiniLM-L6-v2')\n",
    "\n",
    "# Generate embeddings for the sentences\n",
    "embeddings = model.encode(sentences)\n",
    "\n",
    "# Create a list of dictionaries representing the documents\n",
    "documents = [dict(content=sentences[i], embedding=embedding) for i, embedding in enumerate(embeddings)]\n",
    "\n",
    "# Create a new session to interact with the database\n",
    "session = Session(engine)\n",
    "\n",
    "# Insert the documents into the database\n",
    "session.execute(insert(Document), documents)\n",
    "\n",
    "# Retrieve a document by its ID\n",
    "doc = session.get(Document, 1)\n",
    "\n",
    "# Find the most similar documents to the given document\n",
    "neighbors = session.scalars(select(Document).filter(Document.id != doc.id).order_by(Document.embedding.cosine_distance(doc.embedding)).limit(5))\n",
    "\n",
    "# Print the content of the similar documents\n",
    "for neighbor in neighbors:\n",
    "    print(neighbor.content)\n"
   ]
  }
 ],
 "metadata": {
  "kernelspec": {
   "display_name": "pxp",
   "language": "python",
   "name": "python3"
  },
  "language_info": {
   "codemirror_mode": {
    "name": "ipython",
    "version": 3
   },
   "file_extension": ".py",
   "mimetype": "text/x-python",
   "name": "python",
   "nbconvert_exporter": "python",
   "pygments_lexer": "ipython3",
   "version": "3.11.3"
  },
  "orig_nbformat": 4
 },
 "nbformat": 4,
 "nbformat_minor": 2
}
