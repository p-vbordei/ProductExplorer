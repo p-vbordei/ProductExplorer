{
 "cells": [
  {
   "cell_type": "code",
   "execution_count": null,
   "metadata": {},
   "outputs": [],
   "source": []
  },
  {
   "cell_type": "markdown",
   "metadata": {},
   "source": [
    "# Test Firestore"
   ]
  },
  {
   "cell_type": "code",
   "execution_count": null,
   "metadata": {},
   "outputs": [],
   "source": [
    "# https://firebase.google.com/docs/firestore/quickstart?authuser=0&_gl=1*2w73qq*_ga*OTM3NzQyMjU5LjE2OTAzMDU0MTU.*_ga_CW55HF8NVT*MTY5MDQ2MDMyNC4yLjEuMTY5MDQ2MTA3MC4wLjAuMA..#python\n",
    "# https://www.youtube.com/watch?v=b4W3YQdViTI\n",
    "import firebase_admin\n",
    "from firebase_admin import credentials\n",
    "from firebase_admin import firestore\n",
    "\n",
    "# Use a service account.\n",
    "cred = credentials.Certificate('productexplorerdata-firebase-adminsdk-ulb3d-465f23dff3.json')\n",
    "\n",
    "app = firebase_admin.initialize_app(cred)\n",
    "\n",
    "db = firestore.client()"
   ]
  },
  {
   "cell_type": "markdown",
   "metadata": {},
   "source": [
    "Add data\n",
    "Cloud Firestore stores data in Documents, which are stored in Collections. Cloud Firestore creates collections and documents implicitly the first time you add data to the document. You do not need to explicitly create collections or documents.\n",
    "\n",
    "Create a new collection and a document using the following example code."
   ]
  },
  {
   "cell_type": "code",
   "execution_count": null,
   "metadata": {},
   "outputs": [],
   "source": [
    "doc_ref = db.collection(\"users\").document(\"alovelace\")\n",
    "doc_ref.set({\"first\": \"Ada\", \"last\": \"Lovelace\", \"born\": 1815})snippets.py"
   ]
  },
  {
   "cell_type": "markdown",
   "metadata": {},
   "source": [
    "Now add another document to the users collection. Notice that this document includes a key-value pair (middle name) that does not appear in the first document. Documents in a collection can contain different sets of information."
   ]
  },
  {
   "cell_type": "code",
   "execution_count": null,
   "metadata": {},
   "outputs": [],
   "source": [
    "doc_ref = db.collection(\"users\").document(\"aturing\")\n",
    "doc_ref.set({\"first\": \"Alan\", \"middle\": \"Mathison\", \"last\": \"Turing\", \"born\": 1912})snippets.py"
   ]
  },
  {
   "cell_type": "markdown",
   "metadata": {},
   "source": [
    "Read data\n",
    "Use the data viewer in the Firebase console to quickly verify that you've added data to Cloud Firestore.\n",
    "\n",
    "You can also use the \"get\" method to retrieve the entire collection."
   ]
  },
  {
   "cell_type": "code",
   "execution_count": null,
   "metadata": {},
   "outputs": [],
   "source": [
    "users_ref = db.collection(\"users\")\n",
    "docs = users_ref.stream()\n",
    "\n",
    "for doc in docs:\n",
    "    print(f\"{doc.id} => {doc.to_dict()}\")"
   ]
  }
 ],
 "metadata": {
  "language_info": {
   "name": "python"
  },
  "orig_nbformat": 4
 },
 "nbformat": 4,
 "nbformat_minor": 2
}
