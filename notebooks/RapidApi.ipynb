{
 "cells": [
  {
   "cell_type": "code",
   "execution_count": 1,
   "metadata": {},
   "outputs": [],
   "source": [
    "import requests\n",
    "import json\n",
    "import pandas as pd"
   ]
  },
  {
   "cell_type": "code",
   "execution_count": 19,
   "metadata": {},
   "outputs": [],
   "source": [
    "# Assume the JSON data is stored in a variable called `json_data`\n",
    "data = json.loads(response.text)"
   ]
  },
  {
   "cell_type": "code",
   "execution_count": 22,
   "metadata": {},
   "outputs": [],
   "source": [
    "# Extract the reviews from the JSON data and convert it to a DataFrame\n",
    "reviews = pd.DataFrame(data['reviews'])"
   ]
  },
  {
   "cell_type": "code",
   "execution_count": 25,
   "metadata": {},
   "outputs": [],
   "source": [
    "reviews.to_csv(\"reviews_sample.csv\",index=False)"
   ]
  },
  {
   "cell_type": "code",
   "execution_count": 3,
   "metadata": {},
   "outputs": [],
   "source": [
    "asin_list_path = '/Users/vladbordei/Documents/Development/ProductExplorer/data/external/asin_list.csv'\n",
    "asin_list = pd.read_csv(asin_list_path)['asin'].tolist()"
   ]
  },
  {
   "cell_type": "code",
   "execution_count": 4,
   "metadata": {},
   "outputs": [
    {
     "data": {
      "text/plain": [
       "['B08X2324ZL',\n",
       " 'B09MQ689XL',\n",
       " 'B0BCW8X98V',\n",
       " 'B09NR5JW8Y',\n",
       " 'B0BHS5VPCZ',\n",
       " 'B0BCVY1DHR',\n",
       " 'B0BNXCJ3MV',\n",
       " 'B0BCTTCSBZ',\n",
       " 'B091325ZMB',\n",
       " 'B093HCXGC9',\n",
       " 'B0BL6MR1KN',\n",
       " 'B09PN11Y65',\n",
       " 'B0BLNBS36G',\n",
       " 'B0BVZ3H4MB',\n",
       " 'B0BW8Y2B8Z',\n",
       " 'B0BDFZPNVY']"
      ]
     },
     "execution_count": 4,
     "metadata": {},
     "output_type": "execute_result"
    }
   ],
   "source": [
    "asin_list"
   ]
  },
  {
   "cell_type": "code",
   "execution_count": null,
   "metadata": {},
   "outputs": [],
   "source": [
    "# Loop over ASINs\n",
    "for asin in asin_list:\n",
    "    details = get_product_details(asin)\n",
    "    reviews = get_product_reviews(asin)\n",
    "    update_firestore(asin, details, reviews)"
   ]
  },
  {
   "cell_type": "code",
   "execution_count": 13,
   "metadata": {},
   "outputs": [
    {
     "name": "stdout",
     "output_type": "stream",
     "text": [
      "Failed to fetch product details for B08X2324ZL. HTTP status: 404\n",
      "Skipping B08X2324ZL due to failed details fetch.\n",
      "Failed to fetch product details for B09MQ689XL. HTTP status: 404\n",
      "Skipping B09MQ689XL due to failed details fetch.\n"
     ]
    }
   ],
   "source": [
    "import time\n",
    "import asyncio\n",
    "import nest_asyncio\n",
    "import aiohttp\n",
    "import json\n",
    "import firebase_admin\n",
    "from firebase_admin import credentials\n",
    "from firebase_admin import firestore\n",
    "\n",
    "\n",
    "\n",
    "\n",
    "\n",
    "\n",
    "# Your ASINs\n",
    "asin_list = ['B08X2324ZL', 'B09MQ689XL']\n",
    "\n",
    "# Amazon Scraper details\n",
    "base_url = \"https://asin-data.p.rapidapi.com/request\"\n",
    "api_key = \"70201ee0c8ed29661bc6ae00a84341fb\"\n",
    "headers = {\n",
    "\t\"X-RapidAPI-Key\": \"4da31a08e5mshaca05d98a3d9d6ep1fffb1jsn019717508cc8\",\n",
    "\t\"X-RapidAPI-Host\": \"asin-data.p.rapidapi.com\"\n",
    "}\n",
    "\n",
    "# Firestore details\n",
    "cred_path = '/Users/vladbordei/Documents/Development/ProductExplorer/notebooks/productexplorerdata-firebase-adminsdk-ulb3d-465f23dff3.json'\n",
    "\n",
    "# Initialize Firestore\n",
    "cred = credentials.Certificate(cred_path)\n",
    "if not firebase_admin._apps:\n",
    "    firebase_admin.initialize_app(cred)\n",
    "db = firestore.client()\n",
    "\n",
    "async def get_product_details(asin):\n",
    "    start = time.time()\n",
    "    async with aiohttp.ClientSession() as session:\n",
    "        url = f\"{base_url}{asin}\"\n",
    "        async with session.get(url, headers=headers, params={\"api_key\": api_key}) as response:\n",
    "            if response.status != 200:\n",
    "                print(f\"Failed to fetch product details for {asin}. HTTP status: {response.status}\")\n",
    "                return None\n",
    "            print(f\"Fetching product details for {asin} took {time.time() - start} seconds.\")\n",
    "            return await response.json()\n",
    "\n",
    "async def fetch(session, page_var, asin):\n",
    "    params = {\n",
    "        \"type\":\"reviews\",\n",
    "        \"asin\":asin,\n",
    "        \"amazon_domain\":\"amazon.com\",\n",
    "        \"reviewer_type\":\"verified_purchase\",\n",
    "        \"sort_by\":\"most_recent\",\n",
    "        \"global_reviews\":\"false\",\n",
    "        \"page\":page_var\n",
    "    }\n",
    "    async with session.get(url=base_url, headers=headers, params=params) as response:\n",
    "        if response.status != 200:\n",
    "            print(f\"Failed to fetch reviews for {asin} page {page_var}. HTTP status: {response.status}\")\n",
    "            return None\n",
    "        return await response.json()\n",
    "\n",
    "async def get_product_reviews(asin):\n",
    "    start = time.time()\n",
    "    async with aiohttp.ClientSession() as session:\n",
    "        pages = [\"1\", \"2\", \"3\", \"4\", \"5\", \"6\", \"7\", \"8\", \"9\", \"10\"]\n",
    "        tasks = [fetch(session, page_var, asin) for page_var in pages]\n",
    "        results = await asyncio.gather(*tasks)\n",
    "        print(f\"Fetching product reviews for {asin} took {time.time() - start} seconds.\")\n",
    "        return results\n",
    "\n",
    "def update_firestore(asin, details, reviews):\n",
    "    if details is None or reviews is None or any(review is None for review in reviews):\n",
    "        print(f\"Skipping Firestore update for {asin} due to missing data.\")\n",
    "        return\n",
    "    start = time.time()\n",
    "    doc_ref = db.collection('products').document(asin)\n",
    "    doc_ref.set({\n",
    "        'details': details,\n",
    "        'reviews': reviews\n",
    "    }, merge=True)\n",
    "    print(f\"Updating Firestore for {asin} took {time.time() - start} seconds.\")\n",
    "\n",
    "async def process_asin(asin):\n",
    "    details = await get_product_details(asin)\n",
    "    if details is None:\n",
    "        print(f\"Skipping {asin} due to failed details fetch.\")\n",
    "        return\n",
    "    reviews = await get_product_reviews(asin)\n",
    "    if reviews is None or any(review is None for review in reviews):\n",
    "        print(f\"Skipping {asin} due to failed reviews fetch.\")\n",
    "        return\n",
    "    update_firestore(asin, details, reviews)\n",
    "\n",
    "async def main():\n",
    "    tasks = [process_asin(asin) for asin in asin_list]\n",
    "    await asyncio.gather(*tasks)\n",
    "\n",
    "loop = asyncio.get_event_loop()\n",
    "loop.run_until_complete(main())\n"
   ]
  },
  {
   "cell_type": "code",
   "execution_count": 11,
   "metadata": {},
   "outputs": [
    {
     "name": "stdout",
     "output_type": "stream",
     "text": [
      "[{'message': 'API Request failed due to Provider configuration error: The API response body transformation failed to parse content-type application/json. Please contact the API Provider', 'info': 'Your Client (working) ---> Gateway (working) ---> API (not working)'}, {'message': 'API Request failed due to Provider configuration error: The API response body transformation failed to parse content-type application/json. Please contact the API Provider', 'info': 'Your Client (working) ---> Gateway (working) ---> API (not working)'}, {'message': 'API Request failed due to Provider configuration error: The API response body transformation failed to parse content-type application/json. Please contact the API Provider', 'info': 'Your Client (working) ---> Gateway (working) ---> API (not working)'}, {'message': 'API Request failed due to Provider configuration error: The API response body transformation failed to parse content-type application/json. Please contact the API Provider', 'info': 'Your Client (working) ---> Gateway (working) ---> API (not working)'}, {'message': 'API Request failed due to Provider configuration error: The API response body transformation failed to parse content-type application/json. Please contact the API Provider', 'info': 'Your Client (working) ---> Gateway (working) ---> API (not working)'}, {'message': 'API Request failed due to Provider configuration error: The API response body transformation failed to parse content-type application/json. Please contact the API Provider', 'info': 'Your Client (working) ---> Gateway (working) ---> API (not working)'}, {'message': 'API Request failed due to Provider configuration error: The API response body transformation failed to parse content-type application/json. Please contact the API Provider', 'info': 'Your Client (working) ---> Gateway (working) ---> API (not working)'}, {'message': 'API Request failed due to Provider configuration error: The API response body transformation failed to parse content-type application/json. Please contact the API Provider', 'info': 'Your Client (working) ---> Gateway (working) ---> API (not working)'}, {'message': 'API Request failed due to Provider configuration error: The API response body transformation failed to parse content-type application/json. Please contact the API Provider', 'info': 'Your Client (working) ---> Gateway (working) ---> API (not working)'}, {'message': 'API Request failed due to Provider configuration error: The API response body transformation failed to parse content-type application/json. Please contact the API Provider', 'info': 'Your Client (working) ---> Gateway (working) ---> API (not working)'}]\n"
     ]
    }
   ],
   "source": [
    "import firebase_admin\n",
    "from firebase_admin import credentials\n",
    "from firebase_admin import firestore\n",
    "\n",
    "# Firestore details\n",
    "cred_path = '/Users/vladbordei/Documents/Development/ProductExplorer/notebooks/productexplorerdata-firebase-adminsdk-ulb3d-465f23dff3.json'\n",
    "\n",
    "# Initialize Firestore\n",
    "cred = credentials.Certificate(cred_path)\n",
    "if not firebase_admin._apps:\n",
    "    firebase_admin.initialize_app(cred)\n",
    "db = firestore.client()\n",
    "\n",
    "# ASIN\n",
    "asin = 'B09MQ689XL'  # Replace with the ASIN you are interested in\n",
    "\n",
    "# Get the document with the provided ASIN\n",
    "doc_ref = db.collection('products').document(asin)\n",
    "\n",
    "# Get the document data\n",
    "doc = doc_ref.get()\n",
    "\n",
    "# Check if document exists\n",
    "if doc.exists:\n",
    "    # Get reviews\n",
    "    reviews = doc.to_dict().get('reviews', {})\n",
    "    print(reviews)\n",
    "else:\n",
    "    print(f\"No such document for ASIN: {asin}\")\n"
   ]
  },
  {
   "cell_type": "code",
   "execution_count": 12,
   "metadata": {},
   "outputs": [
    {
     "ename": "TypeError",
     "evalue": "list indices must be integers or slices, not str",
     "output_type": "error",
     "traceback": [
      "\u001b[0;31m---------------------------------------------------------------------------\u001b[0m",
      "\u001b[0;31mTypeError\u001b[0m                                 Traceback (most recent call last)",
      "Cell \u001b[0;32mIn[12], line 1\u001b[0m\n\u001b[0;32m----> 1\u001b[0m \u001b[39mlen\u001b[39m(reviews[\u001b[39m'\u001b[39;49m\u001b[39mreviews\u001b[39;49m\u001b[39m'\u001b[39;49m])\n",
      "\u001b[0;31mTypeError\u001b[0m: list indices must be integers or slices, not str"
     ]
    }
   ],
   "source": [
    "len(reviews['reviews'])"
   ]
  },
  {
   "cell_type": "code",
   "execution_count": 4,
   "metadata": {},
   "outputs": [
    {
     "data": {
      "text/plain": [
       "dict_keys(['2_star_ratings', '3_star_percentage', 'average_rating', '1_star_ratings', '5_star_percentage', '3_star_ratings', 'top_critical_review', 'top_positive_review', 'product', 'total_ratings', '5_star_ratings', 'pagination', '4_star_percentage', '2_star_percentage', '4_star_ratings', '1_star_percentage', 'filtered_total_ratings', 'reviews', 'message', 'total_reviews', 'filtered_total_reviews'])"
      ]
     },
     "execution_count": 4,
     "metadata": {},
     "output_type": "execute_result"
    }
   ],
   "source": [
    "reviews.keys()"
   ]
  },
  {
   "cell_type": "code",
   "execution_count": 6,
   "metadata": {},
   "outputs": [
    {
     "ename": "AttributeError",
     "evalue": "'list' object has no attribute 'keys'",
     "output_type": "error",
     "traceback": [
      "\u001b[0;31m---------------------------------------------------------------------------\u001b[0m",
      "\u001b[0;31mAttributeError\u001b[0m                            Traceback (most recent call last)",
      "Cell \u001b[0;32mIn[6], line 1\u001b[0m\n\u001b[0;32m----> 1\u001b[0m reviews[ \u001b[39m'\u001b[39;49m\u001b[39mpagination\u001b[39;49m\u001b[39m'\u001b[39;49m]\u001b[39m.\u001b[39;49mkeys()\n",
      "\u001b[0;31mAttributeError\u001b[0m: 'list' object has no attribute 'keys'"
     ]
    }
   ],
   "source": [
    "reviews[ 'pagination'].keys()"
   ]
  },
  {
   "cell_type": "code",
   "execution_count": 7,
   "metadata": {},
   "outputs": [
    {
     "data": {
      "text/plain": [
       "['https://www.amazon.com/ap/signin?openid.return_to=https%3A%2F%2Fwww.amazon.com%2FKING-BIRD-Galvanized-Heightened-Deep-Rooted%2Fproduct-reviews%2FB09MQ689XL%3Fie%3DUTF8%26pageNumber%3D2&openid.identity=http%3A%2F%2Fspecs.openid.net%2Fauth%2F2.0%2Fidentifier_select&openid.assoc_handle=usflex&openid.mode=checkid_setup&marketPlaceId=ATVPDKIKX0DER&language=en&openid.claimed_id=http%3A%2F%2Fspecs.openid.net%2Fauth%2F2.0%2Fidentifier_select&openid.ns=http%3A%2F%2Fspecs.openid.net%2Fauth%2F2.0']"
      ]
     },
     "execution_count": 7,
     "metadata": {},
     "output_type": "execute_result"
    }
   ],
   "source": [
    "reviews[ 'pagination']"
   ]
  },
  {
   "cell_type": "code",
   "execution_count": 29,
   "metadata": {},
   "outputs": [
    {
     "data": {
      "text/plain": [
       "583"
      ]
     },
     "execution_count": 29,
     "metadata": {},
     "output_type": "execute_result"
    }
   ],
   "source": [
    "reviews[ 'filtered_total_reviews']"
   ]
  },
  {
   "cell_type": "code",
   "execution_count": null,
   "metadata": {},
   "outputs": [],
   "source": [
    "API Request failed due to Provider configuration error: The API response body transformation failed to parse content-type application/json. Please contact the API Provider"
   ]
  }
 ],
 "metadata": {
  "kernelspec": {
   "display_name": "oaie",
   "language": "python",
   "name": "python3"
  },
  "language_info": {
   "codemirror_mode": {
    "name": "ipython",
    "version": 3
   },
   "file_extension": ".py",
   "mimetype": "text/x-python",
   "name": "python",
   "nbconvert_exporter": "python",
   "pygments_lexer": "ipython3",
   "version": "3.10.11"
  },
  "orig_nbformat": 4,
  "vscode": {
   "interpreter": {
    "hash": "6c74ab5e9d1b69f4a633dadba036213975e2781ddda024f711eea1a9e615ae86"
   }
  }
 },
 "nbformat": 4,
 "nbformat_minor": 2
}
