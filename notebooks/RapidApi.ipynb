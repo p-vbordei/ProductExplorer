{
 "cells": [
  {
   "cell_type": "code",
   "execution_count": 2,
   "metadata": {},
   "outputs": [],
   "source": [
    "import requests\n",
    "import json\n",
    "import pandas as pd"
   ]
  },
  {
   "cell_type": "code",
   "execution_count": 9,
   "metadata": {},
   "outputs": [
    {
     "name": "stdout",
     "output_type": "stream",
     "text": [
      "{\"average_rating\":4.2,\"total_ratings\":1518,\"filtered_total_ratings\":null,\"total_reviews\":null,\"filtered_total_reviews\":null,\"5_star_ratings\":972,\"5_star_percentage\":0.64,\"4_star_ratings\":197,\"4_star_percentage\":0.13,\"3_star_ratings\":106,\"3_star_percentage\":0.07,\"2_star_ratings\":76,\"2_star_percentage\":0.05,\"1_star_ratings\":152,\"1_star_percentage\":0.1,\"product\":{\"url\":\"https://www.amazon.com/Hydroponics-Growing-QYO-Automation-Starter/dp/B08TVXQ5S1/ref=cm_cr_arp_d_product_top?ie=UTF8\",\"name\":\"QYO Hydroponics Growing System, 12 Pods Indoor Herb Garden with 36W Full-Spectrum Grow Light, Pump System, Automatic Timer, 23.8'' Height Adjustable, Plants Germination Kit for Home Kitchen Gardening\",\"brand\":\"QYO\",\"price\":null,\"image\":\"https://m.media-amazon.com/images/I/51EWuGFi4EL.jpg\",\"variation\":{\"Color\":\"Black\"}},\"top_positive_review\":{\"stars\":5,\"date\":\"Reviewed in the United States 🇺🇸 on March 23, 2023\",\"verified_purchase\":false,\"manufacturer_replied\":false,\"username\":\"WishGiggles\",\"userUrl\":\"https://www.amazon.com/gp/profile/amzn1.account.AHSH5TTSNEVKK22TJA7EFFQGHIWA/ref=cm_cr_arp_d_gw_lft?ie=UTF8\",\"title\":\"growing well\",\"review\":\"it was a little slow starting, but then got going well. The light seems better than the other grow lights I have in my garden room, enough, so I'm able to put some other plants in front of the hydroponic thing to gather up some of the light. I didn't have to do the milar curtain, but I decided to try it this last month, I don't know if it makes a difference or not, it sure isn't hurting it very giftable. I'm very happy with it over all.\",\"reviewUrl\":\"https://www.amazon.com/gp/customer-reviews/R29SS237COCS3A/ref=cm_cr_arp_d_viewpnt?ie=UTF8&ASIN=B08TVXQ5S1#R29SS237COCS3A\",\"total_found_helpful\":null,\"images\":[],\"variation\":{},\"videoUrl\":null},\"top_critical_review\":{\"stars\":3,\"date\":\"Reviewed in the United States 🇺🇸 on February 27, 2023\",\"verified_purchase\":false,\"manufacturer_replied\":false,\"username\":\"Amazon Customer\",\"userUrl\":\"https://www.amazon.com/gp/profile/amzn1.account.AFOCAGZQMXLGKYFQ37WNFWDQ7TRA/ref=cm_cr_arp_d_gw_rgt?ie=UTF8\",\"title\":\"There’s no bells and whistles, but he gets the job done\",\"review\":\"Overall, this product does what it says it does. It is a great starter garden, but if you are looking to replace your aero garden and are use to that level of interaction, this is not the machine for you. While this hydro-garden does grow plants, it is very basic with only two grow modes and no interactive system to let you know your garden status. For the price, however, it is an excellent starter garden for a kid or a purchase for someone that isn’t quite ready to commit a lot of money to a name-brand top of the line hydro-garden. Like other people, I also had a problem with mold. Increasing the air flow with a fan and wiping it from the grow pods, helped a lot but did not totally solve the issue.\",\"reviewUrl\":\"https://www.amazon.com/gp/customer-reviews/R37D68T9EOX8K4/ref=cm_cr_arp_d_viewpnt?ie=UTF8&ASIN=B08TVXQ5S1#R37D68T9EOX8K4\",\"total_found_helpful\":null,\"images\":[],\"variation\":{},\"videoUrl\":null},\"reviews\":[{\"stars\":5,\"date\":\"Reviewed in the United States 🇺🇸 on March 23, 2023\",\"verified_purchase\":true,\"manufacturer_replied\":false,\"username\":\"WishGigglesWishGiggles\",\"userUrl\":\"https://www.amazon.com/gp/profile/amzn1.account.AHSH5TTSNEVKK22TJA7EFFQGHIWA/ref=cm_cr_arp_d_gw_btm?ie=UTF8\",\"title\":\"growing well\",\"review\":\"it was a little slow starting, but then got going well. The light seems better than the other grow lights I have in my garden room, enough, so I'm able to put some other plants in front of the hydroponic thing to gather up some of the light. I didn't have to do the milar curtain, but I decided to try it this last month, I don't know if it makes a difference or not, it sure isn't hurting it very giftable. I'm very happy with it over all.\",\"reviewUrl\":\"https://www.amazon.com/gp/customer-reviews/R29SS237COCS3A/ref=cm_cr_arp_d_rvw_ttl?ie=UTF8&ASIN=B08TVXQ5S1\",\"total_found_helpful\":null,\"images\":[\"https://m.media-amazon.com/images/I/7155inkmOpL.jpg\"],\"variation\":{\"Color\":\"Black\"},\"videoUrl\":null},{\"stars\":5,\"date\":\"Reviewed in the United States 🇺🇸 on March 10, 2023\",\"verified_purchase\":true,\"manufacturer_replied\":false,\"username\":\"Amazon Customer\",\"userUrl\":\"https://www.amazon.com/gp/profile/amzn1.account.AFWY34GQRC2FEFJDM7WJOKUSIUXA/ref=cm_cr_arp_d_gw_btm?ie=UTF8\",\"title\":\"Great starter\",\"review\":\"This table top garden is the perfect way to begin the learning process of hydroponic gardening. I received it as a gift and it came with a damaged component from shipping. I emailed the seller and received a response within a couple of hours. By the next day, I got a confirmation of shipping and had the replacement within a couple days. Not only is this a good product, but the company is a class act.When I see such stellar reviews I am often skeptical, but this is a true testament.\",\"reviewUrl\":\"https://www.amazon.com/gp/customer-reviews/R1MTT3E123IK5P/ref=cm_cr_arp_d_rvw_ttl?ie=UTF8&ASIN=B08TVXQ5S1\",\"total_found_helpful\":1,\"images\":[],\"variation\":{\"Color\":\"Black\"},\"videoUrl\":null},{\"stars\":5,\"date\":\"Reviewed in the United States 🇺🇸 on March 23, 2023\",\"verified_purchase\":true,\"manufacturer_replied\":false,\"username\":\"Guillermo\",\"userUrl\":\"https://www.amazon.com/gp/profile/amzn1.account.AHNB7GW6LXTS7JEQH4YNVMIBAZKA/ref=cm_cr_arp_d_gw_btm?ie=UTF8\",\"title\":\"Can’t wait for my fresh herbs\",\"review\":\"The product is visually pleasing, fits right over the counter near the stove for easy access to fresh herbs and salads. This item  doubles as a security light at night. My kitchen is lit up from 4 pm to 8 Am. Now I don’t need to have timers on lamps  or leave lights on. A perfect gift.\",\"reviewUrl\":\"https://www.amazon.com/gp/customer-reviews/R2TW8S1LM5RZYO/ref=cm_cr_arp_d_rvw_ttl?ie=UTF8&ASIN=B08TVXQ5S1\",\"total_found_helpful\":null,\"images\":[],\"variation\":{\"Color\":\"Black\"},\"videoUrl\":null},{\"stars\":4,\"date\":\"Reviewed in the United States 🇺🇸 on February 4, 2023\",\"verified_purchase\":true,\"manufacturer_replied\":false,\"username\":\"Amazon Customer\",\"userUrl\":\"https://www.amazon.com/gp/profile/amzn1.account.AGGTF4UR3VU6AFGIJ6VN5XQUOOSA/ref=cm_cr_arp_d_gw_btm?ie=UTF8\",\"title\":\"Customer service is great\",\"review\":\"My light panel stopped working 9 months after I bought it. Emailed customer service and they sent a replacement light panel, which also did not work. They sent a new unit to me. Very inconvenient and my plants are not doing well through this BUT customer service is amazing.\",\"reviewUrl\":\"https://www.amazon.com/gp/customer-reviews/R13Y7CBHJRHF76/ref=cm_cr_arp_d_rvw_ttl?ie=UTF8&ASIN=B08TVXQ5S1\",\"total_found_helpful\":5,\"images\":[],\"variation\":{\"Color\":\"Black\"},\"videoUrl\":null},{\"stars\":4,\"date\":\"Reviewed in the United States 🇺🇸 on January 30, 2023\",\"verified_purchase\":true,\"manufacturer_replied\":false,\"username\":\"Loretta Steward\",\"userUrl\":\"https://www.amazon.com/gp/profile/amzn1.account.AGTJOUTYBLXEDCAJTJ7WKM5NTBFA/ref=cm_cr_arp_d_gw_btm?ie=UTF8\",\"title\":\"I like the brightness of the lights\",\"review\":\"The seeds take over a week to germinate.  I thought they would germinate quicker.  Also the sponges turn green pretty quickly.  I thought they could be reuseable but they are not.  Otherwise I do like the product and so does my guinea pig.\",\"reviewUrl\":\"https://www.amazon.com/gp/customer-reviews/RCWF7MDCWOD5N/ref=cm_cr_arp_d_rvw_ttl?ie=UTF8&ASIN=B08TVXQ5S1\",\"total_found_helpful\":1,\"images\":[],\"variation\":{\"Color\":\"Black\"},\"videoUrl\":null},{\"stars\":4,\"date\":\"Reviewed in the United States 🇺🇸 on November 30, 2022\",\"verified_purchase\":true,\"manufacturer_replied\":false,\"username\":\"Love to shop\",\"userUrl\":\"https://www.amazon.com/gp/profile/amzn1.account.AHT3NR4IFNG2OHUZYAZMKMBXSLKQ/ref=cm_cr_arp_d_gw_btm?ie=UTF8\",\"title\":\"Their warranty work is amazing.\",\"review\":\"I purchased the qyo hydroponics grow kit. It was easy to setup following the instructions. I rotated seedlings all spring/summer. I'd start my seeds in hydroponics and than transfer them to their own pot to continue growing and than out to the garden!Unfortunately it stopped working and I put it away. I missed planting so I contacted Qyo and since it was still under warranty, they are sending me a new one! I'm so happy. I don't normally bother with customer service/warranty work because it's too complicated and I get pissed. JENNIE at customer service was so helpful, didn't make me feel guilty for asking for the warranty coverage. She was so helpful.I really suggest purchasing this product over others such as the Aero garden. This product has more planting room for 1/3rd the cost.\",\"reviewUrl\":\"https://www.amazon.com/gp/customer-reviews/RY44OLI78VFTW/ref=cm_cr_arp_d_rvw_ttl?ie=UTF8&ASIN=B08TVXQ5S1\",\"total_found_helpful\":29,\"images\":[],\"variation\":{\"Color\":\"Black\"},\"videoUrl\":null},{\"stars\":5,\"date\":\"Reviewed in the United States 🇺🇸 on February 25, 2023\",\"verified_purchase\":true,\"manufacturer_replied\":false,\"username\":\"Dr. L\",\"userUrl\":\"https://www.amazon.com/gp/profile/amzn1.account.AEOFE5333HO25I6D3EK74VLR35BQ/ref=cm_cr_arp_d_gw_btm?ie=UTF8\",\"title\":\"Loved it until it stopped in 6 months but customer service stands by their stuff!\",\"review\":\"We bought our first 1 in April of 2022 and loved it so we bought our 2nd in June 2022. Unfortunately, although we love the product, the lights now longer power on and it’s useless.Update: QYO customer service was timely and responsive!!! No hassle, no questions asked replacement. You can’t go wrong with this purchase!\",\"reviewUrl\":\"https://www.amazon.com/gp/customer-reviews/R1G0APGD8A4RK2/ref=cm_cr_arp_d_rvw_ttl?ie=UTF8&ASIN=B08TVXQ5S1\",\"total_found_helpful\":2,\"images\":[],\"variation\":{\"Color\":\"Black\"},\"videoUrl\":null},{\"stars\":4,\"date\":\"Reviewed in the United States 🇺🇸 on December 14, 2022\",\"verified_purchase\":true,\"manufacturer_replied\":false,\"username\":\"Nicholas\",\"userUrl\":\"https://www.amazon.com/gp/profile/amzn1.account.AFUFMXEMIEN6RCWEQNWYTDSTO7WQ/ref=cm_cr_arp_d_gw_btm?ie=UTF8\",\"title\":\"Good product, broke, good Customer Service\",\"review\":\"I got mine several months ago. It worked great! My plants grew like crazy, it was easy to use, and I loved it.A few weeks ago, it just suddenly stopped working. I contact Customer Support and they were terrific.After walking through several steps to make sure I just wasn't being dumb, they sent a new one.This new one is great. I made sure to wait several weeks before writing this review to ensure the second one still worked. It does. Going strong and growing all sorts of veggies for me.\",\"reviewUrl\":\"https://www.amazon.com/gp/customer-reviews/R37A8QFEAG0IWP/ref=cm_cr_arp_d_rvw_ttl?ie=UTF8&ASIN=B08TVXQ5S1\",\"total_found_helpful\":9,\"images\":[],\"variation\":{\"Color\":\"Black\"},\"videoUrl\":null},{\"stars\":5,\"date\":\"Reviewed in the United States 🇺🇸 on March 20, 2023\",\"verified_purchase\":true,\"manufacturer_replied\":false,\"username\":\"Christina\",\"userUrl\":\"https://www.amazon.com/gp/profile/amzn1.account.AG6VJUS5562BNBBZ75HCEMUWTIFQ/ref=cm_cr_arp_d_gw_btm?ie=UTF8\",\"title\":\"growing starters and cuttings!\",\"review\":\"Pump doesn't seem to circulate to the far side very well.\",\"reviewUrl\":\"https://www.amazon.com/gp/customer-reviews/R1XJR2T6HPQA0Q/ref=cm_cr_arp_d_rvw_ttl?ie=UTF8&ASIN=B08TVXQ5S1\",\"total_found_helpful\":null,\"images\":[],\"variation\":{\"Color\":\"Black\"},\"videoUrl\":null},{\"stars\":5,\"date\":\"Reviewed in the United States 🇺🇸 on March 25, 2023\",\"verified_purchase\":true,\"manufacturer_replied\":false,\"username\":\"R3D\",\"userUrl\":\"https://www.amazon.com/gp/profile/amzn1.account.AGQEY2ECQRHHFHHL5UNZGZP3U6PA/ref=cm_cr_arp_d_gw_btm?ie=UTF8\",\"title\":\"Amazing Product\",\"review\":\"Amazing Product. Great Buy!\",\"reviewUrl\":\"https://www.amazon.com/gp/customer-reviews/R2JOEXRVUINMD5/ref=cm_cr_arp_d_rvw_ttl?ie=UTF8&ASIN=B08TVXQ5S1\",\"total_found_helpful\":null,\"images\":[],\"variation\":{\"Color\":\"Black\"},\"videoUrl\":null}],\"pagination\":[\"https://www.amazon.com/ap/signin?openid.return_to=https%3A%2F%2Fwww.amazon.com%2FHydroponics-Growing-QYO-Automation-Starter%2Fproduct-reviews%2FB08TVXQ5S1%3Fie%3DUTF8%26pageNumber%3D2&openid.identity=http%3A%2F%2Fspecs.openid.net%2Fauth%2F2.0%2Fidentifier_select&openid.assoc_handle=usflex&openid.mode=checkid_setup&marketPlaceId=ATVPDKIKX0DER&language=en&openid.claimed_id=http%3A%2F%2Fspecs.openid.net%2Fauth%2F2.0%2Fidentifier_select&openid.ns=http%3A%2F%2Fspecs.openid.net%2Fauth%2F2.0\"]}\n"
     ]
    }
   ],
   "source": [
    "url = \"https://h-amazon-data-scraper2.p.rapidapi.com/products/B08TVXQ5S1/reviews\"\n",
    "\n",
    "querystring = {\"api_key\":\"70201ee0c8ed29661bc6ae00a84341fb\"}\n",
    "\n",
    "headers = {\n",
    "\t\"X-RapidAPI-Key\": \"4da31a08e5mshaca05d98a3d9d6ep1fffb1jsn019717508cc8\",\n",
    "\t\"X-RapidAPI-Host\": \"h-amazon-data-scraper2.p.rapidapi.com\"\n",
    "}\n",
    "\n",
    "response = requests.request(\"GET\", url, headers=headers, params=querystring)\n",
    "\n",
    "print(response.text)"
   ]
  },
  {
   "cell_type": "code",
   "execution_count": 14,
   "metadata": {},
   "outputs": [
    {
     "data": {
      "text/plain": [
       "<Response [200]>"
      ]
     },
     "execution_count": 14,
     "metadata": {},
     "output_type": "execute_result"
    }
   ],
   "source": [
    "response"
   ]
  },
  {
   "cell_type": "code",
   "execution_count": 19,
   "metadata": {},
   "outputs": [],
   "source": [
    "# Assume the JSON data is stored in a variable called `json_data`\n",
    "data = json.loads(response.text)"
   ]
  },
  {
   "cell_type": "code",
   "execution_count": 22,
   "metadata": {},
   "outputs": [],
   "source": [
    "# Extract the reviews from the JSON data and convert it to a DataFrame\n",
    "reviews = pd.DataFrame(data['reviews'])"
   ]
  },
  {
   "cell_type": "code",
   "execution_count": 25,
   "metadata": {},
   "outputs": [],
   "source": [
    "reviews.to_csv(\"reviews_sample.csv\",index=False)"
   ]
  },
  {
   "cell_type": "code",
   "execution_count": 3,
   "metadata": {},
   "outputs": [],
   "source": [
    "asin_list_path = '/Users/vladbordei/Documents/Development/ProductExplorer/data/external/asin_list.csv'\n",
    "asin_list = pd.read_csv(asin_list_path)['asin'].tolist()"
   ]
  },
  {
   "cell_type": "code",
   "execution_count": 4,
   "metadata": {},
   "outputs": [
    {
     "data": {
      "text/plain": [
       "['B08X2324ZL',\n",
       " 'B09MQ689XL',\n",
       " 'B0BCW8X98V',\n",
       " 'B09NR5JW8Y',\n",
       " 'B0BHS5VPCZ',\n",
       " 'B0BCVY1DHR',\n",
       " 'B0BNXCJ3MV',\n",
       " 'B0BCTTCSBZ',\n",
       " 'B091325ZMB',\n",
       " 'B093HCXGC9',\n",
       " 'B0BL6MR1KN',\n",
       " 'B09PN11Y65',\n",
       " 'B0BLNBS36G',\n",
       " 'B0BVZ3H4MB',\n",
       " 'B0BW8Y2B8Z',\n",
       " 'B0BDFZPNVY']"
      ]
     },
     "execution_count": 4,
     "metadata": {},
     "output_type": "execute_result"
    }
   ],
   "source": [
    "asin_list"
   ]
  },
  {
   "cell_type": "code",
   "execution_count": 7,
   "metadata": {},
   "outputs": [
    {
     "ename": "ValueError",
     "evalue": "The default Firebase app already exists. This means you called initialize_app() more than once without providing an app name as the second argument. In most cases you only need to call initialize_app() once. But if you do want to initialize multiple apps, pass a second argument to initialize_app() to give each app a unique name.",
     "output_type": "error",
     "traceback": [
      "\u001b[0;31m---------------------------------------------------------------------------\u001b[0m",
      "\u001b[0;31mValueError\u001b[0m                                Traceback (most recent call last)",
      "Cell \u001b[0;32mIn[7], line 27\u001b[0m\n\u001b[1;32m     25\u001b[0m \u001b[39m# Initialize Firestore\u001b[39;00m\n\u001b[1;32m     26\u001b[0m cred \u001b[39m=\u001b[39m credentials\u001b[39m.\u001b[39mCertificate(cred_path)\n\u001b[0;32m---> 27\u001b[0m app \u001b[39m=\u001b[39m firebase_admin\u001b[39m.\u001b[39;49minitialize_app(cred)\n\u001b[1;32m     28\u001b[0m db \u001b[39m=\u001b[39m firestore\u001b[39m.\u001b[39mclient()\n\u001b[1;32m     30\u001b[0m \u001b[39m# Function to get product details\u001b[39;00m\n",
      "File \u001b[0;32m~/anaconda3/envs/oaie/lib/python3.10/site-packages/firebase_admin/__init__.py:71\u001b[0m, in \u001b[0;36minitialize_app\u001b[0;34m(credential, options, name)\u001b[0m\n\u001b[1;32m     68\u001b[0m         \u001b[39mreturn\u001b[39;00m app\n\u001b[1;32m     70\u001b[0m \u001b[39mif\u001b[39;00m name \u001b[39m==\u001b[39m _DEFAULT_APP_NAME:\n\u001b[0;32m---> 71\u001b[0m     \u001b[39mraise\u001b[39;00m \u001b[39mValueError\u001b[39;00m((\n\u001b[1;32m     72\u001b[0m         \u001b[39m'\u001b[39m\u001b[39mThe default Firebase app already exists. This means you called \u001b[39m\u001b[39m'\u001b[39m\n\u001b[1;32m     73\u001b[0m         \u001b[39m'\u001b[39m\u001b[39minitialize_app() more than once without providing an app name as \u001b[39m\u001b[39m'\u001b[39m\n\u001b[1;32m     74\u001b[0m         \u001b[39m'\u001b[39m\u001b[39mthe second argument. In most cases you only need to call \u001b[39m\u001b[39m'\u001b[39m\n\u001b[1;32m     75\u001b[0m         \u001b[39m'\u001b[39m\u001b[39minitialize_app() once. But if you do want to initialize multiple \u001b[39m\u001b[39m'\u001b[39m\n\u001b[1;32m     76\u001b[0m         \u001b[39m'\u001b[39m\u001b[39mapps, pass a second argument to initialize_app() to give each app \u001b[39m\u001b[39m'\u001b[39m\n\u001b[1;32m     77\u001b[0m         \u001b[39m'\u001b[39m\u001b[39ma unique name.\u001b[39m\u001b[39m'\u001b[39m))\n\u001b[1;32m     79\u001b[0m \u001b[39mraise\u001b[39;00m \u001b[39mValueError\u001b[39;00m((\n\u001b[1;32m     80\u001b[0m     \u001b[39m'\u001b[39m\u001b[39mFirebase app named \u001b[39m\u001b[39m\"\u001b[39m\u001b[39m{0}\u001b[39;00m\u001b[39m\"\u001b[39m\u001b[39m already exists. This means you called \u001b[39m\u001b[39m'\u001b[39m\n\u001b[1;32m     81\u001b[0m     \u001b[39m'\u001b[39m\u001b[39minitialize_app() more than once with the same app name as the \u001b[39m\u001b[39m'\u001b[39m\n\u001b[1;32m     82\u001b[0m     \u001b[39m'\u001b[39m\u001b[39msecond argument. Make sure you provide a unique name every time \u001b[39m\u001b[39m'\u001b[39m\n\u001b[1;32m     83\u001b[0m     \u001b[39m'\u001b[39m\u001b[39myou call initialize_app().\u001b[39m\u001b[39m'\u001b[39m)\u001b[39m.\u001b[39mformat(name))\n",
      "\u001b[0;31mValueError\u001b[0m: The default Firebase app already exists. This means you called initialize_app() more than once without providing an app name as the second argument. In most cases you only need to call initialize_app() once. But if you do want to initialize multiple apps, pass a second argument to initialize_app() to give each app a unique name."
     ]
    }
   ],
   "source": [
    "import requests\n",
    "import firebase_admin\n",
    "from firebase_admin import credentials\n",
    "from firebase_admin import firestore\n",
    "\n",
    "# Your ASINs\n",
    "asin_list = [\n",
    "    'B08X2324ZL', 'B09MQ689XL', 'B0BCW8X98V', 'B09NR5JW8Y', \n",
    "    'B0BHS5VPCZ', 'B0BCVY1DHR', 'B0BNXCJ3MV', 'B0BCTTCSBZ', \n",
    "    'B091325ZMB', 'B093HCXGC9', 'B0BL6MR1KN', 'B09PN11Y65', \n",
    "    'B0BLNBS36G', 'B0BVZ3H4MB', 'B0BW8Y2B8Z', 'B0BDFZPNVY'\n",
    "]\n",
    "\n",
    "# Amazon Scraper details\n",
    "base_url = \"https://h-amazon-data-scraper2.p.rapidapi.com/products/\"\n",
    "api_key = \"70201ee0c8ed29661bc6ae00a84341fb\"\n",
    "headers = {\n",
    "    \"X-RapidAPI-Key\": \"4da31a08e5mshaca05d98a3d9d6ep1fffb1jsn019717508cc8\",\n",
    "    \"X-RapidAPI-Host\": \"h-amazon-data-scraper2.p.rapidapi.com\"\n",
    "}\n",
    "\n",
    "# Firestore details\n",
    "cred_path = '/Users/vladbordei/Documents/Development/ProductExplorer/notebooks/productexplorerdata-firebase-adminsdk-ulb3d-465f23dff3.json'\n",
    "\n",
    "# Initialize Firestore\n",
    "cred = credentials.Certificate(cred_path)\n",
    "app = firebase_admin.initialize_app(cred)\n",
    "db = firestore.client()\n",
    "\n",
    "# Function to get product details\n",
    "def get_product_details(asin):\n",
    "    url = f\"{base_url}{asin}\"\n",
    "    response = requests.get(url, headers=headers, params={\"api_key\": api_key})\n",
    "    return response.json()\n",
    "\n",
    "# Function to get product reviews\n",
    "def get_product_reviews(asin):\n",
    "    url = f\"{base_url}{asin}/reviews\"\n",
    "    response = requests.get(url, headers=headers, params={\"api_key\": api_key})\n",
    "    return response.json()\n",
    "\n",
    "# Function to update Firestore\n",
    "def update_firestore(asin, details, reviews):\n",
    "    doc_ref = db.collection('products').document(asin)\n",
    "    doc_ref.set({\n",
    "        'details': details,\n",
    "        'reviews': reviews\n",
    "    })\n",
    "\n",
    "\n"
   ]
  },
  {
   "cell_type": "code",
   "execution_count": null,
   "metadata": {},
   "outputs": [],
   "source": [
    "# Loop over ASINs\n",
    "for asin in asin_list:\n",
    "    details = get_product_details(asin)\n",
    "    reviews = get_product_reviews(asin)\n",
    "    update_firestore(asin, details, reviews)"
   ]
  },
  {
   "cell_type": "code",
   "execution_count": 5,
   "metadata": {},
   "outputs": [
    {
     "ename": "KeyboardInterrupt",
     "evalue": "",
     "output_type": "error",
     "traceback": [
      "\u001b[0;31m---------------------------------------------------------------------------\u001b[0m",
      "\u001b[0;31mKeyboardInterrupt\u001b[0m                         Traceback (most recent call last)",
      "Cell \u001b[0;32mIn[5], line 61\u001b[0m\n\u001b[1;32m     58\u001b[0m         update_firestore(asin, details, reviews)\n\u001b[1;32m     60\u001b[0m loop \u001b[39m=\u001b[39m asyncio\u001b[39m.\u001b[39mget_event_loop()\n\u001b[0;32m---> 61\u001b[0m loop\u001b[39m.\u001b[39;49mrun_until_complete(main())\n",
      "File \u001b[0;32m~/anaconda3/envs/oaie/lib/python3.10/site-packages/nest_asyncio.py:84\u001b[0m, in \u001b[0;36m_patch_loop.<locals>.run_until_complete\u001b[0;34m(self, future)\u001b[0m\n\u001b[1;32m     82\u001b[0m     f\u001b[39m.\u001b[39m_log_destroy_pending \u001b[39m=\u001b[39m \u001b[39mFalse\u001b[39;00m\n\u001b[1;32m     83\u001b[0m \u001b[39mwhile\u001b[39;00m \u001b[39mnot\u001b[39;00m f\u001b[39m.\u001b[39mdone():\n\u001b[0;32m---> 84\u001b[0m     \u001b[39mself\u001b[39;49m\u001b[39m.\u001b[39;49m_run_once()\n\u001b[1;32m     85\u001b[0m     \u001b[39mif\u001b[39;00m \u001b[39mself\u001b[39m\u001b[39m.\u001b[39m_stopping:\n\u001b[1;32m     86\u001b[0m         \u001b[39mbreak\u001b[39;00m\n",
      "File \u001b[0;32m~/anaconda3/envs/oaie/lib/python3.10/site-packages/nest_asyncio.py:107\u001b[0m, in \u001b[0;36m_patch_loop.<locals>._run_once\u001b[0;34m(self)\u001b[0m\n\u001b[1;32m    100\u001b[0m     heappop(scheduled)\n\u001b[1;32m    102\u001b[0m timeout \u001b[39m=\u001b[39m (\n\u001b[1;32m    103\u001b[0m     \u001b[39m0\u001b[39m \u001b[39mif\u001b[39;00m ready \u001b[39mor\u001b[39;00m \u001b[39mself\u001b[39m\u001b[39m.\u001b[39m_stopping\n\u001b[1;32m    104\u001b[0m     \u001b[39melse\u001b[39;00m \u001b[39mmin\u001b[39m(\u001b[39mmax\u001b[39m(\n\u001b[1;32m    105\u001b[0m         scheduled[\u001b[39m0\u001b[39m]\u001b[39m.\u001b[39m_when \u001b[39m-\u001b[39m \u001b[39mself\u001b[39m\u001b[39m.\u001b[39mtime(), \u001b[39m0\u001b[39m), \u001b[39m86400\u001b[39m) \u001b[39mif\u001b[39;00m scheduled\n\u001b[1;32m    106\u001b[0m     \u001b[39melse\u001b[39;00m \u001b[39mNone\u001b[39;00m)\n\u001b[0;32m--> 107\u001b[0m event_list \u001b[39m=\u001b[39m \u001b[39mself\u001b[39;49m\u001b[39m.\u001b[39;49m_selector\u001b[39m.\u001b[39;49mselect(timeout)\n\u001b[1;32m    108\u001b[0m \u001b[39mself\u001b[39m\u001b[39m.\u001b[39m_process_events(event_list)\n\u001b[1;32m    110\u001b[0m end_time \u001b[39m=\u001b[39m \u001b[39mself\u001b[39m\u001b[39m.\u001b[39mtime() \u001b[39m+\u001b[39m \u001b[39mself\u001b[39m\u001b[39m.\u001b[39m_clock_resolution\n",
      "File \u001b[0;32m~/anaconda3/envs/oaie/lib/python3.10/selectors.py:562\u001b[0m, in \u001b[0;36mKqueueSelector.select\u001b[0;34m(self, timeout)\u001b[0m\n\u001b[1;32m    560\u001b[0m ready \u001b[39m=\u001b[39m []\n\u001b[1;32m    561\u001b[0m \u001b[39mtry\u001b[39;00m:\n\u001b[0;32m--> 562\u001b[0m     kev_list \u001b[39m=\u001b[39m \u001b[39mself\u001b[39;49m\u001b[39m.\u001b[39;49m_selector\u001b[39m.\u001b[39;49mcontrol(\u001b[39mNone\u001b[39;49;00m, max_ev, timeout)\n\u001b[1;32m    563\u001b[0m \u001b[39mexcept\u001b[39;00m \u001b[39mInterruptedError\u001b[39;00m:\n\u001b[1;32m    564\u001b[0m     \u001b[39mreturn\u001b[39;00m ready\n",
      "\u001b[0;31mKeyboardInterrupt\u001b[0m: "
     ]
    }
   ],
   "source": [
    "import asyncio\n",
    "import nest_asyncio\n",
    "nest_asyncio.apply()\n",
    "import aiohttp\n",
    "import json\n",
    "import firebase_admin\n",
    "from firebase_admin import credentials\n",
    "from firebase_admin import firestore\n",
    "\n",
    "# Your ASINs\n",
    "asin_list = [\n",
    "    'B08X2324ZL', 'B09MQ689XL', 'B0BCW8X98V', 'B09NR5JW8Y', \n",
    "    'B0BHS5VPCZ', 'B0BCVY1DHR', 'B0BNXCJ3MV', 'B0BCTTCSBZ', \n",
    "    'B091325ZMB', 'B093HCXGC9', 'B0BL6MR1KN', 'B09PN11Y65', \n",
    "    'B0BLNBS36G', 'B0BVZ3H4MB', 'B0BW8Y2B8Z', 'B0BDFZPNVY'\n",
    "]\n",
    "\n",
    "# Amazon Scraper details\n",
    "base_url = \"https://h-amazon-data-scraper2.p.rapidapi.com/products/\"\n",
    "api_key = \"70201ee0c8ed29661bc6ae00a84341fb\"\n",
    "headers = {\n",
    "    \"X-RapidAPI-Key\": \"4da31a08e5mshaca05d98a3d9d6ep1fffb1jsn019717508cc8\",\n",
    "    \"X-RapidAPI-Host\": \"h-amazon-data-scraper2.p.rapidapi.com\"\n",
    "}\n",
    "\n",
    "# Firestore details\n",
    "cred_path = '/Users/vladbordei/Documents/Development/ProductExplorer/notebooks/productexplorerdata-firebase-adminsdk-ulb3d-465f23dff3.json'\n",
    "\n",
    "# Initialize Firestore\n",
    "cred = credentials.Certificate(cred_path)\n",
    "if not firebase_admin._apps:\n",
    "    firebase_admin.initialize_app(cred)\n",
    "db = firestore.client()\n",
    "\n",
    "async def get_product_details(asin):\n",
    "    async with aiohttp.ClientSession() as session:\n",
    "        url = f\"{base_url}{asin}\"\n",
    "        async with session.get(url, headers=headers, params={\"api_key\": api_key}) as response:\n",
    "            return await response.text()\n",
    "\n",
    "async def get_product_reviews(asin):\n",
    "    async with aiohttp.ClientSession() as session:\n",
    "        url = f\"{base_url}{asin}/reviews\"\n",
    "        async with session.get(url, headers=headers, params={\"api_key\": api_key}) as response:\n",
    "            return await response.text()\n",
    "\n",
    "def update_firestore(asin, details, reviews):\n",
    "    doc_ref = db.collection('products').document(asin)\n",
    "    doc_ref.set({\n",
    "        'details': json.loads(details),\n",
    "        'reviews': json.loads(reviews)\n",
    "    }, merge=True)\n",
    "\n",
    "async def main():\n",
    "    for asin in asin_list:\n",
    "        details = await get_product_details(asin)\n",
    "        reviews = await get_product_reviews(asin)\n",
    "        update_firestore(asin, details, reviews)\n",
    "\n",
    "loop = asyncio.get_event_loop()\n",
    "loop.run_until_complete(main())\n"
   ]
  },
  {
   "cell_type": "code",
   "execution_count": 21,
   "metadata": {},
   "outputs": [
    {
     "name": "stdout",
     "output_type": "stream",
     "text": [
      "Fetching product details for B08X2324ZL took 0.18781805038452148 seconds.\n",
      "Fetching product reviews for B08X2324ZL took 0.18324494361877441 seconds.\n",
      "Updating Firestore for B08X2324ZL took 0.34464406967163086 seconds.\n",
      "Fetching product details for B09MQ689XL took 0.18163681030273438 seconds.\n",
      "Fetching product reviews for B09MQ689XL took 0.16463112831115723 seconds.\n",
      "Updating Firestore for B09MQ689XL took 0.21608924865722656 seconds.\n",
      "Fetching product details for B0BCW8X98V took 0.15882182121276855 seconds.\n",
      "Fetching product reviews for B0BCW8X98V took 0.15336203575134277 seconds.\n",
      "Updating Firestore for B0BCW8X98V took 0.29963207244873047 seconds.\n"
     ]
    }
   ],
   "source": [
    "import time\n",
    "import asyncio\n",
    "import nest_asyncio\n",
    "nest_asyncio.apply()\n",
    "import aiohttp\n",
    "import json\n",
    "import firebase_admin\n",
    "from firebase_admin import credentials\n",
    "from firebase_admin import firestore\n",
    "\n",
    "# Your ASINs\n",
    "asin_list = [\n",
    "    'B08X2324ZL', 'B09MQ689XL', 'B0BCW8X98V'\n",
    "]\n",
    "\n",
    "# Amazon Scraper details\n",
    "# https://rapidapi.com/traject-data-traject-data-default/api/asin-data\n",
    "# https://rapidapi.com/traject-data-traject-data-default/api/asin-data\n",
    "\n",
    "base_url = \"https://asin-data.p.rapidapi.com/request\"\n",
    "api_key = \"70201ee0c8ed29661bc6ae00a84341fb\"\n",
    "headers = {\n",
    "\t\"X-RapidAPI-Key\": \"4da31a08e5mshaca05d98a3d9d6ep1fffb1jsn019717508cc8\",\n",
    "\t\"X-RapidAPI-Host\": \"asin-data.p.rapidapi.com\"\n",
    "}\n",
    "\n",
    "# Firestore details\n",
    "cred_path = '/Users/vladbordei/Documents/Development/ProductExplorer/notebooks/productexplorerdata-firebase-adminsdk-ulb3d-465f23dff3.json'\n",
    "\n",
    "# Initialize Firestore\n",
    "cred = credentials.Certificate(cred_path)\n",
    "if not firebase_admin._apps:\n",
    "    firebase_admin.initialize_app(cred)\n",
    "db = firestore.client()\n",
    "\n",
    "async def get_product_details(asin):\n",
    "    start = time.time()\n",
    "    async with aiohttp.ClientSession() as session:\n",
    "        url = f\"{base_url}{asin}\"\n",
    "        async with session.get(url, headers=headers, params={\"api_key\": api_key}) as response:\n",
    "            print(f\"Fetching product details for {asin} took {time.time() - start} seconds.\")\n",
    "            return await response.text()\n",
    "\n",
    "async def get_product_reviews(asin):\n",
    "    start = time.time()\n",
    "    async with aiohttp.ClientSession() as session:\n",
    "        params = {\n",
    "            \"type\":\"reviews\",\n",
    "            \"asin\":asin,\n",
    "            \"amazon_domain\":\"amazon.com\",\n",
    "            \"reviewer_type\":\"verified_purchase\",\n",
    "            \"sort_by\":\"most_recent\",\n",
    "            \"global_reviews\":\"false\"\n",
    "        }\n",
    "        async with session.get(url=base_url, headers=headers, params=params) as response:\n",
    "            print(f\"Fetching product reviews for {asin} took {time.time() - start} seconds.\")\n",
    "            return await response.text()\n",
    "\n",
    "def update_firestore(asin, details, reviews):\n",
    "    start = time.time()\n",
    "    doc_ref = db.collection('products').document(asin)\n",
    "    doc_ref.set({\n",
    "        'details': json.loads(details),\n",
    "        'reviews': json.loads(reviews)\n",
    "    }, merge=True)\n",
    "    print(f\"Updating Firestore for {asin} took {time.time() - start} seconds.\")\n",
    "\n",
    "async def main():\n",
    "    for asin in asin_list:\n",
    "        details = await get_product_details(asin)\n",
    "        reviews = await get_product_reviews(asin)\n",
    "        update_firestore(asin, details, reviews)\n",
    "\n",
    "loop = asyncio.get_event_loop()\n",
    "loop.run_until_complete(main())\n"
   ]
  },
  {
   "cell_type": "code",
   "execution_count": 22,
   "metadata": {},
   "outputs": [
    {
     "name": "stdout",
     "output_type": "stream",
     "text": [
      "{'2_star_ratings': 71, '3_star_percentage': 0.06, 'average_rating': 4.4, '1_star_ratings': 95, '5_star_percentage': 0.69, '3_star_ratings': 142, 'top_critical_review': {'review': 'I don’t often write bad reviews, but this product is ridiculous. I have been trying to wrap my head around why this thing is as highly reviewed as it is.The first picture is the side I fixed based on another customers review. The second is what the instructions told me to do.It took me two hours to assemble it first, and I quickly realized the instructions left out some really key details. I only discovered those details by watching other customer videos. The instructions are 1/5 stars.I left it alone, thinking I’d just use it as is for the summer. Within two days, the gap in instructions translated to the sides bowing and the gaps in the walls growing.Today I had to spend another hour moving around the dirt I filled it with so I could reconstruct the sides and not destroy what now seems like an overpriced unit.I’m really glad this worked for some people, but beware that it takes SIGNIFICANT elbow grease to assemble, you almost certainly need a rubber mallet (I bruised my hand from pounding pieces together), and you should not rely on the nonsensical instructions - watch customer video reviews for pointers. Maybe also plan to have a helper. It is NOT easy to assemble.If this wasn’t already filled and the time to plant wasn’t already upon me, I would return it. I have another raised bed that went together in 20 minutes and has held beautifully. Really disappointed I spent $100 on this.', 'reviewUrl': 'https://www.amazon.com/gp/customer-reviews/R34PE7TMGKZQ1N/ref=cm_cr_arp_d_viewpnt?ie=UTF8&ASIN=B09MQ689XL#R34PE7TMGKZQ1N', 'date': 'Reviewed in the United States on May 16, 2023', 'variation': {}, 'videoUrl': None, 'manufacturer_replied': False, 'images': [], 'title': 'Completely miserable instructions', 'userUrl': 'https://www.amazon.com/gp/profile/amzn1.account.AFBJFELGVANQIWBOVVCSX2ZBUTEA/ref=cm_cr_arp_d_gw_rgt?ie=UTF8', 'stars': 3, 'total_found_helpful': 3, 'username': 'Alanna Beaulieu', 'verified_purchase': False}, 'top_positive_review': {'review': \"The assembly took some thinking but it's definitely worth it! My beds are all together and look great. I'll be planting them in the next few days! I was putting the 4 beds together in an unusual way and needed extra parts. Their Customer Service was excellent and part delivery was fast. Be sure to look up the part number before you contact them for easier communication.  I'll add a few photos after I get the beds filled.After assembling 4 of these units I'd say to mostly ignore the instructions and try it this way:1. Set up on a hard work surface. You'll want your gloves, a rubber mallet and a small lightweight hammer (tack hammer size)2. Hold the panel longside on the surface with one  hand. Align the rail on top of the panel so that the hole is centered over the bump in the panel on one end.3. Press down with moderate force and wiggle the panel back and forth so the rail slips down over the panel, working from one end to the other.4. After the whole top edge of the panel is slightly inside the rail, tap the top of the rail with the rubber mallet till the bumps go into the holes. You may have to adjust the rail slightly to get them to snap into place by hitting the end of the rail with the tack hammer lightly on the INSIDE of the panel (not the painted side)5. Flip the whole panel over and repeat with the second rail.6. Stack the sections together, painted side up and with the printed end on the same side.(This took me under 1 minute per panel after I figured out how to do this - much easier than trying to slide the rails on!)Assemble of the bed:1. For 2 straight sides, hold the panels upright on your work surface so they rest on the rails, in a V formation.  Slip the side with the writing behind the side with no writing. You will need to lightly press against the written edge near the rail to make room for the other panel to slip in front of it; then straighten the V to a straight line.2. Place the straight locking pieces over the junction of the two panels so that the holes and the bumps align and knock the locking piece with the mallet to push it into place.3. Place the second locking piece beneath the junction, repeat alignment and hit it with the mallet till it pops in place. Slight adjustment might be needed depending on how good your alignment was.Corners:1. Lay out the pieces. Check that you've got one written end and one plain one at each corner.2. Hold the first piece upright and position the hole of a corner connector over the bump on that piece and tap it with the mallet till it pops in place.3. Position the second side inside the L connector such that the writing on the panel is hidden by the plain panel and the bumps are aligned with the holes. Tap the connector with the mallet till both pieces are locked together.4. Put the bottom connector in position and hit the top rail with the mallet to so you have both connectors securely on that panel section.5. Repeat with the other 3 corners.You can carefully move the bed around to exactly where you want it now. I single-handedly assembled the last 3 beds in under 20 minutes each once I figured out this method. Looking forward to replacing my last 2 wood beds this fall so everything matches!\", 'reviewUrl': 'https://www.amazon.com/gp/customer-reviews/RLRM69MR2HRVT/ref=cm_cr_arp_d_viewpnt?ie=UTF8&ASIN=B09MQ689XL#RLRM69MR2HRVT', 'date': 'Reviewed in the United States on May 24, 2023', 'variation': {}, 'videoUrl': None, 'manufacturer_replied': False, 'images': [], 'title': 'Getting the hang of assembly takes a minute but CS is fantastic!', 'userUrl': 'https://www.amazon.com/gp/profile/amzn1.account.AHA4PFVZAECMUUMJI3J4ABVCRZ6Q/ref=cm_cr_arp_d_gw_lft?ie=UTF8', 'stars': 4, 'total_found_helpful': 2, 'username': 'Kasandra', 'verified_purchase': False}, 'product': {'name': 'KING BIRD 68\"x36\"x24\" Galvanized Raised Garden Bed Outdoor Heightened Steel Metal Planter Box for Deep-Rooted Vegetables, Flowers, Large Raised Bed Kit(Dark Grey)', 'image': 'https://m.media-amazon.com/images/I/51GouC5RB4L.jpg', 'variation': {'Color': 'Dark Grey', 'Size': '68\"X36\"X24\"'}, 'brand': 'KING BIRD', 'url': 'https://www.amazon.com/KING-BIRD-Galvanized-Heightened-Deep-Rooted/dp/B09MQ689XL/ref=cm_cr_arp_d_product_top?ie=UTF8', 'price': None}, 'total_ratings': 2371, '5_star_ratings': 1636, 'pagination': ['https://www.amazon.com/ap/signin?openid.return_to=https%3A%2F%2Fwww.amazon.com%2FKING-BIRD-Galvanized-Heightened-Deep-Rooted%2Fproduct-reviews%2FB09MQ689XL%3Fie%3DUTF8%26pageNumber%3D2&openid.identity=http%3A%2F%2Fspecs.openid.net%2Fauth%2F2.0%2Fidentifier_select&openid.assoc_handle=usflex&openid.mode=checkid_setup&marketPlaceId=ATVPDKIKX0DER&language=en&openid.claimed_id=http%3A%2F%2Fspecs.openid.net%2Fauth%2F2.0%2Fidentifier_select&openid.ns=http%3A%2F%2Fspecs.openid.net%2Fauth%2F2.0'], '4_star_percentage': 0.18, '2_star_percentage': 0.03, '4_star_ratings': 427, '1_star_percentage': 0.04, 'filtered_total_ratings': 2371, 'reviews': [{'review': \"The assembly took some thinking but it's definitely worth it! My beds are all together and look great. I'll be planting them in the next few days! I was putting the 4 beds together in an unusual way and needed extra parts. Their Customer Service was excellent and part delivery was fast. Be sure to look up the part number before you contact them for easier communication.  I'll add a few photos after I get the beds filled.After assembling 4 of these units I'd say to mostly ignore the instructions and try it this way:1. Set up on a hard work surface. You'll want your gloves, a rubber mallet and a small lightweight hammer (tack hammer size)2. Hold the panel longside on the surface with one  hand. Align the rail on top of the panel so that the hole is centered over the bump in the panel on one end.3. Press down with moderate force and wiggle the panel back and forth so the rail slips down over the panel, working from one end to the other.4. After the whole top edge of the panel is slightly inside the rail, tap the top of the rail with the rubber mallet till the bumps go into the holes. You may have to adjust the rail slightly to get them to snap into place by hitting the end of the rail with the tack hammer lightly on the INSIDE of the panel (not the painted side)5. Flip the whole panel over and repeat with the second rail.6. Stack the sections together, painted side up and with the printed end on the same side.(This took me under 1 minute per panel after I figured out how to do this - much easier than trying to slide the rails on!)Assemble of the bed:1. For 2 straight sides, hold the panels upright on your work surface so they rest on the rails, in a V formation.  Slip the side with the writing behind the side with no writing. You will need to lightly press against the written edge near the rail to make room for the other panel to slip in front of it; then straighten the V to a straight line.2. Place the straight locking pieces over the junction of the two panels so that the holes and the bumps align and knock the locking piece with the mallet to push it into place.3. Place the second locking piece beneath the junction, repeat alignment and hit it with the mallet till it pops in place. Slight adjustment might be needed depending on how good your alignment was.Corners:1. Lay out the pieces. Check that you've got one written end and one plain one at each corner.2. Hold the first piece upright and position the hole of a corner connector over the bump on that piece and tap it with the mallet till it pops in place.3. Position the second side inside the L connector such that the writing on the panel is hidden by the plain panel and the bumps are aligned with the holes. Tap the connector with the mallet till both pieces are locked together.4. Put the bottom connector in position and hit the top rail with the mallet to so you have both connectors securely on that panel section.5. Repeat with the other 3 corners.You can carefully move the bed around to exactly where you want it now. I single-handedly assembled the last 3 beds in under 20 minutes each once I figured out this method. Looking forward to replacing my last 2 wood beds this fall so everything matches!\", 'reviewUrl': 'https://www.amazon.com/gp/customer-reviews/RLRM69MR2HRVT/ref=cm_cr_arp_d_rvw_ttl?ie=UTF8&ASIN=B09MQ689XL', 'date': 'Reviewed in the United States on May 24, 2023', 'variation': {'Color': 'Green', 'Size': '101\"X36\"X12\"'}, 'videoUrl': None, 'manufacturer_replied': False, 'images': [], 'title': '4.0 out of 5 stars\\n\\n\\n\\n\\n\\n\\n\\n  \\n  \\n    Getting the hang of assembly takes a minute but CS is fantastic!', 'userUrl': 'https://www.amazon.com/gp/profile/amzn1.account.AHA4PFVZAECMUUMJI3J4ABVCRZ6Q/ref=cm_cr_arp_d_gw_btm?ie=UTF8', 'stars': 4, 'total_found_helpful': 2, 'username': 'Kasandra', 'verified_purchase': True}, {'review': 'Instructions unclear but once you understand it it’s easy setup. The hole should line up perfectly if you’re doing it correctly. The two connecting metal sheet will overlap in order for the hole to Align with the metal support. The longer garden bed definitely need some support in the middle to prevent bowing otherwise I cannot see this lasting too long.', 'reviewUrl': 'https://www.amazon.com/gp/customer-reviews/R2E8L7AVNK4YEK/ref=cm_cr_arp_d_rvw_ttl?ie=UTF8&ASIN=B09MQ689XL', 'date': 'Reviewed in the United States on June 24, 2023', 'variation': {'Color': 'Dark Grey', 'Size': '101\"X36\"X12\"'}, 'videoUrl': None, 'manufacturer_replied': False, 'images': ['https://m.media-amazon.com/images/I/91wmRVmDgtL.jpg'], 'title': '4.0 out of 5 stars\\n\\n\\n\\n\\n\\n\\n\\n  \\n  \\n    Will need reinforcement to prevent bowing when filled', 'userUrl': 'https://www.amazon.com/gp/profile/amzn1.account.AE654FAD2SBHPSX2Y5H3O5IUOGRA/ref=cm_cr_arp_d_gw_btm?ie=UTF8', 'stars': 4, 'total_found_helpful': None, 'username': 'Hau Q. CheHau Q. Che', 'verified_purchase': True}, {'review': 'OK - so I bought two of these.  I did NOT read the reviews before I bought (which is a good thing b/c I prob wouldn\\'t have purchased if I had read about the difficulty assembling)...BUT WAIT... I have good news!  The first one took forever until I watched the video in between the first and second garden box assembly....and focused my attention to the 10mm you need to have spaced on each of the right and left sides when sliding on the metal sliders on top and bottom (this WILL make your life so much easier when assembling so PLEASE watch the video)...This is a great product for the price and especially if you need to buy more than one for lots of veggies.  Here\\'s the deal....the instructions say that you don\\'t need any tools...YOU DO.  You need a Rubber Mallet (for sure) and a drill and lots of screws (which they say is optional...IT\\'S NOT if you want this to last more than one season (screws will keep it lasting for years to come if you add enough of them (and I didn\\'t use the tiny screws they provide as an \"optional step\", I used longer sheet metal screws and pre drilled a hole before screwing the sheet metal ones in - make sure your predrill hole (use a drill bit that is thinner than the width of your screw).  Now for the real deal....Me and my dad (you need two people for this assembly) started off assembling the first one.  Took us 3 hours and after two bloody fingers from cuts (I didn\\'t wear the gloves they provided and learned my lesson the hard way - WEAR THE GLOVES even when taking out of the box as that was my first major injury.  The directions are not great and so that is why you should watch the video first.  it\\'s NOT easy to slide the metal bars on top and bottom so slide it on half way and use the rubber mallet to pound it the rest of the way (by having one person hold the side as you pound the slider in with the mallet) and pay very close attention to having equal inches of exposed aluminum on each of the left and right side!!!!  If you do this, assembly WILL only take you about half hour vs. my first attempt at over 3 hours.  Assemble the two long sides first before you attempt the corner brackets - and after it\\'s all assembled, I put in 4 sheet metal screws on each corner - 2 on top of corner piece and 2 on sides of the corner piece (through the metal and into the aluminum (need to go very slow with drill when working with metal as you predrill and put pressure with fingers underneath as you work thru metal and aluminum) - Then I added two screws on each long side pieces directly in the aluminum where the two pieces meet.  Now it is STURDY and ready for the weight of 10-12 bags of soil pressure - sorry for the long winded review but I just didn\\'t want someone else to feel like checking themselves into a looney bin after trying to assemble without knowing these facts  :)', 'reviewUrl': 'https://www.amazon.com/gp/customer-reviews/R1HLSBJ14R4EDZ/ref=cm_cr_arp_d_rvw_ttl?ie=UTF8&ASIN=B09MQ689XL', 'date': 'Reviewed in the United States on April 24, 2019', 'variation': {'Color': 'Dark Grey', 'Size': '68\"x36\"x12\"'}, 'videoUrl': None, 'manufacturer_replied': False, 'images': [], 'title': '4.0 out of 5 stars\\n\\n\\n\\n\\n\\n\\n\\n  \\n  \\n    PLEASE READ before reading other reviews and making your decision', 'userUrl': 'https://www.amazon.com/gp/profile/amzn1.account.AEJIR5KZB6HOT6ONESGBK6SYSVUQ/ref=cm_cr_arp_d_gw_btm?ie=UTF8', 'stars': 4, 'total_found_helpful': 1012, 'username': 'shannon', 'verified_purchase': True}, {'review': \"Product works well, but the listing is Made in a way that is a little confusing, so I ended up buying the wrong size.  Thought i was buying 2x8 but ended up with 3x6. It was no huge deal to me because the way my greenhouse was built, I ended up having to trim some bits anyways. Seems like it's sturdy and gonna last me a while.\", 'reviewUrl': 'https://www.amazon.com/gp/customer-reviews/R3J1918GW953P4/ref=cm_cr_arp_d_rvw_ttl?ie=UTF8&ASIN=B09MQ689XL', 'date': 'Reviewed in the United States on June 18, 2023', 'variation': {'Color': 'Dark Grey', 'Size': '68\"x36\"x12\"'}, 'videoUrl': None, 'manufacturer_replied': False, 'images': ['https://m.media-amazon.com/images/I/91rCwtOps5L.jpg'], 'title': \"4.0 out of 5 stars\\n\\n\\n\\n\\n\\n\\n\\n  \\n  \\n    Pay attention to the size you're buying!\", 'userUrl': 'https://www.amazon.com/gp/profile/amzn1.account.AGBUICIP3QAFGKZSSMYVTIGPU5XQ/ref=cm_cr_arp_d_gw_btm?ie=UTF8', 'stars': 4, 'total_found_helpful': None, 'username': 'Bambi creekBambi creek', 'verified_purchase': True}, {'review': \"We recently moved and wanted a raised bed garden.  We didn't want to purchase lumber and construct them, this was a great alternative.  We ended up purchasing 9 of these. They were pretty easy to assemble, I would say they took about 30 minutes each.  We did end up contacting customer support as we wanted to purchase some extra braces.  Jenna was very responsive and easy to communicate with.\", 'reviewUrl': 'https://www.amazon.com/gp/customer-reviews/R1A4MCSMJCG4B5/ref=cm_cr_arp_d_rvw_ttl?ie=UTF8&ASIN=B09MQ689XL', 'date': 'Reviewed in the United States on June 19, 2023', 'variation': {'Color': 'Green', 'Size': '101\"x36\"x24\"'}, 'videoUrl': None, 'manufacturer_replied': False, 'images': [], 'title': '5.0 out of 5 stars\\n\\n\\n\\n\\n\\n\\n\\n  \\n  \\n    Easy Solution for Raised Beds', 'userUrl': 'https://www.amazon.com/gp/profile/amzn1.account.AHEGSTHYRHCBK5CNQCCOZYVDZHIQ/ref=cm_cr_arp_d_gw_btm?ie=UTF8', 'stars': 5, 'total_found_helpful': 1, 'username': 'Nickie Peters', 'verified_purchase': True}, {'review': \"The instructions say to slide the metal bars across the top and bottom of the panel til they're right however that's nearly impossible to do. The video wouldn't load on Amazon but i found it on youtube and it was VERY helpful. WEAR THE GLOVES! these flimsy metal panels are SHARP and you WILL cut yourself. While you can assemble this solo, it's very stressful. Two people is way better but the metal is still very very thin. The screws don't fit in the holes for the bracket bars for stabilizing so you do have to force them in but they help a lot. Especially if you're making the long design\", 'reviewUrl': 'https://www.amazon.com/gp/customer-reviews/R3ZFJNNUZ7YJQ/ref=cm_cr_arp_d_rvw_ttl?ie=UTF8&ASIN=B09MQ689XL', 'date': 'Reviewed in the United States on May 8, 2023', 'variation': {'Color': 'Green', 'Size': '101\"x36\"x24\"'}, 'videoUrl': None, 'manufacturer_replied': False, 'images': [], 'title': '4.0 out of 5 stars\\n\\n\\n\\n\\n\\n\\n\\n  \\n  \\n    Watch the video!', 'userUrl': 'https://www.amazon.com/gp/profile/amzn1.account.AHNCWQKCS3HQQBOFDTUAFOJ5OQOQ/ref=cm_cr_arp_d_gw_btm?ie=UTF8', 'stars': 4, 'total_found_helpful': 7, 'username': 'Amazonian', 'verified_purchase': True}, {'review': 'It was easy to install perfect', 'reviewUrl': 'https://www.amazon.com/gp/customer-reviews/R3K9S8MFVIOFFS/ref=cm_cr_arp_d_rvw_ttl?ie=UTF8&ASIN=B09MQ689XL', 'date': 'Reviewed in the United States on July 23, 2023', 'variation': {'Color': 'Dark Grey', 'Size': '68\"X36\"X24\"'}, 'videoUrl': None, 'manufacturer_replied': False, 'images': [], 'title': '5.0 out of 5 stars\\n\\n\\n\\n\\n\\n\\n\\n  \\n  \\n    Perfect', 'userUrl': 'https://www.amazon.com/gp/profile/amzn1.account.AFFYE2O3ZEOABK35TGOCBV27HUBQ/ref=cm_cr_arp_d_gw_btm?ie=UTF8', 'stars': 5, 'total_found_helpful': None, 'username': 'Sherry', 'verified_purchase': True}, {'review': 'The rabbits in my yard having been eating all of my herbs I bought this box and now they cannot get to them and they’re growing big and beautiful and it was easy to put together with my son help. I’m going to buy another one', 'reviewUrl': 'https://www.amazon.com/gp/customer-reviews/R1FH43OYYMVXY9/ref=cm_cr_arp_d_rvw_ttl?ie=UTF8&ASIN=B09MQ689XL', 'date': 'Reviewed in the United States on June 29, 2023', 'variation': {'Color': 'Ivory', 'Size': '68\"x36\"x12\"'}, 'videoUrl': None, 'manufacturer_replied': False, 'images': [], 'title': '5.0 out of 5 stars\\n\\n\\n\\n\\n\\n\\n\\n  \\n  \\n    Perfect', 'userUrl': 'https://www.amazon.com/gp/profile/amzn1.account.AGKJFZKMBYSX5IZ3B22WPCJQE5PA/ref=cm_cr_arp_d_gw_btm?ie=UTF8', 'stars': 5, 'total_found_helpful': 1, 'username': 'mom to 3 boys', 'verified_purchase': True}, {'review': 'Super easy to put together. Took two of us about 1 hour to assemble 4. We also used the provided screws to enhance the strength of the beds. Be prepared-these hold a lot of soil. 1 large bed holds approximately 33 cubic feet of soil. Liked them so much we bought 4 total.', 'reviewUrl': 'https://www.amazon.com/gp/customer-reviews/R1RM8MVOIJC0G7/ref=cm_cr_arp_d_rvw_ttl?ie=UTF8&ASIN=B09MQ689XL', 'date': 'Reviewed in the United States on June 21, 2023', 'variation': {'Color': 'Dark Grey', 'Size': '101\"x36\"x18\"'}, 'videoUrl': None, 'manufacturer_replied': False, 'images': ['https://m.media-amazon.com/images/I/81te1OUmDkL.jpg'], 'title': '5.0 out of 5 stars\\n\\n\\n\\n\\n\\n\\n\\n  \\n  \\n    Fantastic garden beds', 'userUrl': 'https://www.amazon.com/gp/profile/amzn1.account.AG5JTZ6V3GECPVM4DKNZ3QGYW2WQ/ref=cm_cr_arp_d_gw_btm?ie=UTF8', 'stars': 5, 'total_found_helpful': None, 'username': 'Leslie R. HeinrichsLeslie R. Heinrichs', 'verified_purchase': True}, {'review': 'Even I can assemble them.  I wish they had extra parts you could buy.  But I love how these look and stack', 'reviewUrl': 'https://www.amazon.com/gp/customer-reviews/RD81LGONGLP5S/ref=cm_cr_arp_d_rvw_ttl?ie=UTF8&ASIN=B09MQ689XL', 'date': 'Reviewed in the United States on June 18, 2023', 'variation': {'Color': 'Ivory', 'Size': '68\"x36\"x12\"'}, 'videoUrl': None, 'manufacturer_replied': False, 'images': [], 'title': '4.0 out of 5 stars\\n\\n\\n\\n\\n\\n\\n\\n  \\n  \\n    Great!!!', 'userUrl': 'https://www.amazon.com/gp/profile/amzn1.account.AHTDFI3LRSZEOT4CYKJPO7OJ4FTA/ref=cm_cr_arp_d_gw_btm?ie=UTF8', 'stars': 4, 'total_found_helpful': None, 'username': 'Yvonne S. McCool', 'verified_purchase': True}], 'message': \"Endpoint '/requestB09MQ689XL/reviews' does not exist\", 'total_reviews': 583, 'filtered_total_reviews': 583}\n"
     ]
    }
   ],
   "source": [
    "import firebase_admin\n",
    "from firebase_admin import credentials\n",
    "from firebase_admin import firestore\n",
    "\n",
    "# Firestore details\n",
    "cred_path = '/Users/vladbordei/Documents/Development/ProductExplorer/notebooks/productexplorerdata-firebase-adminsdk-ulb3d-465f23dff3.json'\n",
    "\n",
    "# Initialize Firestore\n",
    "cred = credentials.Certificate(cred_path)\n",
    "if not firebase_admin._apps:\n",
    "    firebase_admin.initialize_app(cred)\n",
    "db = firestore.client()\n",
    "\n",
    "# ASIN\n",
    "asin = 'B09MQ689XL'  # Replace with the ASIN you are interested in\n",
    "\n",
    "# Get the document with the provided ASIN\n",
    "doc_ref = db.collection('products').document(asin)\n",
    "\n",
    "# Get the document data\n",
    "doc = doc_ref.get()\n",
    "\n",
    "# Check if document exists\n",
    "if doc.exists:\n",
    "    # Get reviews\n",
    "    reviews = doc.to_dict().get('reviews', {})\n",
    "    print(reviews)\n",
    "else:\n",
    "    print(f\"No such document for ASIN: {asin}\")\n"
   ]
  },
  {
   "cell_type": "code",
   "execution_count": 23,
   "metadata": {},
   "outputs": [
    {
     "data": {
      "text/plain": [
       "10"
      ]
     },
     "execution_count": 23,
     "metadata": {},
     "output_type": "execute_result"
    }
   ],
   "source": [
    "len(reviews['reviews'])"
   ]
  },
  {
   "cell_type": "code",
   "execution_count": 24,
   "metadata": {},
   "outputs": [
    {
     "data": {
      "text/plain": [
       "dict_keys(['2_star_ratings', '3_star_percentage', 'average_rating', '1_star_ratings', '5_star_percentage', '3_star_ratings', 'top_critical_review', 'top_positive_review', 'product', 'total_ratings', '5_star_ratings', 'pagination', '4_star_percentage', '2_star_percentage', '4_star_ratings', '1_star_percentage', 'filtered_total_ratings', 'reviews', 'message', 'total_reviews', 'filtered_total_reviews'])"
      ]
     },
     "execution_count": 24,
     "metadata": {},
     "output_type": "execute_result"
    }
   ],
   "source": [
    "reviews.keys()"
   ]
  },
  {
   "cell_type": "code",
   "execution_count": 28,
   "metadata": {},
   "outputs": [
    {
     "data": {
      "text/plain": [
       "583"
      ]
     },
     "execution_count": 28,
     "metadata": {},
     "output_type": "execute_result"
    }
   ],
   "source": [
    "reviews[ 'total_reviews']"
   ]
  },
  {
   "cell_type": "code",
   "execution_count": 29,
   "metadata": {},
   "outputs": [
    {
     "data": {
      "text/plain": [
       "583"
      ]
     },
     "execution_count": 29,
     "metadata": {},
     "output_type": "execute_result"
    }
   ],
   "source": [
    "reviews[ 'filtered_total_reviews']"
   ]
  }
 ],
 "metadata": {
  "kernelspec": {
   "display_name": "oaie",
   "language": "python",
   "name": "python3"
  },
  "language_info": {
   "codemirror_mode": {
    "name": "ipython",
    "version": 3
   },
   "file_extension": ".py",
   "mimetype": "text/x-python",
   "name": "python",
   "nbconvert_exporter": "python",
   "pygments_lexer": "ipython3",
   "version": "3.10.11"
  },
  "orig_nbformat": 4,
  "vscode": {
   "interpreter": {
    "hash": "6c74ab5e9d1b69f4a633dadba036213975e2781ddda024f711eea1a9e615ae86"
   }
  }
 },
 "nbformat": 4,
 "nbformat_minor": 2
}
