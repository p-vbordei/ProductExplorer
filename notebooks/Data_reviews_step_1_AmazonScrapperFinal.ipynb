{
 "cells": [
  {
   "cell_type": "code",
   "execution_count": 1,
   "metadata": {},
   "outputs": [],
   "source": [
    "import subprocess\n",
    "import csv\n",
    "import io\n",
    "import os\n",
    "import pandas as pd\n",
    "import datetime\n",
    "import time"
   ]
  },
  {
   "cell_type": "code",
   "execution_count": 2,
   "metadata": {},
   "outputs": [],
   "source": [
    "def get_amazon_products(keyword, num_products, search_folder):\n",
    "    command = f\"amazon-buddy products -k '{keyword}' -n {num_products} --filetype csv\"\n",
    "    result = subprocess.run(command, shell=True, stdout=subprocess.PIPE, stderr=subprocess.PIPE, text=True)\n",
    "\n",
    "    if result.returncode != 0:\n",
    "        print(\"Error:\", result.stderr)\n",
    "        return None"
   ]
  },
  {
   "cell_type": "code",
   "execution_count": 3,
   "metadata": {},
   "outputs": [],
   "source": [
    "output_folder = '/Users/vladbordei/Documents/Development/ProductExplorer/data/raw'\n",
    "search_keyword = 'Raised Garden Bed'\n",
    "# timestamp = datetime.datetime.now().strftime(\"%Y%m%d-%H%M%S\")\n",
    "\n",
    "# Split the words by space and capitalize each word\n",
    "words = search_keyword.split()\n",
    "camel_case = ''.join([word.capitalize() for word in words])\n",
    "\n",
    "# Create the full path for the search_folder\n",
    "search_folder = os.path.join(os.getcwd(), output_folder, f\"{camel_case}\")\n",
    "\n",
    "# Check if the folder exists, create it if it doesn't\n",
    "if not os.path.exists(search_folder):\n",
    "    os.makedirs(search_folder)\n",
    "\n",
    "output_folder = search_folder\n",
    "\n",
    "# Check if the folder exists, create it if it doesn't\n",
    "if not os.path.exists(output_folder):\n",
    "    os.makedirs(output_folder)"
   ]
  },
  {
   "cell_type": "code",
   "execution_count": 6,
   "metadata": {},
   "outputs": [],
   "source": [
    "get_amazon_products(search_keyword, 300, search_folder)"
   ]
  },
  {
   "cell_type": "code",
   "execution_count": 8,
   "metadata": {},
   "outputs": [],
   "source": [
    "# products = pd.read_csv(\"/Users/vladbordei/Documents/Development/ProductExplorer/data/raw/RaisedGardenBed/products(Raised Garden Bed)_1686762019761.csv\")"
   ]
  },
  {
   "cell_type": "code",
   "execution_count": 4,
   "metadata": {},
   "outputs": [],
   "source": [
    "asin_list_path = '/Users/vladbordei/Documents/Development/ProductExplorer/data/external/asin_list.csv'\n",
    "asin_list = pd.read_csv(asin_list_path)['asin'].tolist()"
   ]
  },
  {
   "cell_type": "code",
   "execution_count": 5,
   "metadata": {},
   "outputs": [
    {
     "name": "stdout",
     "output_type": "stream",
     "text": [
      "Extracting reviews for ASIN: B08X2324ZL\n"
     ]
    },
    {
     "name": "stderr",
     "output_type": "stream",
     "text": [
      "- Amazon Scraper Started\n"
     ]
    },
    {
     "name": "stdout",
     "output_type": "stream",
     "text": [
      "Result was saved to: reviews(B08X2324ZL)_1686809743006\n",
      "amazon-buddy reviews B08X2324ZL -n 300 --filetype csv  --country US\n",
      "Extracting product details for ASIN: B08X2324ZL\n",
      "Extracting reviews for ASIN: B09MQ689XL\n"
     ]
    },
    {
     "name": "stderr",
     "output_type": "stream",
     "text": [
      "- Amazon Scraper Started\n"
     ]
    },
    {
     "name": "stdout",
     "output_type": "stream",
     "text": [
      "Result was saved to: reviews(B09MQ689XL)_1686809758895\n",
      "amazon-buddy reviews B09MQ689XL -n 300 --filetype csv  --country US\n",
      "Extracting product details for ASIN: B09MQ689XL\n",
      "Extracting reviews for ASIN: B0BCW8X98V\n"
     ]
    },
    {
     "name": "stderr",
     "output_type": "stream",
     "text": [
      "- Amazon Scraper Started\n"
     ]
    },
    {
     "name": "stdout",
     "output_type": "stream",
     "text": [
      "Result was saved to: reviews(B0BCW8X98V)_1686809774458\n",
      "amazon-buddy reviews B0BCW8X98V -n 300 --filetype csv  --country US\n",
      "Extracting product details for ASIN: B0BCW8X98V\n"
     ]
    }
   ],
   "source": [
    "for asin in asin_list[:3]:\n",
    "    print(f\"Extracting reviews for ASIN: {asin}\")\n",
    "    os.system(f'amazon-buddy reviews {asin} -n 300 --filetype csv --country US')\n",
    "    print(f'amazon-buddy reviews {asin} -n 300 --filetype csv  --country US')\n",
    "    time.sleep(7)  # Add delay between requests to avoid potential blocking\n",
    "    \n",
    "    print(f\"Extracting product details for ASIN: {asin}\")\n",
    "    # os.system(f'amazon-buddy asin {asin} --filetype csv --country US')\n",
    "    # time.sleep(5)  # Add delay between requests to avoid potential blocking\n"
   ]
  },
  {
   "attachments": {},
   "cell_type": "markdown",
   "metadata": {},
   "source": []
  }
 ],
 "metadata": {
  "kernelspec": {
   "display_name": "oaie",
   "language": "python",
   "name": "python3"
  },
  "language_info": {
   "codemirror_mode": {
    "name": "ipython",
    "version": 3
   },
   "file_extension": ".py",
   "mimetype": "text/x-python",
   "name": "python",
   "nbconvert_exporter": "python",
   "pygments_lexer": "ipython3",
   "version": "3.10.11"
  },
  "orig_nbformat": 4
 },
 "nbformat": 4,
 "nbformat_minor": 2
}
