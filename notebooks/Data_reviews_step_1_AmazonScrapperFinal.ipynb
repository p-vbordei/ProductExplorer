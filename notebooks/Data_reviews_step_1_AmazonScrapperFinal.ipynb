{
 "cells": [
  {
   "cell_type": "code",
   "execution_count": 1,
   "metadata": {},
   "outputs": [],
   "source": [
    "import subprocess\n",
    "import csv\n",
    "import io\n",
    "import os\n",
    "import datetime\n",
    "import time"
   ]
  },
  {
   "cell_type": "code",
   "execution_count": 2,
   "metadata": {},
   "outputs": [],
   "source": [
    "def get_amazon_products(keyword, num_products, search_folder):\n",
    "    command = f\"amazon-buddy products -k '{keyword}' -n {num_products} --filetype csv\"\n",
    "    result = subprocess.run(command, shell=True, stdout=subprocess.PIPE, stderr=subprocess.PIPE, text=True)\n",
    "\n",
    "    if result.returncode != 0:\n",
    "        print(\"Error:\", result.stderr)\n",
    "        return None\n"
   ]
  },
  {
   "cell_type": "code",
   "execution_count": 3,
   "metadata": {},
   "outputs": [],
   "source": [
    "output_folder = 'data'\n",
    "search_keyword = 'Magnetic Beads Board Freestyle'\n",
    "# timestamp = datetime.datetime.now().strftime(\"%Y%m%d-%H%M%S\")\n",
    "\n",
    "# Split the words by space and capitalize each word\n",
    "words = search_keyword.split()\n",
    "camel_case = ''.join([word.capitalize() for word in words])\n",
    "\n",
    "# Create the full path for the search_folder\n",
    "search_folder = os.path.join(os.getcwd(), output_folder, f\"{camel_case}\")\n",
    "\n",
    "\n",
    "# Check if the folder exists, create it if it doesn't\n",
    "if not os.path.exists(search_folder):\n",
    "    os.makedirs(search_folder)"
   ]
  },
  {
   "cell_type": "code",
   "execution_count": 4,
   "metadata": {},
   "outputs": [],
   "source": [
    "get_amazon_products(search_keyword, 50, search_folder)"
   ]
  },
  {
   "cell_type": "code",
   "execution_count": 8,
   "metadata": {},
   "outputs": [],
   "source": [
    "import pandas as pd\n",
    "products = pd.read_csv(\"/Users/vladbordei/Documents/Development/OaieAmazoniana/data/MagneticBeadsBoardFreestyle/MagneticBeadsBoardFreestyle.csv\")"
   ]
  },
  {
   "cell_type": "code",
   "execution_count": 10,
   "metadata": {},
   "outputs": [
    {
     "name": "stdout",
     "output_type": "stream",
     "text": [
      "Extracting reviews for ASIN: B07XCRVK2Y\n"
     ]
    },
    {
     "name": "stderr",
     "output_type": "stream",
     "text": [
      "- Amazon Scraper Started\n"
     ]
    },
    {
     "name": "stdout",
     "output_type": "stream",
     "text": [
      "Result was saved to: reviews(B07XCRVK2Y)_1682694039579\n",
      "Extracting product details for ASIN: B07XCRVK2Y\n"
     ]
    },
    {
     "name": "stderr",
     "output_type": "stream",
     "text": [
      "- Amazon Scraper Started\n"
     ]
    },
    {
     "name": "stdout",
     "output_type": "stream",
     "text": [
      "Result was saved to: asin(B07XCRVK2Y)_1682694049783\n",
      "Extracting reviews for ASIN: B07X7YFZWG\n"
     ]
    },
    {
     "name": "stderr",
     "output_type": "stream",
     "text": [
      "- Amazon Scraper Started\n"
     ]
    },
    {
     "name": "stdout",
     "output_type": "stream",
     "text": [
      "Result was saved to: reviews(B07X7YFZWG)_1682694058357\n",
      "Extracting product details for ASIN: B07X7YFZWG\n"
     ]
    },
    {
     "name": "stderr",
     "output_type": "stream",
     "text": [
      "- Amazon Scraper Started\n"
     ]
    },
    {
     "name": "stdout",
     "output_type": "stream",
     "text": [
      "Result was saved to: asin(B07X7YFZWG)_1682694068564\n",
      "Extracting reviews for ASIN: B07XCRT49W\n"
     ]
    },
    {
     "name": "stderr",
     "output_type": "stream",
     "text": [
      "- Amazon Scraper Started\n"
     ]
    },
    {
     "name": "stdout",
     "output_type": "stream",
     "text": [
      "Result was saved to: reviews(B07XCRT49W)_1682694076880\n",
      "Extracting product details for ASIN: B07XCRT49W\n"
     ]
    },
    {
     "name": "stderr",
     "output_type": "stream",
     "text": [
      "- Amazon Scraper Started\n"
     ]
    },
    {
     "name": "stdout",
     "output_type": "stream",
     "text": [
      "Result was saved to: asin(B07XCRT49W)_1682694087361\n",
      "Extracting reviews for ASIN: B07Q899BPB\n"
     ]
    },
    {
     "name": "stderr",
     "output_type": "stream",
     "text": [
      "- Amazon Scraper Started\n"
     ]
    },
    {
     "name": "stdout",
     "output_type": "stream",
     "text": [
      "Result was saved to: reviews(B07Q899BPB)_1682694095461\n",
      "Extracting product details for ASIN: B07Q899BPB\n"
     ]
    },
    {
     "name": "stderr",
     "output_type": "stream",
     "text": [
      "- Amazon Scraper Started\n"
     ]
    },
    {
     "name": "stdout",
     "output_type": "stream",
     "text": [
      "Result was saved to: asin(B07Q899BPB)_1682694105567\n",
      "Extracting reviews for ASIN: B07QXMLSS5\n"
     ]
    },
    {
     "name": "stderr",
     "output_type": "stream",
     "text": [
      "- Amazon Scraper Started\n"
     ]
    },
    {
     "name": "stdout",
     "output_type": "stream",
     "text": [
      "Result was saved to: reviews(B07QXMLSS5)_1682694114602\n",
      "Extracting product details for ASIN: B07QXMLSS5\n"
     ]
    },
    {
     "name": "stderr",
     "output_type": "stream",
     "text": [
      "- Amazon Scraper Started\n"
     ]
    },
    {
     "name": "stdout",
     "output_type": "stream",
     "text": [
      "Result was saved to: asin(B07QXMLSS5)_1682694124200\n",
      "Extracting reviews for ASIN: B01M4OV4Q4\n"
     ]
    },
    {
     "name": "stderr",
     "output_type": "stream",
     "text": [
      "- Amazon Scraper Started\n"
     ]
    },
    {
     "name": "stdout",
     "output_type": "stream",
     "text": [
      "Result was saved to: reviews(B01M4OV4Q4)_1682694132634\n",
      "Extracting product details for ASIN: B01M4OV4Q4\n"
     ]
    },
    {
     "name": "stderr",
     "output_type": "stream",
     "text": [
      "- Amazon Scraper Started\n"
     ]
    },
    {
     "name": "stdout",
     "output_type": "stream",
     "text": [
      "Result was saved to: asin(B01M4OV4Q4)_1682694143234\n",
      "Extracting reviews for ASIN: B085Q4W3WX\n"
     ]
    },
    {
     "name": "stderr",
     "output_type": "stream",
     "text": [
      "- Amazon Scraper Started\n"
     ]
    },
    {
     "name": "stdout",
     "output_type": "stream",
     "text": [
      "Result was saved to: reviews(B085Q4W3WX)_1682694151701\n",
      "Extracting product details for ASIN: B085Q4W3WX\n"
     ]
    },
    {
     "name": "stderr",
     "output_type": "stream",
     "text": [
      "- Amazon Scraper Started\n"
     ]
    },
    {
     "name": "stdout",
     "output_type": "stream",
     "text": [
      "Result was saved to: asin(B085Q4W3WX)_1682694161491\n",
      "Extracting reviews for ASIN: B09R9MMW6J\n"
     ]
    },
    {
     "name": "stderr",
     "output_type": "stream",
     "text": [
      "- Amazon Scraper Started\n"
     ]
    },
    {
     "name": "stdout",
     "output_type": "stream",
     "text": [
      "Result was saved to: reviews(B09R9MMW6J)_1682694169651\n",
      "Extracting product details for ASIN: B09R9MMW6J\n"
     ]
    },
    {
     "name": "stderr",
     "output_type": "stream",
     "text": [
      "- Amazon Scraper Started\n"
     ]
    },
    {
     "name": "stdout",
     "output_type": "stream",
     "text": [
      "Result was saved to: asin(B09R9MMW6J)_1682694178802\n",
      "Extracting reviews for ASIN: B07ZJ8HRN8\n"
     ]
    },
    {
     "name": "stderr",
     "output_type": "stream",
     "text": [
      "- Amazon Scraper Started\n"
     ]
    },
    {
     "name": "stdout",
     "output_type": "stream",
     "text": [
      "Result was saved to: reviews(B07ZJ8HRN8)_1682694189179\n",
      "Extracting product details for ASIN: B07ZJ8HRN8\n"
     ]
    },
    {
     "name": "stderr",
     "output_type": "stream",
     "text": [
      "- Amazon Scraper Started\n"
     ]
    },
    {
     "name": "stdout",
     "output_type": "stream",
     "text": [
      "Result was saved to: asin(B07ZJ8HRN8)_1682694197377\n",
      "Extracting reviews for ASIN: B085Q3TLF8\n"
     ]
    },
    {
     "name": "stderr",
     "output_type": "stream",
     "text": [
      "- Amazon Scraper Started\n"
     ]
    },
    {
     "name": "stdout",
     "output_type": "stream",
     "text": [
      "Result was saved to: reviews(B085Q3TLF8)_1682694206146\n",
      "Extracting product details for ASIN: B085Q3TLF8\n"
     ]
    },
    {
     "name": "stderr",
     "output_type": "stream",
     "text": [
      "- Amazon Scraper Started\n"
     ]
    },
    {
     "name": "stdout",
     "output_type": "stream",
     "text": [
      "Result was saved to: asin(B085Q3TLF8)_1682694214234\n",
      "Extracting reviews for ASIN: B07ZJ8FDPK\n"
     ]
    },
    {
     "name": "stderr",
     "output_type": "stream",
     "text": [
      "- Amazon Scraper Started\n"
     ]
    },
    {
     "name": "stdout",
     "output_type": "stream",
     "text": [
      "Result was saved to: reviews(B07ZJ8FDPK)_1682694222626\n",
      "Extracting product details for ASIN: B07ZJ8FDPK\n"
     ]
    },
    {
     "name": "stderr",
     "output_type": "stream",
     "text": [
      "- Amazon Scraper Started\n"
     ]
    },
    {
     "name": "stdout",
     "output_type": "stream",
     "text": [
      "Result was saved to: asin(B07ZJ8FDPK)_1682694231709\n",
      "Extracting reviews for ASIN: B09VBZZ9C8\n"
     ]
    },
    {
     "name": "stderr",
     "output_type": "stream",
     "text": [
      "- Amazon Scraper Started\n"
     ]
    },
    {
     "name": "stdout",
     "output_type": "stream",
     "text": [
      "Result was saved to: reviews(B09VBZZ9C8)_1682694240775\n",
      "Extracting product details for ASIN: B09VBZZ9C8\n"
     ]
    },
    {
     "name": "stderr",
     "output_type": "stream",
     "text": [
      "- Amazon Scraper Started\n"
     ]
    },
    {
     "name": "stdout",
     "output_type": "stream",
     "text": [
      "Result was saved to: asin(B09VBZZ9C8)_1682694250792\n"
     ]
    }
   ],
   "source": [
    "asin_list_path = './data/external/asin_list.csv'\n",
    "asin_list = pd.read_csv(asin_list_path)['asin'].tolist()\n",
    "\n",
    "output_folder = search_folder\n",
    "\n",
    "# Check if the folder exists, create it if it doesn't\n",
    "if not os.path.exists(output_folder):\n",
    "    os.makedirs(output_folder)\n",
    "\n",
    "for asin in asin_list:\n",
    "    print(f\"Extracting reviews for ASIN: {asin}\")\n",
    "    os.system(f'amazon-buddy reviews {asin} --number 300 --filetype csv --output \"{output_folder}/reviews_{asin}.csv\"')\n",
    "    time.sleep(5)  # Add delay between requests to avoid potential blocking\n",
    "    \n",
    "    print(f\"Extracting product details for ASIN: {asin}\")\n",
    "    os.system(f'amazon-buddy asin {asin} --filetype csv --output \"{output_folder}/details_{asin}.csv\"')\n",
    "    time.sleep(5)  # Add delay between requests to avoid potential blocking\n"
   ]
  },
  {
   "cell_type": "code",
   "execution_count": 6,
   "metadata": {},
   "outputs": [
    {
     "name": "stdout",
     "output_type": "stream",
     "text": [
      "Extracting reviews for ASIN: B0BZTV3WK1\n"
     ]
    },
    {
     "name": "stderr",
     "output_type": "stream",
     "text": [
      "- Amazon Scraper Started\n"
     ]
    },
    {
     "name": "stdout",
     "output_type": "stream",
     "text": [
      "Result was saved to: reviews(B0BZTV3WK1)_1682588960295\n",
      "Extracting product details for ASIN: B0BZTV3WK1\n"
     ]
    },
    {
     "name": "stderr",
     "output_type": "stream",
     "text": [
      "- Amazon Scraper Started\n"
     ]
    },
    {
     "name": "stdout",
     "output_type": "stream",
     "text": [
      "Result was saved to: asin(B0BZTV3WK1)_1682588969119\n",
      "Extracting reviews for ASIN: B083CX6B27\n"
     ]
    },
    {
     "name": "stderr",
     "output_type": "stream",
     "text": [
      "- Amazon Scraper Started\n"
     ]
    },
    {
     "name": "stdout",
     "output_type": "stream",
     "text": [
      "Result was saved to: reviews(B083CX6B27)_1682588977774\n",
      "Extracting product details for ASIN: B083CX6B27\n"
     ]
    },
    {
     "name": "stderr",
     "output_type": "stream",
     "text": [
      "- Amazon Scraper Started\n"
     ]
    },
    {
     "name": "stdout",
     "output_type": "stream",
     "text": [
      "Result was saved to: asin(B083CX6B27)_1682588986757\n",
      "Extracting reviews for ASIN: B09T9X4VYH\n"
     ]
    },
    {
     "name": "stderr",
     "output_type": "stream",
     "text": [
      "- Amazon Scraper Started\n"
     ]
    },
    {
     "name": "stdout",
     "output_type": "stream",
     "text": [
      "Result was saved to: reviews(B09T9X4VYH)_1682588995149\n",
      "Extracting product details for ASIN: B09T9X4VYH\n"
     ]
    },
    {
     "name": "stderr",
     "output_type": "stream",
     "text": [
      "- Amazon Scraper Started\n"
     ]
    },
    {
     "name": "stdout",
     "output_type": "stream",
     "text": [
      "Result was saved to: asin(B09T9X4VYH)_1682589003880\n",
      "Extracting reviews for ASIN: B09VK93B4Z\n"
     ]
    },
    {
     "name": "stderr",
     "output_type": "stream",
     "text": [
      "- Amazon Scraper Started\n"
     ]
    },
    {
     "name": "stdout",
     "output_type": "stream",
     "text": [
      "Result was saved to: reviews(B09VK93B4Z)_1682589011920\n",
      "Extracting product details for ASIN: B09VK93B4Z\n"
     ]
    },
    {
     "name": "stderr",
     "output_type": "stream",
     "text": [
      "- Amazon Scraper Started\n"
     ]
    },
    {
     "name": "stdout",
     "output_type": "stream",
     "text": [
      "Result was saved to: asin(B09VK93B4Z)_1682589020656\n",
      "Extracting reviews for ASIN: B07XCRVK2Y\n"
     ]
    },
    {
     "name": "stderr",
     "output_type": "stream",
     "text": [
      "- Amazon Scraper Started\n"
     ]
    },
    {
     "name": "stdout",
     "output_type": "stream",
     "text": [
      "Result was saved to: reviews(B07XCRVK2Y)_1682589028869\n",
      "Extracting product details for ASIN: B07XCRVK2Y\n"
     ]
    },
    {
     "name": "stderr",
     "output_type": "stream",
     "text": [
      "- Amazon Scraper Started\n"
     ]
    },
    {
     "name": "stdout",
     "output_type": "stream",
     "text": [
      "Result was saved to: asin(B07XCRVK2Y)_1682589037759\n",
      "Extracting reviews for ASIN: B0BN8BVQ2N\n"
     ]
    },
    {
     "name": "stderr",
     "output_type": "stream",
     "text": [
      "- Amazon Scraper Started\n"
     ]
    },
    {
     "name": "stdout",
     "output_type": "stream",
     "text": [
      "Result was saved to: reviews(B0BN8BVQ2N)_1682589045851\n",
      "Extracting product details for ASIN: B0BN8BVQ2N\n"
     ]
    },
    {
     "name": "stderr",
     "output_type": "stream",
     "text": [
      "- Amazon Scraper Started\n"
     ]
    },
    {
     "name": "stdout",
     "output_type": "stream",
     "text": [
      "Result was saved to: asin(B0BN8BVQ2N)_1682589054633\n",
      "Extracting reviews for ASIN: B09VBZZ9C8\n"
     ]
    },
    {
     "name": "stderr",
     "output_type": "stream",
     "text": [
      "- Amazon Scraper Started\n"
     ]
    },
    {
     "name": "stdout",
     "output_type": "stream",
     "text": [
      "Result was saved to: reviews(B09VBZZ9C8)_1682589062968\n",
      "Extracting product details for ASIN: B09VBZZ9C8\n"
     ]
    },
    {
     "name": "stderr",
     "output_type": "stream",
     "text": [
      "- Amazon Scraper Started\n"
     ]
    },
    {
     "name": "stdout",
     "output_type": "stream",
     "text": [
      "Result was saved to: asin(B09VBZZ9C8)_1682589071909\n",
      "Extracting reviews for ASIN: B07F2QHCCN\n"
     ]
    },
    {
     "name": "stderr",
     "output_type": "stream",
     "text": [
      "- Amazon Scraper Started\n"
     ]
    },
    {
     "name": "stdout",
     "output_type": "stream",
     "text": [
      "Result was saved to: reviews(B07F2QHCCN)_1682589080194\n",
      "Extracting product details for ASIN: B07F2QHCCN\n"
     ]
    },
    {
     "name": "stderr",
     "output_type": "stream",
     "text": [
      "- Amazon Scraper Started\n"
     ]
    },
    {
     "name": "stdout",
     "output_type": "stream",
     "text": [
      "Result was saved to: asin(B07F2QHCCN)_1682589088469\n",
      "Extracting reviews for ASIN: B0BWF78VX7\n"
     ]
    },
    {
     "name": "stderr",
     "output_type": "stream",
     "text": [
      "- Amazon Scraper Started\n"
     ]
    },
    {
     "name": "stdout",
     "output_type": "stream",
     "text": [
      "Result was saved to: reviews(B0BWF78VX7)_1682589096809\n",
      "Extracting product details for ASIN: B0BWF78VX7\n"
     ]
    },
    {
     "name": "stderr",
     "output_type": "stream",
     "text": [
      "- Amazon Scraper Started\n"
     ]
    },
    {
     "name": "stdout",
     "output_type": "stream",
     "text": [
      "Result was saved to: asin(B0BWF78VX7)_1682589104612\n",
      "Extracting reviews for ASIN: B01M4OV4Q4\n"
     ]
    },
    {
     "name": "stderr",
     "output_type": "stream",
     "text": [
      "- Amazon Scraper Started\n"
     ]
    },
    {
     "name": "stdout",
     "output_type": "stream",
     "text": [
      "Result was saved to: reviews(B01M4OV4Q4)_1682589112647\n",
      "Extracting product details for ASIN: B01M4OV4Q4\n"
     ]
    },
    {
     "name": "stderr",
     "output_type": "stream",
     "text": [
      "- Amazon Scraper Started\n"
     ]
    },
    {
     "name": "stdout",
     "output_type": "stream",
     "text": [
      "Result was saved to: asin(B01M4OV4Q4)_1682589120817\n",
      "Extracting reviews for ASIN: B0BW3NR5JW\n"
     ]
    },
    {
     "name": "stderr",
     "output_type": "stream",
     "text": [
      "- Amazon Scraper Started\n"
     ]
    },
    {
     "name": "stdout",
     "output_type": "stream",
     "text": [
      "Result was saved to: reviews(B0BW3NR5JW)_1682589128861\n",
      "Extracting product details for ASIN: B0BW3NR5JW\n"
     ]
    },
    {
     "name": "stderr",
     "output_type": "stream",
     "text": [
      "- Amazon Scraper Started\n"
     ]
    },
    {
     "name": "stdout",
     "output_type": "stream",
     "text": [
      "Result was saved to: asin(B0BW3NR5JW)_1682589136768\n",
      "Extracting reviews for ASIN: B07P8WRCDZ\n"
     ]
    },
    {
     "name": "stderr",
     "output_type": "stream",
     "text": [
      "- Amazon Scraper Started\n"
     ]
    },
    {
     "name": "stdout",
     "output_type": "stream",
     "text": [
      "Result was saved to: reviews(B07P8WRCDZ)_1682589144580\n",
      "Extracting product details for ASIN: B07P8WRCDZ\n"
     ]
    },
    {
     "name": "stderr",
     "output_type": "stream",
     "text": [
      "- Amazon Scraper Started\n"
     ]
    },
    {
     "name": "stdout",
     "output_type": "stream",
     "text": [
      "Result was saved to: asin(B07P8WRCDZ)_1682589153435\n",
      "Extracting reviews for ASIN: B0BXL2YCMS\n"
     ]
    },
    {
     "name": "stderr",
     "output_type": "stream",
     "text": [
      "- Amazon Scraper Started\n"
     ]
    },
    {
     "name": "stdout",
     "output_type": "stream",
     "text": [
      "Result was saved to: reviews(B0BXL2YCMS)_1682589161605\n",
      "Extracting product details for ASIN: B0BXL2YCMS\n"
     ]
    },
    {
     "name": "stderr",
     "output_type": "stream",
     "text": [
      "- Amazon Scraper Started\n"
     ]
    },
    {
     "name": "stdout",
     "output_type": "stream",
     "text": [
      "Result was saved to: asin(B0BXL2YCMS)_1682589170229\n",
      "Extracting reviews for ASIN: B0BXDF7WS2\n"
     ]
    },
    {
     "name": "stderr",
     "output_type": "stream",
     "text": [
      "- Amazon Scraper Started\n"
     ]
    },
    {
     "name": "stdout",
     "output_type": "stream",
     "text": [
      "Result was saved to: reviews(B0BXDF7WS2)_1682589178206\n",
      "Extracting product details for ASIN: B0BXDF7WS2\n"
     ]
    },
    {
     "name": "stderr",
     "output_type": "stream",
     "text": [
      "- Amazon Scraper Started\n"
     ]
    },
    {
     "name": "stdout",
     "output_type": "stream",
     "text": [
      "Result was saved to: asin(B0BXDF7WS2)_1682589188113\n",
      "Extracting reviews for ASIN: B081GTG1ZW\n"
     ]
    },
    {
     "name": "stderr",
     "output_type": "stream",
     "text": [
      "- Amazon Scraper Started\n"
     ]
    },
    {
     "name": "stdout",
     "output_type": "stream",
     "text": [
      "Result was saved to: reviews(B081GTG1ZW)_1682589196224\n",
      "Extracting product details for ASIN: B081GTG1ZW\n"
     ]
    },
    {
     "name": "stderr",
     "output_type": "stream",
     "text": [
      "- Amazon Scraper Started\n"
     ]
    },
    {
     "name": "stdout",
     "output_type": "stream",
     "text": [
      "Result was saved to: asin(B081GTG1ZW)_1682589205664\n",
      "Extracting reviews for ASIN: B0BWJCMFKB\n"
     ]
    },
    {
     "name": "stderr",
     "output_type": "stream",
     "text": [
      "- Amazon Scraper Started\n"
     ]
    },
    {
     "name": "stdout",
     "output_type": "stream",
     "text": [
      "Result was saved to: reviews(B0BWJCMFKB)_1682589214120\n",
      "Extracting product details for ASIN: B0BWJCMFKB\n"
     ]
    },
    {
     "name": "stderr",
     "output_type": "stream",
     "text": [
      "- Amazon Scraper Started\n"
     ]
    },
    {
     "name": "stdout",
     "output_type": "stream",
     "text": [
      "Result was saved to: asin(B0BWJCMFKB)_1682589222843\n",
      "Extracting reviews for ASIN: B0BWYDD4BJ\n"
     ]
    },
    {
     "name": "stderr",
     "output_type": "stream",
     "text": [
      "- Amazon Scraper Started\n"
     ]
    },
    {
     "name": "stdout",
     "output_type": "stream",
     "text": [
      "Result was saved to: reviews(B0BWYDD4BJ)_1682589230821\n",
      "Extracting product details for ASIN: B0BWYDD4BJ\n"
     ]
    },
    {
     "name": "stderr",
     "output_type": "stream",
     "text": [
      "- Amazon Scraper Started\n"
     ]
    },
    {
     "name": "stdout",
     "output_type": "stream",
     "text": [
      "Result was saved to: asin(B0BWYDD4BJ)_1682589239865\n",
      "Extracting reviews for ASIN: B0BXD6BLYT\n"
     ]
    },
    {
     "name": "stderr",
     "output_type": "stream",
     "text": [
      "- Amazon Scraper Started\n"
     ]
    },
    {
     "name": "stdout",
     "output_type": "stream",
     "text": [
      "Result was saved to: reviews(B0BXD6BLYT)_1682589247740\n",
      "Extracting product details for ASIN: B0BXD6BLYT\n"
     ]
    },
    {
     "name": "stderr",
     "output_type": "stream",
     "text": [
      "- Amazon Scraper Started\n"
     ]
    },
    {
     "name": "stdout",
     "output_type": "stream",
     "text": [
      "Result was saved to: asin(B0BXD6BLYT)_1682589256204\n",
      "Extracting reviews for ASIN: B0BZ8DN1YM\n"
     ]
    },
    {
     "name": "stderr",
     "output_type": "stream",
     "text": [
      "- Amazon Scraper Started\n"
     ]
    },
    {
     "name": "stdout",
     "output_type": "stream",
     "text": [
      "Result was saved to: reviews(B0BZ8DN1YM)_1682589263843\n",
      "Extracting product details for ASIN: B0BZ8DN1YM\n"
     ]
    },
    {
     "name": "stderr",
     "output_type": "stream",
     "text": [
      "- Amazon Scraper Started\n"
     ]
    },
    {
     "name": "stdout",
     "output_type": "stream",
     "text": [
      "Result was saved to: asin(B0BZ8DN1YM)_1682589273612\n",
      "Extracting reviews for ASIN: B0BVFKCZJY\n"
     ]
    },
    {
     "name": "stderr",
     "output_type": "stream",
     "text": [
      "- Amazon Scraper Started\n"
     ]
    },
    {
     "name": "stdout",
     "output_type": "stream",
     "text": [
      "Result was saved to: reviews(B0BVFKCZJY)_1682589281938\n",
      "Extracting product details for ASIN: B0BVFKCZJY\n"
     ]
    },
    {
     "name": "stderr",
     "output_type": "stream",
     "text": [
      "- Amazon Scraper Started\n"
     ]
    },
    {
     "name": "stdout",
     "output_type": "stream",
     "text": [
      "Result was saved to: asin(B0BVFKCZJY)_1682589290141\n",
      "Extracting reviews for ASIN: B0BXL61LZ3\n"
     ]
    },
    {
     "name": "stderr",
     "output_type": "stream",
     "text": [
      "- Amazon Scraper Started\n"
     ]
    },
    {
     "name": "stdout",
     "output_type": "stream",
     "text": [
      "Result was saved to: reviews(B0BXL61LZ3)_1682589298278\n",
      "Extracting product details for ASIN: B0BXL61LZ3\n"
     ]
    },
    {
     "name": "stderr",
     "output_type": "stream",
     "text": [
      "- Amazon Scraper Started\n"
     ]
    },
    {
     "name": "stdout",
     "output_type": "stream",
     "text": [
      "Result was saved to: asin(B0BXL61LZ3)_1682589307569\n",
      "Extracting reviews for ASIN: B0BVW1FNV9\n"
     ]
    },
    {
     "name": "stderr",
     "output_type": "stream",
     "text": [
      "- Amazon Scraper Started\n"
     ]
    },
    {
     "name": "stdout",
     "output_type": "stream",
     "text": [
      "Result was saved to: reviews(B0BVW1FNV9)_1682589315503\n",
      "Extracting product details for ASIN: B0BVW1FNV9\n"
     ]
    },
    {
     "name": "stderr",
     "output_type": "stream",
     "text": [
      "- Amazon Scraper Started\n"
     ]
    },
    {
     "name": "stdout",
     "output_type": "stream",
     "text": [
      "Result was saved to: asin(B0BVW1FNV9)_1682589324270\n",
      "Extracting reviews for ASIN: B0BXX7Y9K8\n"
     ]
    },
    {
     "name": "stderr",
     "output_type": "stream",
     "text": [
      "- Amazon Scraper Started\n"
     ]
    },
    {
     "name": "stdout",
     "output_type": "stream",
     "text": [
      "Result was saved to: reviews(B0BXX7Y9K8)_1682589332141\n",
      "Extracting product details for ASIN: B0BXX7Y9K8\n"
     ]
    },
    {
     "name": "stderr",
     "output_type": "stream",
     "text": [
      "- Amazon Scraper Started\n"
     ]
    },
    {
     "name": "stdout",
     "output_type": "stream",
     "text": [
      "Result was saved to: asin(B0BXX7Y9K8)_1682589340184\n",
      "Extracting reviews for ASIN: B07THCFJMZ\n"
     ]
    },
    {
     "name": "stderr",
     "output_type": "stream",
     "text": [
      "- Amazon Scraper Started\n"
     ]
    },
    {
     "name": "stdout",
     "output_type": "stream",
     "text": [
      "Result was saved to: reviews(B07THCFJMZ)_1682589348547\n",
      "Extracting product details for ASIN: B07THCFJMZ\n"
     ]
    },
    {
     "name": "stderr",
     "output_type": "stream",
     "text": [
      "- Amazon Scraper Started\n"
     ]
    },
    {
     "name": "stdout",
     "output_type": "stream",
     "text": [
      "Result was saved to: asin(B07THCFJMZ)_1682589359191\n",
      "Extracting reviews for ASIN: B0BX3VBSZN\n"
     ]
    },
    {
     "name": "stderr",
     "output_type": "stream",
     "text": [
      "- Amazon Scraper Started\n"
     ]
    },
    {
     "name": "stdout",
     "output_type": "stream",
     "text": [
      "Result was saved to: reviews(B0BX3VBSZN)_1682589367564\n",
      "Extracting product details for ASIN: B0BX3VBSZN\n"
     ]
    },
    {
     "name": "stderr",
     "output_type": "stream",
     "text": [
      "- Amazon Scraper Started\n"
     ]
    },
    {
     "name": "stdout",
     "output_type": "stream",
     "text": [
      "Result was saved to: asin(B0BX3VBSZN)_1682589377027\n",
      "Extracting reviews for ASIN: B0756FQ8ZG\n"
     ]
    },
    {
     "name": "stderr",
     "output_type": "stream",
     "text": [
      "- Amazon Scraper Started\n"
     ]
    },
    {
     "name": "stdout",
     "output_type": "stream",
     "text": [
      "Result was saved to: reviews(B0756FQ8ZG)_1682589385080\n",
      "Extracting product details for ASIN: B0756FQ8ZG\n"
     ]
    },
    {
     "name": "stderr",
     "output_type": "stream",
     "text": [
      "- Amazon Scraper Started\n"
     ]
    },
    {
     "name": "stdout",
     "output_type": "stream",
     "text": [
      "Result was saved to: asin(B0756FQ8ZG)_1682589394348\n",
      "Extracting reviews for ASIN: B0BJ94RQFM\n"
     ]
    },
    {
     "name": "stderr",
     "output_type": "stream",
     "text": [
      "- Amazon Scraper Started\n"
     ]
    },
    {
     "name": "stdout",
     "output_type": "stream",
     "text": [
      "Result was saved to: reviews(B0BJ94RQFM)_1682589402371\n",
      "Extracting product details for ASIN: B0BJ94RQFM\n"
     ]
    },
    {
     "name": "stderr",
     "output_type": "stream",
     "text": [
      "- Amazon Scraper Started\n"
     ]
    },
    {
     "name": "stdout",
     "output_type": "stream",
     "text": [
      "Result was saved to: asin(B0BJ94RQFM)_1682589411117\n",
      "Extracting reviews for ASIN: B073F9H93D\n"
     ]
    },
    {
     "name": "stderr",
     "output_type": "stream",
     "text": [
      "- Amazon Scraper Started\n"
     ]
    },
    {
     "name": "stdout",
     "output_type": "stream",
     "text": [
      "Result was saved to: reviews(B073F9H93D)_1682589419271\n",
      "Extracting product details for ASIN: B073F9H93D\n"
     ]
    },
    {
     "name": "stderr",
     "output_type": "stream",
     "text": [
      "- Amazon Scraper Started\n"
     ]
    },
    {
     "name": "stdout",
     "output_type": "stream",
     "text": [
      "Result was saved to: asin(B073F9H93D)_1682589429357\n",
      "Extracting reviews for ASIN: B0BVDJ78SV\n"
     ]
    },
    {
     "name": "stderr",
     "output_type": "stream",
     "text": [
      "- Amazon Scraper Started\n"
     ]
    },
    {
     "name": "stdout",
     "output_type": "stream",
     "text": [
      "Result was saved to: reviews(B0BVDJ78SV)_1682589437846\n",
      "Extracting product details for ASIN: B0BVDJ78SV\n"
     ]
    },
    {
     "name": "stderr",
     "output_type": "stream",
     "text": [
      "- Amazon Scraper Started\n"
     ]
    },
    {
     "name": "stdout",
     "output_type": "stream",
     "text": [
      "Result was saved to: asin(B0BVDJ78SV)_1682589446248\n",
      "Extracting reviews for ASIN: B0BWY4DBSB\n"
     ]
    },
    {
     "name": "stderr",
     "output_type": "stream",
     "text": [
      "- Amazon Scraper Started\n"
     ]
    },
    {
     "name": "stdout",
     "output_type": "stream",
     "text": [
      "Result was saved to: reviews(B0BWY4DBSB)_1682589454575\n",
      "Extracting product details for ASIN: B0BWY4DBSB\n"
     ]
    },
    {
     "name": "stderr",
     "output_type": "stream",
     "text": [
      "- Amazon Scraper Started\n"
     ]
    },
    {
     "name": "stdout",
     "output_type": "stream",
     "text": [
      "Result was saved to: asin(B0BWY4DBSB)_1682589463796\n",
      "Extracting reviews for ASIN: B07VJHYKDH\n"
     ]
    },
    {
     "name": "stderr",
     "output_type": "stream",
     "text": [
      "- Amazon Scraper Started\n"
     ]
    },
    {
     "name": "stdout",
     "output_type": "stream",
     "text": [
      "Result was saved to: reviews(B07VJHYKDH)_1682589472248\n",
      "Extracting product details for ASIN: B07VJHYKDH\n"
     ]
    },
    {
     "name": "stderr",
     "output_type": "stream",
     "text": [
      "- Amazon Scraper Started\n"
     ]
    },
    {
     "name": "stdout",
     "output_type": "stream",
     "text": [
      "Result was saved to: asin(B07VJHYKDH)_1682589481276\n",
      "Extracting reviews for ASIN: B07MKZLRT7\n"
     ]
    },
    {
     "name": "stderr",
     "output_type": "stream",
     "text": [
      "- Amazon Scraper Started\n"
     ]
    },
    {
     "name": "stdout",
     "output_type": "stream",
     "text": [
      "Result was saved to: reviews(B07MKZLRT7)_1682589489582\n",
      "Extracting product details for ASIN: B07MKZLRT7\n"
     ]
    },
    {
     "name": "stderr",
     "output_type": "stream",
     "text": [
      "- Amazon Scraper Started\n"
     ]
    },
    {
     "name": "stdout",
     "output_type": "stream",
     "text": [
      "Result was saved to: asin(B07MKZLRT7)_1682589498638\n",
      "Extracting reviews for ASIN: B07D989J5Y\n"
     ]
    },
    {
     "name": "stderr",
     "output_type": "stream",
     "text": [
      "- Amazon Scraper Started\n"
     ]
    },
    {
     "name": "stdout",
     "output_type": "stream",
     "text": [
      "Result was saved to: reviews(B07D989J5Y)_1682589506564\n",
      "Extracting product details for ASIN: B07D989J5Y\n"
     ]
    },
    {
     "name": "stderr",
     "output_type": "stream",
     "text": [
      "- Amazon Scraper Started\n"
     ]
    },
    {
     "name": "stdout",
     "output_type": "stream",
     "text": [
      "Result was saved to: asin(B07D989J5Y)_1682589516819\n",
      "Extracting reviews for ASIN: B07ZC1GBKW\n"
     ]
    },
    {
     "name": "stderr",
     "output_type": "stream",
     "text": [
      "- Amazon Scraper Started\n"
     ]
    },
    {
     "name": "stdout",
     "output_type": "stream",
     "text": [
      "Result was saved to: reviews(B07ZC1GBKW)_1682589525219\n",
      "Extracting product details for ASIN: B07ZC1GBKW\n"
     ]
    },
    {
     "name": "stderr",
     "output_type": "stream",
     "text": [
      "- Amazon Scraper Started\n"
     ]
    },
    {
     "name": "stdout",
     "output_type": "stream",
     "text": [
      "Result was saved to: asin(B07ZC1GBKW)_1682589534380\n"
     ]
    }
   ],
   "source": [
    "filename = 'MagneticBeadsBoardFreestyle.csv'\n",
    "output_folder = search_folder\n",
    "\n",
    "# Check if the folder exists, create it if it doesn't\n",
    "if not os.path.exists(output_folder):\n",
    "    os.makedirs(output_folder)\n",
    "\n",
    "with open(filename, 'r') as file:\n",
    "    reader = csv.DictReader(file)\n",
    "    for row in reader:\n",
    "        asin = row['asin']\n",
    "        print(f\"Extracting reviews for ASIN: {asin}\")\n",
    "        os.system(f'amazon-buddy reviews {asin} --number 300 --filetype csv --output \"{output_folder}/reviews_{asin}.csv\"')\n",
    "        time.sleep(5)  # Add delay between requests to avoid potential blocking\n",
    "        \n",
    "        print(f\"Extracting product details for ASIN: {asin}\")\n",
    "        os.system(f'amazon-buddy asin {asin} --filetype csv --output \"{output_folder}/details_{asin}.csv\"')\n",
    "        time.sleep(5)  # Add delay between requests to avoid potential blocking\n"
   ]
  },
  {
   "cell_type": "code",
   "execution_count": null,
   "metadata": {},
   "outputs": [],
   "source": [
    "import pandas as pd\n",
    "\n",
    "asin_list = ['B07XCRVK2Y', 'B07X7YFZWG', 'B07XCRT49W', 'B07Q899BPB', 'B07QXMLSS5', 'B01M4OV4Q4', 'B085Q4W3WX', 'B09R9MMW6J', 'B07ZJ8HRN8', 'B085Q3TLF8', 'B07ZJ8FDPK', 'B09VBZZ9C8']\n",
    "\n",
    "# create a pandas dataframe\n",
    "df = pd.DataFrame(asin_list, columns=['asin'])\n",
    "\n",
    "# save the dataframe as a CSV file\n",
    "df.to_csv('asin_list.csv', index=False)\n"
   ]
  }
 ],
 "metadata": {
  "kernelspec": {
   "display_name": "oaie",
   "language": "python",
   "name": "python3"
  },
  "language_info": {
   "codemirror_mode": {
    "name": "ipython",
    "version": 3
   },
   "file_extension": ".py",
   "mimetype": "text/x-python",
   "name": "python",
   "nbconvert_exporter": "python",
   "pygments_lexer": "ipython3",
   "version": "3.10.11"
  },
  "orig_nbformat": 4
 },
 "nbformat": 4,
 "nbformat_minor": 2
}
