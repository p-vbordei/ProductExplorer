{
 "cells": [
  {
   "cell_type": "code",
   "execution_count": 1,
   "metadata": {},
   "outputs": [],
   "source": [
    "import requests\n",
    "import json\n",
    "import pandas as pd"
   ]
  },
  {
   "cell_type": "code",
   "execution_count": 19,
   "metadata": {},
   "outputs": [],
   "source": [
    "# Assume the JSON data is stored in a variable called `json_data`\n",
    "data = json.loads(response.text)"
   ]
  },
  {
   "cell_type": "code",
   "execution_count": 22,
   "metadata": {},
   "outputs": [],
   "source": [
    "# Extract the reviews from the JSON data and convert it to a DataFrame\n",
    "reviews = pd.DataFrame(data['reviews'])"
   ]
  },
  {
   "cell_type": "code",
   "execution_count": 25,
   "metadata": {},
   "outputs": [],
   "source": [
    "reviews.to_csv(\"reviews_sample.csv\",index=False)"
   ]
  },
  {
   "cell_type": "code",
   "execution_count": 3,
   "metadata": {},
   "outputs": [],
   "source": [
    "asin_list_path = '/Users/vladbordei/Documents/Development/ProductExplorer/data/external/asin_list.csv'\n",
    "asin_list = pd.read_csv(asin_list_path)['asin'].tolist()"
   ]
  },
  {
   "cell_type": "code",
   "execution_count": 4,
   "metadata": {},
   "outputs": [
    {
     "data": {
      "text/plain": [
       "['B08X2324ZL',\n",
       " 'B09MQ689XL',\n",
       " 'B0BCW8X98V',\n",
       " 'B09NR5JW8Y',\n",
       " 'B0BHS5VPCZ',\n",
       " 'B0BCVY1DHR',\n",
       " 'B0BNXCJ3MV',\n",
       " 'B0BCTTCSBZ',\n",
       " 'B091325ZMB',\n",
       " 'B093HCXGC9',\n",
       " 'B0BL6MR1KN',\n",
       " 'B09PN11Y65',\n",
       " 'B0BLNBS36G',\n",
       " 'B0BVZ3H4MB',\n",
       " 'B0BW8Y2B8Z',\n",
       " 'B0BDFZPNVY']"
      ]
     },
     "execution_count": 4,
     "metadata": {},
     "output_type": "execute_result"
    }
   ],
   "source": [
    "asin_list"
   ]
  },
  {
   "cell_type": "code",
   "execution_count": null,
   "metadata": {},
   "outputs": [],
   "source": [
    "# Loop over ASINs\n",
    "for asin in asin_list:\n",
    "    details = get_product_details(asin)\n",
    "    reviews = get_product_reviews(asin)\n",
    "    update_firestore(asin, details, reviews)"
   ]
  },
  {
   "cell_type": "code",
   "execution_count": 13,
   "metadata": {},
   "outputs": [
    {
     "name": "stdout",
     "output_type": "stream",
     "text": [
      "Failed to fetch product details for B08X2324ZL. HTTP status: 404\n",
      "Skipping B08X2324ZL due to failed details fetch.\n",
      "Failed to fetch product details for B09MQ689XL. HTTP status: 404\n",
      "Skipping B09MQ689XL due to failed details fetch.\n"
     ]
    }
   ],
   "source": [
    "# old api\n",
    "\n",
    "import time\n",
    "import asyncio\n",
    "import nest_asyncio\n",
    "import aiohttp\n",
    "import json\n",
    "import firebase_admin\n",
    "from firebase_admin import credentials\n",
    "from firebase_admin import firestore\n",
    "\n",
    "\n",
    "\n",
    "\n",
    "\n",
    "\n",
    "# Your ASINs\n",
    "asin_list = ['B08X2324ZL', 'B09MQ689XL']\n",
    "\n",
    "# Amazon Scraper details\n",
    "base_url = \"https://asin-data.p.rapidapi.com/request\"\n",
    "api_key = \"70201ee0c8ed29661bc6ae00a84341fb\"\n",
    "headers = {\n",
    "\t\"X-RapidAPI-Key\": \"4da31a08e5mshaca05d98a3d9d6ep1fffb1jsn019717508cc8\",\n",
    "\t\"X-RapidAPI-Host\": \"asin-data.p.rapidapi.com\"\n",
    "}\n",
    "\n",
    "# Firestore details\n",
    "cred_path = '/Users/vladbordei/Documents/Development/ProductExplorer/notebooks/productexplorerdata-firebase-adminsdk-ulb3d-465f23dff3.json'\n",
    "\n",
    "# Initialize Firestore\n",
    "cred = credentials.Certificate(cred_path)\n",
    "if not firebase_admin._apps:\n",
    "    firebase_admin.initialize_app(cred)\n",
    "db = firestore.client()\n",
    "\n",
    "async def get_product_details(asin):\n",
    "    start = time.time()\n",
    "    async with aiohttp.ClientSession() as session:\n",
    "        url = f\"{base_url}{asin}\"\n",
    "        async with session.get(url, headers=headers, params={\"api_key\": api_key}) as response:\n",
    "            if response.status != 200:\n",
    "                print(f\"Failed to fetch product details for {asin}. HTTP status: {response.status}\")\n",
    "                return None\n",
    "            print(f\"Fetching product details for {asin} took {time.time() - start} seconds.\")\n",
    "            return await response.json()\n",
    "\n",
    "async def fetch(session, page_var, asin):\n",
    "    params = {\n",
    "        \"type\":\"reviews\",\n",
    "        \"asin\":asin,\n",
    "        \"amazon_domain\":\"amazon.com\",\n",
    "        \"reviewer_type\":\"verified_purchase\",\n",
    "        \"sort_by\":\"most_recent\",\n",
    "        \"global_reviews\":\"false\",\n",
    "        \"page\":page_var\n",
    "    }\n",
    "    async with session.get(url=base_url, headers=headers, params=params) as response:\n",
    "        if response.status != 200:\n",
    "            print(f\"Failed to fetch reviews for {asin} page {page_var}. HTTP status: {response.status}\")\n",
    "            return None\n",
    "        return await response.json()\n",
    "\n",
    "async def get_product_reviews(asin):\n",
    "    start = time.time()\n",
    "    async with aiohttp.ClientSession() as session:\n",
    "        pages = [\"1\", \"2\", \"3\", \"4\", \"5\", \"6\", \"7\", \"8\", \"9\", \"10\"]\n",
    "        tasks = [fetch(session, page_var, asin) for page_var in pages]\n",
    "        results = await asyncio.gather(*tasks)\n",
    "        print(f\"Fetching product reviews for {asin} took {time.time() - start} seconds.\")\n",
    "        return results\n",
    "\n",
    "def update_firestore(asin, details, reviews):\n",
    "    if details is None or reviews is None or any(review is None for review in reviews):\n",
    "        print(f\"Skipping Firestore update for {asin} due to missing data.\")\n",
    "        return\n",
    "    start = time.time()\n",
    "    doc_ref = db.collection('products').document(asin)\n",
    "    doc_ref.set({\n",
    "        'details': details,\n",
    "        'reviews': reviews\n",
    "    }, merge=True)\n",
    "    print(f\"Updating Firestore for {asin} took {time.time() - start} seconds.\")\n",
    "\n",
    "async def process_asin(asin):\n",
    "    details = await get_product_details(asin)\n",
    "    if details is None:\n",
    "        print(f\"Skipping {asin} due to failed details fetch.\")\n",
    "        return\n",
    "    reviews = await get_product_reviews(asin)\n",
    "    if reviews is None or any(review is None for review in reviews):\n",
    "        print(f\"Skipping {asin} due to failed reviews fetch.\")\n",
    "        return\n",
    "    update_firestore(asin, details, reviews)\n",
    "\n",
    "async def main():\n",
    "    tasks = [process_asin(asin) for asin in asin_list]\n",
    "    await asyncio.gather(*tasks)\n",
    "\n",
    "loop = asyncio.get_event_loop()\n",
    "loop.run_until_complete(main())\n"
   ]
  },
  {
   "cell_type": "code",
   "execution_count": 19,
   "metadata": {},
   "outputs": [
    {
     "name": "stdout",
     "output_type": "stream",
     "text": [
      "Fetching product details for B08X2324ZL took 2.5519559383392334 seconds.\n",
      "Fetching product reviews for B08X2324ZL took 2.552313804626465 seconds.\n",
      "Updating Firestore for B08X2324ZL took 0.5691540241241455 seconds.\n",
      "Fetching product details for B09MQ689XL took 5.8336639404296875 seconds.\n",
      "Fetching product reviews for B09MQ689XL took 2.2384912967681885 seconds.\n",
      "Updating Firestore for B09MQ689XL took 0.5269620418548584 seconds.\n"
     ]
    }
   ],
   "source": [
    "# New api\n",
    "\n",
    "import time\n",
    "import asyncio\n",
    "import aiohttp\n",
    "import json\n",
    "import firebase_admin\n",
    "from firebase_admin import credentials\n",
    "from firebase_admin import firestore\n",
    "\n",
    "# Your ASINs\n",
    "asin_list = ['B08X2324ZL', 'B09MQ689XL']\n",
    "\n",
    "# Amazon Scraper details\n",
    "details_base_url = \"https://amazon23.p.rapidapi.com/product-details\"\n",
    "reviews_base_url = \"https://amazon23.p.rapidapi.com/reviews\"\n",
    "headers = {\n",
    "    \"X-RapidAPI-Key\": \"4da31a08e5mshaca05d98a3d9d6ep1fffb1jsn019717508cc8\",\n",
    "    \"X-RapidAPI-Host\": \"amazon23.p.rapidapi.com\"\n",
    "}\n",
    "\n",
    "# Firestore details\n",
    "cred_path = '/Users/vladbordei/Documents/Development/ProductExplorer/notebooks/productexplorerdata-firebase-adminsdk-ulb3d-465f23dff3.json'\n",
    "\n",
    "# Initialize Firestore\n",
    "cred = credentials.Certificate(cred_path)\n",
    "if not firebase_admin._apps:\n",
    "    firebase_admin.initialize_app(cred)\n",
    "db = firestore.client()\n",
    "\n",
    "async def get_product_details(asin):\n",
    "    start = time.time()\n",
    "    async with aiohttp.ClientSession() as session:\n",
    "        params = {\"asin\": asin, \"country\": \"US\"}\n",
    "        async with session.get(details_base_url, headers=headers, params=params) as response:\n",
    "            if response.status != 200:\n",
    "                print(f\"Failed to fetch product details for {asin}. HTTP status: {response.status}\")\n",
    "                return None\n",
    "            print(f\"Fetching product details for {asin} took {time.time() - start} seconds.\")\n",
    "            return await response.json()\n",
    "\n",
    "async def fetch(session, page_var, asin):\n",
    "    params = {\n",
    "        \"asin\": asin,\n",
    "        \"sort_by\": \"recent\",\n",
    "        \"page\": page_var,\n",
    "        \"country\": \"US\"\n",
    "    }\n",
    "    async with session.get(reviews_base_url, headers=headers, params=params) as response:\n",
    "        if response.status != 200:\n",
    "            print(f\"Failed to fetch reviews for {asin} page {page_var}. HTTP status: {response.status}\")\n",
    "            return None\n",
    "        return await response.json()\n",
    "\n",
    "async def get_product_reviews(asin):\n",
    "    start = time.time()\n",
    "    async with aiohttp.ClientSession() as session:\n",
    "        pages = [\"1\", \"2\", \"3\", \"4\", \"5\", \"6\", \"7\", \"8\", \"9\", \"10\"]\n",
    "        tasks = [fetch(session, page_var, asin) for page_var in pages]\n",
    "        results = await asyncio.gather(*tasks)\n",
    "        print(f\"Fetching product reviews for {asin} took {time.time() - start} seconds.\")\n",
    "        return results\n",
    "\n",
    "def update_firestore(asin, details, reviews):\n",
    "    if details is None or reviews is None or any(review is None for review in reviews):\n",
    "        print(f\"Skipping Firestore update for {asin} due to missing data.\")\n",
    "        return\n",
    "    start = time.time()\n",
    "    doc_ref = db.collection('products').document(asin)\n",
    "    doc_ref.set({\n",
    "        'details': details,\n",
    "        'reviews': reviews\n",
    "    }, merge=True)\n",
    "    print(f\"Updating Firestore for {asin} took {time.time() - start} seconds.\")\n",
    "\n",
    "async def process_asin(asin):\n",
    "    details = await get_product_details(asin)\n",
    "    if details is None:\n",
    "        print(f\"Skipping {asin} due to failed details fetch.\")\n",
    "        return\n",
    "    reviews = await get_product_reviews(asin)\n",
    "    if reviews is None or any(review is None for review in reviews):\n",
    "        print(f\"Skipping {asin} due to failed reviews fetch.\")\n",
    "        return\n",
    "    update_firestore(asin, details, reviews)\n",
    "\n",
    "async def main():\n",
    "    tasks = [process_asin(asin) for asin in asin_list]\n",
    "    await asyncio.gather(*tasks)\n",
    "\n",
    "loop = asyncio.get_event_loop()\n",
    "loop.run_until_complete(main())\n"
   ]
  },
  {
   "cell_type": "code",
   "execution_count": 24,
   "metadata": {},
   "outputs": [
    {
     "name": "stdout",
     "output_type": "stream",
     "text": [
      "[{'total_reviews': 2379, 'result': [{'review': 'It is good for the price. Next time I will pull the trigger for the better brand.', 'verified_purchase': True, 'date': {'unix': 1690164000, 'date': 'July 24, 2023'}, 'asin': {'variant': 'B079R764PP', 'original': 'B09MQ689XL'}, 'id': 'R1BQI18TCROVNH', 'review_data': 'Reviewed in the United States 🇺🇸 on July 24, 2023', 'rating': 3, 'title': '3.0 out of 5 starsNot Bad for the Price', 'name': 'Amazon Customer'}, {'review': 'It was easy to install perfect', 'verified_purchase': True, 'date': {'unix': 1690077600, 'date': 'July 23, 2023'}, 'asin': {'variant': 'B09MQ689XL', 'original': 'B09MQ689XL'}, 'id': 'R3K9S8MFVIOFFS', 'review_data': 'Reviewed in the United States 🇺🇸 on July 23, 2023', 'rating': 5, 'title': '5.0 out of 5 starsPerfect', 'name': 'Sherry'}, {'review': 'I went for a large rectangular structure, something like 4x10.the issue is the 10ft long sides have bowed out from the weight of the material i put inside.I saw others with like wire/chain system pulling the sides together.If you are going to do a large rectangular structure buy a different product.', 'verified_purchase': True, 'date': {'unix': 1689732000, 'date': 'July 19, 2023'}, 'asin': {'variant': 'B078K4WFKL', 'original': 'B09MQ689XL'}, 'id': 'R1AAQZLXSZB343', 'review_data': 'Reviewed in the United States 🇺🇸 on July 19, 2023', 'rating': 2, 'title': '2.0 out of 5 starssomething is missing', 'name': 'matt stulgis'}, {'review': 'Excellent value for cost', 'verified_purchase': True, 'date': {'unix': 1689732000, 'date': 'July 19, 2023'}, 'asin': {'variant': 'B077N42PP3', 'original': 'B09MQ689XL'}, 'id': 'R5V97PF1KFHQN', 'review_data': 'Reviewed in the United States 🇺🇸 on July 19, 2023', 'rating': 5, 'title': '5.0 out of 5 starsExcellent value for cost', 'name': 'wrgild'}, {'review': 'Perfect for growing a little vegetable garden', 'verified_purchase': True, 'date': {'unix': 1688263200, 'date': 'July 2, 2023'}, 'asin': {'variant': 'B09MQ64GBF', 'original': 'B09MQ689XL'}, 'id': 'R158YHVSHH3BH6', 'review_data': 'Reviewed in the United States 🇺🇸 on July 2, 2023', 'rating': 5, 'title': '5.0 out of 5 starsRabbit free', 'name': 'M.D.G.'}, {'review': 'These garden beds are sturdy. Easy to assemble.Great for small gardening!', 'verified_purchase': True, 'date': {'unix': 1688004000, 'date': 'June 29, 2023'}, 'asin': {'variant': 'B079R764PP', 'original': 'B09MQ689XL'}, 'id': 'RD3TL1W4W52QY', 'review_data': 'Reviewed in the United States 🇺🇸 on June 29, 2023', 'rating': 5, 'title': '5.0 out of 5 starsWell made', 'name': 'Meemaw Lady'}, {'review': 'The rabbits in my yard having been eating all of my herbs I bought this box and now they cannot get to them and they’re growing big and beautiful and it was easy to put together with my son help. I’m going to buy another one', 'verified_purchase': True, 'date': {'unix': 1688004000, 'date': 'June 29, 2023'}, 'asin': {'variant': 'B07Q2TP1JV', 'original': 'B09MQ689XL'}, 'id': 'R1FH43OYYMVXY9', 'review_data': 'Reviewed in the United States 🇺🇸 on June 29, 2023', 'rating': 5, 'title': '5.0 out of 5 starsPerfect', 'name': 'mom to 3 boys'}, {'review': 'Instructions unclear but once you understand it it’s easy setup. The hole should line up perfectly if you’re doing it correctly. The two connecting metal sheet will overlap in order for the hole to Align with the metal support. The longer garden bed definitely need some support in the middle to prevent bowing otherwise I cannot see this lasting too long.', 'verified_purchase': True, 'date': {'unix': 1687572000, 'date': 'June 24, 2023'}, 'asin': {'variant': 'B078K4WFKL', 'original': 'B09MQ689XL'}, 'id': 'R2E8L7AVNK4YEK', 'review_data': 'Reviewed in the United States 🇺🇸 on June 24, 2023', 'rating': 4, 'title': '4.0 out of 5 starsWill need reinforcement to prevent bowing when filled', 'name': 'Hau Q. Che'}, {'review': 'The media could not be loaded.\\xa0I like because it is wider and came with a mesh weed blocker strip.', 'verified_purchase': True, 'date': {'unix': 1687399200, 'date': 'June 22, 2023'}, 'asin': {'variant': 'B079R764PP', 'original': 'B09MQ689XL'}, 'id': 'R1D4UI6YPC1XZU', 'review_data': 'Reviewed in the United States 🇺🇸 on June 22, 2023', 'rating': 5, 'title': '5.0 out of 5 starsI put it together myself but would go much faster with a helper.', 'name': 'Priscilla Cunningham'}, {'review': 'Super easy to put together. Took two of us about 1 hour to assemble 4. We also used the provided screws to enhance the strength of the beds. Be prepared-these hold a lot of soil. 1 large bed holds approximately 33 cubic feet of soil. Liked them so much we bought 4 total.', 'verified_purchase': True, 'date': {'unix': 1687312800, 'date': 'June 21, 2023'}, 'asin': {'variant': 'B0BGKHPLWL', 'original': 'B09MQ689XL'}, 'id': 'R1RM8MVOIJC0G7', 'review_data': 'Reviewed in the United States 🇺🇸 on June 21, 2023', 'rating': 5, 'title': '5.0 out of 5 starsFantastic garden beds', 'name': 'Leslie R. Heinrichs'}], 'stars_stat': {'3': '6%', '4': '17%', '1': '4%', '5': '69%', '2': '3%'}}, {'total_reviews': 2379, 'result': [{'review': 'I bought one of the garden beds just to see if they where any good. LOVED it! Bought 2 more. Now I want 3 more to expand my garden.', 'verified_purchase': True, 'date': {'unix': 1687312800, 'date': 'June 21, 2023'}, 'asin': {'variant': 'B079R764PP', 'original': 'B09MQ689XL'}, 'id': 'R1BZWC0RELC1OD', 'review_data': 'Reviewed in the United States 🇺🇸 on June 21, 2023', 'rating': 5, 'title': '5.0 out of 5 starsLove them!!!', 'name': 'sheila moore'}, {'review': \"We recently moved and wanted a raised bed garden.We didn't want to purchase lumber and construct them, this was a great alternative.We ended up purchasing 9 of these. They were pretty easy to assemble, I would say they took about 30 minutes each.We did end up contacting customer support as we wanted to purchase some extra braces.Jenna was very responsive and easy to communicate with.\", 'verified_purchase': True, 'date': {'unix': 1687140000, 'date': 'June 19, 2023'}, 'asin': {'variant': 'B0BGKLJMG5', 'original': 'B09MQ689XL'}, 'id': 'R1A4MCSMJCG4B5', 'review_data': 'Reviewed in the United States 🇺🇸 on June 19, 2023', 'rating': 5, 'title': '5.0 out of 5 starsEasy Solution for Raised Beds', 'name': 'Nickie Peters'}, {'review': \"Product works well, but the listing is Made in a way that is a little confusing, so I ended up buying the wrong size.Thought i was buying 2x8 but ended up with 3x6. It was no huge deal to me because the way my greenhouse was built, I ended up having to trim some bits anyways. Seems like it's sturdy and gonna last me a while.\", 'verified_purchase': True, 'date': {'unix': 1687053600, 'date': 'June 18, 2023'}, 'asin': {'variant': 'B079R764PP', 'original': 'B09MQ689XL'}, 'id': 'R3J1918GW953P4', 'review_data': 'Reviewed in the United States 🇺🇸 on June 18, 2023', 'rating': 4, 'title': \"4.0 out of 5 starsPay attention to the size you're buying!\", 'name': 'Bambi creek'}, {'review': 'Even I can assemble them.I wish they had extra parts you could buy.But I love how these look and stack', 'verified_purchase': True, 'date': {'unix': 1687053600, 'date': 'June 18, 2023'}, 'asin': {'variant': 'B07Q2TP1JV', 'original': 'B09MQ689XL'}, 'id': 'RD81LGONGLP5S', 'review_data': 'Reviewed in the United States 🇺🇸 on June 18, 2023', 'rating': 4, 'title': '4.0 out of 5 starsGreat!!!', 'name': 'Yvonne S. McCool'}, {'review': 'Love this product!', 'verified_purchase': False, 'date': {'unix': 1686967200, 'date': 'June 17, 2023'}, 'asin': {'variant': 'B07Q2TP1JV', 'original': 'B09MQ689XL'}, 'id': 'R1WO1TD8EU1CXB', 'review_data': 'Reviewed in the United States 🇺🇸 on June 17, 2023', 'rating': 5, 'title': '5.0 out of 5 starsPerfect for growing veggies', 'name': 'anna'}, {'review': \"flimsy poor supports . i mentioned to them that they seemed they would have problems because there were no supports for the center top or bottom to keep them from buldging or going out of alignment but there were issues. we mentioned this to them and were told that they were tested and didn't need them and but we had to add posts supports to them driven into the ground to reinforce the front and rear in the center not perfictly but they work.theses are the longer ones but the construction is the same lght galvinized steel that needs additional support reguardless and heaver gauge steel but they are the same as the smaller sizes just more panels etc but with no additional support. we were issued $20 back for 4 units but i would have returned them had i not assembled all 4 to find out they were not quite sterdytimeing was an issue they needed to be completed for other projects to be done i would not purchase them again and have to deal with what we have now.obviously the bigger they get they need better strenth and support with stronger steel to hold tha weight of soil... we had no problemassembling them but the directions were not verry thorough enough for someone who dosent know better it can be confusing....\", 'verified_purchase': True, 'date': {'unix': 1686794400, 'date': 'June 15, 2023'}, 'asin': {'variant': 'B0BGKLJMG5', 'original': 'B09MQ689XL'}, 'id': 'RY6HZZT99CQSY', 'review_data': 'Reviewed in the United States 🇺🇸 on June 15, 2023', 'rating': 2, 'title': '2.0 out of 5 starsthe larger planters are not quite sturdy enough.', 'name': 'K'}, {'review': 'I read a ton of reviews prior to purchasing. I ordered 3 of these to plant my strawberries, herbs, and raspberries in. My husband assembled them for me without issue. He is a carpenter and he stated these are cheaply made, will likely only last me a few years before they rust out or break, and weren’t worth the money. I’ll use them until they wear out. They do look decent and serve my intended purpose for the time being.', 'verified_purchase': True, 'date': {'unix': 1686621600, 'date': 'June 13, 2023'}, 'asin': {'variant': 'B079R764PP', 'original': 'B09MQ689XL'}, 'id': 'RKN35FOLVLIYK', 'review_data': 'Reviewed in the United States 🇺🇸 on June 13, 2023', 'rating': 3, 'title': '3.0 out of 5 starsMediocre product', 'name': 'BritPete'}, {'review': 'These are perfect for a raised bed gardening. Easy to put together. My plants love it!!! Great value for the $$. I plan to buy a couple more next year!', 'verified_purchase': True, 'date': {'unix': 1686448800, 'date': 'June 11, 2023'}, 'asin': {'variant': 'B0BGKJT4X8', 'original': 'B09MQ689XL'}, 'id': 'R1HUYKWIPRRPNJ', 'review_data': 'Reviewed in the United States 🇺🇸 on June 11, 2023', 'rating': 5, 'title': '5.0 out of 5 starsExcellent!', 'name': 'Amazon Customer'}, {'review': 'Easy to assemble and good quality', 'verified_purchase': True, 'date': {'unix': 1686103200, 'date': 'June 7, 2023'}, 'asin': {'variant': 'B079R764PP', 'original': 'B09MQ689XL'}, 'id': 'R2W1M55CLPBV3L', 'review_data': 'Reviewed in the United States 🇺🇸 on June 7, 2023', 'rating': 5, 'title': '5.0 out of 5 starsGreat value.Sturdy design', 'name': 'sue'}, {'review': 'Went together easy and set up nicely. I used all the included screws and then some as unless screws in all the connectors its flimsy to move. Very nice.', 'verified_purchase': True, 'date': {'unix': 1685757600, 'date': 'June 3, 2023'}, 'asin': {'variant': 'B078425H29', 'original': 'B09MQ689XL'}, 'id': 'R1V2HX4UZYP2WZ', 'review_data': 'Reviewed in the United States 🇺🇸 on June 3, 2023', 'rating': 5, 'title': '5.0 out of 5 starsVery nice', 'name': 'Scrapple sandwich'}], 'stars_stat': {'3': '6%', '4': '17%', '1': '4%', '5': '69%', '2': '3%'}}, {'total_reviews': 2379, 'result': [{'review': 'Easy to assemble and looks wonderful. Bowed a little bit when dirt was added but not too much.', 'verified_purchase': True, 'date': {'unix': 1685584800, 'date': 'June 1, 2023'}, 'asin': {'variant': 'B079R764PP', 'original': 'B09MQ689XL'}, 'id': 'R107VY2SUH1O87', 'review_data': 'Reviewed in the United States 🇺🇸 on June 1, 2023', 'rating': 5, 'title': '5.0 out of 5 starsLooks great', 'name': 'Alice'}, {'review': 'Filled containers with dirt. Planted plants. Watered plants and one container bowed and completely fell apart. The other is about to break. Do not waste your money.', 'verified_purchase': True, 'date': {'unix': 1685498400, 'date': 'May 31, 2023'}, 'asin': {'variant': 'B09MQ689XL', 'original': 'B09MQ689XL'}, 'id': 'R1C46ZB4MJVGSL', 'review_data': 'Reviewed in the United States 🇺🇸 on May 31, 2023', 'rating': 1, 'title': '1.0 out of 5 starsDO NOT BUY', 'name': 'Erin Giza'}, {'review': 'This kit is is very easy and simple to work with. I ordered several kits and assembled in a larger configuration which required some additional support for the side so they wont bow or bend.', 'verified_purchase': True, 'date': {'unix': 1685498400, 'date': 'May 31, 2023'}, 'asin': {'variant': 'B079R764PP', 'original': 'B09MQ689XL'}, 'id': 'R2EI1OW8NCF3Q2', 'review_data': 'Reviewed in the United States 🇺🇸 on May 31, 2023', 'rating': 5, 'title': '5.0 out of 5 starsEasy and worked as expected.', 'name': 'madjack'}, {'review': 'Easy to assemble.I should have had a rubber mallet.I hurt my hand trying to hit the clamps in place.I like the way it looks in the yard.I should have done the more rectangular lay out.Putting in the plants would have been easier.', 'verified_purchase': True, 'date': {'unix': 1685498400, 'date': 'May 31, 2023'}, 'asin': {'variant': 'B077N42PP3', 'original': 'B09MQ689XL'}, 'id': 'RHNSEO44EN2Z6', 'review_data': 'Reviewed in the United States 🇺🇸 on May 31, 2023', 'rating': 3, 'title': \"3.0 out of 5 starsMy new raised planter bed looks Great.I'm so excited!\", 'name': 'Taunya'}, {'review': 'Material is good , lots of space', 'verified_purchase': True, 'date': {'unix': 1685412000, 'date': 'May 30, 2023'}, 'asin': {'variant': 'B078425H29', 'original': 'B09MQ689XL'}, 'id': 'R440Q0MX1Z467', 'review_data': 'Reviewed in the United States 🇺🇸 on May 30, 2023', 'rating': 5, 'title': '5.0 out of 5 starsIt’s perfect garden bed', 'name': 'Nisha'}, {'review': 'easy to assemble', 'verified_purchase': True, 'date': {'unix': 1685239200, 'date': 'May 28, 2023'}, 'asin': {'variant': 'B079R764PP', 'original': 'B09MQ689XL'}, 'id': 'RDVENIC7HMWI3', 'review_data': 'Reviewed in the United States 🇺🇸 on May 28, 2023', 'rating': 5, 'title': '5.0 out of 5 starsGreat bed', 'name': 'bernard cantin'}, {'review': 'The bed was fairly easy to put together and feels sturdy.I assembled it about a month ago and so far am very pleased.', 'verified_purchase': True, 'date': {'unix': 1685239200, 'date': 'May 28, 2023'}, 'asin': {'variant': 'B079R764PP', 'original': 'B09MQ689XL'}, 'id': 'RFWMGU04P3L7T', 'review_data': 'Reviewed in the United States 🇺🇸 on May 28, 2023', 'rating': 5, 'title': '5.0 out of 5 starsGreat raised bed!', 'name': 'hope'}, {'review': 'Watch the video for putting on top and bottom rails, game changer. Nice flower/veggie boxes. Well satisfied', 'verified_purchase': True, 'date': {'unix': 1685239200, 'date': 'May 28, 2023'}, 'asin': {'variant': 'B078425H29', 'original': 'B09MQ689XL'}, 'id': 'R18S6DEGI6ZKY8', 'review_data': 'Reviewed in the United States 🇺🇸 on May 28, 2023', 'rating': 5, 'title': '5.0 out of 5 stars2 people can move with ease', 'name': 'Sandy'}, {'review': 'Easy to assemble and well built.', 'verified_purchase': True, 'date': {'unix': 1685239200, 'date': 'May 28, 2023'}, 'asin': {'variant': 'B078425H29', 'original': 'B09MQ689XL'}, 'id': 'R2OHQYX3UBW3DD', 'review_data': 'Reviewed in the United States 🇺🇸 on May 28, 2023', 'rating': 5, 'title': '5.0 out of 5 starsWell constructed', 'name': 'Michael K. Veh'}, {'review': 'Shipped through FedEx.One box was torn open when delivered. Very difficult to assemble. The instructions were difficult to to understand.For the price they are not well manufactured.', 'verified_purchase': True, 'date': {'unix': 1685152800, 'date': 'May 27, 2023'}, 'asin': {'variant': 'B0BGKJT4X8', 'original': 'B09MQ689XL'}, 'id': 'R3Q3WNY10ECHCY', 'review_data': 'Reviewed in the United States 🇺🇸 on May 27, 2023', 'rating': 3, 'title': '3.0 out of 5 starsOver priced planter boxes', 'name': 'R.D.Michigan '}], 'stars_stat': {'3': '6%', '4': '17%', '1': '4%', '5': '69%', '2': '3%'}}, {'total_reviews': 2379, 'result': [{'review': 'Arrived scraped up and I was told I could not get a replacement', 'verified_purchase': True, 'date': {'unix': 1685152800, 'date': 'May 27, 2023'}, 'asin': {'variant': 'B09MQ689XL', 'original': 'B09MQ689XL'}, 'id': 'RQWB0OLKGRG1Z', 'review_data': 'Reviewed in the United States on May 27, 2023', 'rating': 1, 'title': '1.0 out of 5 starsScraped up piece of junk', 'name': 'JKR423'}, {'review': 'The finished product looks good and is functional.It took some time to figure out how to put it together.The YouTube was worth watching.It is a bit flimsy but it did hold the soil.Overall, I was good with the product.', 'verified_purchase': True, 'date': {'unix': 1685066400, 'date': 'May 26, 2023'}, 'asin': {'variant': 'B078425H29', 'original': 'B09MQ689XL'}, 'id': 'R1DZ6CFE7AX4M4', 'review_data': 'Reviewed in the United States on May 26, 2023', 'rating': 4, 'title': '4.0 out of 5 starsGrowing a Small Garden', 'name': 'Larry Horton'}, {'review': 'The wife loved it easy to put together.make sure u wear the gloves very sharp', 'verified_purchase': True, 'date': {'unix': 1684980000, 'date': 'May 25, 2023'}, 'asin': {'variant': 'B078425H29', 'original': 'B09MQ689XL'}, 'id': 'R3MDRTDE02M4K5', 'review_data': 'Reviewed in the United States on May 25, 2023', 'rating': 5, 'title': '5.0 out of 5 starsNice', 'name': 'Jason'}, {'review': 'Took a little time to assemble the sides into the guides but overall was easy to put together.Seems sturdy enough once we added the potting soil.I did dig down about 6\" to add branches and compost to set up a base that will decompose over time.Also put down a 6\" wide boarder of mulch so I don\\'t have to deal with trimming grass and potentially damaging the metal side walls.Will see how it last over a WI winter and I will update review.', 'verified_purchase': True, 'date': {'unix': 1684980000, 'date': 'May 25, 2023'}, 'asin': {'variant': 'B079R764PP', 'original': 'B09MQ689XL'}, 'id': 'R361NH0U5IVFB4', 'review_data': 'Reviewed in the United States on May 25, 2023', 'rating': 5, 'title': '5.0 out of 5 starsGreat option for raised garden bed', 'name': 'Cpv13'}, {'review': 'Perfect for our first garden! I purchased a second and would likely buy more.Watch YouTube videos on how to assemble. Instructions were kind of confusing. After watching assembly took 15 minutes. But a rubber mallet. You will thank me later.', 'verified_purchase': True, 'date': {'unix': 1684980000, 'date': 'May 25, 2023'}, 'asin': {'variant': 'B079R764PP', 'original': 'B09MQ689XL'}, 'id': 'R18Q1TLQILD5GM', 'review_data': 'Reviewed in the United States on May 25, 2023', 'rating': 5, 'title': '5.0 out of 5 starsHappy with them.', 'name': 'Michelle H'}, {'review': \"The assembly took some thinking but it's definitely worth it! My beds are all together and look great. I'll be planting them in the next few days! I was putting the 4 beds together in an unusual way and needed extra parts. Their Customer Service was excellent and part delivery was fast. Be sure to look up the part number before you contact them for easier communication.I'll add a few photos after I get the beds filled.After assembling 4 of these units I'd say to mostly ignore the instructions and try it this way:1. Set up on a hard work surface. You'll want your gloves, a rubber mallet and a small lightweight hammer (tack hammer size)2. Hold the panel longside on the surface with onehand. Align the rail on top of the panel so that the hole is centered over the bump in the panel on one end.3. Press down with moderate force and wiggle the panel back and forth so the rail slips down over the panel, working from one end to the other.4. After the whole top edge of the panel is slightly inside the rail, tap the top of the rail with the rubber mallet till the bumps go into the holes. You may have to adjust the rail slightly to get them to snap into place by hitting the end of the rail with the tack hammer lightly on the INSIDE of the panel (not the painted side)5. Flip the whole panel over and repeat with the second rail.6. Stack the sections together, painted side up and with the printed end on the same side.(This took me under 1 minute per panel after I figured out how to do this - much easier than trying to slide the rails on!)Assemble of the bed:1. For 2 straight sides, hold the panels upright on your work surface so they rest on the rails, in a V formation.Slip the side with the writing behind the side with no writing. You will need to lightly press against the written edge near the rail to make room for the other panel to slip in front of it; then straighten the V to a straight line.2. Place the straight locking pieces over the junction of the two panels so that the holes and the bumps align and knock the locking piece with the mallet to push it into place.3. Place the second locking piece beneath the junction, repeat alignment and hit it with the mallet till it pops in place. Slight adjustment might be needed depending on how good your alignment was.Corners:1. Lay out the pieces. Check that you've got one written end and one plain one at each corner.2. Hold the first piece upright and position the hole of a corner connector over the bump on that piece and tap it with the mallet till it pops in place.3. Position the second side inside the L connector such that the writing on the panel is hidden by the plain panel and the bumps are aligned with the holes. Tap the connector with the mallet till both pieces are locked together.4. Put the bottom connector in position and hit the top rail with the mallet to so you have both connectors securely on that panel section.5. Repeat with the other 3 corners.You can carefully move the bed around to exactly where you want it now. I single-handedly assembled the last 3 beds in under 20 minutes each once I figured out this method. Looking forward to replacing my last 2 wood beds this fall so everything matches!\", 'verified_purchase': True, 'date': {'unix': 1684893600, 'date': 'May 24, 2023'}, 'asin': {'variant': 'B077N42PP3', 'original': 'B09MQ689XL'}, 'id': 'RLRM69MR2HRVT', 'review_data': 'Reviewed in the United States on May 24, 2023', 'rating': 4, 'title': '4.0 out of 5 starsGetting the hang of assembly takes a minute but CS is fantastic!', 'name': 'Kasandra'}, {'review': 'Flimsy materialWaste of moneyCollapsed when filled with dirtPlants died due to collapseWorst customer service ever!', 'verified_purchase': True, 'date': {'unix': 1684720800, 'date': 'May 22, 2023'}, 'asin': {'variant': 'B079R764PP', 'original': 'B09MQ689XL'}, 'id': 'RWIO17VDEQR3N', 'review_data': 'Reviewed in the United States on May 22, 2023', 'rating': 1, 'title': '1.0 out of 5 starsHorrible do not buy', 'name': 'D.O'}, {'review': 'The sides are very thin, missing three brackets, the not enough braces, zero screws in the box and if your going to move it or turn it over you need screws! Not waste your money on this item, you’ll just be throwing it away. I built to more braces for the top and bottom as well as put screws in every joint to hold it together long enough to move it.', 'verified_purchase': True, 'date': {'unix': 1684720800, 'date': 'May 22, 2023'}, 'asin': {'variant': 'B0BGKHPLWL', 'original': 'B09MQ689XL'}, 'id': 'R2676KDI9H7254', 'review_data': 'Reviewed in the United States on May 22, 2023', 'rating': 2, 'title': '2.0 out of 5 starsPiece of stuff', 'name': 'Amazon Customer'}, {'review': 'I don’t know why the Chinese didn’t put the bars on the sides. That part was extremely time consuming.Also, the instructions took the “minimalist” approach and aren’t really helpful.I should have made one from cedar. It would have been quicker and I probably wouldn’t have pulled a muscle in my back.', 'verified_purchase': True, 'date': {'unix': 1684720800, 'date': 'May 22, 2023'}, 'asin': {'variant': 'B078K4WFKL', 'original': 'B09MQ689XL'}, 'id': 'RCY875UHXQNAX', 'review_data': 'Reviewed in the United States on May 22, 2023', 'rating': 2, 'title': '2.0 out of 5 starsNot easy to assemble', 'name': 'The Queen of Kings'}, {'review': 'It was so easy to put together and it looks so good. I’m definitely going to buy a few more', 'verified_purchase': True, 'date': {'unix': 1684634400, 'date': 'May 21, 2023'}, 'asin': {'variant': 'B079R764PP', 'original': 'B09MQ689XL'}, 'id': 'R45RSILWNPLBH', 'review_data': 'Reviewed in the United States on May 21, 2023', 'rating': 5, 'title': '5.0 out of 5 starsSeriously love this!', 'name': 'Cassandra Peterson'}], 'stars_stat': {'3': '6%', '4': '17%', '1': '4%', '5': '69%', '2': '3%'}}, {'total_reviews': 2379, 'result': [{'review': 'I ordered several of these, and most of them were missing parts. They are extremely difficult to assemble and require a lot of time and once they are assembled, they look gaudy and cheap.', 'verified_purchase': True, 'date': {'unix': 1684288800, 'date': 'May 17, 2023'}, 'asin': {'variant': 'B078425H29', 'original': 'B09MQ689XL'}, 'id': 'R1YUJDIYVPNWL1', 'review_data': 'Reviewed in the United States on May 17, 2023', 'rating': 1, 'title': '1.0 out of 5 starsMissing parts, hard to assemble, cheap design', 'name': 'Dustin'}, {'review': 'I don’t often write bad reviews, but this product is ridiculous. I have been trying to wrap my head around why this thing is as highly reviewed as it is.The first picture is the side I fixed based on another customers review. The second is what the instructions told me to do.It took me two hours to assemble it first, and I quickly realized the instructions left out some really key details. I only discovered those details by watching other customer videos. The instructions are 1/5 stars.I left it alone, thinking I’d just use it as is for the summer. Within two days, the gap in instructions translated to the sides bowing and the gaps in the walls growing.Today I had to spend another hour moving around the dirt I filled it with so I could reconstruct the sides and not destroy what now seems like an overpriced unit.I’m really glad this worked for some people, but beware that it takes SIGNIFICANT elbow grease to assemble, you almost certainly need a rubber mallet (I bruised my hand from pounding pieces together), and you should not rely on the nonsensical instructions - watch customer video reviews for pointers. Maybe also plan to have a helper. It is NOT easy to assemble.If this wasn’t already filled and the time to plant wasn’t already upon me, I would return it. I have another raised bed that went together in 20 minutes and has held beautifully. Really disappointed I spent $100 on this.', 'verified_purchase': True, 'date': {'unix': 1684202400, 'date': 'May 16, 2023'}, 'asin': {'variant': 'B078K4WFKL', 'original': 'B09MQ689XL'}, 'id': 'R34PE7TMGKZQ1N', 'review_data': 'Reviewed in the United States on May 16, 2023', 'rating': 3, 'title': '3.0 out of 5 starsCompletely miserable instructions', 'name': 'Alanna Beaulieu'}, {'review': \"Putting this together was a bit unwieldy, but it is working great. By filling it with good garden soil with nutrients that seep down into the soil below, we've gotten a great environment for growing vegetables and herbs. Already have harvested tomatoes, beans are coming in next, followed by radishes and peas... Gonna be a great fresh summer!\", 'verified_purchase': True, 'date': {'unix': 1684202400, 'date': 'May 16, 2023'}, 'asin': {'variant': 'B078425H29', 'original': 'B09MQ689XL'}, 'id': 'R38XPLD81EK137', 'review_data': 'Reviewed in the United States on May 16, 2023', 'rating': 4, 'title': '4.0 out of 5 starsGood when your ground soil is not growable', 'name': 'Judy Fisher (aka J.T.Fisher, Author)'}, {'review': 'Raised garden bed in my small townhome back yard.Looks great', 'verified_purchase': True, 'date': {'unix': 1684202400, 'date': 'May 16, 2023'}, 'asin': {'variant': 'B079R764PP', 'original': 'B09MQ689XL'}, 'id': 'R10M43ISMPCMED', 'review_data': 'Reviewed in the United States on May 16, 2023', 'rating': 5, 'title': '5.0 out of 5 starsEasy to assemble', 'name': 'Amazon Customer'}, {'review': 'Love it! Makes gardening so muck easier.Especially on my back!', 'verified_purchase': True, 'date': {'unix': 1683856800, 'date': 'May 12, 2023'}, 'asin': {'variant': 'B077N42PP3', 'original': 'B09MQ689XL'}, 'id': 'R1QXIN2PYWRF4I', 'review_data': 'Reviewed in the United States on May 12, 2023', 'rating': 5, 'title': '5.0 out of 5 starsLove', 'name': 'Tonya lambert'}, {'review': 'It was a terrible purchase. I bought 3 of these because this product fit the size I was looking for. I had my doubts while setting it up as the flimsy tin panels would not fit on the brackets and would bend. I still gave it a go and finished the whole bed hoping sometimes once the whole thing is done it might work but you put one piece together and the other side would fall apart. I decided to put soil and see but the whole thing started falling apart from the sides. Please fix your product. Now I need to redo my whole garden :(', 'verified_purchase': True, 'date': {'unix': 1683856800, 'date': 'May 12, 2023'}, 'asin': {'variant': 'B077N42PP3', 'original': 'B09MQ689XL'}, 'id': 'R1TWHYWDVGL3JY', 'review_data': 'Reviewed in the United States on May 12, 2023', 'rating': 1, 'title': '1.0 out of 5 starsWaste of Money-bad product falling apart', 'name': 'Keto'}, {'review': \"Everything comes with this garden bed! Gloves, screws and an ample amount of brackets. You can't go wrong, especially at this price!\", 'verified_purchase': True, 'date': {'unix': 1683856800, 'date': 'May 12, 2023'}, 'asin': {'variant': 'B078K4WFKL', 'original': 'B09MQ689XL'}, 'id': 'R1DR9HMNMYMX1R', 'review_data': 'Reviewed in the United States on May 12, 2023', 'rating': 5, 'title': '5.0 out of 5 starsVery nice and well built!', 'name': 'Gardner W. Wooten'}, {'review': 'This is the second one I’ve bought already. I installed the first one 2 years ago, and it has served me well for the fresh herbs I wanted to have in my back yard. Very convenient, and puts my mind at ease knowing that there’s no harsh chemical like there is with pressure treated wood', 'verified_purchase': True, 'date': {'unix': 1683770400, 'date': 'May 11, 2023'}, 'asin': {'variant': 'B078K4WFKL', 'original': 'B09MQ689XL'}, 'id': 'RGBQUWCIB7C86', 'review_data': 'Reviewed in the United States on May 11, 2023', 'rating': 5, 'title': '5.0 out of 5 starsDurable Garden Bed', 'name': 'Max Z'}, {'review': 'Turns out, this required more strength than I have to put it together. My brother in law finished it for me. I probably would buy another to match it since the quality is not bad and it looks very good. We will have to drill in the screws to make it that much more stable.', 'verified_purchase': True, 'date': {'unix': 1683684000, 'date': 'May 10, 2023'}, 'asin': {'variant': 'B078K4WFKL', 'original': 'B09MQ689XL'}, 'id': 'R1KT5H1D68RTXD', 'review_data': 'Reviewed in the United States on May 10, 2023', 'rating': 3, 'title': '3.0 out of 5 starsDisappointed in purchase', 'name': 'paw03'}, {'review': 'This was extremely easy to put together once I seen another person’s review video explaining that she uses a rubber mallet to hit down the metal brackets on the top instead of sliding it across the top and it Snapped together so quickly this probably took me no more than 5 to 10 minutes to do the whole thing', 'verified_purchase': True, 'date': {'unix': 1683684000, 'date': 'May 10, 2023'}, 'asin': {'variant': 'B07Q2TP1JV', 'original': 'B09MQ689XL'}, 'id': 'R35F3P08OGT8LC', 'review_data': 'Reviewed in the United States on May 10, 2023', 'rating': 5, 'title': '5.0 out of 5 starsUse rubber mallet instead of sliding pieces together', 'name': 'Lindvall'}], 'stars_stat': {'3': '6%', '4': '17%', '1': '4%', '5': '69%', '2': '3%'}}, {'total_reviews': 2379, 'result': [{'review': \"The instructions say to slide the metal bars across the top and bottom of the panel til they're right however that's nearly impossible to do. The video wouldn't load on Amazon but i found it on youtube and it was VERY helpful. WEAR THE GLOVES! these flimsy metal panels are SHARP and you WILL cut yourself. While you can assemble this solo, it's very stressful. Two people is way better but the metal is still very very thin. The screws don't fit in the holes for the bracket bars for stabilizing so you do have to force them in but they help a lot. Especially if you're making the long design\", 'verified_purchase': True, 'date': {'unix': 1683511200, 'date': 'May 8, 2023'}, 'asin': {'variant': 'B0BGKLJMG5', 'original': 'B09MQ689XL'}, 'id': 'R3ZFJNNUZ7YJQ', 'review_data': 'Reviewed in the United States 🇺🇸 on May 8, 2023', 'rating': 4, 'title': '4.0 out of 5 starsWatch the video!', 'name': 'Amazonian'}, {'review': 'Win win win. Took two of us to put together only because its awkward at first. It came with everything you need including weed block fabric for underneath and gloves too. It looks amazing and is a great height. Very excited for veggies! Lightweight but sturdy. Very impressed!', 'verified_purchase': True, 'date': {'unix': 1683511200, 'date': 'May 8, 2023'}, 'asin': {'variant': 'B09MQ689XL', 'original': 'B09MQ689XL'}, 'id': 'RIF8CG2QJC3M', 'review_data': 'Reviewed in the United States 🇺🇸 on May 8, 2023', 'rating': 5, 'title': '5.0 out of 5 starsEasy, Awesome AND Looks great', 'name': 'Debbie S.'}, {'review': 'Looks nice and pretty easy to assemble.', 'verified_purchase': True, 'date': {'unix': 1683424800, 'date': 'May 7, 2023'}, 'asin': {'variant': 'B09MQ6CRYR', 'original': 'B09MQ689XL'}, 'id': 'R2FNGV0BX5E1R5', 'review_data': 'Reviewed in the United States 🇺🇸 on May 7, 2023', 'rating': 5, 'title': '5.0 out of 5 stars👍', 'name': 'Mary Chambers'}, {'review': 'I love how it is designed and it goes together fairly easy. Watch the video they have with the photos of the product on how she puts it together. Make sure you wear the gloves they send in the box with it when putting it together.', 'verified_purchase': True, 'date': {'unix': 1683338400, 'date': 'May 6, 2023'}, 'asin': {'variant': 'B078K4WFKL', 'original': 'B09MQ689XL'}, 'id': 'R1GLRXEVV2DVLA', 'review_data': 'Reviewed in the United States 🇺🇸 on May 6, 2023', 'rating': 5, 'title': '5.0 out of 5 starsNice planter box', 'name': 'Matthew Stein'}, {'review': 'Instructions was terrible not clear at all!I will never buy one that clamps on again I have severalraise bed that was not hard to assemble .This company needs to improve their products', 'verified_purchase': True, 'date': {'unix': 1683252000, 'date': 'May 5, 2023'}, 'asin': {'variant': 'B0BGKHPLWL', 'original': 'B09MQ689XL'}, 'id': 'R1UKK3GH6DLTF7', 'review_data': 'Reviewed in the United States 🇺🇸 on May 5, 2023', 'rating': 2, 'title': '2.0 out of 5 starsTerrible instructions no direct detail.i would never encourage anyone to buy product 👎', 'name': 'Shirley brimage'}, {'review': \"easy to put together, attractive , and sturdy.Love the look of this and it is functional as well.I think it will hold up much better than the wood beds I've had before.\", 'verified_purchase': True, 'date': {'unix': 1683252000, 'date': 'May 5, 2023'}, 'asin': {'variant': 'B07Q2TP1JV', 'original': 'B09MQ689XL'}, 'id': 'R2K4KA2EP91Q2M', 'review_data': 'Reviewed in the United States 🇺🇸 on May 5, 2023', 'rating': 5, 'title': '5.0 out of 5 starsgreat raised bed!', 'name': 'Amazon Customer'}, {'review': 'Yes it met my expectation. It was very easy to put together.', 'verified_purchase': True, 'date': {'unix': 1682992800, 'date': 'May 2, 2023'}, 'asin': {'variant': 'B0BGKLJMG5', 'original': 'B09MQ689XL'}, 'id': 'R4CU4I38TYEPS', 'review_data': 'Reviewed in the United States 🇺🇸 on May 2, 2023', 'rating': 5, 'title': '5.0 out of 5 starsRise bed', 'name': 'Donna'}, {'review': 'Excellent.Will be ordering more.', 'verified_purchase': True, 'date': {'unix': 1682992800, 'date': 'May 2, 2023'}, 'asin': {'variant': 'B0BGKHPLWL', 'original': 'B09MQ689XL'}, 'id': 'R2FF9EVM7BK310', 'review_data': 'Reviewed in the United States 🇺🇸 on May 2, 2023', 'rating': 5, 'title': '5.0 out of 5 starsExcellent', 'name': 'Tim'}, {'review': 'This is the second one I bought.Looks nice and worked for my space.', 'verified_purchase': True, 'date': {'unix': 1682992800, 'date': 'May 2, 2023'}, 'asin': {'variant': 'B09MQ6M5GV', 'original': 'B09MQ689XL'}, 'id': 'R3OTNNMOCASKWZ', 'review_data': 'Reviewed in the United States 🇺🇸 on May 2, 2023', 'rating': 5, 'title': '5.0 out of 5 starsWorks well and easy to build', 'name': 'Laura G'}, {'review': 'Received this product just a few days after ordering.Assembly is not difficult, but watching online videos is helpful as the directions are not super clear.At first, it seems fairly flimsy, but I used the included metal screws to tighten up all the connections and metal seams.I laid on the bottom some chicken wire (not included) and covered it over with the weed protector cloth that was included.I put a layer of firewood on the bottom to cover the entire area (purchased at Home Depot), then covered the fire wood with several layers of branches (from the nearby woods).Finally, about 12 bags of soil filled it up, and in went the plants.The whole thing seems to be holding together well with no obvious bulging.', 'verified_purchase': True, 'date': {'unix': 1682647200, 'date': 'April 28, 2023'}, 'asin': {'variant': 'B09MQ6CRYR', 'original': 'B09MQ689XL'}, 'id': 'R36XCSO4W18NJR', 'review_data': 'Reviewed in the United States 🇺🇸 on April 28, 2023', 'rating': 5, 'title': '5.0 out of 5 starsSo far so good', 'name': 'Gdog'}], 'stars_stat': {'3': '6%', '4': '17%', '1': '4%', '5': '69%', '2': '3%'}}, {'total_reviews': 2379, 'result': [{'review': 'We have not used it yet, we assembled & that was pretty easy.', 'verified_purchase': True, 'date': {'unix': 1682647200, 'date': 'April 28, 2023'}, 'asin': {'variant': 'B079R764PP', 'original': 'B09MQ689XL'}, 'id': 'R3879SDCN1F2N0', 'review_data': 'Reviewed in the United States on April 28, 2023', 'rating': 5, 'title': '5.0 out of 5 starsDurability', 'name': 'Sharon Beebe'}, {'review': 'Easy to put together. I started off with six of these raised beds and bought four more. I even bought two for my 88 year old mom so she could have a nice raised garden', 'verified_purchase': True, 'date': {'unix': 1682647200, 'date': 'April 28, 2023'}, 'asin': {'variant': 'B078425H29', 'original': 'B09MQ689XL'}, 'id': 'R1UG12E4STI91C', 'review_data': 'Reviewed in the United States on April 28, 2023', 'rating': 5, 'title': '5.0 out of 5 starsI love the neatness of them put together', 'name': 'Kathi Lewis'}, {'review': 'Easy to put together. Also came with gloves barrier cloth, and identity tags. Bought a total of three. Perfect for a starter garden.', 'verified_purchase': True, 'date': {'unix': 1682474400, 'date': 'April 26, 2023'}, 'asin': {'variant': 'B07Q2TP1JV', 'original': 'B09MQ689XL'}, 'id': 'R2COL14SNQU814', 'review_data': 'Reviewed in the United States on April 26, 2023', 'rating': 5, 'title': '5.0 out of 5 starsUser friendly', 'name': 'Andi Morris'}, {'review': 'This is a lousy raised bed! It actually began to bow outward in the middle as I filled it with dirt! When I complained & asked for a retrofit fix,Amazon kept saying that I could \"return it\". That was the only option. But I had already destroyed the box & filled it with dirt. I had to drill holes through the middle and attach a chain from one side to the other in order to continue filling the last six inches without it falling completely apart!', 'verified_purchase': True, 'date': {'unix': 1682474400, 'date': 'April 26, 2023'}, 'asin': {'variant': 'B09MQ6M5GV', 'original': 'B09MQ689XL'}, 'id': 'R129RWCZMCWFZK', 'review_data': 'Reviewed in the United States on April 26, 2023', 'rating': 1, 'title': '1.0 out of 5 starsDo Not Buy This Item!', 'name': '2Gradys'}, {'review': \"Assembly directions are more complicated. Watch YouTube videos. Don't slide sheet iron in frame. Lay frame on sheet iron and peck on with a rubber mallet. A rubber mallet is your friend on this.\", 'verified_purchase': True, 'date': {'unix': 1682474400, 'date': 'April 26, 2023'}, 'asin': {'variant': 'B07Q2TP1JV', 'original': 'B09MQ689XL'}, 'id': 'R8V8ECGI0WYW2', 'review_data': 'Reviewed in the United States on April 26, 2023', 'rating': 5, 'title': '5.0 out of 5 starsEasy to put together after watching YouTube videos', 'name': 'Kris Halmes'}, {'review': 'Very quick to assemble and looks good.', 'verified_purchase': True, 'date': {'unix': 1682388000, 'date': 'April 25, 2023'}, 'asin': {'variant': 'B079R764PP', 'original': 'B09MQ689XL'}, 'id': 'REP135YGS7PNW', 'review_data': 'Reviewed in the United States on April 25, 2023', 'rating': 5, 'title': '5.0 out of 5 starsGreat Product!', 'name': 'Mimi K'}, {'review': 'Very sturdy good quality and easy to put together.I will purchase another one soon. Definitely recommend this product.', 'verified_purchase': True, 'date': {'unix': 1682388000, 'date': 'April 25, 2023'}, 'asin': {'variant': 'B077N42PP3', 'original': 'B09MQ689XL'}, 'id': 'RAXEUGKQS1OYI', 'review_data': 'Reviewed in the United States on April 25, 2023', 'rating': 5, 'title': '5.0 out of 5 starsGood quality', 'name': 'Elizabeth Watson'}, {'review': 'These are great for our lawn.We put together one large rectangle and 2 smaller squares.Plants love them too!', 'verified_purchase': True, 'date': {'unix': 1682301600, 'date': 'April 24, 2023'}, 'asin': {'variant': 'B0BGKJT4X8', 'original': 'B09MQ689XL'}, 'id': 'REVR10JU6D6H1', 'review_data': 'Reviewed in the United States on April 24, 2023', 'rating': 5, 'title': '5.0 out of 5 starsPerfect for gardens', 'name': 'Bulverde'}, {'review': 'This thing is a cheap piece of junk.Easy to put together but it is so thin it bends. Metal pieces to secure the sides do not fit in the grooves that are there to lock them in tight.This goes with the corner pieces.The pieces are not flush. When i put soil inside the sides and corners separate.So dont waste your money on this thin and poorly piece of junk.Garbage!!!', 'verified_purchase': True, 'date': {'unix': 1682215200, 'date': 'April 23, 2023'}, 'asin': {'variant': 'B07Q2TP1JV', 'original': 'B09MQ689XL'}, 'id': 'R7W9M95CBN7RC', 'review_data': 'Reviewed in the United States on April 23, 2023', 'rating': 1, 'title': '1.0 out of 5 starsPiece of garbage', 'name': 'Debra erickson'}, {'review': 'The media could not be loaded.\\xa0First I chose this style because of the rails at the top and bottom.It will be nice to have the top rails there while working in the garden. Little safer than leaning over the metal edge.Directions were easy to follow. It helped to have 2 people. We were working on a garden tool chest instead of the ground. I held the panel steady with a short side against my thigh while my husband slid the rail onto the panel.Also, see the video for how he interlocked the panel ends before attaching the connectors. Highly recommend using a rubber mallet to put the side and corner connectors on and definitely wear the gloves that are provided.The first one took us about 25 minutes and the second just under 15. 👍🏼', 'verified_purchase': True, 'date': {'unix': 1682215200, 'date': 'April 23, 2023'}, 'asin': {'variant': 'B078K4WFKL', 'original': 'B09MQ689XL'}, 'id': 'R1IU4KN98VG189', 'review_data': 'Reviewed in the United States on April 23, 2023', 'rating': 5, 'title': '5.0 out of 5 starsNice and sturdy and some tips for assembly.', 'name': 'ttbtld'}], 'stars_stat': {'3': '6%', '4': '17%', '1': '4%', '5': '69%', '2': '3%'}}, {'total_reviews': 2379, 'result': [{'review': \"So far so good. I've only utilized one and it's holding up so far. Was easy to assemble and sturdy.The weed preventer howeverdoes no such thing. Unfortunately had to move it after putting it together and was slightlydifficult to move even though empty.once the soil goes in..so far so good!!!\", 'verified_purchase': True, 'date': {'unix': 1682128800, 'date': 'April 22, 2023'}, 'asin': {'variant': 'B09MQ6M5GV', 'original': 'B09MQ689XL'}, 'id': 'R1P3QKZTGHXAW7', 'review_data': 'Reviewed in the United States 🇺🇸 on April 22, 2023', 'rating': 5, 'title': '5.0 out of 5 starsSturdiness', 'name': 'jan gissendanner'}, {'review': 'Put it together yesterday, I had to use a hammer to fit all the pieces together. You will cut yourself the edges are as sharp as razors. Other reviews mentioned using the gloves to prevent cuts. I was under the impression they where gardening gloves.', 'verified_purchase': True, 'date': {'unix': 1681869600, 'date': 'April 19, 2023'}, 'asin': {'variant': 'B078425H29', 'original': 'B09MQ689XL'}, 'id': 'R1X8136LPUOSG5', 'review_data': 'Reviewed in the United States 🇺🇸 on April 19, 2023', 'rating': 4, 'title': '4.0 out of 5 starsDoes whet it is supposed to do. Grab a hammer you will bleed', 'name': 'ryan'}, {'review': 'Assembly is tricky and instructions unhelpful.Small trough at bottom accumulates water and soil.', 'verified_purchase': True, 'date': {'unix': 1681524000, 'date': 'April 15, 2023'}, 'asin': {'variant': 'B079R764PP', 'original': 'B09MQ689XL'}, 'id': 'R1JG2JQTWGXG4D', 'review_data': 'Reviewed in the United States 🇺🇸 on April 15, 2023', 'rating': 2, 'title': '2.0 out of 5 starsDifficult to assemble', 'name': 'Fussy'}, {'review': 'Great quality and easily assembled.', 'verified_purchase': True, 'date': {'unix': 1681524000, 'date': 'April 15, 2023'}, 'asin': {'variant': 'B09MQ689XL', 'original': 'B09MQ689XL'}, 'id': 'RJ0RHFOQMHV3P', 'review_data': 'Reviewed in the United States 🇺🇸 on April 15, 2023', 'rating': 5, 'title': '5.0 out of 5 starsPerfect raised beds', 'name': 'AlexD'}, {'review': 'very nice product', 'verified_purchase': True, 'date': {'unix': 1681351200, 'date': 'April 13, 2023'}, 'asin': {'variant': 'B079R764PP', 'original': 'B09MQ689XL'}, 'id': 'R37O0MDRJAO7S2', 'review_data': 'Reviewed in the United States 🇺🇸 on April 13, 2023', 'rating': 4, 'title': '4.0 out of 5 starsnice product', 'name': 'AMAZED'}, {'review': 'Easy to assemble.', 'verified_purchase': True, 'date': {'unix': 1681351200, 'date': 'April 13, 2023'}, 'asin': {'variant': 'B078425H29', 'original': 'B09MQ689XL'}, 'id': 'R2X0C8I6AJY8UD', 'review_data': 'Reviewed in the United States 🇺🇸 on April 13, 2023', 'rating': 5, 'title': '5.0 out of 5 starsLove this', 'name': 'AMBER'}, {'review': 'Setup very easy', 'verified_purchase': True, 'date': {'unix': 1681264800, 'date': 'April 12, 2023'}, 'asin': {'variant': 'B078425H29', 'original': 'B09MQ689XL'}, 'id': 'RMWHQ027IH4J9', 'review_data': 'Reviewed in the United States 🇺🇸 on April 12, 2023', 'rating': 5, 'title': '5.0 out of 5 starsSetup very easy', 'name': 'michael l coleman'}, {'review': 'I am a senior citizen!!! I assembled this without any problem. Yes, you need to wear the provided gloves! And yes, it took a little manipulation to get the side panels in the rails, but I did it! I love this raised bed! I have had a raised bed garden for years and have used railroad ties, landscape retaining wall blocks, and lumber.I just can’t control the weeds! So I am trying this system and hopefully the weeds won’t overtake my plants! I ordered another one yesterday! Don’t hesitate! My husband is a commercial builder and said the metal on this is very good!!I bought the 12” tall beds, but wouldlike some of the next height for veggies with deeper roots.I researched several different types of these and settled on this brand! Glad I did!', 'verified_purchase': True, 'date': {'unix': 1681264800, 'date': 'April 12, 2023'}, 'asin': {'variant': 'B078425H29', 'original': 'B09MQ689XL'}, 'id': 'RYFOALYMOGCU5', 'review_data': 'Reviewed in the United States 🇺🇸 on April 12, 2023', 'rating': 5, 'title': '5.0 out of 5 starsDon’t hesitate!', 'name': 'sandra causey'}, {'review': 'I really like this product. It was my first raised bed. I am very satisfied with it. It has multiple lay out options, which makes it easy to fit where you need it. A little challenging to put together. Watch the video on utube.', 'verified_purchase': True, 'date': {'unix': 1681264800, 'date': 'April 12, 2023'}, 'asin': {'variant': 'B077N42PP3', 'original': 'B09MQ689XL'}, 'id': 'R28WKS4DSX2Y86', 'review_data': 'Reviewed in the United States 🇺🇸 on April 12, 2023', 'rating': 5, 'title': '5.0 out of 5 starsSturdy', 'name': 'DJny15'}, {'review': \"Pretty flimsy for the cost. Had to make this into two different boxes instead of the 1 that I preferred. I would have returned it but didn’t start to put it up until after the return window had closed. I’m sure that I will have to replace these in a few years.I'm editing this post to say I couldn't even put soil in these without them literally falling apart.Don't buy this product.\", 'verified_purchase': True, 'date': {'unix': 1681178400, 'date': 'April 11, 2023'}, 'asin': {'variant': 'B0BGKLQCFL', 'original': 'B09MQ689XL'}, 'id': 'R5L88JH6ZUVGR', 'review_data': 'Reviewed in the United States 🇺🇸 on April 11, 2023', 'rating': 1, 'title': '1.0 out of 5 starsDurability', 'name': 'A. Robinson'}], 'stars_stat': {'3': '6%', '4': '17%', '1': '4%', '5': '69%', '2': '3%'}}, {'total_reviews': 2379, 'result': [{'review': 'Tried to build this today. Almost impossible to get the edges onto the very flimsy sides! The instructions say “make sure the edges are perfectly in the middle” but they give no indication of what “perfectly” is. My hands are cramping up just from doing 3 panels and there are 5 more to go!! They give you some pretty useless gloves to protect your hands but I had to switch to some gloves with grip. They advertise “no tools needed!” but send you a bunch of screws that are “recommended for stability” that need an electric drill. All told a pretty shoddy product with too many parts. I’m going back to my good old wooden garden beds. Bye Kingbird! Not nice knowing you…', 'verified_purchase': True, 'date': {'unix': 1681178400, 'date': 'April 11, 2023'}, 'asin': {'variant': 'B077N42PP3', 'original': 'B09MQ689XL'}, 'id': 'R2TINYZ9HU3XMA', 'review_data': 'Reviewed in the United States 🇺🇸 on April 11, 2023', 'rating': 1, 'title': '1.0 out of 5 starsAbsolutely useless; impossible to assemble', 'name': 'N. Verity'}, {'review': \"I bought 3 of the 68x36x12. The last 2 I used a paper towel and coated top and bottom rails with a very thin layer of cooking oil. It made sliding parts together 100% percent easier and saved a lot of time.Beds are real nice looking. Haven't actually filled them with dirt yet, but they seem like they will be sturdy enough.\", 'verified_purchase': True, 'date': {'unix': 1680919200, 'date': 'April 8, 2023'}, 'asin': {'variant': 'B079R764PP', 'original': 'B09MQ689XL'}, 'id': 'R13RZX3JS9UR7N', 'review_data': 'Reviewed in the United States 🇺🇸 on April 8, 2023', 'rating': 5, 'title': '5.0 out of 5 starsMake assembly easy on yourself', 'name': 'mark watson'}, {'review': 'Cheap alternative to the usual wooden raised flower bed. Unlike wood this won’t rot after a few years.', 'verified_purchase': True, 'date': {'unix': 1680746400, 'date': 'April 6, 2023'}, 'asin': {'variant': 'B077N42PP3', 'original': 'B09MQ689XL'}, 'id': 'R2JU1HSPNB41S2', 'review_data': 'Reviewed in the United States 🇺🇸 on April 6, 2023', 'rating': 5, 'title': '5.0 out of 5 starsGood value for the money', 'name': 'Zachary'}, {'review': 'Assembly was rather simple, joining 2 pieces together took some figuring out but was easy once we knew how to weave them together.Product seems good, but price is quite abit over what walmart has it listed at. Ended up ordering 2 more over there to save some money. I did contact seller first to try and get price down, but they raises the price and gave a 5% coupon which made no difference. Walmart was 20% less. Idential product, grey version 101x36x12', 'verified_purchase': True, 'date': {'unix': 1680660000, 'date': 'April 5, 2023'}, 'asin': {'variant': 'B078K4WFKL', 'original': 'B09MQ689XL'}, 'id': 'R2UBUYSMTY27Y8', 'review_data': 'Reviewed in the United States 🇺🇸 on April 5, 2023', 'rating': 4, 'title': '4.0 out of 5 starsSeems nice', 'name': 'John'}, {'review': 'Good thing a lady on you tube showed a better way to assemble it than the poor instructions showed. Why include screws when it has no screw holes?', 'verified_purchase': True, 'date': {'unix': 1680487200, 'date': 'April 3, 2023'}, 'asin': {'variant': 'B079R764PP', 'original': 'B09MQ689XL'}, 'id': 'R15AT4EN5T1JXK', 'review_data': 'Reviewed in the United States 🇺🇸 on April 3, 2023', 'rating': 1, 'title': '1.0 out of 5 starsDifficult to assemble', 'name': 'Amazon Customer'}, {'review': \"Despite all the reviews saying this was easy to assemble, it was not. The directions were horrible. Three of the panels (black) have visible scratches on them. Every single panel says 'made in China' that is clearly seen after the product is put together. Bad purchase. Mad at myself for not going to Home Depot or Lowe's\", 'verified_purchase': True, 'date': {'unix': 1680055200, 'date': 'March 29, 2023'}, 'asin': {'variant': 'B079R764PP', 'original': 'B09MQ689XL'}, 'id': 'R1ZZPH9MEX3DUB', 'review_data': 'Reviewed in the United States 🇺🇸 on March 29, 2023', 'rating': 1, 'title': \"1.0 out of 5 starsDon't buy\", 'name': 'Jill'}, {'review': \"Not sure what all the fuss was about it being hard to put together. They give you two options in the video. I opted for the snap in option with a rubber mallet and had the whole thing put together by myself in 15 mins. My husband was actually impressed and I did it without having to come ask him for any assistance. Like others said, and it was in the video, leave the 10 mm ends and you won't have any issues. Once together it was strudier than I anticipated but I wouldn't go moving it all over the yard once it's completed. I would buy again.\", 'verified_purchase': True, 'date': {'unix': 1680055200, 'date': 'March 29, 2023'}, 'asin': {'variant': 'B07Q2TP1JV', 'original': 'B09MQ689XL'}, 'id': 'RTTFML3C08KUO', 'review_data': 'Reviewed in the United States 🇺🇸 on March 29, 2023', 'rating': 5, 'title': '5.0 out of 5 starsBetter Than Expected', 'name': 'BThom'}, {'review': 'Got these today and my husband began to assemble them indoors as it’s raining. Normally I would be putting them together. It’s a good thing because after he was done, he mentioned the instructions does not say where to put the screws. I looked around and did not see any screw holes. He said they were “self tapping” screws for sheet metal… So you don’t need holes….You just start drilling. He put them on the corner braces and the side braces as shown in the photographs.So there you go DIY ladies … you learn something new every day!', 'verified_purchase': True, 'date': {'unix': 1679796000, 'date': 'March 26, 2023'}, 'asin': {'variant': 'B078425H29', 'original': 'B09MQ689XL'}, 'id': 'R2GTWML9GOWCE6', 'review_data': 'Reviewed in the United States 🇺🇸 on March 26, 2023', 'rating': 5, 'title': '5.0 out of 5 starsAwesome….BUT you must read this!', 'name': 'Teri T.'}, {'review': 'See pic - still working on it - getting dirt, etc.The product is well designed and comes w everything you need to put it together.Great product!', 'verified_purchase': True, 'date': {'unix': 1679796000, 'date': 'March 26, 2023'}, 'asin': {'variant': 'B077N42PP3', 'original': 'B09MQ689XL'}, 'id': 'R2C3ZYY0Q5YCG5', 'review_data': 'Reviewed in the United States 🇺🇸 on March 26, 2023', 'rating': 5, 'title': '5.0 out of 5 starsWell Designed Product', 'name': 'Daniel E. Shannon'}, {'review': \"I love the look of this raised garden bed compared to others. It is a nice color, very sturdy & contemporary. They even included safety gloves because the edges are wicked sharp prior to assembly.Unfortunately, I was unable to put it together. I don't typically have trouble with assembling things, even IKEA furniture!This was either improperly made, contained wrong parts or simply impossible for 1 person.I rarely give up on these things, but I scheduled a return & recieved a refund as soon as I dropped it off at Whole Foods. The return location was oddly far from my house but the return request went smoothly.I would recommend better instructions & partial assembly prior to shipping.\", 'verified_purchase': True, 'date': {'unix': 1679709600, 'date': 'March 25, 2023'}, 'asin': {'variant': 'B0BGKLQCFL', 'original': 'B09MQ689XL'}, 'id': 'R2Y76GV01NPZV3', 'review_data': 'Reviewed in the United States 🇺🇸 on March 25, 2023', 'rating': 2, 'title': '2.0 out of 5 starsImpossible To Assemble', 'name': 'Richard P'}], 'stars_stat': {'3': '6%', '4': '17%', '1': '4%', '5': '69%', '2': '3%'}}, {'total_reviews': 2379, 'result': [{'review': \"It's shipped very quick and heavy duty quality. I love gardening and always want sturdy raised beds in my garden. After my husband assembled it and placed it in my garden, I was very excited by It's beauty and sturdy. It can be assembled in different shape to fit the area.I am very happy to find this quality and size to make my vegetable garden not only productive but beautiful. It takes a lot of soil to fill it up but that gave me a chance to bury 8 inches branches, leaves, cardboard and food scraps underneath . Then I add soil for my plants. The braches will slowly release nutrients year after year. I love the products and the depth of it. It is much better than my home built wooden raised beds because I know it will last.\", 'verified_purchase': True, 'date': {'unix': 1679623200, 'date': 'March 24, 2023'}, 'asin': {'variant': 'B0BGKHPLWL', 'original': 'B09MQ689XL'}, 'id': 'R16AYXMU7GCEEB', 'review_data': 'Reviewed in the United States 🇺🇸 on March 24, 2023', 'rating': 5, 'title': '5.0 out of 5 starsThe most beautiful and sturdy raised bed I bought', 'name': 'Nina Huo'}, {'review': 'This garden is great! I put it together myself it took about 40min! 2 people would be much better! Over all it was easy to put together and it aligned perfectly. Having a power drill to reinforce it was perfect.To fill the raised garden bed I used 26bags of Miracle-Gro 1.5 cu. ft. All Purpose Garden Soil. It filled it to the top.Time to plant!🍅🌽 🌶🧅Happy gardening everyone 💓!!', 'verified_purchase': True, 'date': {'unix': 1679536800, 'date': 'March 23, 2023'}, 'asin': {'variant': 'B0BGKHPLWL', 'original': 'B09MQ689XL'}, 'id': 'R14D58UZZQT10T', 'review_data': 'Reviewed in the United States 🇺🇸 on March 23, 2023', 'rating': 5, 'title': \"5.0 out of 5 starsIt's much easier with 2 people!Or 4 arms. Lol\", 'name': 'Sandy Depuy'}, {'review': 'The media could not be loaded.', 'verified_purchase': True, 'date': {'unix': 1679536800, 'date': 'March 23, 2023'}, 'asin': {'variant': 'B09MQ689XL', 'original': 'B09MQ689XL'}, 'id': 'R2ABTGC87FW8AG', 'review_data': 'Reviewed in the United States 🇺🇸 on March 23, 2023', 'rating': 4, 'title': '4.0 out of 5 starsIt bows out on the sides needs center support', 'name': 'Nanette'}, {'review': \"I bought 2. The first one took me almost an hour because I was following the instructions given and I was ready to set the whole thing ablaze. That's fine if you can perfectly center everything by eyeballing it. Instead I connected the two long rods (top and bottom) with the small connecting piece and THEN slid the wall panels into place. I put the second one together in about 10 minutes. ALSO, please wear gloves. I took mine off for better grip ONE TIME and sliced my palm wide open. Overall, they're great for my expanding garden so far.\", 'verified_purchase': True, 'date': {'unix': 1679450400, 'date': 'March 22, 2023'}, 'asin': {'variant': 'B079R764PP', 'original': 'B09MQ689XL'}, 'id': 'R3VG03207HVJ5H', 'review_data': 'Reviewed in the United States 🇺🇸 on March 22, 2023', 'rating': 5, 'title': \"5.0 out of 5 starsDon't follow instructions\", 'name': 'Ashlee Leggett'}, {'review': \"This item does what I need it to do, but was def not the easiest to put together at first. The gloves were nice to protecting my hands but I also cut my bare foot while moving one of the pieces so if you're a klutz like me, wear socks lol. Assembly was fairly simple (I didn't use the screws) but the hardest part was getting the bar centered on the panel. I would push and then have to pull back and would go too far and then have to readjust. I finally took the not pushing hand's glove off and was able to grip the panel better, which made it slightly easier. Overall a good price and works for what I need.\", 'verified_purchase': True, 'date': {'unix': 1679364000, 'date': 'March 21, 2023'}, 'asin': {'variant': 'B078425H29', 'original': 'B09MQ689XL'}, 'id': 'R1GHJDBD9JL2ZT', 'review_data': 'Reviewed in the United States 🇺🇸 on March 21, 2023', 'rating': 4, 'title': '4.0 out of 5 starsFunctional but finicky to put together', 'name': 'The Doctor'}, {'review': '👍', 'verified_purchase': True, 'date': {'unix': 1679277600, 'date': 'March 20, 2023'}, 'asin': {'variant': 'B078K4WFKL', 'original': 'B09MQ689XL'}, 'id': 'R3P5UQG7G67IG3', 'review_data': 'Reviewed in the United States 🇺🇸 on March 20, 2023', 'rating': 5, 'title': '5.0 out of 5 stars👍', 'name': 'Ngoc Phuoc'}, {'review': 'there isnt anything to dislike about this, this is great, I can put a plastic liner for water plants or the net that was sent and put veggys in it.', 'verified_purchase': True, 'date': {'unix': 1679191200, 'date': 'March 19, 2023'}, 'asin': {'variant': 'B078425H29', 'original': 'B09MQ689XL'}, 'id': 'R2PNNZ0R5MNT95', 'review_data': 'Reviewed in the United States 🇺🇸 on March 19, 2023', 'rating': 5, 'title': '5.0 out of 5 starsarrived fast', 'name': 'Shadow'}, {'review': 'Fell apart halfway through filling with organic matter/compost. The provided screws are not optional despite what the instructions say. Must be used to keep together, but no pre fab screw holes.', 'verified_purchase': True, 'date': {'unix': 1679104800, 'date': 'March 18, 2023'}, 'asin': {'variant': 'B09MQ64GBF', 'original': 'B09MQ689XL'}, 'id': 'R3E0DMPO0PN85S', 'review_data': 'Reviewed in the United States 🇺🇸 on March 18, 2023', 'rating': 1, 'title': '1.0 out of 5 starsWill fall apart at seems.', 'name': 'Ryan Myers'}, {'review': 'These are great, just ordered my 2nd one and plan to order a couple more. They’re light and sturdy enough for my garden.The instructions want you to slide the sides into the top and bottom rails but that’s practically impossible. I watched a Yourube video that suggested lining the sides up and then using a mallet to gently tap the sides into place and that worked SO much better.Also, definitely wear the gloves they come with or you WILL cut yourself!', 'verified_purchase': True, 'date': {'unix': 1678932000, 'date': 'March 16, 2023'}, 'asin': {'variant': 'B079R764PP', 'original': 'B09MQ689XL'}, 'id': 'R1MGJFJRQPRADT', 'review_data': 'Reviewed in the United States 🇺🇸 on March 16, 2023', 'rating': 5, 'title': '5.0 out of 5 starsEasy to assemble - if you do it right', 'name': 'Patient Zero'}, {'review': 'Very hard to put together.Ended up scratching and bending pieces trying to get together.Very disappointing.', 'verified_purchase': True, 'date': {'unix': 1678759200, 'date': 'March 14, 2023'}, 'asin': {'variant': 'B078K4WFKL', 'original': 'B09MQ689XL'}, 'id': 'RIPSE9Y8OSO57', 'review_data': 'Reviewed in the United States 🇺🇸 on March 14, 2023', 'rating': 3, 'title': '3.0 out of 5 starsNot as expected', 'name': 'teresa'}], 'stars_stat': {'3': '6%', '4': '17%', '1': '4%', '5': '69%', '2': '3%'}}]\n"
     ]
    }
   ],
   "source": [
    "import firebase_admin\n",
    "from firebase_admin import credentials\n",
    "from firebase_admin import firestore\n",
    "\n",
    "# Firestore details\n",
    "cred_path = '/Users/vladbordei/Documents/Development/ProductExplorer/notebooks/productexplorerdata-firebase-adminsdk-ulb3d-465f23dff3.json'\n",
    "\n",
    "# Initialize Firestore\n",
    "cred = credentials.Certificate(cred_path)\n",
    "if not firebase_admin._apps:\n",
    "    firebase_admin.initialize_app(cred)\n",
    "db = firestore.client()\n",
    "\n",
    "# ASIN\n",
    "asin = 'B09MQ689XL'  # Replace with the ASIN you are interested in\n",
    "\n",
    "# Get the document with the provided ASIN\n",
    "doc_ref = db.collection('products').document(asin)\n",
    "\n",
    "# Get the document data\n",
    "doc = doc_ref.get()\n",
    "\n",
    "# Check if document exists\n",
    "if doc.exists:\n",
    "    # Get reviews\n",
    "    reviews = doc.to_dict().get('reviews', {})\n",
    "    print(reviews)\n",
    "else:\n",
    "    print(f\"No such document for ASIN: {asin}\")\n"
   ]
  },
  {
   "cell_type": "markdown",
   "metadata": {},
   "source": [
    "# Product Data\n"
   ]
  },
  {
   "cell_type": "code",
   "execution_count": 27,
   "metadata": {},
   "outputs": [
    {
     "name": "stdout",
     "output_type": "stream",
     "text": [
      "{'result': [{'asin': 'B09MQ689XL', 'other_sellers': [{'seller': ' Overwhelming ', 'position': 1, 'url': 'https://www.amazon.comundefined', 'price': {'current_price': None, 'symbol': '$', 'currency': 'USD'}}], 'delivery_message': '', 'sponsored_products': [], 'bestsellers_rank': [], 'categories': [{'url': 'https://www.amazon.com/Patio-Lawn-Garden/b/ref=dp_bc_aui_C_1/140-9313597-5423960?ie=UTF8&node=2972638011', 'category': 'Patio, Lawn & Garden'}, {'url': 'https://www.amazon.com/Plants-Seeds-Flowers-Outdoor-Living/b/ref=dp_bc_aui_C_2/140-9313597-5423960?ie=UTF8&node=3610851', 'category': 'Gardening & Lawn Care'}, {'url': 'https://www.amazon.com/b/ref=dp_bc_aui_C_3/140-9313597-5423960?ie=UTF8&node=3480694011', 'category': 'Pots, Planters & Container Accessories'}, {'url': 'https://www.amazon.com/Planter-Raised-Beds/b/ref=dp_bc_aui_C_4/140-9313597-5423960?ie=UTF8&node=14623212011', 'category': 'Raised Beds'}], 'url': 'https://www.amazon.com/dp/B09MQ689XL', 'price': {'before_price': 169.99169, 'discounted': True, 'symbol': '$', 'currency': 'USD', 'current_price': 139.99, 'savings_amount': 30, 'savings_percent': 17.65}, 'item_available': True, 'images': ['https://m.media-amazon.com/images/I/51GouC5RB4L._AC_SY879_.jpg', 'https://m.media-amazon.com/images/I/51Lx1IB0jCL._AC_SY879_.jpg', 'https://m.media-amazon.com/images/I/51HXLak472L._AC_SY879_.jpg', 'https://m.media-amazon.com/images/I/51ZxSjbAa8L._AC_SY879_.jpg', 'https://m.media-amazon.com/images/I/51RwzkTZcNL._AC_SY879_.jpg', 'https://m.media-amazon.com/images/I/51GOBymnU2L._AC_SY879_.jpg', 'https://m.media-amazon.com/images/I/413eo0IjJbL.SS125_PKplay-button-mb-image-grid-small_.jpg._AC_SY879_.jpg'], 'description': '', 'total_images': 7, 'total_videos': 0, 'reviews': {'rating': '4.4', 'total_reviews': 2379, 'answered_questions': 0}, 'product_information': {'available_from_utc': '', 'available_for_months': 0, 'available_from': '', 'brand': 'Visit the KING BIRD Store', 'qty_per_order': 30, 'department': '', 'dimensions': '', 'manufacturer': '', 'model_number': '', 'available_for_days': 0, 'store_id': '', 'weight': ''}, 'also_bought': [], 'main_image': 'https://m.media-amazon.com/images/I/51GouC5RB4L._AC_SY879_.jpg', 'videos': [], 'variants': [], 'feature_bullets': [' 【2FT DEPTH & Larger Capacity】KING BIRD raised garden box with a depth of 24 inches holds up to 269 gallons of soil. Provide enough growth space for deep-rooted plants like potatoes,tomatoes, broccoli, etc. Tall enough to keep pets away from the garden planter and give you easy access!', ' 【2 YEARS WARRANTY】Upgraded multilayer galvanized paint efficiently prevents rust and maintain beauty; galvanized steel planter box provides a lasting use and no discoloration. No painting inside, no worries about the damage to plants. 2 YEARS WARRANTY for the whole planter raised beds.', ' 【Extra-thick 2-Ply Reinforcement】 Double card frames on the two sides of sheet make the raised garden kits more durable and stable; never worry about it being distorted or collapsed and it presents much more beautiful design.', ' 【Vertical Stripe Updated Design】We combine the vertical stripe and the card holder design to improve the ability of galvanized raised garden beds in bearing the soil and make the garden bed more textured and beautiful. This can prolong the service time of the raised bed.', ' 【1 Weed Barrier & 8 pcs T-type Tags & 2 Gloves as Gift】Weed barrier will keep weeds away effectively. Gloves give you more convenience in installing outdoor garden boxes and comfort when working in the garden. T-type Tags help you to record the growth process of flower and vegetable.'], 'badges': {'best_seller': False, 'amazon_prime': True, 'amazon_сhoice': False}, 'title': 'KING BIRD 68\"x36\"x24\" Galvanized Raised Garden Bed Outdoor Heightened Steel Metal Planter Box for Deep-Rooted Vegetables, Flowers, Large Raised Bed Kit(Dark Grey)'}]}\n"
     ]
    }
   ],
   "source": [
    "import firebase_admin\n",
    "from firebase_admin import credentials\n",
    "from firebase_admin import firestore\n",
    "\n",
    "# Firestore details\n",
    "cred_path = '/Users/vladbordei/Documents/Development/ProductExplorer/notebooks/productexplorerdata-firebase-adminsdk-ulb3d-465f23dff3.json'\n",
    "\n",
    "# Initialize Firestore\n",
    "cred = credentials.Certificate(cred_path)\n",
    "if not firebase_admin._apps:\n",
    "    firebase_admin.initialize_app(cred)\n",
    "db = firestore.client()\n",
    "\n",
    "# ASIN\n",
    "asin = 'B09MQ689XL'  # Replace with the ASIN you are interested in\n",
    "\n",
    "# Get the document with the provided ASIN\n",
    "doc_ref = db.collection('products').document(asin)\n",
    "\n",
    "# Get the document data\n",
    "doc = doc_ref.get()\n",
    "\n",
    "# Check if document exists\n",
    "if doc.exists:\n",
    "    # Get reviews\n",
    "    product_details = doc.to_dict().get('details', {})\n",
    "    print(product_details)\n",
    "else:\n",
    "    print(f\"No such document for ASIN: {asin}\")\n"
   ]
  },
  {
   "cell_type": "code",
   "execution_count": 28,
   "metadata": {},
   "outputs": [
    {
     "data": {
      "text/plain": [
       "{'result': [{'asin': 'B09MQ689XL',\n",
       "   'other_sellers': [{'seller': ' Overwhelming ',\n",
       "     'position': 1,\n",
       "     'url': 'https://www.amazon.comundefined',\n",
       "     'price': {'current_price': None, 'symbol': '$', 'currency': 'USD'}}],\n",
       "   'delivery_message': '',\n",
       "   'sponsored_products': [],\n",
       "   'bestsellers_rank': [],\n",
       "   'categories': [{'url': 'https://www.amazon.com/Patio-Lawn-Garden/b/ref=dp_bc_aui_C_1/140-9313597-5423960?ie=UTF8&node=2972638011',\n",
       "     'category': 'Patio, Lawn & Garden'},\n",
       "    {'url': 'https://www.amazon.com/Plants-Seeds-Flowers-Outdoor-Living/b/ref=dp_bc_aui_C_2/140-9313597-5423960?ie=UTF8&node=3610851',\n",
       "     'category': 'Gardening & Lawn Care'},\n",
       "    {'url': 'https://www.amazon.com/b/ref=dp_bc_aui_C_3/140-9313597-5423960?ie=UTF8&node=3480694011',\n",
       "     'category': 'Pots, Planters & Container Accessories'},\n",
       "    {'url': 'https://www.amazon.com/Planter-Raised-Beds/b/ref=dp_bc_aui_C_4/140-9313597-5423960?ie=UTF8&node=14623212011',\n",
       "     'category': 'Raised Beds'}],\n",
       "   'url': 'https://www.amazon.com/dp/B09MQ689XL',\n",
       "   'price': {'before_price': 169.99169,\n",
       "    'discounted': True,\n",
       "    'symbol': '$',\n",
       "    'currency': 'USD',\n",
       "    'current_price': 139.99,\n",
       "    'savings_amount': 30,\n",
       "    'savings_percent': 17.65},\n",
       "   'item_available': True,\n",
       "   'images': ['https://m.media-amazon.com/images/I/51GouC5RB4L._AC_SY879_.jpg',\n",
       "    'https://m.media-amazon.com/images/I/51Lx1IB0jCL._AC_SY879_.jpg',\n",
       "    'https://m.media-amazon.com/images/I/51HXLak472L._AC_SY879_.jpg',\n",
       "    'https://m.media-amazon.com/images/I/51ZxSjbAa8L._AC_SY879_.jpg',\n",
       "    'https://m.media-amazon.com/images/I/51RwzkTZcNL._AC_SY879_.jpg',\n",
       "    'https://m.media-amazon.com/images/I/51GOBymnU2L._AC_SY879_.jpg',\n",
       "    'https://m.media-amazon.com/images/I/413eo0IjJbL.SS125_PKplay-button-mb-image-grid-small_.jpg._AC_SY879_.jpg'],\n",
       "   'description': '',\n",
       "   'total_images': 7,\n",
       "   'total_videos': 0,\n",
       "   'reviews': {'rating': '4.4',\n",
       "    'total_reviews': 2379,\n",
       "    'answered_questions': 0},\n",
       "   'product_information': {'available_from_utc': '',\n",
       "    'available_for_months': 0,\n",
       "    'available_from': '',\n",
       "    'brand': 'Visit the KING BIRD Store',\n",
       "    'qty_per_order': 30,\n",
       "    'department': '',\n",
       "    'dimensions': '',\n",
       "    'manufacturer': '',\n",
       "    'model_number': '',\n",
       "    'available_for_days': 0,\n",
       "    'store_id': '',\n",
       "    'weight': ''},\n",
       "   'also_bought': [],\n",
       "   'main_image': 'https://m.media-amazon.com/images/I/51GouC5RB4L._AC_SY879_.jpg',\n",
       "   'videos': [],\n",
       "   'variants': [],\n",
       "   'feature_bullets': [' 【2FT DEPTH & Larger Capacity】KING BIRD raised garden box with a depth of 24 inches holds up to 269 gallons of soil. Provide enough growth space for deep-rooted plants like potatoes,tomatoes, broccoli, etc. Tall enough to keep pets away from the garden planter and give you easy access!',\n",
       "    ' 【2 YEARS WARRANTY】Upgraded multilayer galvanized paint efficiently prevents rust and maintain beauty; galvanized steel planter box provides a lasting use and no discoloration. No painting inside, no worries about the damage to plants. 2 YEARS WARRANTY for the whole planter raised beds.',\n",
       "    ' 【Extra-thick 2-Ply Reinforcement】 Double card frames on the two sides of sheet make the raised garden kits more durable and stable; never worry about it being distorted or collapsed and it presents much more beautiful design.',\n",
       "    ' 【Vertical Stripe Updated Design】We combine the vertical stripe and the card holder design to improve the ability of galvanized raised garden beds in bearing the soil and make the garden bed more textured and beautiful. This can prolong the service time of the raised bed.',\n",
       "    ' 【1 Weed Barrier & 8 pcs T-type Tags & 2 Gloves as Gift】Weed barrier will keep weeds away effectively. Gloves give you more convenience in installing outdoor garden boxes and comfort when working in the garden. T-type Tags help you to record the growth process of flower and vegetable.'],\n",
       "   'badges': {'best_seller': False,\n",
       "    'amazon_prime': True,\n",
       "    'amazon_сhoice': False},\n",
       "   'title': 'KING BIRD 68\"x36\"x24\" Galvanized Raised Garden Bed Outdoor Heightened Steel Metal Planter Box for Deep-Rooted Vegetables, Flowers, Large Raised Bed Kit(Dark Grey)'}]}"
      ]
     },
     "execution_count": 28,
     "metadata": {},
     "output_type": "execute_result"
    }
   ],
   "source": [
    "product_details"
   ]
  },
  {
   "cell_type": "code",
   "execution_count": 29,
   "metadata": {},
   "outputs": [],
   "source": [
    "# Ramas to do: de stabilizat la un singur API call, altfel facut un JSON dump cu ce date sunt primite. Otherwise, este foarte dificil sa faci debugging."
   ]
  },
  {
   "cell_type": "code",
   "execution_count": null,
   "metadata": {},
   "outputs": [],
   "source": [
    "# Este posbil sa fie rescrise cele 10 reviews again and again, in loc sa fie toate notate in baza de date pentru un ASIN."
   ]
  }
 ],
 "metadata": {
  "kernelspec": {
   "display_name": "oaie",
   "language": "python",
   "name": "python3"
  },
  "language_info": {
   "codemirror_mode": {
    "name": "ipython",
    "version": 3
   },
   "file_extension": ".py",
   "mimetype": "text/x-python",
   "name": "python",
   "nbconvert_exporter": "python",
   "pygments_lexer": "ipython3",
   "version": "3.10.11"
  },
  "orig_nbformat": 4,
  "vscode": {
   "interpreter": {
    "hash": "6c74ab5e9d1b69f4a633dadba036213975e2781ddda024f711eea1a9e615ae86"
   }
  }
 },
 "nbformat": 4,
 "nbformat_minor": 2
}
