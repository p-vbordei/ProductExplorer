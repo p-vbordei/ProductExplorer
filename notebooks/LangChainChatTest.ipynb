{
 "cells": [
  {
   "attachments": {},
   "cell_type": "markdown",
   "metadata": {},
   "source": [
    "https://python.langchain.com/en/latest/modules/chains/index_examples/chat_vector_db.html\n",
    "https://python.langchain.com/en/latest/modules/indexes/vectorstores/examples/chroma.html#\n"
   ]
  },
  {
   "cell_type": "code",
   "execution_count": 2,
   "metadata": {},
   "outputs": [
    {
     "name": "stdout",
     "output_type": "stream",
     "text": [
      "Collecting lark\n",
      "  Downloading lark-1.1.5-py3-none-any.whl (107 kB)\n",
      "\u001b[2K     \u001b[90m━━━━━━━━━━━━━━━━━━━━━━━━━━━━━━━━━━━━━━━\u001b[0m \u001b[32m108.0/108.0 kB\u001b[0m \u001b[31m1.1 MB/s\u001b[0m eta \u001b[36m0:00:00\u001b[0ma \u001b[36m0:00:01\u001b[0m\n",
      "\u001b[?25hInstalling collected packages: lark\n",
      "Successfully installed lark-1.1.5\n"
     ]
    }
   ],
   "source": [
    "#!pip install lark\n",
    "#!pip install chromadb"
   ]
  },
  {
   "cell_type": "code",
   "execution_count": 3,
   "metadata": {},
   "outputs": [
    {
     "name": "stdout",
     "output_type": "stream",
     "text": [
      "OPENAI_API_KEY is ready\n"
     ]
    }
   ],
   "source": [
    "import pandas as pd\n",
    "import numpy as np\n",
    "from sqlalchemy import create_engine, text\n",
    "import json\n",
    "import os\n",
    "\n",
    "import tiktoken\n",
    "from openai.embeddings_utils import get_embedding\n",
    "from sklearn.cluster import AgglomerativeClustering\n",
    "\n",
    "import openai\n",
    "from dotenv import load_dotenv\n",
    "load_dotenv()\n",
    "OPENAI_API_KEY = os.getenv('OPENAI_API_KEY')\n",
    "if os.getenv(\"OPENAI_API_KEY\") is not None:\n",
    "    print (\"OPENAI_API_KEY is ready\")\n",
    "else:\n",
    "    print (\"OPENAI_API_KEY environment variable not found\")\n",
    "\n",
    "# Read the ASIN values from the CSV file\n",
    "asin_list_path = '/Users/vladbordei/Documents/Development/ProductExplorer/data/external/asin_list.csv'\n",
    "#asin_list_path = './data/external/asin_list.csv'\n",
    "asin_list = pd.read_csv(asin_list_path)['asin'].tolist()"
   ]
  },
  {
   "cell_type": "code",
   "execution_count": 4,
   "metadata": {},
   "outputs": [],
   "source": [
    "reviews = pd.read_csv('/Users/vladbordei/Documents/Development/ProductExplorer/data/processed/reviews_export.csv')\n",
    "reviews = reviews[reviews['asin'].isin(asin_list)]"
   ]
  },
  {
   "cell_type": "code",
   "execution_count": 5,
   "metadata": {},
   "outputs": [
    {
     "data": {
      "text/plain": [
       "Index(['id', 'rating', 'review_summary', 'product_facts', 'positive_sentiment',\n",
       "       'negative_sentiment', 'improvements_expected', 'issues_identified',\n",
       "       'how_product_is_used', 'media', 'where_product_is_used', 'sentiment',\n",
       "       'anger', 'anger_reason', 'delight', 'delight_reason', 'disappointment',\n",
       "       'disappointment_reason', 'time', 'season', 'weather',\n",
       "       'user_description', 'title', 'review', 'asin_variant', 'asin'],\n",
       "      dtype='object')"
      ]
     },
     "execution_count": 5,
     "metadata": {},
     "output_type": "execute_result"
    }
   ],
   "source": [
    "reviews.columns"
   ]
  },
  {
   "cell_type": "code",
   "execution_count": 35,
   "metadata": {},
   "outputs": [],
   "source": [
    "df = reviews.copy()"
   ]
  },
  {
   "attachments": {},
   "cell_type": "markdown",
   "metadata": {},
   "source": [
    "#### Embeding and loading the data"
   ]
  },
  {
   "cell_type": "code",
   "execution_count": 7,
   "metadata": {},
   "outputs": [],
   "source": [
    "from langchain.embeddings import HuggingFaceEmbeddings\n",
    "\n",
    "model_name = \"sentence-transformers/all-mpnet-base-v2\"\n",
    "model_kwargs = {'device': 'cpu'}\n",
    "encode_kwargs = {'normalize_embeddings': False}\n",
    "embeddings = HuggingFaceEmbeddings(\n",
    "    model_name=model_name,\n",
    "    model_kwargs=model_kwargs,\n",
    "    encode_kwargs=encode_kwargs\n",
    ")"
   ]
  },
  {
   "cell_type": "code",
   "execution_count": 72,
   "metadata": {},
   "outputs": [],
   "source": [
    "def clean_data(dataframe, column_name):\n",
    "    # Extract single values from lists\n",
    "    dataframe[column_name] = dataframe[column_name].apply(lambda x: x[0] if isinstance(x, list) and len(x) == 1 else [x][0] if not isinstance(x, list) else x)\n",
    "\n",
    "    # Replace missing values with NaN\n",
    "    dataframe[column_name].replace(['', 'NA', 'N/A', 'missing', 'NaN', 'unknown', 'Unknown', ['Unknown']], np.nan, inplace=True)\n",
    "\n",
    "    # Drop NaN values\n",
    "    dataframe.dropna(subset=[column_name], inplace=True)\n",
    "\n",
    "    # Replace missing values with 'Unknown'\n",
    "    dataframe[column_name].fillna(value='unknown', inplace=True)\n",
    "\n",
    "    # Drop 'Unknown' values\n",
    "    dataframe = dataframe[dataframe[column_name] != 'unknown']\n",
    "    \n",
    "    return dataframe\n",
    "\n",
    "def transform_string(input_string):\n",
    "    words = input_string.split('_')  # Split the string by underscores\n",
    "    capitalized_words = [word.capitalize() for word in words]  # Capitalize each word\n",
    "    transformed_string = ' '.join(capitalized_words)  # Join the words back into a string\n",
    "    return transformed_string\n"
   ]
  },
  {
   "cell_type": "code",
   "execution_count": 76,
   "metadata": {},
   "outputs": [],
   "source": [
    "df_index_columns = ['anger',\n",
    " 'asin',\n",
    " 'asin_variant',\n",
    " 'delight',\n",
    " 'disappointment',\n",
    " 'id',\n",
    " 'media',\n",
    " 'negative_sentiment',\n",
    " 'positive_sentiment',\n",
    " 'rating',\n",
    " 'sentiment']\n",
    "df_data_columns = ['review_summary', 'product_facts', 'improvements_expected','issues_identified', \"review\",'anger_reason',  'delight_reason', 'disappointment_reason', 'time', 'season', 'weather', 'user_description','title','where_product_is_used','how_product_is_used']\n",
    "df_index = df[df_index_columns].copy()\n",
    "\n",
    "from langchain.document_loaders import DataFrameLoader\n",
    "\n",
    "for column in df_data_columns:\n",
    "    df_data = df[[column] + df_index_columns].copy()\n",
    "    df_data = clean_data(df_data, column)\n",
    "    df_data[column] = transform_string(column) + \": \" + df_data[column].astype(str)\n",
    "    df_data['record_type'] = column\n",
    "\n",
    "    try:\n",
    "        loader = DataFrameLoader(df_data, page_content_column=column)\n",
    "        documents = loader.load()\n",
    "    except:\n",
    "        print(column)\n",
    "        pass"
   ]
  },
  {
   "cell_type": "code",
   "execution_count": 77,
   "metadata": {},
   "outputs": [
    {
     "data": {
      "text/plain": [
       "[Document(page_content='How Product Is Used: Playing during travel', metadata={'anger': 'No', 'asin': 'B07X7YFZWG', 'asin_variant': 'B07X7YFZWG', 'delight': 'Yes', 'disappointment': 'No', 'id': 0, 'media': '[]', 'negative_sentiment': 0.009823201, 'positive_sentiment': 0.9696184, 'rating': 5, 'sentiment': 'Positive', 'record_type': 'how_product_is_used'}),\n",
       " Document(page_content='How Product Is Used: As a toy car', metadata={'anger': 'No', 'asin': 'B07X7YFZWG', 'asin_variant': 'B07XCRT49W', 'delight': 'Yes', 'disappointment': 'No', 'id': 1, 'media': '[]', 'negative_sentiment': 0.0038723138, 'positive_sentiment': 0.8567428, 'rating': 4, 'sentiment': 'Positive', 'record_type': 'how_product_is_used'}),\n",
       " Document(page_content='How Product Is Used: As a toy for a child recovering from surgery', metadata={'anger': 'No', 'asin': 'B07X7YFZWG', 'asin_variant': 'B07XCRVK2Y', 'delight': 'Yes', 'disappointment': 'No', 'id': 4, 'media': '[]', 'negative_sentiment': 0.0017359285, 'positive_sentiment': 0.99027306, 'rating': 5, 'sentiment': 'Positive', 'record_type': 'how_product_is_used'}),\n",
       " Document(page_content='How Product Is Used: Inflight entertainment for a toddler.', metadata={'anger': 'No', 'asin': 'B07X7YFZWG', 'asin_variant': 'B07X7YFZWG', 'delight': 'Yes', 'disappointment': 'Yes', 'id': 5, 'media': '[]', 'negative_sentiment': 0.031650014, 'positive_sentiment': 0.74128276, 'rating': 4, 'sentiment': 'Positive', 'record_type': 'how_product_is_used'}),\n",
       " Document(page_content='How Product Is Used: As a gift for a 4-year-old granddaughter', metadata={'anger': 'No', 'asin': 'B07X7YFZWG', 'asin_variant': 'B07X7YFZWG', 'delight': 'Yes', 'disappointment': 'No', 'id': 6, 'media': '[]', 'negative_sentiment': 0.009052411, 'positive_sentiment': 0.9133711, 'rating': 5, 'sentiment': 'Positive', 'record_type': 'how_product_is_used'}),\n",
       " Document(page_content='How Product Is Used: As a toy for kids', metadata={'anger': 'No', 'asin': 'B07X7YFZWG', 'asin_variant': 'B07X7YFZWG', 'delight': 'No', 'disappointment': 'Yes', 'id': 8, 'media': '[]', 'negative_sentiment': 0.6152324, 'positive_sentiment': 0.043475635, 'rating': 2, 'sentiment': 'Negative', 'record_type': 'how_product_is_used'}),\n",
       " Document(page_content='How Product Is Used: To keep kids busy and entertained', metadata={'anger': 'No', 'asin': 'B07X7YFZWG', 'asin_variant': 'B07XCRT49W', 'delight': 'Yes', 'disappointment': 'No', 'id': 10, 'media': '[]', 'negative_sentiment': 0.004240698, 'positive_sentiment': 0.9360318, 'rating': 5, 'sentiment': 'Positive', 'record_type': 'how_product_is_used'}),\n",
       " Document(page_content='How Product Is Used: Entertaining kids on long car rides', metadata={'anger': 'No', 'asin': 'B07X7YFZWG', 'asin_variant': 'B07XCRVK2Y', 'delight': 'Yes', 'disappointment': 'No', 'id': 11, 'media': '[]', 'negative_sentiment': 0.001675616, 'positive_sentiment': 0.98692256, 'rating': 5, 'sentiment': 'Positive', 'record_type': 'how_product_is_used'}),\n",
       " Document(page_content='How Product Is Used: Frequent use', metadata={'anger': 'No', 'asin': 'B07X7YFZWG', 'asin_variant': 'B07XCRT49W', 'delight': 'Yes', 'disappointment': 'No', 'id': 12, 'media': '[]', 'negative_sentiment': 0.006104635, 'positive_sentiment': 0.8876246, 'rating': 5, 'sentiment': 'Positive', 'record_type': 'how_product_is_used'}),\n",
       " Document(page_content='How Product Is Used: Creating patterns', metadata={'anger': 'No', 'asin': 'B07X7YFZWG', 'asin_variant': 'B07XCRVK2Y', 'delight': 'Yes', 'disappointment': 'No', 'id': 13, 'media': '[]', 'negative_sentiment': 0.0016030925, 'positive_sentiment': 0.98982185, 'rating': 5, 'sentiment': 'Positive', 'record_type': 'how_product_is_used'}),\n",
       " Document(page_content='How Product Is Used: Writing', metadata={'anger': 'No', 'asin': 'B07X7YFZWG', 'asin_variant': 'B07XCRT49W', 'delight': 'No', 'disappointment': 'No', 'id': 15, 'media': '[]', 'negative_sentiment': 0.08414741, 'positive_sentiment': 0.54076976, 'rating': 4, 'sentiment': 'Neutral', 'record_type': 'how_product_is_used'}),\n",
       " Document(page_content='How Product Is Used: As a toy for young children', metadata={'anger': 'No', 'asin': 'B07X7YFZWG', 'asin_variant': 'B07XCRT49W', 'delight': 'Yes', 'disappointment': 'No', 'id': 16, 'media': '[\"https://m.media-amazon.com/images/I/7111FhQXA1L._SL1600_.jpg\",\"https://m.media-amazon.com/images/I/71Hw6nsWfbL._SL1600_.jpg\",\"https://m.media-amazon.com/images/I/71ZVV-O9NSL._SL1600_.jpg\",\"https://m.media-amazon.com/images/I/71oAfGx+bYL._SL1600_.jpg\"]', 'negative_sentiment': 0.16732359, 'positive_sentiment': 0.44696385, 'rating': 5, 'sentiment': 'Positive', 'record_type': 'how_product_is_used'}),\n",
       " Document(page_content='How Product Is Used: Entertainment', metadata={'anger': 'No', 'asin': 'B07X7YFZWG', 'asin_variant': 'B07XCRVK2Y', 'delight': 'Yes', 'disappointment': 'No', 'id': 17, 'media': '[]', 'negative_sentiment': 0.0016735597, 'positive_sentiment': 0.99198145, 'rating': 5, 'sentiment': 'Positive', 'record_type': 'how_product_is_used'}),\n",
       " Document(page_content='How Product Is Used: For car trips', metadata={'anger': 'No', 'asin': 'B07X7YFZWG', 'asin_variant': 'B07XCRVK2Y', 'delight': 'Yes', 'disappointment': 'No', 'id': 18, 'media': '[]', 'negative_sentiment': 0.0020002343, 'positive_sentiment': 0.9868811, 'rating': 5, 'sentiment': 'Positive', 'record_type': 'how_product_is_used'}),\n",
       " Document(page_content='How Product Is Used: Drawing and playing', metadata={'anger': 'No', 'asin': 'B07X7YFZWG', 'asin_variant': 'B07X7YFZWG', 'delight': 'Yes', 'disappointment': 'No', 'id': 19, 'media': '[]', 'negative_sentiment': 0.0015558539, 'positive_sentiment': 0.989879, 'rating': 5, 'sentiment': 'Positive', 'record_type': 'how_product_is_used'}),\n",
       " Document(page_content='How Product Is Used: Drawing, passing time during car trips and waiting rooms, playing while reading to kids', metadata={'anger': 'No', 'asin': 'B07X7YFZWG', 'asin_variant': 'B07X7YFZWG', 'delight': 'Yes', 'disappointment': 'No', 'id': 20, 'media': '[]', 'negative_sentiment': 0.0147365825, 'positive_sentiment': 0.81372297, 'rating': 5, 'sentiment': 'Delight', 'record_type': 'how_product_is_used'}),\n",
       " Document(page_content='How Product Is Used: Calming during panic attacks', metadata={'anger': 'No', 'asin': 'B07X7YFZWG', 'asin_variant': 'B07XCRVK2Y', 'delight': 'Yes', 'disappointment': 'Yes', 'id': 21, 'media': '[\"https://m.media-amazon.com/images/I/71+E+Jhhu4L._SL1600_.jpg\",\"https://m.media-amazon.com/images/I/71piAyzQj4L._SL1600_.jpg\"]', 'negative_sentiment': 0.03329426, 'positive_sentiment': 0.76305103, 'rating': 3, 'sentiment': 'Positive', 'record_type': 'how_product_is_used'}),\n",
       " Document(page_content='How Product Is Used: Entertaining during travel', metadata={'anger': 'No', 'asin': 'B07X7YFZWG', 'asin_variant': 'B07XCRVK2Y', 'delight': 'Yes', 'disappointment': 'No', 'id': 22, 'media': '[]', 'negative_sentiment': 0.006863984, 'positive_sentiment': 0.96552, 'rating': 5, 'sentiment': 'Positive', 'record_type': 'how_product_is_used'}),\n",
       " Document(page_content='How Product Is Used: In a preschool classroom', metadata={'anger': 'No', 'asin': 'B07X7YFZWG', 'asin_variant': 'B07X7YFZWG', 'delight': 'Yes', 'disappointment': 'No', 'id': 42, 'media': '[]', 'negative_sentiment': 0.00286821, 'positive_sentiment': 0.9784522, 'rating': 5, 'sentiment': 'Positive', 'record_type': 'how_product_is_used'}),\n",
       " Document(page_content='How Product Is Used: Writing and drawing', metadata={'anger': 'No', 'asin': 'B07X7YFZWG', 'asin_variant': 'B07X7YFZWG', 'delight': 'Yes', 'disappointment': 'No', 'id': 27, 'media': '[]', 'negative_sentiment': 0.053484295, 'positive_sentiment': 0.8472756, 'rating': 5, 'sentiment': 'Positive', 'record_type': 'how_product_is_used'}),\n",
       " Document(page_content='How Product Is Used: Entertainment for kids while traveling', metadata={'anger': 'No', 'asin': 'B07X7YFZWG', 'asin_variant': 'B07XCRT49W', 'delight': 'Yes', 'disappointment': 'No', 'id': 28, 'media': '[]', 'negative_sentiment': 0.0009995047, 'positive_sentiment': 0.9955455, 'rating': 5, 'sentiment': 'Delight', 'record_type': 'how_product_is_used'}),\n",
       " Document(page_content='How Product Is Used: Sensory play, drawing', metadata={'anger': 'No', 'asin': 'B07X7YFZWG', 'asin_variant': 'B07X7YFZWG', 'delight': 'Yes', 'disappointment': 'Yes', 'id': 29, 'media': '[]', 'negative_sentiment': 0.0017461497, 'positive_sentiment': 0.9808897, 'rating': 5, 'sentiment': 'Positive', 'record_type': 'how_product_is_used'}),\n",
       " Document(page_content='How Product Is Used: Open-ended play for kids', metadata={'anger': 'No', 'asin': 'B07X7YFZWG', 'asin_variant': 'B07XCRT49W', 'delight': 'Yes', 'disappointment': 'No', 'id': 30, 'media': '[]', 'negative_sentiment': 0.004305326, 'positive_sentiment': 0.9528903, 'rating': 5, 'sentiment': 'Positive', 'record_type': 'how_product_is_used'}),\n",
       " Document(page_content='How Product Is Used: In a classroom setting', metadata={'anger': 'No', 'asin': 'B07X7YFZWG', 'asin_variant': 'B07XCRT49W', 'delight': 'Yes', 'disappointment': 'No', 'id': 31, 'media': '[]', 'negative_sentiment': 0.0024449085, 'positive_sentiment': 0.9793043, 'rating': 4, 'sentiment': 'Positive', 'record_type': 'how_product_is_used'}),\n",
       " Document(page_content='How Product Is Used: Entertainment for kids', metadata={'anger': 'No', 'asin': 'B07X7YFZWG', 'asin_variant': 'B07XCRT49W', 'delight': 'Yes', 'disappointment': 'No', 'id': 32, 'media': '[]', 'negative_sentiment': 0.00628501, 'positive_sentiment': 0.9624455, 'rating': 4, 'sentiment': 'Positive', 'record_type': 'how_product_is_used'}),\n",
       " Document(page_content='How Product Is Used: To allow kids to create without making a mess', metadata={'anger': 'No', 'asin': 'B07X7YFZWG', 'asin_variant': 'B07X7YFZWG', 'delight': 'Yes', 'disappointment': 'No', 'id': 34, 'media': '[]', 'negative_sentiment': 0.075248286, 'positive_sentiment': 0.77791953, 'rating': 5, 'sentiment': 'Delight', 'record_type': 'how_product_is_used'}),\n",
       " Document(page_content='How Product Is Used: Entertainment', metadata={'anger': 'No', 'asin': 'B07X7YFZWG', 'asin_variant': 'B07XCRT49W', 'delight': 'Yes', 'disappointment': 'No', 'id': 35, 'media': '[]', 'negative_sentiment': 0.2189661, 'positive_sentiment': 0.53623605, 'rating': 5, 'sentiment': 'Positive', 'record_type': 'how_product_is_used'}),\n",
       " Document(page_content='How Product Is Used: As a toy for a grandchild', metadata={'anger': 'No', 'asin': 'B07X7YFZWG', 'asin_variant': 'B07XCRVK2Y', 'delight': 'Yes', 'disappointment': 'No', 'id': 36, 'media': '[]', 'negative_sentiment': 0.31230873, 'positive_sentiment': 0.54137766, 'rating': 5, 'sentiment': 'Positive', 'record_type': 'how_product_is_used'}),\n",
       " Document(page_content='How Product Is Used: As a toy for ASD kids', metadata={'anger': 'No', 'asin': 'B07X7YFZWG', 'asin_variant': 'B07X7YFZWG', 'delight': 'Yes', 'disappointment': 'Yes', 'id': 37, 'media': '[]', 'negative_sentiment': 0.03377214, 'positive_sentiment': 0.43200704, 'rating': 3, 'sentiment': 'Mixed', 'record_type': 'how_product_is_used'}),\n",
       " Document(page_content='How Product Is Used: Creating shapes and designs', metadata={'anger': 'No', 'asin': 'B07X7YFZWG', 'asin_variant': 'B07XCRVK2Y', 'delight': 'Yes', 'disappointment': 'No', 'id': 39, 'media': '[]', 'negative_sentiment': 0.0019346304, 'positive_sentiment': 0.98664325, 'rating': 5, 'sentiment': 'Delight', 'record_type': 'how_product_is_used'}),\n",
       " Document(page_content='How Product Is Used: Fidgeting', metadata={'anger': 'No', 'asin': 'B07X7YFZWG', 'asin_variant': 'B07XCRT49W', 'delight': 'Yes', 'disappointment': 'No', 'id': 43, 'media': '[]', 'negative_sentiment': 0.0013499174, 'positive_sentiment': 0.99163514, 'rating': 5, 'sentiment': 'Delight', 'record_type': 'how_product_is_used'}),\n",
       " Document(page_content='How Product Is Used: Carried everywhere for creative play', metadata={'anger': 'No', 'asin': 'B07X7YFZWG', 'asin_variant': 'B07XCRVK2Y', 'delight': 'Yes', 'disappointment': 'No', 'id': 44, 'media': '[]', 'negative_sentiment': 0.004835684, 'positive_sentiment': 0.95930576, 'rating': 5, 'sentiment': 'Delight', 'record_type': 'how_product_is_used'}),\n",
       " Document(page_content='How Product Is Used: Writing notes and reminders', metadata={'anger': 'No', 'asin': 'B07X7YFZWG', 'asin_variant': 'B07XCRT49W', 'delight': 'Yes', 'disappointment': 'No', 'id': 45, 'media': '[]', 'negative_sentiment': 0.031684384, 'positive_sentiment': 0.5824139, 'rating': 4, 'sentiment': 'Positive', 'record_type': 'how_product_is_used'}),\n",
       " Document(page_content='How Product Is Used: By 5 and 6-year-old children', metadata={'anger': 'No', 'asin': 'B07X7YFZWG', 'asin_variant': 'B07XCRT49W', 'delight': 'Yes', 'disappointment': 'No', 'id': 46, 'media': '[]', 'negative_sentiment': 0.0073275333, 'positive_sentiment': 0.96121025, 'rating': 5, 'sentiment': 'Delight', 'record_type': 'how_product_is_used'}),\n",
       " Document(page_content='How Product Is Used: As a fun alternative to screen time', metadata={'anger': 'No', 'asin': 'B07X7YFZWG', 'asin_variant': 'B07XCRVK2Y', 'delight': 'Yes', 'disappointment': 'No', 'id': 47, 'media': '[]', 'negative_sentiment': 0.00076666975, 'positive_sentiment': 0.9967983, 'rating': 5, 'sentiment': 'Positive', 'record_type': 'how_product_is_used'}),\n",
       " Document(page_content='How Product Is Used: Playing', metadata={'anger': 'No', 'asin': 'B07X7YFZWG', 'asin_variant': 'B07XCRT49W', 'delight': 'Yes', 'disappointment': 'No', 'id': 49, 'media': '[]', 'negative_sentiment': 0.001483686, 'positive_sentiment': 0.9918507, 'rating': 5, 'sentiment': 'Delight', 'record_type': 'how_product_is_used'}),\n",
       " Document(page_content='How Product Is Used: Artistic activities', metadata={'anger': 'No', 'asin': 'B07X7YFZWG', 'asin_variant': 'B07XCRVK2Y', 'delight': 'Yes', 'disappointment': 'No', 'id': 50, 'media': '[]', 'negative_sentiment': 0.03114447, 'positive_sentiment': 0.9128023, 'rating': 5, 'sentiment': 'Positive', 'record_type': 'how_product_is_used'}),\n",
       " Document(page_content='How Product Is Used: Drawing and writing', metadata={'anger': 'No', 'asin': 'B07X7YFZWG', 'asin_variant': 'B07X7YFZWG', 'delight': 'Yes', 'disappointment': 'Yes', 'id': 51, 'media': '[]', 'negative_sentiment': 0.0049439305, 'positive_sentiment': 0.93783474, 'rating': 5, 'sentiment': 'Positive', 'record_type': 'how_product_is_used'}),\n",
       " Document(page_content='How Product Is Used: As a travel toy', metadata={'anger': 'No', 'asin': 'B07X7YFZWG', 'asin_variant': 'B07XCRT49W', 'delight': 'Yes', 'disappointment': 'No', 'id': 52, 'media': '[]', 'negative_sentiment': 0.015774425, 'positive_sentiment': 0.9212595, 'rating': 5, 'sentiment': 'Positive', 'record_type': 'how_product_is_used'}),\n",
       " Document(page_content='How Product Is Used: In a car', metadata={'anger': 'No', 'asin': 'B07X7YFZWG', 'asin_variant': 'B07XCRT49W', 'delight': 'Yes', 'disappointment': 'No', 'id': 53, 'media': '[]', 'negative_sentiment': 0.0064810775, 'positive_sentiment': 0.96859133, 'rating': 5, 'sentiment': 'Positive', 'record_type': 'how_product_is_used'}),\n",
       " Document(page_content='How Product Is Used: Playing and learning', metadata={'anger': 'No', 'asin': 'B07X7YFZWG', 'asin_variant': 'B07X7YFZWG', 'delight': 'Yes', 'disappointment': 'No', 'id': 54, 'media': '[]', 'negative_sentiment': 0.0013872946, 'positive_sentiment': 0.99215984, 'rating': 5, 'sentiment': 'Positive', 'record_type': 'how_product_is_used'}),\n",
       " Document(page_content='How Product Is Used: Creating figures', metadata={'anger': 'No', 'asin': 'B07X7YFZWG', 'asin_variant': 'B07XCRVK2Y', 'delight': 'Yes', 'disappointment': 'No', 'id': 56, 'media': '[]', 'negative_sentiment': 0.031211138, 'positive_sentiment': 0.8507626, 'rating': 5, 'sentiment': 'Positive', 'record_type': 'how_product_is_used'}),\n",
       " Document(page_content='How Product Is Used: Pushing marbles back and forth', metadata={'anger': 'No', 'asin': 'B07X7YFZWG', 'asin_variant': 'B07XCRT49W', 'delight': 'Yes', 'disappointment': 'No', 'id': 57, 'media': '[]', 'negative_sentiment': 0.0017676617, 'positive_sentiment': 0.9775227, 'rating': 5, 'sentiment': 'Positive', 'record_type': 'how_product_is_used'}),\n",
       " Document(page_content='How Product Is Used: In the car to keep kids entertained', metadata={'anger': 'No', 'asin': 'B07X7YFZWG', 'asin_variant': 'B07XCRVK2Y', 'delight': 'Yes', 'disappointment': 'Yes', 'id': 60, 'media': '[]', 'negative_sentiment': 0.0028126626, 'positive_sentiment': 0.9258798, 'rating': 4, 'sentiment': 'Positive', 'record_type': 'how_product_is_used'}),\n",
       " Document(page_content='How Product Is Used: For playtime', metadata={'anger': 'No', 'asin': 'B07X7YFZWG', 'asin_variant': 'B07XCRVK2Y', 'delight': 'Yes', 'disappointment': 'No', 'id': 61, 'media': '[]', 'negative_sentiment': 0.0017172751, 'positive_sentiment': 0.98994255, 'rating': 5, 'sentiment': 'Positive', 'record_type': 'how_product_is_used'}),\n",
       " Document(page_content='How Product Is Used: Quiet time activity at a restaurant or in the car', metadata={'anger': 'No', 'asin': 'B07X7YFZWG', 'asin_variant': 'B07XCRVK2Y', 'delight': 'Yes', 'disappointment': 'No', 'id': 62, 'media': '[]', 'negative_sentiment': 0.0014975389, 'positive_sentiment': 0.9801463, 'rating': 5, 'sentiment': 'Positive', 'record_type': 'how_product_is_used'}),\n",
       " Document(page_content='How Product Is Used: On-the-go entertainment, at restaurants', metadata={'anger': 'No', 'asin': 'B07X7YFZWG', 'asin_variant': 'B07X7YFZWG', 'delight': 'Yes', 'disappointment': 'No', 'id': 63, 'media': '[]', 'negative_sentiment': 0.011244018, 'positive_sentiment': 0.96402866, 'rating': 5, 'sentiment': 'Positive', 'record_type': 'how_product_is_used'}),\n",
       " Document(page_content='How Product Is Used: Entertainment for autistic child', metadata={'anger': 'No', 'asin': 'B07X7YFZWG', 'asin_variant': 'B07XCRVK2Y', 'delight': 'Yes', 'disappointment': 'No', 'id': 64, 'media': '[]', 'negative_sentiment': 0.0076114484, 'positive_sentiment': 0.9322303, 'rating': 5, 'sentiment': 'Positive', 'record_type': 'how_product_is_used'}),\n",
       " Document(page_content='How Product Is Used: Drawing and writing', metadata={'anger': 'No', 'asin': 'B07X7YFZWG', 'asin_variant': 'B07XCRT49W', 'delight': 'Yes', 'disappointment': 'No', 'id': 65, 'media': '[]', 'negative_sentiment': 0.0070891073, 'positive_sentiment': 0.9720457, 'rating': 5, 'sentiment': 'Positive', 'record_type': 'how_product_is_used'}),\n",
       " Document(page_content='How Product Is Used: Entertaining three-year-old kids', metadata={'anger': 'No', 'asin': 'B07X7YFZWG', 'asin_variant': 'B07XCRVK2Y', 'delight': 'Yes', 'disappointment': 'No', 'id': 67, 'media': '[]', 'negative_sentiment': 0.0016991259, 'positive_sentiment': 0.98626244, 'rating': 5, 'sentiment': 'Positive', 'record_type': 'how_product_is_used'}),\n",
       " Document(page_content='How Product Is Used: Entertainment for children', metadata={'anger': 'No', 'asin': 'B07X7YFZWG', 'asin_variant': 'B07X7YFZWG', 'delight': 'Yes', 'disappointment': 'Yes', 'id': 68, 'media': '[]', 'negative_sentiment': 0.3625862, 'positive_sentiment': 0.27684462, 'rating': 4, 'sentiment': 'Positive', 'record_type': 'how_product_is_used'}),\n",
       " Document(page_content='How Product Is Used: As a toy for a 4-year-old during car trips and rest time', metadata={'anger': 'No', 'asin': 'B07X7YFZWG', 'asin_variant': 'B07XCRT49W', 'delight': 'Yes', 'disappointment': 'Yes', 'id': 71, 'media': '[]', 'negative_sentiment': 0.017144136, 'positive_sentiment': 0.87836814, 'rating': 5, 'sentiment': 'Positive', 'record_type': 'how_product_is_used'}),\n",
       " Document(page_content='How Product Is Used: As a toy in a preschool classroom', metadata={'anger': 'No', 'asin': 'B07X7YFZWG', 'asin_variant': 'B07XCRVK2Y', 'delight': 'Yes', 'disappointment': 'No', 'id': 72, 'media': '[]', 'negative_sentiment': 0.0014922095, 'positive_sentiment': 0.9909799, 'rating': 5, 'sentiment': 'Positive', 'record_type': 'how_product_is_used'}),\n",
       " Document(page_content='How Product Is Used: To keep little ones occupied and encourage creativity', metadata={'anger': 'No', 'asin': 'B07X7YFZWG', 'asin_variant': 'B07X7YFZWG', 'delight': 'Yes', 'disappointment': 'No', 'id': 74, 'media': '[]', 'negative_sentiment': 0.0057837004, 'positive_sentiment': 0.93223935, 'rating': 5, 'sentiment': 'Positive', 'record_type': 'how_product_is_used'}),\n",
       " Document(page_content='How Product Is Used: As a busy toy for kids during appointments', metadata={'anger': 'No', 'asin': 'B07X7YFZWG', 'asin_variant': 'B07XCRT49W', 'delight': 'No', 'disappointment': 'Yes', 'id': 75, 'media': '[]', 'negative_sentiment': 0.1594286, 'positive_sentiment': 0.20424652, 'rating': 3, 'sentiment': 'Negative', 'record_type': 'how_product_is_used'}),\n",
       " Document(page_content='How Product Is Used: In a special needs classroom', metadata={'anger': 'No', 'asin': 'B07X7YFZWG', 'asin_variant': 'B07X7YFZWG', 'delight': 'Yes', 'disappointment': 'No', 'id': 76, 'media': '[]', 'negative_sentiment': 0.004762329, 'positive_sentiment': 0.97692037, 'rating': 5, 'sentiment': 'Delight', 'record_type': 'how_product_is_used'}),\n",
       " Document(page_content='How Product Is Used: With kindergarten-3rd grade students', metadata={'anger': 'No', 'asin': 'B07X7YFZWG', 'asin_variant': 'B07XCRVK2Y', 'delight': 'Yes', 'disappointment': 'No', 'id': 78, 'media': '[]', 'negative_sentiment': 0.01264853, 'positive_sentiment': 0.78163224, 'rating': 4, 'sentiment': 'Positive', 'record_type': 'how_product_is_used'}),\n",
       " Document(page_content='How Product Is Used: Playing', metadata={'anger': 'No', 'asin': 'B07X7YFZWG', 'asin_variant': 'B07XCRT49W', 'delight': 'No', 'disappointment': 'No', 'id': 79, 'media': '[]', 'negative_sentiment': 0.46477747, 'positive_sentiment': 0.12116976, 'rating': 3, 'sentiment': 'Neutral', 'record_type': 'how_product_is_used'}),\n",
       " Document(page_content='How Product Is Used: On a plane', metadata={'anger': 'No', 'asin': 'B07X7YFZWG', 'asin_variant': 'B07XCRT49W', 'delight': 'No', 'disappointment': 'Yes', 'id': 80, 'media': '[]', 'negative_sentiment': 0.88118076, 'positive_sentiment': 0.040727623, 'rating': 1, 'sentiment': 'Negative', 'record_type': 'how_product_is_used'}),\n",
       " Document(page_content='How Product Is Used: Entertaining toddlers', metadata={'anger': 'No', 'asin': 'B07X7YFZWG', 'asin_variant': 'B07X7YFZWG', 'delight': 'Yes', 'disappointment': 'No', 'id': 81, 'media': '[]', 'negative_sentiment': 0.0028510178, 'positive_sentiment': 0.9869085, 'rating': 5, 'sentiment': 'Positive', 'record_type': 'how_product_is_used'}),\n",
       " Document(page_content='How Product Is Used: Car use', metadata={'anger': 'No', 'asin': 'B07X7YFZWG', 'asin_variant': 'B07XCRT49W', 'delight': 'No', 'disappointment': 'No', 'id': 82, 'media': '[]', 'negative_sentiment': 0.144063, 'positive_sentiment': 0.39164537, 'rating': 5, 'sentiment': 'Neutral', 'record_type': 'how_product_is_used'}),\n",
       " Document(page_content='How Product Is Used: Keeping kids occupied', metadata={'anger': 'No', 'asin': 'B07X7YFZWG', 'asin_variant': 'B07X7YFZWG', 'delight': 'Yes', 'disappointment': 'No', 'id': 83, 'media': '[]', 'negative_sentiment': 0.007430196, 'positive_sentiment': 0.9561633, 'rating': 5, 'sentiment': 'Positive', 'record_type': 'how_product_is_used'}),\n",
       " Document(page_content='How Product Is Used: For drawing during car rides', metadata={'anger': 'No', 'asin': 'B07X7YFZWG', 'asin_variant': 'B07X7YFZWG', 'delight': 'Yes', 'disappointment': 'No', 'id': 84, 'media': '[]', 'negative_sentiment': 0.0032026907, 'positive_sentiment': 0.9733579, 'rating': 4, 'sentiment': 'Positive', 'record_type': 'how_product_is_used'}),\n",
       " Document(page_content='How Product Is Used: Entertainment during road trips', metadata={'anger': 'No', 'asin': 'B07X7YFZWG', 'asin_variant': 'B07XCRT49W', 'delight': 'Yes', 'disappointment': 'No', 'id': 86, 'media': '[]', 'negative_sentiment': 0.0029093556, 'positive_sentiment': 0.9473876, 'rating': 5, 'sentiment': 'Positive', 'record_type': 'how_product_is_used'}),\n",
       " Document(page_content='How Product Is Used: Independent play', metadata={'anger': 'No', 'asin': 'B07X7YFZWG', 'asin_variant': 'B07X7YFZWG', 'delight': 'Yes', 'disappointment': 'No', 'id': 87, 'media': '[]', 'negative_sentiment': 0.0035367128, 'positive_sentiment': 0.964998, 'rating': 5, 'sentiment': 'Positive', 'record_type': 'how_product_is_used'}),\n",
       " Document(page_content='How Product Is Used: Entertainment', metadata={'anger': 'No', 'asin': 'B07X7YFZWG', 'asin_variant': 'B07XCRT49W', 'delight': 'Yes', 'disappointment': 'No', 'id': 91, 'media': '[]', 'negative_sentiment': 0.0012154792, 'positive_sentiment': 0.98848164, 'rating': 5, 'sentiment': 'Positive', 'record_type': 'how_product_is_used'}),\n",
       " Document(page_content='How Product Is Used: As a calming tool for sensory-sensitive children during outings', metadata={'anger': 'No', 'asin': 'B07X7YFZWG', 'asin_variant': 'B07X7YFZWG', 'delight': 'Yes', 'disappointment': 'No', 'id': 92, 'media': '[]', 'negative_sentiment': 0.0013398225, 'positive_sentiment': 0.995081, 'rating': 5, 'sentiment': 'Delight', 'record_type': 'how_product_is_used'}),\n",
       " Document(page_content='How Product Is Used: Entertaining children during car rides', metadata={'anger': 'No', 'asin': 'B07X7YFZWG', 'asin_variant': 'B07XCRVK2Y', 'delight': 'No', 'disappointment': 'Yes', 'id': 93, 'media': '[]', 'negative_sentiment': 0.56159973, 'positive_sentiment': 0.18856125, 'rating': 3, 'sentiment': 'Negative', 'record_type': 'how_product_is_used'}),\n",
       " Document(page_content='How Product Is Used: To relieve stress and anxiety', metadata={'anger': 'No', 'asin': 'B07X7YFZWG', 'asin_variant': 'B07XCRT49W', 'delight': 'Yes', 'disappointment': 'No', 'id': 94, 'media': '[]', 'negative_sentiment': 0.009412506, 'positive_sentiment': 0.9684456, 'rating': 5, 'sentiment': 'Positive', 'record_type': 'how_product_is_used'}),\n",
       " Document(page_content='How Product Is Used: Entertainment during travel', metadata={'anger': 'No', 'asin': 'B07X7YFZWG', 'asin_variant': 'B07XCRT49W', 'delight': 'Yes', 'disappointment': 'No', 'id': 96, 'media': '[]', 'negative_sentiment': 0.0131713785, 'positive_sentiment': 0.8599832, 'rating': 5, 'sentiment': 'Positive', 'record_type': 'how_product_is_used'}),\n",
       " Document(page_content='How Product Is Used: Playing', metadata={'anger': 'No', 'asin': 'B07X7YFZWG', 'asin_variant': 'B07X7YFZWG', 'delight': 'Yes', 'disappointment': 'No', 'id': 98, 'media': '[]', 'negative_sentiment': 0.0038992334, 'positive_sentiment': 0.9721893, 'rating': 5, 'sentiment': 'Delight', 'record_type': 'how_product_is_used'}),\n",
       " Document(page_content='How Product Is Used: As a toy that inspires creativity', metadata={'anger': 'No', 'asin': 'B07X7YFZWG', 'asin_variant': 'B07X7YFZWG', 'delight': 'Yes', 'disappointment': 'No', 'id': 99, 'media': '[]', 'negative_sentiment': 0.0015205308, 'positive_sentiment': 0.99634224, 'rating': 5, 'sentiment': 'Delight', 'record_type': 'how_product_is_used'}),\n",
       " Document(page_content='How Product Is Used: As a toy', metadata={'anger': 'No', 'asin': 'B07X7YFZWG', 'asin_variant': 'B07XCRVK2Y', 'delight': 'Yes', 'disappointment': 'No', 'id': 100, 'media': '[]', 'negative_sentiment': 0.0036673853, 'positive_sentiment': 0.9845148, 'rating': 5, 'sentiment': 'Delight', 'record_type': 'how_product_is_used'}),\n",
       " Document(page_content='How Product Is Used: Child enjoys playing with it', metadata={'anger': 'No', 'asin': 'B07X7YFZWG', 'asin_variant': 'B07XCRT49W', 'delight': 'No', 'disappointment': 'No', 'id': 101, 'media': '[]', 'negative_sentiment': 0.08372483, 'positive_sentiment': 0.21347268, 'rating': 4, 'sentiment': 'Neutral', 'record_type': 'how_product_is_used'}),\n",
       " Document(page_content='How Product Is Used: Entertainment for children with ADHD', metadata={'anger': 'No', 'asin': 'B07X7YFZWG', 'asin_variant': 'B07XCRT49W', 'delight': 'Yes', 'disappointment': 'No', 'id': 102, 'media': '[]', 'negative_sentiment': 0.0016126529, 'positive_sentiment': 0.9807529, 'rating': 5, 'sentiment': 'Delight', 'record_type': 'how_product_is_used'}),\n",
       " Document(page_content='How Product Is Used: Entertaining kids during travel', metadata={'anger': 'No', 'asin': 'B07X7YFZWG', 'asin_variant': 'B07XCRT49W', 'delight': 'Yes', 'disappointment': 'No', 'id': 103, 'media': '[]', 'negative_sentiment': 0.0016887865, 'positive_sentiment': 0.9857029, 'rating': 5, 'sentiment': 'Delight', 'record_type': 'how_product_is_used'}),\n",
       " Document(page_content='How Product Is Used: Creating pictures and dropping beads', metadata={'anger': 'No', 'asin': 'B07X7YFZWG', 'asin_variant': 'B07X7YFZWG', 'delight': 'Yes', 'disappointment': 'No', 'id': 105, 'media': '[]', 'negative_sentiment': 0.008518258, 'positive_sentiment': 0.95849633, 'rating': 5, 'sentiment': 'Positive', 'record_type': 'how_product_is_used'}),\n",
       " Document(page_content='How Product Is Used: Entertaining kids', metadata={'anger': 'No', 'asin': 'B07X7YFZWG', 'asin_variant': 'B07XCRT49W', 'delight': 'Yes', 'disappointment': 'No', 'id': 106, 'media': '[\"https://m.media-amazon.com/images/I/71TwhaRDoBL._SL1600_.jpg\",\"https://m.media-amazon.com/images/I/81iyXIgoVTL._SL1600_.jpg\",\"https://m.media-amazon.com/images/I/81xDQUVcDHL._SL1600_.jpg\"]', 'negative_sentiment': 0.2437093, 'positive_sentiment': 0.5982517, 'rating': 4, 'sentiment': 'Positive', 'record_type': 'how_product_is_used'}),\n",
       " Document(page_content='How Product Is Used: For entertainment during travel', metadata={'anger': 'No', 'asin': 'B07X7YFZWG', 'asin_variant': 'B07XCRT49W', 'delight': 'Yes', 'disappointment': 'No', 'id': 107, 'media': '[]', 'negative_sentiment': 0.0038435655, 'positive_sentiment': 0.9576694, 'rating': 5, 'sentiment': 'Positive', 'record_type': 'how_product_is_used'}),\n",
       " Document(page_content='How Product Is Used: Traveling with kids', metadata={'anger': 'No', 'asin': 'B07X7YFZWG', 'asin_variant': 'B07X7YFZWG', 'delight': 'Yes', 'disappointment': 'No', 'id': 108, 'media': '[]', 'negative_sentiment': 0.008082638, 'positive_sentiment': 0.8614047, 'rating': 5, 'sentiment': 'Positive', 'record_type': 'how_product_is_used'}),\n",
       " Document(page_content='How Product Is Used: Entertainment for kids and adults', metadata={'anger': 'No', 'asin': 'B07X7YFZWG', 'asin_variant': 'B07X7YFZWG', 'delight': 'Yes', 'disappointment': 'No', 'id': 109, 'media': '[]', 'negative_sentiment': 0.011751211, 'positive_sentiment': 0.8705236, 'rating': 5, 'sentiment': 'Positive', 'record_type': 'how_product_is_used'}),\n",
       " Document(page_content='How Product Is Used: As a toy for kids', metadata={'anger': 'No', 'asin': 'B085Q4W3WX', 'asin_variant': 'B085Q4W3WX', 'delight': 'Yes', 'disappointment': 'No', 'id': 110, 'media': '[]', 'negative_sentiment': 0.031186977, 'positive_sentiment': 0.8987904, 'rating': 5, 'sentiment': 'Positive', 'record_type': 'how_product_is_used'}),\n",
       " Document(page_content='How Product Is Used: Drawing and making maps in the car', metadata={'anger': 'No', 'asin': 'B085Q4W3WX', 'asin_variant': 'B085Q4W3WX', 'delight': 'Yes', 'disappointment': 'No', 'id': 111, 'media': '[]', 'negative_sentiment': 0.0012667913, 'positive_sentiment': 0.99533737, 'rating': 5, 'sentiment': 'Positive', 'record_type': 'how_product_is_used'}),\n",
       " Document(page_content='How Product Is Used: Playing when bored', metadata={'anger': 'No', 'asin': 'B085Q4W3WX', 'asin_variant': 'B085Q4W3WX', 'delight': 'Yes', 'disappointment': 'No', 'id': 112, 'media': '[]', 'negative_sentiment': 0.0049191043, 'positive_sentiment': 0.97147727, 'rating': 5, 'sentiment': 'Delight', 'record_type': 'how_product_is_used'}),\n",
       " Document(page_content='How Product Is Used: As a toy for a child with ADHD', metadata={'anger': 'No', 'asin': 'B085Q4W3WX', 'asin_variant': 'B085Q4W3WX', 'delight': 'Yes', 'disappointment': 'No', 'id': 114, 'media': '[]', 'negative_sentiment': 0.0022925078, 'positive_sentiment': 0.9252464, 'rating': 4, 'sentiment': 'Positive', 'record_type': 'how_product_is_used'}),\n",
       " Document(page_content='How Product Is Used: Entertaining kids on trips', metadata={'anger': 'No', 'asin': 'B085Q4W3WX', 'asin_variant': 'B09R9MMW6J', 'delight': 'Yes', 'disappointment': 'No', 'id': 115, 'media': '[]', 'negative_sentiment': 0.026567664, 'positive_sentiment': 0.68901414, 'rating': 5, 'sentiment': 'Positive', 'record_type': 'how_product_is_used'}),\n",
       " Document(page_content='How Product Is Used: Entertaining toddlers and adults', metadata={'anger': 'No', 'asin': 'B085Q4W3WX', 'asin_variant': 'B09R9MMW6J', 'delight': 'Yes', 'disappointment': 'No', 'id': 116, 'media': '[]', 'negative_sentiment': 0.0028939415, 'positive_sentiment': 0.9828344, 'rating': 5, 'sentiment': 'Delight', 'record_type': 'how_product_is_used'}),\n",
       " Document(page_content='How Product Is Used: Tactile drawing for blind kids', metadata={'anger': 'No', 'asin': 'B085Q4W3WX', 'asin_variant': 'B09R9MMW6J', 'delight': 'Yes', 'disappointment': 'Yes', 'id': 117, 'media': '[]', 'negative_sentiment': 0.0022564176, 'positive_sentiment': 0.9669887, 'rating': 4, 'sentiment': 'Positive', 'record_type': 'how_product_is_used'}),\n",
       " Document(page_content='How Product Is Used: Playing a game', metadata={'anger': 'No', 'asin': 'B085Q4W3WX', 'asin_variant': 'B09R9MMW6J', 'delight': 'No', 'disappointment': 'Yes', 'id': 118, 'media': '[]', 'negative_sentiment': 0.717211, 'positive_sentiment': 0.028912827, 'rating': 2, 'sentiment': 'Negative', 'record_type': 'how_product_is_used'}),\n",
       " Document(page_content='How Product Is Used: As a toy for young children', metadata={'anger': 'No', 'asin': 'B085Q4W3WX', 'asin_variant': 'B085Q4W3WX', 'delight': 'Yes', 'disappointment': 'No', 'id': 119, 'media': '[]', 'negative_sentiment': 0.058400493, 'positive_sentiment': 0.8559699, 'rating': 5, 'sentiment': 'Positive', 'record_type': 'how_product_is_used'}),\n",
       " Document(page_content='How Product Is Used: Entertaining kids on a plane ride', metadata={'anger': 'No', 'asin': 'B085Q4W3WX', 'asin_variant': 'B085Q4W3WX', 'delight': 'No', 'disappointment': 'Yes', 'id': 121, 'media': '[]', 'negative_sentiment': 0.93638396, 'positive_sentiment': 0.0058278916, 'rating': 3, 'sentiment': 'Negative', 'record_type': 'how_product_is_used'}),\n",
       " Document(page_content='How Product Is Used: As a toy', metadata={'anger': 'No', 'asin': 'B085Q4W3WX', 'asin_variant': 'B085Q4W3WX', 'delight': 'No', 'disappointment': 'Yes', 'id': 122, 'media': '[]', 'negative_sentiment': 0.54973835, 'positive_sentiment': 0.036636595, 'rating': 3, 'sentiment': 'Disappointment', 'record_type': 'how_product_is_used'}),\n",
       " Document(page_content='How Product Is Used: Drawing and writing practice', metadata={'anger': 'No', 'asin': 'B085Q4W3WX', 'asin_variant': 'B085Q4W3WX', 'delight': 'No', 'disappointment': 'Yes', 'id': 124, 'media': '[]', 'negative_sentiment': 0.19086179, 'positive_sentiment': 0.5627335, 'rating': 2, 'sentiment': 'Negative', 'record_type': 'how_product_is_used'}),\n",
       " Document(page_content='How Product Is Used: In a preschool classroom', metadata={'anger': 'No', 'asin': 'B07XCRT49W', 'asin_variant': 'B07X7YFZWG', 'delight': 'Yes', 'disappointment': 'No', 'id': 127, 'media': '[]', 'negative_sentiment': 0.00286821, 'positive_sentiment': 0.9784522, 'rating': 5, 'sentiment': 'Positive', 'record_type': 'how_product_is_used'}),\n",
       " Document(page_content='How Product Is Used: Fidgeting', metadata={'anger': 'No', 'asin': 'B07XCRT49W', 'asin_variant': 'B07XCRT49W', 'delight': 'Yes', 'disappointment': 'No', 'id': 128, 'media': '[]', 'negative_sentiment': 0.0013499174, 'positive_sentiment': 0.99163514, 'rating': 5, 'sentiment': 'Delight', 'record_type': 'how_product_is_used'}),\n",
       " Document(page_content='How Product Is Used: Carried everywhere for creative play', metadata={'anger': 'No', 'asin': 'B07XCRT49W', 'asin_variant': 'B07XCRVK2Y', 'delight': 'Yes', 'disappointment': 'No', 'id': 129, 'media': '[]', 'negative_sentiment': 0.004835684, 'positive_sentiment': 0.95930576, 'rating': 5, 'sentiment': 'Delight', 'record_type': 'how_product_is_used'}),\n",
       " Document(page_content='How Product Is Used: By 5 and 6-year-old children', metadata={'anger': 'No', 'asin': 'B07XCRT49W', 'asin_variant': 'B07XCRT49W', 'delight': 'Yes', 'disappointment': 'No', 'id': 131, 'media': '[]', 'negative_sentiment': 0.0073275333, 'positive_sentiment': 0.96121025, 'rating': 5, 'sentiment': 'Delight', 'record_type': 'how_product_is_used'}),\n",
       " Document(page_content='How Product Is Used: As a fun alternative to screen time', metadata={'anger': 'No', 'asin': 'B07XCRT49W', 'asin_variant': 'B07XCRVK2Y', 'delight': 'Yes', 'disappointment': 'No', 'id': 132, 'media': '[]', 'negative_sentiment': 0.00076666975, 'positive_sentiment': 0.9967983, 'rating': 5, 'sentiment': 'Positive', 'record_type': 'how_product_is_used'}),\n",
       " Document(page_content='How Product Is Used: Playing', metadata={'anger': 'No', 'asin': 'B07XCRT49W', 'asin_variant': 'B07XCRT49W', 'delight': 'Yes', 'disappointment': 'No', 'id': 134, 'media': '[]', 'negative_sentiment': 0.001483686, 'positive_sentiment': 0.9918507, 'rating': 5, 'sentiment': 'Delight', 'record_type': 'how_product_is_used'}),\n",
       " Document(page_content='How Product Is Used: Drawing, passing time during car trips and waiting rooms, playing while reading to kids', metadata={'anger': 'No', 'asin': 'B07XCRT49W', 'asin_variant': 'B07X7YFZWG', 'delight': 'Yes', 'disappointment': 'No', 'id': 135, 'media': '[]', 'negative_sentiment': 0.0147365825, 'positive_sentiment': 0.81372297, 'rating': 5, 'sentiment': 'Delight', 'record_type': 'how_product_is_used'}),\n",
       " Document(page_content='How Product Is Used: Calming during panic attacks', metadata={'anger': 'No', 'asin': 'B07XCRT49W', 'asin_variant': 'B07XCRVK2Y', 'delight': 'Yes', 'disappointment': 'Yes', 'id': 136, 'media': '[\"https://m.media-amazon.com/images/I/71+E+Jhhu4L._SL1600_.jpg\",\"https://m.media-amazon.com/images/I/71piAyzQj4L._SL1600_.jpg\"]', 'negative_sentiment': 0.03329426, 'positive_sentiment': 0.76305103, 'rating': 3, 'sentiment': 'Positive', 'record_type': 'how_product_is_used'}),\n",
       " Document(page_content='How Product Is Used: As a travel toy', metadata={'anger': 'No', 'asin': 'B07XCRT49W', 'asin_variant': 'B07XCRVK2Y', 'delight': 'Yes', 'disappointment': 'No', 'id': 137, 'media': '[]', 'negative_sentiment': 0.006863984, 'positive_sentiment': 0.96552, 'rating': 5, 'sentiment': 'Positive', 'record_type': 'how_product_is_used'}),\n",
       " Document(page_content='How Product Is Used: Writing and drawing', metadata={'anger': 'No', 'asin': 'B07XCRT49W', 'asin_variant': 'B07X7YFZWG', 'delight': 'Yes', 'disappointment': 'No', 'id': 142, 'media': '[]', 'negative_sentiment': 0.053484295, 'positive_sentiment': 0.8472756, 'rating': 5, 'sentiment': 'Positive', 'record_type': 'how_product_is_used'}),\n",
       " Document(page_content='How Product Is Used: Entertainment for kids while traveling', metadata={'anger': 'No', 'asin': 'B07XCRT49W', 'asin_variant': 'B07XCRT49W', 'delight': 'Yes', 'disappointment': 'No', 'id': 143, 'media': '[]', 'negative_sentiment': 0.0009995047, 'positive_sentiment': 0.9955455, 'rating': 5, 'sentiment': 'Delight', 'record_type': 'how_product_is_used'}),\n",
       " Document(page_content='How Product Is Used: Sensory play, drawing', metadata={'anger': 'No', 'asin': 'B07XCRT49W', 'asin_variant': 'B07X7YFZWG', 'delight': 'Yes', 'disappointment': 'Yes', 'id': 144, 'media': '[]', 'negative_sentiment': 0.0017461497, 'positive_sentiment': 0.9808897, 'rating': 5, 'sentiment': 'Positive', 'record_type': 'how_product_is_used'}),\n",
       " Document(page_content='How Product Is Used: To keep kids busy and entertained', metadata={'anger': 'No', 'asin': 'B07XCRT49W', 'asin_variant': 'B07XCRT49W', 'delight': 'Yes', 'disappointment': 'No', 'id': 145, 'media': '[]', 'negative_sentiment': 0.004240698, 'positive_sentiment': 0.9360318, 'rating': 5, 'sentiment': 'Positive', 'record_type': 'how_product_is_used'}),\n",
       " Document(page_content='How Product Is Used: Entertaining kids on long car rides', metadata={'anger': 'No', 'asin': 'B07XCRT49W', 'asin_variant': 'B07XCRVK2Y', 'delight': 'Yes', 'disappointment': 'No', 'id': 146, 'media': '[]', 'negative_sentiment': 0.001675616, 'positive_sentiment': 0.98692256, 'rating': 5, 'sentiment': 'Positive', 'record_type': 'how_product_is_used'}),\n",
       " Document(page_content='How Product Is Used: Frequent use', metadata={'anger': 'No', 'asin': 'B07XCRT49W', 'asin_variant': 'B07XCRT49W', 'delight': 'Yes', 'disappointment': 'No', 'id': 147, 'media': '[]', 'negative_sentiment': 0.006104635, 'positive_sentiment': 0.8876246, 'rating': 5, 'sentiment': 'Positive', 'record_type': 'how_product_is_used'}),\n",
       " Document(page_content='How Product Is Used: Creating patterns', metadata={'anger': 'No', 'asin': 'B07XCRT49W', 'asin_variant': 'B07XCRVK2Y', 'delight': 'Yes', 'disappointment': 'No', 'id': 148, 'media': '[]', 'negative_sentiment': 0.0016030925, 'positive_sentiment': 0.98982185, 'rating': 5, 'sentiment': 'Positive', 'record_type': 'how_product_is_used'}),\n",
       " Document(page_content='How Product Is Used: Writing', metadata={'anger': 'No', 'asin': 'B07XCRT49W', 'asin_variant': 'B07XCRT49W', 'delight': 'No', 'disappointment': 'No', 'id': 150, 'media': '[]', 'negative_sentiment': 0.08414741, 'positive_sentiment': 0.54076976, 'rating': 4, 'sentiment': 'Neutral', 'record_type': 'how_product_is_used'}),\n",
       " Document(page_content='How Product Is Used: As a toy for kids', metadata={'anger': 'No', 'asin': 'B07XCRT49W', 'asin_variant': 'B07XCRT49W', 'delight': 'Yes', 'disappointment': 'No', 'id': 151, 'media': '[\"https://m.media-amazon.com/images/I/7111FhQXA1L._SL1600_.jpg\",\"https://m.media-amazon.com/images/I/71Hw6nsWfbL._SL1600_.jpg\",\"https://m.media-amazon.com/images/I/71ZVV-O9NSL._SL1600_.jpg\",\"https://m.media-amazon.com/images/I/71oAfGx+bYL._SL1600_.jpg\"]', 'negative_sentiment': 0.16732359, 'positive_sentiment': 0.44696385, 'rating': 5, 'sentiment': 'Positive', 'record_type': 'how_product_is_used'}),\n",
       " Document(page_content='How Product Is Used: Entertainment', metadata={'anger': 'No', 'asin': 'B07XCRT49W', 'asin_variant': 'B07XCRVK2Y', 'delight': 'Yes', 'disappointment': 'No', 'id': 152, 'media': '[]', 'negative_sentiment': 0.0016735597, 'positive_sentiment': 0.99198145, 'rating': 5, 'sentiment': 'Positive', 'record_type': 'how_product_is_used'}),\n",
       " Document(page_content='How Product Is Used: For car trips', metadata={'anger': 'No', 'asin': 'B07XCRT49W', 'asin_variant': 'B07XCRVK2Y', 'delight': 'Yes', 'disappointment': 'No', 'id': 153, 'media': '[]', 'negative_sentiment': 0.0020002343, 'positive_sentiment': 0.9868811, 'rating': 5, 'sentiment': 'Positive', 'record_type': 'how_product_is_used'}),\n",
       " Document(page_content='How Product Is Used: Drawing and playing', metadata={'anger': 'No', 'asin': 'B07XCRT49W', 'asin_variant': 'B07X7YFZWG', 'delight': 'Yes', 'disappointment': 'No', 'id': 154, 'media': '[]', 'negative_sentiment': 0.0015558539, 'positive_sentiment': 0.989879, 'rating': 5, 'sentiment': 'Positive', 'record_type': 'how_product_is_used'}),\n",
       " Document(page_content='How Product Is Used: Open-ended play', metadata={'anger': 'No', 'asin': 'B07XCRT49W', 'asin_variant': 'B07XCRT49W', 'delight': 'Yes', 'disappointment': 'No', 'id': 155, 'media': '[]', 'negative_sentiment': 0.004305326, 'positive_sentiment': 0.9528903, 'rating': 5, 'sentiment': 'Positive', 'record_type': 'how_product_is_used'}),\n",
       " Document(page_content='How Product Is Used: In a classroom setting', metadata={'anger': 'No', 'asin': 'B07XCRT49W', 'asin_variant': 'B07XCRT49W', 'delight': 'Yes', 'disappointment': 'Yes', 'id': 156, 'media': '[]', 'negative_sentiment': 0.0024449085, 'positive_sentiment': 0.9793043, 'rating': 4, 'sentiment': 'Positive', 'record_type': 'how_product_is_used'}),\n",
       " Document(page_content='How Product Is Used: Entertainment for kids', metadata={'anger': 'No', 'asin': 'B07XCRT49W', 'asin_variant': 'B07XCRT49W', 'delight': 'Yes', 'disappointment': 'No', 'id': 157, 'media': '[]', 'negative_sentiment': 0.00628501, 'positive_sentiment': 0.9624455, 'rating': 4, 'sentiment': 'Delight', 'record_type': 'how_product_is_used'}),\n",
       " Document(page_content='How Product Is Used: To allow kids to create without making a mess', metadata={'anger': 'No', 'asin': 'B07XCRT49W', 'asin_variant': 'B07X7YFZWG', 'delight': 'Yes', 'disappointment': 'No', 'id': 159, 'media': '[]', 'negative_sentiment': 0.075248286, 'positive_sentiment': 0.77791953, 'rating': 5, 'sentiment': 'Delight', 'record_type': 'how_product_is_used'}),\n",
       " Document(page_content='How Product Is Used: Entertainment for a 4-year-old and adults', metadata={'anger': 'No', 'asin': 'B07XCRT49W', 'asin_variant': 'B07XCRT49W', 'delight': 'Yes', 'disappointment': 'No', 'id': 160, 'media': '[]', 'negative_sentiment': 0.2189661, 'positive_sentiment': 0.53623605, 'rating': 5, 'sentiment': 'Positive', 'record_type': 'how_product_is_used'}),\n",
       " Document(page_content='How Product Is Used: As a toy for a grandchild', metadata={'anger': 'No', 'asin': 'B07XCRT49W', 'asin_variant': 'B07XCRVK2Y', 'delight': 'Yes', 'disappointment': 'No', 'id': 161, 'media': '[]', 'negative_sentiment': 0.31230873, 'positive_sentiment': 0.54137766, 'rating': 5, 'sentiment': 'Positive', 'record_type': 'how_product_is_used'}),\n",
       " Document(page_content='How Product Is Used: As a toy for ASD kids', metadata={'anger': 'No', 'asin': 'B07XCRT49W', 'asin_variant': 'B07X7YFZWG', 'delight': 'Yes', 'disappointment': 'Yes', 'id': 162, 'media': '[]', 'negative_sentiment': 0.03377214, 'positive_sentiment': 0.43200704, 'rating': 3, 'sentiment': 'Mixed', 'record_type': 'how_product_is_used'}),\n",
       " Document(page_content='How Product Is Used: Creating shapes and designs', metadata={'anger': 'No', 'asin': 'B07XCRT49W', 'asin_variant': 'B07XCRVK2Y', 'delight': 'Yes', 'disappointment': 'No', 'id': 164, 'media': '[]', 'negative_sentiment': 0.0019346304, 'positive_sentiment': 0.98664325, 'rating': 5, 'sentiment': 'Delight', 'record_type': 'how_product_is_used'}),\n",
       " Document(page_content='How Product Is Used: In a car', metadata={'anger': 'No', 'asin': 'B07XCRT49W', 'asin_variant': 'B07XCRT49W', 'delight': 'Yes', 'disappointment': 'No', 'id': 178, 'media': '[]', 'negative_sentiment': 0.0064810775, 'positive_sentiment': 0.96859133, 'rating': 5, 'sentiment': 'Positive', 'record_type': 'how_product_is_used'}),\n",
       " Document(page_content='How Product Is Used: Playing during travel', metadata={'anger': 'No', 'asin': 'B07XCRT49W', 'asin_variant': 'B07X7YFZWG', 'delight': 'Yes', 'disappointment': 'No', 'id': 165, 'media': '[]', 'negative_sentiment': 0.009823201, 'positive_sentiment': 0.9696184, 'rating': 5, 'sentiment': 'Positive', 'record_type': 'how_product_is_used'}),\n",
       " Document(page_content='How Product Is Used: As a toy car', metadata={'anger': 'No', 'asin': 'B07XCRT49W', 'asin_variant': 'B07XCRT49W', 'delight': 'Yes', 'disappointment': 'No', 'id': 166, 'media': '[]', 'negative_sentiment': 0.0038723138, 'positive_sentiment': 0.8567428, 'rating': 4, 'sentiment': 'Positive', 'record_type': 'how_product_is_used'}),\n",
       " Document(page_content='How Product Is Used: As a toy for a child recovering from surgery', metadata={'anger': 'No', 'asin': 'B07XCRT49W', 'asin_variant': 'B07XCRVK2Y', 'delight': 'Yes', 'disappointment': 'No', 'id': 169, 'media': '[]', 'negative_sentiment': 0.0017359285, 'positive_sentiment': 0.99027306, 'rating': 5, 'sentiment': 'Positive', 'record_type': 'how_product_is_used'}),\n",
       " Document(page_content='How Product Is Used: Inflight entertainment for a toddler', metadata={'anger': 'No', 'asin': 'B07XCRT49W', 'asin_variant': 'B07X7YFZWG', 'delight': 'Yes', 'disappointment': 'Yes', 'id': 170, 'media': '[]', 'negative_sentiment': 0.031650014, 'positive_sentiment': 0.74128276, 'rating': 4, 'sentiment': 'Positive', 'record_type': 'how_product_is_used'}),\n",
       " Document(page_content='How Product Is Used: As a gift for a 4-year-old granddaughter', metadata={'anger': 'No', 'asin': 'B07XCRT49W', 'asin_variant': 'B07X7YFZWG', 'delight': 'Yes', 'disappointment': 'No', 'id': 171, 'media': '[]', 'negative_sentiment': 0.009052411, 'positive_sentiment': 0.9133711, 'rating': 5, 'sentiment': 'Delight', 'record_type': 'how_product_is_used'}),\n",
       " Document(page_content='How Product Is Used: As a toy for kids', metadata={'anger': 'No', 'asin': 'B07XCRT49W', 'asin_variant': 'B07X7YFZWG', 'delight': 'No', 'disappointment': 'Yes', 'id': 173, 'media': '[]', 'negative_sentiment': 0.6152324, 'positive_sentiment': 0.043475635, 'rating': 2, 'sentiment': 'Negative', 'record_type': 'how_product_is_used'}),\n",
       " Document(page_content='How Product Is Used: Artistic activities', metadata={'anger': 'No', 'asin': 'B07XCRT49W', 'asin_variant': 'B07XCRVK2Y', 'delight': 'Yes', 'disappointment': 'No', 'id': 175, 'media': '[]', 'negative_sentiment': 0.03114447, 'positive_sentiment': 0.9128023, 'rating': 5, 'sentiment': 'Positive', 'record_type': 'how_product_is_used'}),\n",
       " Document(page_content='How Product Is Used: Drawing and writing', metadata={'anger': 'No', 'asin': 'B07XCRT49W', 'asin_variant': 'B07X7YFZWG', 'delight': 'Yes', 'disappointment': 'No', 'id': 176, 'media': '[]', 'negative_sentiment': 0.0049439305, 'positive_sentiment': 0.93783474, 'rating': 5, 'sentiment': 'Positive', 'record_type': 'how_product_is_used'}),\n",
       " Document(page_content='How Product Is Used: As a travel toy', metadata={'anger': 'No', 'asin': 'B07XCRT49W', 'asin_variant': 'B07XCRT49W', 'delight': 'Yes', 'disappointment': 'No', 'id': 177, 'media': '[]', 'negative_sentiment': 0.015774425, 'positive_sentiment': 0.9212595, 'rating': 5, 'sentiment': 'Positive', 'record_type': 'how_product_is_used'}),\n",
       " Document(page_content='How Product Is Used: Playing and learning', metadata={'anger': 'No', 'asin': 'B07XCRT49W', 'asin_variant': 'B07X7YFZWG', 'delight': 'Yes', 'disappointment': 'No', 'id': 179, 'media': '[]', 'negative_sentiment': 0.0013872946, 'positive_sentiment': 0.99215984, 'rating': 5, 'sentiment': 'Positive', 'record_type': 'how_product_is_used'}),\n",
       " Document(page_content='How Product Is Used: Creating figures', metadata={'anger': 'No', 'asin': 'B07XCRT49W', 'asin_variant': 'B07XCRVK2Y', 'delight': 'Yes', 'disappointment': 'No', 'id': 181, 'media': '[]', 'negative_sentiment': 0.031211138, 'positive_sentiment': 0.8507626, 'rating': 5, 'sentiment': 'Positive', 'record_type': 'how_product_is_used'}),\n",
       " Document(page_content='How Product Is Used: Playing with marbles and enjoying the sound effects', metadata={'anger': 'No', 'asin': 'B07XCRT49W', 'asin_variant': 'B07XCRT49W', 'delight': 'Yes', 'disappointment': 'No', 'id': 182, 'media': '[]', 'negative_sentiment': 0.0017676617, 'positive_sentiment': 0.9775227, 'rating': 5, 'sentiment': 'Positive', 'record_type': 'how_product_is_used'}),\n",
       " Document(page_content='How Product Is Used: On a plane', metadata={'anger': 'No', 'asin': 'B07XCRT49W', 'asin_variant': 'B07XCRT49W', 'delight': 'No', 'disappointment': 'Yes', 'id': 185, 'media': '[]', 'negative_sentiment': 0.88118076, 'positive_sentiment': 0.040727623, 'rating': 1, 'sentiment': 'Negative', 'record_type': 'how_product_is_used'}),\n",
       " Document(page_content='How Product Is Used: Entertaining toddlers', metadata={'anger': 'No', 'asin': 'B07XCRT49W', 'asin_variant': 'B07X7YFZWG', 'delight': 'Yes', 'disappointment': 'No', 'id': 186, 'media': '[]', 'negative_sentiment': 0.0028510178, 'positive_sentiment': 0.9869085, 'rating': 5, 'sentiment': 'Positive', 'record_type': 'how_product_is_used'}),\n",
       " Document(page_content='How Product Is Used: Using the pen while driving', metadata={'anger': 'No', 'asin': 'B07XCRT49W', 'asin_variant': 'B07XCRT49W', 'delight': 'No', 'disappointment': 'No', 'id': 187, 'media': '[]', 'negative_sentiment': 0.144063, 'positive_sentiment': 0.39164537, 'rating': 5, 'sentiment': 'Neutral', 'record_type': 'how_product_is_used'}),\n",
       " Document(page_content='How Product Is Used: Keeps kids occupied', metadata={'anger': 'No', 'asin': 'B07XCRT49W', 'asin_variant': 'B07X7YFZWG', 'delight': 'Yes', 'disappointment': 'No', 'id': 188, 'media': '[]', 'negative_sentiment': 0.007430196, 'positive_sentiment': 0.9561633, 'rating': 5, 'sentiment': 'Positive', 'record_type': 'how_product_is_used'}),\n",
       " Document(page_content='How Product Is Used: For drawing during car rides', metadata={'anger': 'No', 'asin': 'B07XCRT49W', 'asin_variant': 'B07X7YFZWG', 'delight': 'Yes', 'disappointment': 'No', 'id': 189, 'media': '[]', 'negative_sentiment': 0.0032026907, 'positive_sentiment': 0.9733579, 'rating': 4, 'sentiment': 'Positive', 'record_type': 'how_product_is_used'}),\n",
       " Document(page_content='How Product Is Used: As an activity during road trips', metadata={'anger': 'No', 'asin': 'B07XCRT49W', 'asin_variant': 'B07XCRT49W', 'delight': 'Yes', 'disappointment': 'No', 'id': 191, 'media': '[]', 'negative_sentiment': 0.0029093556, 'positive_sentiment': 0.9473876, 'rating': 5, 'sentiment': 'Positive', 'record_type': 'how_product_is_used'}),\n",
       " Document(page_content='How Product Is Used: Independent play', metadata={'anger': 'No', 'asin': 'B07XCRT49W', 'asin_variant': 'B07X7YFZWG', 'delight': 'Yes', 'disappointment': 'No', 'id': 192, 'media': '[]', 'negative_sentiment': 0.0035367128, 'positive_sentiment': 0.964998, 'rating': 5, 'sentiment': 'Delight', 'record_type': 'how_product_is_used'}),\n",
       " Document(page_content='How Product Is Used: As a toy for a 4-year-old during car trips and rest time', metadata={'anger': 'No', 'asin': 'B07XCRT49W', 'asin_variant': 'B07XCRT49W', 'delight': 'Yes', 'disappointment': 'Yes', 'id': 196, 'media': '[]', 'negative_sentiment': 0.017144136, 'positive_sentiment': 0.87836814, 'rating': 5, 'sentiment': 'Positive', 'record_type': 'how_product_is_used'}),\n",
       " Document(page_content='How Product Is Used: As a toy in a preschool classroom', metadata={'anger': 'No', 'asin': 'B07XCRT49W', 'asin_variant': 'B07XCRVK2Y', 'delight': 'Yes', 'disappointment': 'No', 'id': 197, 'media': '[]', 'negative_sentiment': 0.0014922095, 'positive_sentiment': 0.9909799, 'rating': 5, 'sentiment': 'Positive', 'record_type': 'how_product_is_used'}),\n",
       " Document(page_content='How Product Is Used: To keep little ones occupied and encourage creativity', metadata={'anger': 'No', 'asin': 'B07XCRT49W', 'asin_variant': 'B07X7YFZWG', 'delight': 'Yes', 'disappointment': 'No', 'id': 199, 'media': '[]', 'negative_sentiment': 0.0057837004, 'positive_sentiment': 0.93223935, 'rating': 5, 'sentiment': 'Positive', 'record_type': 'how_product_is_used'}),\n",
       " Document(page_content='How Product Is Used: As a busy toy for kids', metadata={'anger': 'No', 'asin': 'B07XCRT49W', 'asin_variant': 'B07XCRT49W', 'delight': 'No', 'disappointment': 'Yes', 'id': 200, 'media': '[]', 'negative_sentiment': 0.1594286, 'positive_sentiment': 0.20424652, 'rating': 3, 'sentiment': 'Negative', 'record_type': 'how_product_is_used'}),\n",
       " Document(page_content='How Product Is Used: In a special needs classroom', metadata={'anger': 'No', 'asin': 'B07XCRT49W', 'asin_variant': 'B07X7YFZWG', 'delight': 'Yes', 'disappointment': 'No', 'id': 201, 'media': '[]', 'negative_sentiment': 0.004762329, 'positive_sentiment': 0.97692037, 'rating': 5, 'sentiment': 'Delight', 'record_type': 'how_product_is_used'}),\n",
       " Document(page_content='How Product Is Used: With kindergarten-3rd grade students', metadata={'anger': 'No', 'asin': 'B07XCRT49W', 'asin_variant': 'B07XCRVK2Y', 'delight': 'Yes', 'disappointment': 'No', 'id': 203, 'media': '[]', 'negative_sentiment': 0.01264853, 'positive_sentiment': 0.78163224, 'rating': 4, 'sentiment': 'Positive', 'record_type': 'how_product_is_used'}),\n",
       " Document(page_content='How Product Is Used: Playing', metadata={'anger': 'No', 'asin': 'B07XCRT49W', 'asin_variant': 'B07XCRT49W', 'delight': 'Yes', 'disappointment': 'Yes', 'id': 204, 'media': '[]', 'negative_sentiment': 0.46477747, 'positive_sentiment': 0.12116976, 'rating': 3, 'sentiment': 'Positive', 'record_type': 'how_product_is_used'}),\n",
       " Document(page_content='How Product Is Used: Entertainment', metadata={'anger': 'No', 'asin': 'B07XCRT49W', 'asin_variant': 'B07XCRT49W', 'delight': 'Yes', 'disappointment': 'No', 'id': 206, 'media': '[]', 'negative_sentiment': 0.0012154792, 'positive_sentiment': 0.98848164, 'rating': 5, 'sentiment': 'Positive', 'record_type': 'how_product_is_used'}),\n",
       " Document(page_content='How Product Is Used: In a sensory backpack for outings', metadata={'anger': 'No', 'asin': 'B07XCRT49W', 'asin_variant': 'B07X7YFZWG', 'delight': 'Yes', 'disappointment': 'No', 'id': 207, 'media': '[]', 'negative_sentiment': 0.0013398225, 'positive_sentiment': 0.995081, 'rating': 5, 'sentiment': 'Delight', 'record_type': 'how_product_is_used'}),\n",
       " Document(page_content='How Product Is Used: Entertaining toddlers during car rides', metadata={'anger': 'No', 'asin': 'B07XCRT49W', 'asin_variant': 'B07XCRVK2Y', 'delight': 'No', 'disappointment': 'Yes', 'id': 208, 'media': '[]', 'negative_sentiment': 0.56159973, 'positive_sentiment': 0.18856125, 'rating': 3, 'sentiment': 'Disappointment', 'record_type': 'how_product_is_used'}),\n",
       " Document(page_content='How Product Is Used: Sensory toy for anxiety and stress relief', metadata={'anger': 'No', 'asin': 'B07XCRT49W', 'asin_variant': 'B07XCRT49W', 'delight': 'Yes', 'disappointment': 'No', 'id': 209, 'media': '[]', 'negative_sentiment': 0.009412506, 'positive_sentiment': 0.9684456, 'rating': 5, 'sentiment': 'Positive', 'record_type': 'how_product_is_used'}),\n",
       " Document(page_content='How Product Is Used: Entertainment during travel', metadata={'anger': 'No', 'asin': 'B07XCRT49W', 'asin_variant': 'B07XCRT49W', 'delight': 'Yes', 'disappointment': 'No', 'id': 211, 'media': '[]', 'negative_sentiment': 0.0131713785, 'positive_sentiment': 0.8599832, 'rating': 5, 'sentiment': 'Positive', 'record_type': 'how_product_is_used'}),\n",
       " Document(page_content='How Product Is Used: Playing with family', metadata={'anger': 'No', 'asin': 'B07XCRT49W', 'asin_variant': 'B07X7YFZWG', 'delight': 'Yes', 'disappointment': 'No', 'id': 213, 'media': '[]', 'negative_sentiment': 0.0038992334, 'positive_sentiment': 0.9721893, 'rating': 5, 'sentiment': 'Delight', 'record_type': 'how_product_is_used'}),\n",
       " Document(page_content='How Product Is Used: As a toy that inspires creativity', metadata={'anger': 'No', 'asin': 'B07XCRT49W', 'asin_variant': 'B07X7YFZWG', 'delight': 'Yes', 'disappointment': 'No', 'id': 214, 'media': '[]', 'negative_sentiment': 0.0015205308, 'positive_sentiment': 0.99634224, 'rating': 5, 'sentiment': 'Delight', 'record_type': 'how_product_is_used'}),\n",
       " Document(page_content='How Product Is Used: In the car to keep kids entertained', metadata={'anger': 'No', 'asin': 'B07XCRT49W', 'asin_variant': 'B07XCRVK2Y', 'delight': 'Yes', 'disappointment': 'No', 'id': 215, 'media': '[]', 'negative_sentiment': 0.0028126626, 'positive_sentiment': 0.9258798, 'rating': 4, 'sentiment': 'Positive', 'record_type': 'how_product_is_used'}),\n",
       " Document(page_content='How Product Is Used: For playtime', metadata={'anger': 'No', 'asin': 'B07XCRT49W', 'asin_variant': 'B07XCRVK2Y', 'delight': 'Yes', 'disappointment': 'No', 'id': 216, 'media': '[]', 'negative_sentiment': 0.0017172751, 'positive_sentiment': 0.98994255, 'rating': 5, 'sentiment': 'Delight', 'record_type': 'how_product_is_used'}),\n",
       " Document(page_content='How Product Is Used: Quiet time activity at a restaurant or in the car', metadata={'anger': 'No', 'asin': 'B07XCRT49W', 'asin_variant': 'B07XCRVK2Y', 'delight': 'Yes', 'disappointment': 'No', 'id': 217, 'media': '[]', 'negative_sentiment': 0.0014975389, 'positive_sentiment': 0.9801463, 'rating': 5, 'sentiment': 'Positive', 'record_type': 'how_product_is_used'}),\n",
       " Document(page_content='How Product Is Used: On-the-go entertainment, at restaurants', metadata={'anger': 'No', 'asin': 'B07XCRT49W', 'asin_variant': 'B07X7YFZWG', 'delight': 'Yes', 'disappointment': 'No', 'id': 218, 'media': '[]', 'negative_sentiment': 0.011244018, 'positive_sentiment': 0.96402866, 'rating': 5, 'sentiment': 'Positive', 'record_type': 'how_product_is_used'}),\n",
       " Document(page_content='How Product Is Used: Entertainment for a 6-year-old with autism', metadata={'anger': 'No', 'asin': 'B07XCRT49W', 'asin_variant': 'B07XCRVK2Y', 'delight': 'Yes', 'disappointment': 'No', 'id': 219, 'media': '[]', 'negative_sentiment': 0.0076114484, 'positive_sentiment': 0.9322303, 'rating': 5, 'sentiment': 'Positive', 'record_type': 'how_product_is_used'}),\n",
       " Document(page_content='How Product Is Used: Drawing and writing', metadata={'anger': 'No', 'asin': 'B07XCRT49W', 'asin_variant': 'B07XCRT49W', 'delight': 'Yes', 'disappointment': 'Yes', 'id': 220, 'media': '[]', 'negative_sentiment': 0.0070891073, 'positive_sentiment': 0.9720457, 'rating': 5, 'sentiment': 'Positive', 'record_type': 'how_product_is_used'}),\n",
       " Document(page_content='How Product Is Used: Entertaining kids', metadata={'anger': 'No', 'asin': 'B07XCRT49W', 'asin_variant': 'B07XCRVK2Y', 'delight': 'Yes', 'disappointment': 'No', 'id': 222, 'media': '[]', 'negative_sentiment': 0.0016991259, 'positive_sentiment': 0.98626244, 'rating': 5, 'sentiment': 'Positive', 'record_type': 'how_product_is_used'}),\n",
       " Document(page_content='How Product Is Used: Entertainment for children', metadata={'anger': 'No', 'asin': 'B07XCRT49W', 'asin_variant': 'B07X7YFZWG', 'delight': 'Yes', 'disappointment': 'Yes', 'id': 223, 'media': '[]', 'negative_sentiment': 0.3625862, 'positive_sentiment': 0.27684462, 'rating': 4, 'sentiment': 'Positive', 'record_type': 'how_product_is_used'}),\n",
       " Document(page_content='How Product Is Used: Playing with kids', metadata={'anger': 'No', 'asin': 'B07XCRT49W', 'asin_variant': 'B07XCRVK2Y', 'delight': 'Yes', 'disappointment': 'No', 'id': 225, 'media': '[]', 'negative_sentiment': 0.0036673853, 'positive_sentiment': 0.9845148, 'rating': 5, 'sentiment': 'Positive', 'record_type': 'how_product_is_used'}),\n",
       " Document(page_content=\"How Product Is Used: Child's toy\", metadata={'anger': 'No', 'asin': 'B07XCRT49W', 'asin_variant': 'B07XCRT49W', 'delight': 'No', 'disappointment': 'No', 'id': 226, 'media': '[]', 'negative_sentiment': 0.08372483, 'positive_sentiment': 0.21347268, 'rating': 4, 'sentiment': 'Neutral', 'record_type': 'how_product_is_used'}),\n",
       " Document(page_content='How Product Is Used: Entertainment for children with ADHD', metadata={'anger': 'No', 'asin': 'B07XCRT49W', 'asin_variant': 'B07XCRT49W', 'delight': 'Yes', 'disappointment': 'No', 'id': 227, 'media': '[]', 'negative_sentiment': 0.0016126529, 'positive_sentiment': 0.9807529, 'rating': 5, 'sentiment': 'Positive', 'record_type': 'how_product_is_used'}),\n",
       " Document(page_content='How Product Is Used: Entertaining kids during travel', metadata={'anger': 'No', 'asin': 'B07XCRT49W', 'asin_variant': 'B07XCRT49W', 'delight': 'Yes', 'disappointment': 'No', 'id': 228, 'media': '[]', 'negative_sentiment': 0.0016887865, 'positive_sentiment': 0.9857029, 'rating': 5, 'sentiment': 'Delight', 'record_type': 'how_product_is_used'}),\n",
       " Document(page_content='How Product Is Used: Creating pictures and dropping beads', metadata={'anger': 'No', 'asin': 'B07XCRT49W', 'asin_variant': 'B07X7YFZWG', 'delight': 'Yes', 'disappointment': 'No', 'id': 230, 'media': '[]', 'negative_sentiment': 0.008518258, 'positive_sentiment': 0.95849633, 'rating': 5, 'sentiment': 'Positive', 'record_type': 'how_product_is_used'}),\n",
       " Document(page_content='How Product Is Used: Entertaining kids', metadata={'anger': 'No', 'asin': 'B07XCRT49W', 'asin_variant': 'B07XCRT49W', 'delight': 'Yes', 'disappointment': 'No', 'id': 231, 'media': '[\"https://m.media-amazon.com/images/I/71TwhaRDoBL._SL1600_.jpg\",\"https://m.media-amazon.com/images/I/81iyXIgoVTL._SL1600_.jpg\",\"https://m.media-amazon.com/images/I/81xDQUVcDHL._SL1600_.jpg\"]', 'negative_sentiment': 0.2437093, 'positive_sentiment': 0.5982517, 'rating': 4, 'sentiment': 'Positive', 'record_type': 'how_product_is_used'}),\n",
       " Document(page_content='How Product Is Used: For entertainment during travel', metadata={'anger': 'No', 'asin': 'B07XCRT49W', 'asin_variant': 'B07XCRT49W', 'delight': 'Yes', 'disappointment': 'No', 'id': 232, 'media': '[]', 'negative_sentiment': 0.0038435655, 'positive_sentiment': 0.9576694, 'rating': 5, 'sentiment': 'Positive', 'record_type': 'how_product_is_used'}),\n",
       " Document(page_content='How Product Is Used: Traveling with kids', metadata={'anger': 'No', 'asin': 'B07XCRT49W', 'asin_variant': 'B07X7YFZWG', 'delight': 'Yes', 'disappointment': 'No', 'id': 233, 'media': '[]', 'negative_sentiment': 0.008082638, 'positive_sentiment': 0.8614047, 'rating': 5, 'sentiment': 'Positive', 'record_type': 'how_product_is_used'}),\n",
       " Document(page_content='How Product Is Used: As a toy for kids and adults', metadata={'anger': 'No', 'asin': 'B07XCRT49W', 'asin_variant': 'B07X7YFZWG', 'delight': 'Yes', 'disappointment': 'No', 'id': 234, 'media': '[]', 'negative_sentiment': 0.011751211, 'positive_sentiment': 0.8705236, 'rating': 5, 'sentiment': 'Positive', 'record_type': 'how_product_is_used'}),\n",
       " Document(page_content='How Product Is Used: Entertaining kids on trips', metadata={'anger': 'No', 'asin': 'B09R9MMW6J', 'asin_variant': 'B09R9MMW6J', 'delight': 'Yes', 'disappointment': 'No', 'id': 235, 'media': '[]', 'negative_sentiment': 0.026567664, 'positive_sentiment': 0.68901414, 'rating': 5, 'sentiment': 'Positive', 'record_type': 'how_product_is_used'}),\n",
       " Document(page_content='How Product Is Used: Entertaining toddlers and adults', metadata={'anger': 'No', 'asin': 'B09R9MMW6J', 'asin_variant': 'B09R9MMW6J', 'delight': 'Yes', 'disappointment': 'No', 'id': 236, 'media': '[]', 'negative_sentiment': 0.0028939415, 'positive_sentiment': 0.9828344, 'rating': 5, 'sentiment': 'Delight', 'record_type': 'how_product_is_used'}),\n",
       " Document(page_content='How Product Is Used: Tactile drawing for blind kids', metadata={'anger': 'No', 'asin': 'B09R9MMW6J', 'asin_variant': 'B09R9MMW6J', 'delight': 'Yes', 'disappointment': 'Yes', 'id': 237, 'media': '[]', 'negative_sentiment': 0.0022564176, 'positive_sentiment': 0.9669887, 'rating': 4, 'sentiment': 'Positive', 'record_type': 'how_product_is_used'}),\n",
       " Document(page_content='How Product Is Used: Playing a game', metadata={'anger': 'No', 'asin': 'B09R9MMW6J', 'asin_variant': 'B09R9MMW6J', 'delight': 'No', 'disappointment': 'Yes', 'id': 238, 'media': '[]', 'negative_sentiment': 0.717211, 'positive_sentiment': 0.028912827, 'rating': 2, 'sentiment': 'Negative', 'record_type': 'how_product_is_used'}),\n",
       " Document(page_content='How Product Is Used: As a toy for young children', metadata={'anger': 'No', 'asin': 'B09R9MMW6J', 'asin_variant': 'B085Q4W3WX', 'delight': 'Yes', 'disappointment': 'No', 'id': 239, 'media': '[]', 'negative_sentiment': 0.058400493, 'positive_sentiment': 0.8559699, 'rating': 5, 'sentiment': 'Positive', 'record_type': 'how_product_is_used'}),\n",
       " Document(page_content='How Product Is Used: Entertaining kids on a plane ride', metadata={'anger': 'No', 'asin': 'B09R9MMW6J', 'asin_variant': 'B085Q4W3WX', 'delight': 'No', 'disappointment': 'Yes', 'id': 241, 'media': '[]', 'negative_sentiment': 0.93638396, 'positive_sentiment': 0.0058278916, 'rating': 3, 'sentiment': 'Negative', 'record_type': 'how_product_is_used'}),\n",
       " Document(page_content='How Product Is Used: Drawing and writing practice', metadata={'anger': 'No', 'asin': 'B09R9MMW6J', 'asin_variant': 'B085Q4W3WX', 'delight': 'No', 'disappointment': 'Yes', 'id': 244, 'media': '[]', 'negative_sentiment': 0.19086179, 'positive_sentiment': 0.5627335, 'rating': 2, 'sentiment': 'Negative', 'record_type': 'how_product_is_used'}),\n",
       " Document(page_content='How Product Is Used: As a toy for kids', metadata={'anger': 'No', 'asin': 'B09R9MMW6J', 'asin_variant': 'B085Q4W3WX', 'delight': 'Yes', 'disappointment': 'No', 'id': 245, 'media': '[]', 'negative_sentiment': 0.031186977, 'positive_sentiment': 0.8987904, 'rating': 5, 'sentiment': 'Positive', 'record_type': 'how_product_is_used'}),\n",
       " Document(page_content='How Product Is Used: Drawing and making maps in the car', metadata={'anger': 'No', 'asin': 'B09R9MMW6J', 'asin_variant': 'B085Q4W3WX', 'delight': 'Yes', 'disappointment': 'No', 'id': 246, 'media': '[]', 'negative_sentiment': 0.0012667913, 'positive_sentiment': 0.99533737, 'rating': 5, 'sentiment': 'Positive', 'record_type': 'how_product_is_used'}),\n",
       " Document(page_content='How Product Is Used: Playing when bored', metadata={'anger': 'No', 'asin': 'B09R9MMW6J', 'asin_variant': 'B085Q4W3WX', 'delight': 'Yes', 'disappointment': 'No', 'id': 247, 'media': '[]', 'negative_sentiment': 0.0049191043, 'positive_sentiment': 0.97147727, 'rating': 5, 'sentiment': 'Positive', 'record_type': 'how_product_is_used'}),\n",
       " Document(page_content='How Product Is Used: As a toy for a child with ADHD', metadata={'anger': 'No', 'asin': 'B09R9MMW6J', 'asin_variant': 'B085Q4W3WX', 'delight': 'Yes', 'disappointment': 'No', 'id': 249, 'media': '[]', 'negative_sentiment': 0.0022925078, 'positive_sentiment': 0.9252464, 'rating': 4, 'sentiment': 'Positive', 'record_type': 'how_product_is_used'}),\n",
       " Document(page_content='How Product Is Used: To write braille and make pictures', metadata={'anger': 'No', 'asin': 'B07ZJ8HRN8', 'asin_variant': 'B07ZJ8HRN8', 'delight': 'Yes', 'disappointment': 'No', 'id': 252, 'media': '[]', 'negative_sentiment': 0.0037985253, 'positive_sentiment': 0.9801918, 'rating': 5, 'sentiment': 'Positive', 'record_type': 'how_product_is_used'}),\n",
       " Document(page_content='How Product Is Used: As a toy for young children', metadata={'anger': 'No', 'asin': 'B07ZJ8HRN8', 'asin_variant': 'B07ZJ8HRN8', 'delight': 'Yes', 'disappointment': 'No', 'id': 253, 'media': '[]', 'negative_sentiment': 0.04272703, 'positive_sentiment': 0.89285386, 'rating': 5, 'sentiment': 'Positive', 'record_type': 'how_product_is_used'}),\n",
       " Document(page_content='How Product Is Used: As a toy for a 5-year-old, but enjoyed by people of all ages', metadata={'anger': 'No', 'asin': 'B07ZJ8HRN8', 'asin_variant': 'B07ZJ8HRN8', 'delight': 'Yes', 'disappointment': 'No', 'id': 254, 'media': '[]', 'negative_sentiment': 0.003426453, 'positive_sentiment': 0.955393, 'rating': 5, 'sentiment': 'Positive', 'record_type': 'how_product_is_used'}),\n",
       " Document(page_content='How Product Is Used: As an extra thing for a trip in the car', metadata={'anger': 'No', 'asin': 'B07ZJ8HRN8', 'asin_variant': 'B07ZJ8HRN8', 'delight': 'Yes', 'disappointment': 'No', 'id': 255, 'media': '[]', 'negative_sentiment': 0.0030472912, 'positive_sentiment': 0.99169624, 'rating': 5, 'sentiment': 'Positive', 'record_type': 'how_product_is_used'}),\n",
       " Document(page_content='How Product Is Used: Entertainment', metadata={'anger': 'No', 'asin': 'B07QXMLSS5', 'asin_variant': 'B07QXMLSS5', 'delight': 'Yes', 'disappointment': 'No', 'id': 258, 'media': '[]', 'negative_sentiment': 0.0027656304, 'positive_sentiment': 0.98571455, 'rating': 5, 'sentiment': 'Delight', 'record_type': 'how_product_is_used'}),\n",
       " Document(page_content='How Product Is Used: As a toy for kids and adults', metadata={'anger': 'No', 'asin': 'B07QXMLSS5', 'asin_variant': 'B07QXMLSS5', 'delight': 'Yes', 'disappointment': 'No', 'id': 259, 'media': '[]', 'negative_sentiment': 0.0011009491, 'positive_sentiment': 0.99508256, 'rating': 5, 'sentiment': 'Positive', 'record_type': 'how_product_is_used'}),\n",
       " Document(page_content='How Product Is Used: For creative designs and entertainment', metadata={'anger': 'No', 'asin': 'B07QXMLSS5', 'asin_variant': 'B07QXMLSS5', 'delight': 'Yes', 'disappointment': 'No', 'id': 260, 'media': '[]', 'negative_sentiment': 0.0051616905, 'positive_sentiment': 0.8814366, 'rating': 5, 'sentiment': 'Positive', 'record_type': 'how_product_is_used'}),\n",
       " Document(page_content='How Product Is Used: Entertainment for kids', metadata={'anger': 'No', 'asin': 'B07QXMLSS5', 'asin_variant': 'B07QXMLSS5', 'delight': 'Yes', 'disappointment': 'No', 'id': 261, 'media': '[]', 'negative_sentiment': 0.013261054, 'positive_sentiment': 0.79370666, 'rating': 5, 'sentiment': 'Positive', 'record_type': 'how_product_is_used'}),\n",
       " Document(page_content='How Product Is Used: Playing with friends, travel', metadata={'anger': 'No', 'asin': 'B07QXMLSS5', 'asin_variant': 'B07QXMLSS5', 'delight': 'Yes', 'disappointment': 'No', 'id': 263, 'media': '[]', 'negative_sentiment': 0.003974648, 'positive_sentiment': 0.96343535, 'rating': 5, 'sentiment': 'Delight', 'record_type': 'how_product_is_used'}),\n",
       " Document(page_content='How Product Is Used: Practicing letters and numbers', metadata={'anger': 'No', 'asin': 'B085Q3TLF8', 'asin_variant': 'B09R9NNNGN', 'delight': 'Yes', 'disappointment': 'No', 'id': 264, 'media': '[\"https://m.media-amazon.com/images/I/71JQ12EfFwL._SL1600_.jpg\",\"https://m.media-amazon.com/images/I/71gt3yAXCNL._SL1600_.jpg\"]', 'negative_sentiment': 0.0013628579, 'positive_sentiment': 0.9958982, 'rating': 5, 'sentiment': 'Delight', 'record_type': 'how_product_is_used'}),\n",
       " Document(page_content='How Product Is Used: As a toy for a special needs individual', metadata={'anger': 'No', 'asin': 'B085Q3TLF8', 'asin_variant': 'B09R9NNNGN', 'delight': 'Yes', 'disappointment': 'Yes', 'id': 266, 'media': '[]', 'negative_sentiment': 0.165197, 'positive_sentiment': 0.23204093, 'rating': 2, 'sentiment': 'Mixed', 'record_type': 'how_product_is_used'}),\n",
       " Document(page_content='How Product Is Used: As a toy', metadata={'anger': 'No', 'asin': 'B085Q3TLF8', 'asin_variant': 'B085Q3TLF8', 'delight': 'Yes', 'disappointment': 'No', 'id': 267, 'media': '[]', 'negative_sentiment': 0.008233564, 'positive_sentiment': 0.8368762, 'rating': 4, 'sentiment': 'Positive', 'record_type': 'how_product_is_used'}),\n",
       " Document(page_content='How Product Is Used: Plane travel, road trips', metadata={'anger': 'No', 'asin': 'B07Q899BPB', 'asin_variant': 'B083CX6B27', 'delight': 'No', 'disappointment': 'Yes', 'id': 269, 'media': '[]', 'negative_sentiment': 0.53835905, 'positive_sentiment': 0.048403688, 'rating': 5, 'sentiment': 'Negative', 'record_type': 'how_product_is_used'}),\n",
       " Document(page_content='How Product Is Used: Drawing', metadata={'anger': 'No', 'asin': 'B07Q899BPB', 'asin_variant': 'B07Q899BPB', 'delight': 'No', 'disappointment': 'Yes', 'id': 284, 'media': '[]', 'negative_sentiment': 0.9263665, 'positive_sentiment': 0.0061604846, 'rating': 2, 'sentiment': 'Negative', 'record_type': 'how_product_is_used'}),\n",
       " Document(page_content='How Product Is Used: Writing', metadata={'anger': 'No', 'asin': 'B07Q899BPB', 'asin_variant': 'B083CX6B27', 'delight': 'No', 'disappointment': 'Yes', 'id': 270, 'media': '[\"https://m.media-amazon.com/images/I/71bRAOERe7L._SL1600_.jpg\"]', 'negative_sentiment': 0.9963757, 'positive_sentiment': 0.0007116116, 'rating': 1, 'sentiment': 'Negative', 'record_type': 'how_product_is_used'}),\n",
       " Document(page_content='How Product Is Used: Imaginative play, one-on-one time', metadata={'anger': 'No', 'asin': 'B07Q899BPB', 'asin_variant': 'B07Q899BPB', 'delight': 'Yes', 'disappointment': 'No', 'id': 271, 'media': '[]', 'negative_sentiment': 0.0065626632, 'positive_sentiment': 0.93110853, 'rating': 5, 'sentiment': 'Positive', 'record_type': 'how_product_is_used'}),\n",
       " Document(page_content='How Product Is Used: As a toy for kids to play with', metadata={'anger': 'No', 'asin': 'B07Q899BPB', 'asin_variant': 'B083CX6B27', 'delight': 'Yes', 'disappointment': 'No', 'id': 272, 'media': '[]', 'negative_sentiment': 0.0020822764, 'positive_sentiment': 0.97095275, 'rating': 5, 'sentiment': 'Positive', 'record_type': 'how_product_is_used'}),\n",
       " Document(page_content='How Product Is Used: Building and playing', metadata={'anger': 'No', 'asin': 'B07Q899BPB', 'asin_variant': 'B083CX6B27', 'delight': 'Yes', 'disappointment': 'No', 'id': 274, 'media': '[]', 'negative_sentiment': 0.008581139, 'positive_sentiment': 0.9543432, 'rating': 5, 'sentiment': 'Delight', 'record_type': 'how_product_is_used'}),\n",
       " Document(page_content=\"How Product Is Used: For kids' learning stage\", metadata={'anger': 'No', 'asin': 'B07Q899BPB', 'asin_variant': 'B083CX6B27', 'delight': 'Yes', 'disappointment': 'No', 'id': 275, 'media': '[]', 'negative_sentiment': 0.0059059435, 'positive_sentiment': 0.90755916, 'rating': 5, 'sentiment': 'Positive', 'record_type': 'how_product_is_used'}),\n",
       " Document(page_content='How Product Is Used: Drawing and writing', metadata={'anger': 'No', 'asin': 'B07Q899BPB', 'asin_variant': 'B083CX6B27', 'delight': 'No', 'disappointment': 'Yes', 'id': 276, 'media': '[]', 'negative_sentiment': 0.27658004, 'positive_sentiment': 0.16960192, 'rating': 3, 'sentiment': 'Negative', 'record_type': 'how_product_is_used'}),\n",
       " Document(page_content='How Product Is Used: Learning the alphabet', metadata={'anger': 'No', 'asin': 'B07Q899BPB', 'asin_variant': 'B083CX6B27', 'delight': 'Yes', 'disappointment': 'No', 'id': 277, 'media': '[]', 'negative_sentiment': 0.011189248, 'positive_sentiment': 0.88194543, 'rating': 5, 'sentiment': 'Positive', 'record_type': 'how_product_is_used'}),\n",
       " Document(page_content='How Product Is Used: Tracing letters and tactile stimulation', metadata={'anger': 'No', 'asin': 'B07Q899BPB', 'asin_variant': 'B083CX6B27', 'delight': 'Yes', 'disappointment': 'No', 'id': 278, 'media': '[]', 'negative_sentiment': 0.0035718451, 'positive_sentiment': 0.8872426, 'rating': 5, 'sentiment': 'Positive', 'record_type': 'how_product_is_used'}),\n",
       " Document(page_content='How Product Is Used: Practicing pencil grip, letter exposure, drawing, fidgeting', metadata={'anger': 'No', 'asin': 'B07Q899BPB', 'asin_variant': 'B083CX6B27', 'delight': 'Yes', 'disappointment': 'Yes', 'id': 281, 'media': '[]', 'negative_sentiment': 0.0035932977, 'positive_sentiment': 0.9446826, 'rating': 5, 'sentiment': 'Positive', 'record_type': 'how_product_is_used'}),\n",
       " Document(page_content='How Product Is Used: Drawing and playing with beads', metadata={'anger': 'No', 'asin': 'B07Q899BPB', 'asin_variant': 'B083CX6B27', 'delight': 'No', 'disappointment': 'Yes', 'id': 283, 'media': '[]', 'negative_sentiment': 0.9633163, 'positive_sentiment': 0.0032321606, 'rating': 2, 'sentiment': 'Negative', 'record_type': 'how_product_is_used'}),\n",
       " Document(page_content='How Product Is Used: In a preschool classroom', metadata={'anger': 'No', 'asin': 'B07XCRVK2Y', 'asin_variant': 'B07X7YFZWG', 'delight': 'Yes', 'disappointment': 'No', 'id': 287, 'media': '[]', 'negative_sentiment': 0.00286821, 'positive_sentiment': 0.9784522, 'rating': 5, 'sentiment': 'Positive', 'record_type': 'how_product_is_used'}),\n",
       " Document(page_content='How Product Is Used: Fidgeting', metadata={'anger': 'No', 'asin': 'B07XCRVK2Y', 'asin_variant': 'B07XCRT49W', 'delight': 'Yes', 'disappointment': 'No', 'id': 288, 'media': '[]', 'negative_sentiment': 0.0013499174, 'positive_sentiment': 0.99163514, 'rating': 5, 'sentiment': 'Delight', 'record_type': 'how_product_is_used'}),\n",
       " Document(page_content='How Product Is Used: Carried everywhere for creative play', metadata={'anger': 'No', 'asin': 'B07XCRVK2Y', 'asin_variant': 'B07XCRVK2Y', 'delight': 'Yes', 'disappointment': 'No', 'id': 289, 'media': '[]', 'negative_sentiment': 0.004835684, 'positive_sentiment': 0.95930576, 'rating': 5, 'sentiment': 'Delight', 'record_type': 'how_product_is_used'}),\n",
       " Document(page_content='How Product Is Used: Taking notes, writing reminders', metadata={'anger': 'No', 'asin': 'B07XCRVK2Y', 'asin_variant': 'B07XCRT49W', 'delight': 'Yes', 'disappointment': 'No', 'id': 290, 'media': '[]', 'negative_sentiment': 0.031684384, 'positive_sentiment': 0.5824139, 'rating': 4, 'sentiment': 'Positive', 'record_type': 'how_product_is_used'}),\n",
       " Document(page_content='How Product Is Used: By 5 and 6-year-old children', metadata={'anger': 'No', 'asin': 'B07XCRVK2Y', 'asin_variant': 'B07XCRT49W', 'delight': 'Yes', 'disappointment': 'No', 'id': 291, 'media': '[]', 'negative_sentiment': 0.0073275333, 'positive_sentiment': 0.96121025, 'rating': 5, 'sentiment': 'Positive', 'record_type': 'how_product_is_used'}),\n",
       " Document(page_content='How Product Is Used: As a fun alternative to screen time', metadata={'anger': 'No', 'asin': 'B07XCRVK2Y', 'asin_variant': 'B07XCRVK2Y', 'delight': 'Yes', 'disappointment': 'No', 'id': 292, 'media': '[]', 'negative_sentiment': 0.00076666975, 'positive_sentiment': 0.9967983, 'rating': 5, 'sentiment': 'Positive', 'record_type': 'how_product_is_used'}),\n",
       " Document(page_content='How Product Is Used: Playing', metadata={'anger': 'No', 'asin': 'B07XCRVK2Y', 'asin_variant': 'B07XCRT49W', 'delight': 'Yes', 'disappointment': 'No', 'id': 294, 'media': '[]', 'negative_sentiment': 0.001483686, 'positive_sentiment': 0.9918507, 'rating': 5, 'sentiment': 'Delight', 'record_type': 'how_product_is_used'}),\n",
       " Document(page_content='How Product Is Used: Keeping kids busy and having fun', metadata={'anger': 'No', 'asin': 'B07XCRVK2Y', 'asin_variant': 'B07XCRT49W', 'delight': 'Yes', 'disappointment': 'No', 'id': 295, 'media': '[]', 'negative_sentiment': 0.004240698, 'positive_sentiment': 0.9360318, 'rating': 5, 'sentiment': 'Positive', 'record_type': 'how_product_is_used'}),\n",
       " Document(page_content='How Product Is Used: Entertaining kids on long car rides', metadata={'anger': 'No', 'asin': 'B07XCRVK2Y', 'asin_variant': 'B07XCRVK2Y', 'delight': 'Yes', 'disappointment': 'No', 'id': 296, 'media': '[]', 'negative_sentiment': 0.001675616, 'positive_sentiment': 0.98692256, 'rating': 5, 'sentiment': 'Positive', 'record_type': 'how_product_is_used'}),\n",
       " Document(page_content='How Product Is Used: Frequent use', metadata={'anger': 'No', 'asin': 'B07XCRVK2Y', 'asin_variant': 'B07XCRT49W', 'delight': 'Yes', 'disappointment': 'No', 'id': 297, 'media': '[]', 'negative_sentiment': 0.006104635, 'positive_sentiment': 0.8876246, 'rating': 5, 'sentiment': 'Positive', 'record_type': 'how_product_is_used'}),\n",
       " Document(page_content='How Product Is Used: Creating patterns', metadata={'anger': 'No', 'asin': 'B07XCRVK2Y', 'asin_variant': 'B07XCRVK2Y', 'delight': 'Yes', 'disappointment': 'No', 'id': 298, 'media': '[]', 'negative_sentiment': 0.0016030925, 'positive_sentiment': 0.98982185, 'rating': 5, 'sentiment': 'Positive', 'record_type': 'how_product_is_used'}),\n",
       " Document(page_content='How Product Is Used: Writing', metadata={'anger': 'No', 'asin': 'B07XCRVK2Y', 'asin_variant': 'B07XCRT49W', 'delight': 'No', 'disappointment': 'No', 'id': 300, 'media': '[]', 'negative_sentiment': 0.08414741, 'positive_sentiment': 0.54076976, 'rating': 4, 'sentiment': 'Neutral', 'record_type': 'how_product_is_used'}),\n",
       " Document(page_content='How Product Is Used: As a toy for kids', metadata={'anger': 'No', 'asin': 'B07XCRVK2Y', 'asin_variant': 'B07X7YFZWG', 'delight': 'No', 'disappointment': 'Yes', 'id': 313, 'media': '[]', 'negative_sentiment': 0.6152324, 'positive_sentiment': 0.043475635, 'rating': 2, 'sentiment': 'Negative', 'record_type': 'how_product_is_used'}),\n",
       " Document(page_content='How Product Is Used: Car use', metadata={'anger': 'No', 'asin': 'B07XCRVK2Y', 'asin_variant': 'B07XCRT49W', 'delight': 'No', 'disappointment': 'Yes', 'id': 357, 'media': '[]', 'negative_sentiment': 0.144063, 'positive_sentiment': 0.39164537, 'rating': 5, 'sentiment': 'Neutral', 'record_type': 'how_product_is_used'}),\n",
       " Document(page_content='How Product Is Used: As a toy for kids', metadata={'anger': 'No', 'asin': 'B07XCRVK2Y', 'asin_variant': 'B07XCRT49W', 'delight': 'Yes', 'disappointment': 'No', 'id': 301, 'media': '[\"https://m.media-amazon.com/images/I/7111FhQXA1L._SL1600_.jpg\",\"https://m.media-amazon.com/images/I/71Hw6nsWfbL._SL1600_.jpg\",\"https://m.media-amazon.com/images/I/71ZVV-O9NSL._SL1600_.jpg\",\"https://m.media-amazon.com/images/I/71oAfGx+bYL._SL1600_.jpg\"]', 'negative_sentiment': 0.16732359, 'positive_sentiment': 0.44696385, 'rating': 5, 'sentiment': 'Positive', 'record_type': 'how_product_is_used'}),\n",
       " Document(page_content='How Product Is Used: Entertainment', metadata={'anger': 'No', 'asin': 'B07XCRVK2Y', 'asin_variant': 'B07XCRVK2Y', 'delight': 'Yes', 'disappointment': 'No', 'id': 302, 'media': '[]', 'negative_sentiment': 0.0016735597, 'positive_sentiment': 0.99198145, 'rating': 5, 'sentiment': 'Positive', 'record_type': 'how_product_is_used'}),\n",
       " Document(page_content='How Product Is Used: For car trips', metadata={'anger': 'No', 'asin': 'B07XCRVK2Y', 'asin_variant': 'B07XCRVK2Y', 'delight': 'Yes', 'disappointment': 'No', 'id': 303, 'media': '[]', 'negative_sentiment': 0.0020002343, 'positive_sentiment': 0.9868811, 'rating': 5, 'sentiment': 'Positive', 'record_type': 'how_product_is_used'}),\n",
       " Document(page_content='How Product Is Used: Drawing and playing', metadata={'anger': 'No', 'asin': 'B07XCRVK2Y', 'asin_variant': 'B07X7YFZWG', 'delight': 'Yes', 'disappointment': 'No', 'id': 304, 'media': '[]', 'negative_sentiment': 0.0015558539, 'positive_sentiment': 0.989879, 'rating': 5, 'sentiment': 'Positive', 'record_type': 'how_product_is_used'}),\n",
       " Document(page_content='How Product Is Used: Playing during travel', metadata={'anger': 'No', 'asin': 'B07XCRVK2Y', 'asin_variant': 'B07X7YFZWG', 'delight': 'Yes', 'disappointment': 'No', 'id': 305, 'media': '[]', 'negative_sentiment': 0.009823201, 'positive_sentiment': 0.9696184, 'rating': 5, 'sentiment': 'Positive', 'record_type': 'how_product_is_used'}),\n",
       " Document(page_content='How Product Is Used: As a toy car', metadata={'anger': 'No', 'asin': 'B07XCRVK2Y', 'asin_variant': 'B07XCRT49W', 'delight': 'Yes', 'disappointment': 'No', 'id': 306, 'media': '[]', 'negative_sentiment': 0.0038723138, 'positive_sentiment': 0.8567428, 'rating': 4, 'sentiment': 'Positive', 'record_type': 'how_product_is_used'}),\n",
       " Document(page_content='How Product Is Used: As a toy for a child recovering from surgery', metadata={'anger': 'No', 'asin': 'B07XCRVK2Y', 'asin_variant': 'B07XCRVK2Y', 'delight': 'Yes', 'disappointment': 'No', 'id': 309, 'media': '[]', 'negative_sentiment': 0.0017359285, 'positive_sentiment': 0.99027306, 'rating': 5, 'sentiment': 'Positive', 'record_type': 'how_product_is_used'}),\n",
       " Document(page_content='How Product Is Used: Inflight entertainment for a toddler', metadata={'anger': 'No', 'asin': 'B07XCRVK2Y', 'asin_variant': 'B07X7YFZWG', 'delight': 'Yes', 'disappointment': 'Yes', 'id': 310, 'media': '[]', 'negative_sentiment': 0.031650014, 'positive_sentiment': 0.74128276, 'rating': 4, 'sentiment': 'Positive', 'record_type': 'how_product_is_used'}),\n",
       " Document(page_content='How Product Is Used: As a gift for a 4-year-old granddaughter', metadata={'anger': 'No', 'asin': 'B07XCRVK2Y', 'asin_variant': 'B07X7YFZWG', 'delight': 'Yes', 'disappointment': 'No', 'id': 311, 'media': '[]', 'negative_sentiment': 0.009052411, 'positive_sentiment': 0.9133711, 'rating': 5, 'sentiment': 'Delight', 'record_type': 'how_product_is_used'}),\n",
       " Document(page_content='How Product Is Used: Open-ended play', metadata={'anger': 'No', 'asin': 'B07XCRVK2Y', 'asin_variant': 'B07XCRT49W', 'delight': 'Yes', 'disappointment': 'No', 'id': 315, 'media': '[]', 'negative_sentiment': 0.004305326, 'positive_sentiment': 0.9528903, 'rating': 5, 'sentiment': 'Positive', 'record_type': 'how_product_is_used'}),\n",
       " Document(page_content='How Product Is Used: In a classroom setting', metadata={'anger': 'No', 'asin': 'B07XCRVK2Y', 'asin_variant': 'B07XCRT49W', 'delight': 'Yes', 'disappointment': 'Yes', 'id': 316, 'media': '[]', 'negative_sentiment': 0.0024449085, 'positive_sentiment': 0.9793043, 'rating': 4, 'sentiment': 'Positive', 'record_type': 'how_product_is_used'}),\n",
       " Document(page_content='How Product Is Used: Entertainment for kids', metadata={'anger': 'No', 'asin': 'B07XCRVK2Y', 'asin_variant': 'B07XCRT49W', 'delight': 'Yes', 'disappointment': 'No', 'id': 317, 'media': '[]', 'negative_sentiment': 0.00628501, 'positive_sentiment': 0.9624455, 'rating': 4, 'sentiment': 'Delight', 'record_type': 'how_product_is_used'}),\n",
       " Document(page_content='How Product Is Used: To allow kids to create without making a mess', metadata={'anger': 'No', 'asin': 'B07XCRVK2Y', 'asin_variant': 'B07X7YFZWG', 'delight': 'Yes', 'disappointment': 'No', 'id': 319, 'media': '[]', 'negative_sentiment': 0.075248286, 'positive_sentiment': 0.77791953, 'rating': 5, 'sentiment': 'Delight', 'record_type': 'how_product_is_used'}),\n",
       " Document(page_content='How Product Is Used: Entertainment for a 4-year-old and adults', metadata={'anger': 'No', 'asin': 'B07XCRVK2Y', 'asin_variant': 'B07XCRT49W', 'delight': 'Yes', 'disappointment': 'No', 'id': 320, 'media': '[]', 'negative_sentiment': 0.2189661, 'positive_sentiment': 0.53623605, 'rating': 5, 'sentiment': 'Positive', 'record_type': 'how_product_is_used'}),\n",
       " Document(page_content='How Product Is Used: As a toy for a grandchild', metadata={'anger': 'No', 'asin': 'B07XCRVK2Y', 'asin_variant': 'B07XCRVK2Y', 'delight': 'Yes', 'disappointment': 'No', 'id': 321, 'media': '[]', 'negative_sentiment': 0.31230873, 'positive_sentiment': 0.54137766, 'rating': 5, 'sentiment': 'Positive', 'record_type': 'how_product_is_used'}),\n",
       " Document(page_content='How Product Is Used: As a toy for ASD kids', metadata={'anger': 'No', 'asin': 'B07XCRVK2Y', 'asin_variant': 'B07X7YFZWG', 'delight': 'Yes', 'disappointment': 'Yes', 'id': 322, 'media': '[]', 'negative_sentiment': 0.03377214, 'positive_sentiment': 0.43200704, 'rating': 3, 'sentiment': 'Mixed', 'record_type': 'how_product_is_used'}),\n",
       " Document(page_content='How Product Is Used: Creating shapes and designs', metadata={'anger': 'No', 'asin': 'B07XCRVK2Y', 'asin_variant': 'B07XCRVK2Y', 'delight': 'Yes', 'disappointment': 'No', 'id': 324, 'media': '[]', 'negative_sentiment': 0.0019346304, 'positive_sentiment': 0.98664325, 'rating': 5, 'sentiment': 'Delight', 'record_type': 'how_product_is_used'}),\n",
       " Document(page_content='How Product Is Used: Drawing, passing time during car trips and waiting rooms, playing while reading to kids', metadata={'anger': 'No', 'asin': 'B07XCRVK2Y', 'asin_variant': 'B07X7YFZWG', 'delight': 'Yes', 'disappointment': 'No', 'id': 325, 'media': '[]', 'negative_sentiment': 0.0147365825, 'positive_sentiment': 0.81372297, 'rating': 5, 'sentiment': 'Delight', 'record_type': 'how_product_is_used'}),\n",
       " Document(page_content='How Product Is Used: Calming during panic attacks', metadata={'anger': 'No', 'asin': 'B07XCRVK2Y', 'asin_variant': 'B07XCRVK2Y', 'delight': 'Yes', 'disappointment': 'Yes', 'id': 326, 'media': '[\"https://m.media-amazon.com/images/I/71+E+Jhhu4L._SL1600_.jpg\",\"https://m.media-amazon.com/images/I/71piAyzQj4L._SL1600_.jpg\"]', 'negative_sentiment': 0.03329426, 'positive_sentiment': 0.76305103, 'rating': 3, 'sentiment': 'Mixed', 'record_type': 'how_product_is_used'}),\n",
       " Document(page_content='How Product Is Used: Entertaining during travel', metadata={'anger': 'No', 'asin': 'B07XCRVK2Y', 'asin_variant': 'B07XCRVK2Y', 'delight': 'Yes', 'disappointment': 'No', 'id': 327, 'media': '[]', 'negative_sentiment': 0.006863984, 'positive_sentiment': 0.96552, 'rating': 5, 'sentiment': 'Delight', 'record_type': 'how_product_is_used'}),\n",
       " Document(page_content='How Product Is Used: Writing and drawing', metadata={'anger': 'No', 'asin': 'B07XCRVK2Y', 'asin_variant': 'B07X7YFZWG', 'delight': 'Yes', 'disappointment': 'No', 'id': 332, 'media': '[]', 'negative_sentiment': 0.053484295, 'positive_sentiment': 0.8472756, 'rating': 5, 'sentiment': 'Positive', 'record_type': 'how_product_is_used'}),\n",
       " Document(page_content='How Product Is Used: Entertainment for kids while traveling', metadata={'anger': 'No', 'asin': 'B07XCRVK2Y', 'asin_variant': 'B07XCRT49W', 'delight': 'Yes', 'disappointment': 'No', 'id': 333, 'media': '[]', 'negative_sentiment': 0.0009995047, 'positive_sentiment': 0.9955455, 'rating': 5, 'sentiment': 'Delight', 'record_type': 'how_product_is_used'}),\n",
       " Document(page_content='How Product Is Used: Sensory play, drawing', metadata={'anger': 'No', 'asin': 'B07XCRVK2Y', 'asin_variant': 'B07X7YFZWG', 'delight': 'Yes', 'disappointment': 'Yes', 'id': 334, 'media': '[]', 'negative_sentiment': 0.0017461497, 'positive_sentiment': 0.9808897, 'rating': 5, 'sentiment': 'Positive', 'record_type': 'how_product_is_used'}),\n",
       " Document(page_content='How Product Is Used: Artistic activities', metadata={'anger': 'No', 'asin': 'B07XCRVK2Y', 'asin_variant': 'B07XCRVK2Y', 'delight': 'Yes', 'disappointment': 'No', 'id': 335, 'media': '[]', 'negative_sentiment': 0.03114447, 'positive_sentiment': 0.9128023, 'rating': 5, 'sentiment': 'Positive', 'record_type': 'how_product_is_used'}),\n",
       " Document(page_content='How Product Is Used: Drawing and writing', metadata={'anger': 'No', 'asin': 'B07XCRVK2Y', 'asin_variant': 'B07X7YFZWG', 'delight': 'Yes', 'disappointment': 'Yes', 'id': 336, 'media': '[]', 'negative_sentiment': 0.0049439305, 'positive_sentiment': 0.93783474, 'rating': 5, 'sentiment': 'Positive', 'record_type': 'how_product_is_used'}),\n",
       " Document(page_content='How Product Is Used: As a travel toy', metadata={'anger': 'No', 'asin': 'B07XCRVK2Y', 'asin_variant': 'B07XCRT49W', 'delight': 'Yes', 'disappointment': 'No', 'id': 337, 'media': '[]', 'negative_sentiment': 0.015774425, 'positive_sentiment': 0.9212595, 'rating': 5, 'sentiment': 'Positive', 'record_type': 'how_product_is_used'}),\n",
       " Document(page_content='How Product Is Used: In a car', metadata={'anger': 'No', 'asin': 'B07XCRVK2Y', 'asin_variant': 'B07XCRT49W', 'delight': 'Yes', 'disappointment': 'No', 'id': 338, 'media': '[]', 'negative_sentiment': 0.0064810775, 'positive_sentiment': 0.96859133, 'rating': 5, 'sentiment': 'Positive', 'record_type': 'how_product_is_used'}),\n",
       " Document(page_content='How Product Is Used: Playing and learning', metadata={'anger': 'No', 'asin': 'B07XCRVK2Y', 'asin_variant': 'B07X7YFZWG', 'delight': 'Yes', 'disappointment': 'No', 'id': 339, 'media': '[]', 'negative_sentiment': 0.0013872946, 'positive_sentiment': 0.99215984, 'rating': 5, 'sentiment': 'Positive', 'record_type': 'how_product_is_used'}),\n",
       " Document(page_content='How Product Is Used: Creating figures', metadata={'anger': 'No', 'asin': 'B07XCRVK2Y', 'asin_variant': 'B07XCRVK2Y', 'delight': 'Yes', 'disappointment': 'No', 'id': 341, 'media': '[]', 'negative_sentiment': 0.031211138, 'positive_sentiment': 0.8507626, 'rating': 5, 'sentiment': 'Positive', 'record_type': 'how_product_is_used'}),\n",
       " Document(page_content='How Product Is Used: Playing a marble push game', metadata={'anger': 'No', 'asin': 'B07XCRVK2Y', 'asin_variant': 'B07XCRT49W', 'delight': 'Yes', 'disappointment': 'No', 'id': 342, 'media': '[]', 'negative_sentiment': 0.0017676617, 'positive_sentiment': 0.9775227, 'rating': 5, 'sentiment': 'Positive', 'record_type': 'how_product_is_used'}),\n",
       " Document(page_content='How Product Is Used: As a toy for a 4-year-old during car trips and rest time', metadata={'anger': 'No', 'asin': 'B07XCRVK2Y', 'asin_variant': 'B07XCRT49W', 'delight': 'Yes', 'disappointment': 'Yes', 'id': 346, 'media': '[]', 'negative_sentiment': 0.017144136, 'positive_sentiment': 0.87836814, 'rating': 5, 'sentiment': 'Positive', 'record_type': 'how_product_is_used'}),\n",
       " Document(page_content='How Product Is Used: As a toy for preschoolers', metadata={'anger': 'No', 'asin': 'B07XCRVK2Y', 'asin_variant': 'B07XCRVK2Y', 'delight': 'Yes', 'disappointment': 'No', 'id': 347, 'media': '[]', 'negative_sentiment': 0.0014922095, 'positive_sentiment': 0.9909799, 'rating': 5, 'sentiment': 'Positive', 'record_type': 'how_product_is_used'}),\n",
       " Document(page_content='How Product Is Used: To keep little ones occupied and encourage creativity', metadata={'anger': 'No', 'asin': 'B07XCRVK2Y', 'asin_variant': 'B07X7YFZWG', 'delight': 'Yes', 'disappointment': 'No', 'id': 349, 'media': '[]', 'negative_sentiment': 0.0057837004, 'positive_sentiment': 0.93223935, 'rating': 5, 'sentiment': 'Positive', 'record_type': 'how_product_is_used'}),\n",
       " Document(page_content='How Product Is Used: As a busy toy for a child during appointments', metadata={'anger': 'No', 'asin': 'B07XCRVK2Y', 'asin_variant': 'B07XCRT49W', 'delight': 'No', 'disappointment': 'Yes', 'id': 350, 'media': '[]', 'negative_sentiment': 0.1594286, 'positive_sentiment': 0.20424652, 'rating': 3, 'sentiment': 'Negative', 'record_type': 'how_product_is_used'}),\n",
       " Document(page_content='How Product Is Used: In a special needs classroom', metadata={'anger': 'No', 'asin': 'B07XCRVK2Y', 'asin_variant': 'B07X7YFZWG', 'delight': 'Yes', 'disappointment': 'No', 'id': 351, 'media': '[]', 'negative_sentiment': 0.004762329, 'positive_sentiment': 0.97692037, 'rating': 5, 'sentiment': 'Delight', 'record_type': 'how_product_is_used'}),\n",
       " Document(page_content='How Product Is Used: With kindergarten-3rd grade students', metadata={'anger': 'No', 'asin': 'B07XCRVK2Y', 'asin_variant': 'B07XCRVK2Y', 'delight': 'Yes', 'disappointment': 'No', 'id': 353, 'media': '[]', 'negative_sentiment': 0.01264853, 'positive_sentiment': 0.78163224, 'rating': 4, 'sentiment': 'Positive', 'record_type': 'how_product_is_used'}),\n",
       " Document(page_content='How Product Is Used: Playing', metadata={'anger': 'No', 'asin': 'B07XCRVK2Y', 'asin_variant': 'B07XCRT49W', 'delight': 'Yes', 'disappointment': 'Yes', 'id': 354, 'media': '[]', 'negative_sentiment': 0.46477747, 'positive_sentiment': 0.12116976, 'rating': 3, 'sentiment': 'Positive', 'record_type': 'how_product_is_used'}),\n",
       " Document(page_content='How Product Is Used: On a plane', metadata={'anger': 'No', 'asin': 'B07XCRVK2Y', 'asin_variant': 'B07XCRT49W', 'delight': 'No', 'disappointment': 'Yes', 'id': 355, 'media': '[]', 'negative_sentiment': 0.88118076, 'positive_sentiment': 0.040727623, 'rating': 1, 'sentiment': 'Negative', 'record_type': 'how_product_is_used'}),\n",
       " Document(page_content='How Product Is Used: Entertaining toddlers', metadata={'anger': 'No', 'asin': 'B07XCRVK2Y', 'asin_variant': 'B07X7YFZWG', 'delight': 'Yes', 'disappointment': 'No', 'id': 356, 'media': '[]', 'negative_sentiment': 0.0028510178, 'positive_sentiment': 0.9869085, 'rating': 5, 'sentiment': 'Positive', 'record_type': 'how_product_is_used'}),\n",
       " Document(page_content='How Product Is Used: Keeping kids occupied', metadata={'anger': 'No', 'asin': 'B07XCRVK2Y', 'asin_variant': 'B07X7YFZWG', 'delight': 'Yes', 'disappointment': 'No', 'id': 358, 'media': '[]', 'negative_sentiment': 0.007430196, 'positive_sentiment': 0.9561633, 'rating': 5, 'sentiment': 'Positive', 'record_type': 'how_product_is_used'}),\n",
       " Document(page_content='How Product Is Used: For drawing during car rides', metadata={'anger': 'No', 'asin': 'B07XCRVK2Y', 'asin_variant': 'B07X7YFZWG', 'delight': 'Yes', 'disappointment': 'No', 'id': 359, 'media': '[]', 'negative_sentiment': 0.0032026907, 'positive_sentiment': 0.9733579, 'rating': 4, 'sentiment': 'Positive', 'record_type': 'how_product_is_used'}),\n",
       " Document(page_content='How Product Is Used: Entertainment during road trips', metadata={'anger': 'No', 'asin': 'B07XCRVK2Y', 'asin_variant': 'B07XCRT49W', 'delight': 'Yes', 'disappointment': 'No', 'id': 361, 'media': '[]', 'negative_sentiment': 0.0029093556, 'positive_sentiment': 0.9473876, 'rating': 5, 'sentiment': 'Positive', 'record_type': 'how_product_is_used'}),\n",
       " Document(page_content='How Product Is Used: Independent play', metadata={'anger': 'No', 'asin': 'B07XCRVK2Y', 'asin_variant': 'B07X7YFZWG', 'delight': 'Yes', 'disappointment': 'No', 'id': 362, 'media': '[]', 'negative_sentiment': 0.0035367128, 'positive_sentiment': 0.964998, 'rating': 5, 'sentiment': 'Positive', 'record_type': 'how_product_is_used'}),\n",
       " Document(page_content='How Product Is Used: Entertainment', metadata={'anger': 'No', 'asin': 'B07XCRVK2Y', 'asin_variant': 'B07XCRT49W', 'delight': 'Yes', 'disappointment': 'No', 'id': 366, 'media': '[]', 'negative_sentiment': 0.0012154792, 'positive_sentiment': 0.98848164, 'rating': 5, 'sentiment': 'Positive', 'record_type': 'how_product_is_used'}),\n",
       " Document(page_content='How Product Is Used: As a calming tool for sensory-sensitive children during outings', metadata={'anger': 'No', 'asin': 'B07XCRVK2Y', 'asin_variant': 'B07X7YFZWG', 'delight': 'Yes', 'disappointment': 'No', 'id': 367, 'media': '[]', 'negative_sentiment': 0.0013398225, 'positive_sentiment': 0.995081, 'rating': 5, 'sentiment': 'Delight', 'record_type': 'how_product_is_used'}),\n",
       " Document(page_content='How Product Is Used: Entertaining toddlers during car rides', metadata={'anger': 'No', 'asin': 'B07XCRVK2Y', 'asin_variant': 'B07XCRVK2Y', 'delight': 'No', 'disappointment': 'Yes', 'id': 368, 'media': '[]', 'negative_sentiment': 0.56159973, 'positive_sentiment': 0.18856125, 'rating': 3, 'sentiment': 'Disappointment', 'record_type': 'how_product_is_used'}),\n",
       " Document(page_content='How Product Is Used: To relieve stress and anxiety', metadata={'anger': 'No', 'asin': 'B07XCRVK2Y', 'asin_variant': 'B07XCRT49W', 'delight': 'Yes', 'disappointment': 'No', 'id': 369, 'media': '[]', 'negative_sentiment': 0.009412506, 'positive_sentiment': 0.9684456, 'rating': 5, 'sentiment': 'Positive', 'record_type': 'how_product_is_used'}),\n",
       " Document(page_content='How Product Is Used: Entertainment during travel', metadata={'anger': 'No', 'asin': 'B07XCRVK2Y', 'asin_variant': 'B07XCRT49W', 'delight': 'Yes', 'disappointment': 'No', 'id': 371, 'media': '[]', 'negative_sentiment': 0.0131713785, 'positive_sentiment': 0.8599832, 'rating': 5, 'sentiment': 'Positive', 'record_type': 'how_product_is_used'}),\n",
       " Document(page_content='How Product Is Used: As a toy that inspires creativity', metadata={'anger': 'No', 'asin': 'B07XCRVK2Y', 'asin_variant': 'B07X7YFZWG', 'delight': 'Yes', 'disappointment': 'No', 'id': 374, 'media': '[]', 'negative_sentiment': 0.0015205308, 'positive_sentiment': 0.99634224, 'rating': 5, 'sentiment': 'Delight', 'record_type': 'how_product_is_used'}),\n",
       " Document(page_content='How Product Is Used: As a boredom buster for kids in the car', metadata={'anger': 'No', 'asin': 'B07XCRVK2Y', 'asin_variant': 'B07XCRVK2Y', 'delight': 'Yes', 'disappointment': 'No', 'id': 375, 'media': '[]', 'negative_sentiment': 0.0028126626, 'positive_sentiment': 0.9258798, 'rating': 4, 'sentiment': 'Positive', 'record_type': 'how_product_is_used'}),\n",
       " Document(page_content='How Product Is Used: For playtime', metadata={'anger': 'No', 'asin': 'B07XCRVK2Y', 'asin_variant': 'B07XCRVK2Y', 'delight': 'Yes', 'disappointment': 'No', 'id': 376, 'media': '[]', 'negative_sentiment': 0.0017172751, 'positive_sentiment': 0.98994255, 'rating': 5, 'sentiment': 'Positive', 'record_type': 'how_product_is_used'}),\n",
       " Document(page_content='How Product Is Used: Quiet time activity at a restaurant or in the car', metadata={'anger': 'No', 'asin': 'B07XCRVK2Y', 'asin_variant': 'B07XCRVK2Y', 'delight': 'Yes', 'disappointment': 'No', 'id': 377, 'media': '[]', 'negative_sentiment': 0.0014975389, 'positive_sentiment': 0.9801463, 'rating': 5, 'sentiment': 'Positive', 'record_type': 'how_product_is_used'}),\n",
       " Document(page_content='How Product Is Used: On-the-go entertainment, at restaurants', metadata={'anger': 'No', 'asin': 'B07XCRVK2Y', 'asin_variant': 'B07X7YFZWG', 'delight': 'Yes', 'disappointment': 'No', 'id': 378, 'media': '[]', 'negative_sentiment': 0.011244018, 'positive_sentiment': 0.96402866, 'rating': 5, 'sentiment': 'Positive', 'record_type': 'how_product_is_used'}),\n",
       " Document(page_content='How Product Is Used: Entertainment for a 6-year-old with autism', metadata={'anger': 'No', 'asin': 'B07XCRVK2Y', 'asin_variant': 'B07XCRVK2Y', 'delight': 'Yes', 'disappointment': 'No', 'id': 379, 'media': '[]', 'negative_sentiment': 0.0076114484, 'positive_sentiment': 0.9322303, 'rating': 5, 'sentiment': 'Positive', 'record_type': 'how_product_is_used'}),\n",
       " Document(page_content='How Product Is Used: Drawing and writing', metadata={'anger': 'No', 'asin': 'B07XCRVK2Y', 'asin_variant': 'B07XCRT49W', 'delight': 'Yes', 'disappointment': 'Yes', 'id': 380, 'media': '[]', 'negative_sentiment': 0.0070891073, 'positive_sentiment': 0.9720457, 'rating': 5, 'sentiment': 'Positive', 'record_type': 'how_product_is_used'}),\n",
       " Document(page_content='How Product Is Used: Entertaining three-year-old kids', metadata={'anger': 'No', 'asin': 'B07XCRVK2Y', 'asin_variant': 'B07XCRVK2Y', 'delight': 'Yes', 'disappointment': 'No', 'id': 382, 'media': '[]', 'negative_sentiment': 0.0016991259, 'positive_sentiment': 0.98626244, 'rating': 5, 'sentiment': 'Positive', 'record_type': 'how_product_is_used'}),\n",
       " Document(page_content='How Product Is Used: Entertainment for children', metadata={'anger': 'No', 'asin': 'B07XCRVK2Y', 'asin_variant': 'B07X7YFZWG', 'delight': 'Yes', 'disappointment': 'Yes', 'id': 383, 'media': '[]', 'negative_sentiment': 0.3625862, 'positive_sentiment': 0.27684462, 'rating': 4, 'sentiment': 'Positive', 'record_type': 'how_product_is_used'}),\n",
       " Document(page_content='How Product Is Used: As a toy', metadata={'anger': 'No', 'asin': 'B07XCRVK2Y', 'asin_variant': 'B07XCRVK2Y', 'delight': 'Yes', 'disappointment': 'No', 'id': 385, 'media': '[]', 'negative_sentiment': 0.0036673853, 'positive_sentiment': 0.9845148, 'rating': 5, 'sentiment': 'Delight', 'record_type': 'how_product_is_used'}),\n",
       " Document(page_content='How Product Is Used: Child enjoys playing with it', metadata={'anger': 'No', 'asin': 'B07XCRVK2Y', 'asin_variant': 'B07XCRT49W', 'delight': 'No', 'disappointment': 'No', 'id': 386, 'media': '[]', 'negative_sentiment': 0.08372483, 'positive_sentiment': 0.21347268, 'rating': 4, 'sentiment': 'Neutral', 'record_type': 'how_product_is_used'}),\n",
       " Document(page_content='How Product Is Used: Entertainment for children with ADHD', metadata={'anger': 'No', 'asin': 'B07XCRVK2Y', 'asin_variant': 'B07XCRT49W', 'delight': 'Yes', 'disappointment': 'No', 'id': 387, 'media': '[]', 'negative_sentiment': 0.0016126529, 'positive_sentiment': 0.9807529, 'rating': 5, 'sentiment': 'Delight', 'record_type': 'how_product_is_used'}),\n",
       " Document(page_content='How Product Is Used: Entertaining kids during travel', metadata={'anger': 'No', 'asin': 'B07XCRVK2Y', 'asin_variant': 'B07XCRT49W', 'delight': 'Yes', 'disappointment': 'No', 'id': 388, 'media': '[]', 'negative_sentiment': 0.0016887865, 'positive_sentiment': 0.9857029, 'rating': 5, 'sentiment': 'Delight', 'record_type': 'how_product_is_used'}),\n",
       " Document(page_content='How Product Is Used: Creating pictures and dropping beads', metadata={'anger': 'No', 'asin': 'B07XCRVK2Y', 'asin_variant': 'B07X7YFZWG', 'delight': 'Yes', 'disappointment': 'No', 'id': 390, 'media': '[]', 'negative_sentiment': 0.008518258, 'positive_sentiment': 0.95849633, 'rating': 5, 'sentiment': 'Positive', 'record_type': 'how_product_is_used'}),\n",
       " Document(page_content='How Product Is Used: Entertaining kids', metadata={'anger': 'No', 'asin': 'B07XCRVK2Y', 'asin_variant': 'B07XCRT49W', 'delight': 'Yes', 'disappointment': 'No', 'id': 391, 'media': '[\"https://m.media-amazon.com/images/I/71TwhaRDoBL._SL1600_.jpg\",\"https://m.media-amazon.com/images/I/81iyXIgoVTL._SL1600_.jpg\",\"https://m.media-amazon.com/images/I/81xDQUVcDHL._SL1600_.jpg\"]', 'negative_sentiment': 0.2437093, 'positive_sentiment': 0.5982517, 'rating': 4, 'sentiment': 'Positive', 'record_type': 'how_product_is_used'}),\n",
       " Document(page_content='How Product Is Used: For entertainment during travel', metadata={'anger': 'No', 'asin': 'B07XCRVK2Y', 'asin_variant': 'B07XCRT49W', 'delight': 'Yes', 'disappointment': 'No', 'id': 392, 'media': '[]', 'negative_sentiment': 0.0038435655, 'positive_sentiment': 0.9576694, 'rating': 5, 'sentiment': 'Positive', 'record_type': 'how_product_is_used'}),\n",
       " Document(page_content='How Product Is Used: Traveling with kids', metadata={'anger': 'No', 'asin': 'B07XCRVK2Y', 'asin_variant': 'B07X7YFZWG', 'delight': 'Yes', 'disappointment': 'No', 'id': 393, 'media': '[]', 'negative_sentiment': 0.008082638, 'positive_sentiment': 0.8614047, 'rating': 5, 'sentiment': 'Positive', 'record_type': 'how_product_is_used'}),\n",
       " Document(page_content='How Product Is Used: As a toy for kids and adults', metadata={'anger': 'No', 'asin': 'B07XCRVK2Y', 'asin_variant': 'B07X7YFZWG', 'delight': 'Yes', 'disappointment': 'No', 'id': 394, 'media': '[]', 'negative_sentiment': 0.011751211, 'positive_sentiment': 0.8705236, 'rating': 5, 'sentiment': 'Positive', 'record_type': 'how_product_is_used'}),\n",
       " Document(page_content='How Product Is Used: In a pediatric clinic', metadata={'anger': 'No', 'asin': 'B01M4OV4Q4', 'asin_variant': 'B01M4OV4Q4', 'delight': 'Yes', 'disappointment': 'No', 'id': 396, 'media': '[]', 'negative_sentiment': 0.003293323, 'positive_sentiment': 0.9839536, 'rating': 5, 'sentiment': 'Positive', 'record_type': 'how_product_is_used'}),\n",
       " Document(page_content='How Product Is Used: Sensory play', metadata={'anger': 'No', 'asin': 'B01M4OV4Q4', 'asin_variant': 'B01M4OV4Q4', 'delight': 'Yes', 'disappointment': 'No', 'id': 397, 'media': '[]', 'negative_sentiment': 0.19802943, 'positive_sentiment': 0.3537202, 'rating': 5, 'sentiment': 'Positive', 'record_type': 'how_product_is_used'}),\n",
       " Document(page_content='How Product Is Used: Entertaining kids on the go', metadata={'anger': 'No', 'asin': 'B01M4OV4Q4', 'asin_variant': 'B01M4OV4Q4', 'delight': 'Yes', 'disappointment': 'No', 'id': 398, 'media': '[]', 'negative_sentiment': 0.0012167431, 'positive_sentiment': 0.9895181, 'rating': 5, 'sentiment': 'Delight', 'record_type': 'how_product_is_used'}),\n",
       " Document(page_content='How Product Is Used: Playing with it', metadata={'anger': 'No', 'asin': 'B01M4OV4Q4', 'asin_variant': 'B01M4OV4Q4', 'delight': 'Yes', 'disappointment': 'No', 'id': 399, 'media': '[]', 'negative_sentiment': 0.0025365874, 'positive_sentiment': 0.97581244, 'rating': 4, 'sentiment': 'Positive', 'record_type': 'how_product_is_used'}),\n",
       " Document(page_content='How Product Is Used: As an activity during quiet time', metadata={'anger': 'No', 'asin': 'B01M4OV4Q4', 'asin_variant': 'B01M4OV4Q4', 'delight': 'Yes', 'disappointment': 'No', 'id': 400, 'media': '[]', 'negative_sentiment': 0.0023559933, 'positive_sentiment': 0.94695365, 'rating': 4, 'sentiment': 'Positive', 'record_type': 'how_product_is_used'}),\n",
       " Document(page_content='How Product Is Used: Playing with little balls and pen', metadata={'anger': 'No', 'asin': 'B01M4OV4Q4', 'asin_variant': 'B01M4OV4Q4', 'delight': 'Yes', 'disappointment': 'No', 'id': 401, 'media': '[]', 'negative_sentiment': 0.0014011111, 'positive_sentiment': 0.9882671, 'rating': 5, 'sentiment': 'Positive', 'record_type': 'how_product_is_used'}),\n",
       " Document(page_content='How Product Is Used: Entertainment during long car rides', metadata={'anger': 'No', 'asin': 'B01M4OV4Q4', 'asin_variant': 'B01M4OV4Q4', 'delight': 'Yes', 'disappointment': 'No', 'id': 402, 'media': '[]', 'negative_sentiment': 0.0017032806, 'positive_sentiment': 0.9963751, 'rating': 5, 'sentiment': 'Delight', 'record_type': 'how_product_is_used'}),\n",
       " Document(page_content='How Product Is Used: Arts and crafts', metadata={'anger': 'No', 'asin': 'B01M4OV4Q4', 'asin_variant': 'B01M4OV4Q4', 'delight': 'Yes', 'disappointment': 'No', 'id': 403, 'media': '[\"https://m.media-amazon.com/images/I/61V3ELqqLnL._SL1600_.jpg\"]', 'negative_sentiment': 0.0018738459, 'positive_sentiment': 0.9867408, 'rating': 5, 'sentiment': 'Positive', 'record_type': 'how_product_is_used'}),\n",
       " Document(page_content='How Product Is Used: Pediatric occupational therapy', metadata={'anger': 'No', 'asin': 'B01M4OV4Q4', 'asin_variant': 'B01M4OV4Q4', 'delight': 'Yes', 'disappointment': 'Yes', 'id': 404, 'media': '[]', 'negative_sentiment': 0.63720435, 'positive_sentiment': 0.04446854, 'rating': 3, 'sentiment': 'Mixed', 'record_type': 'how_product_is_used'}),\n",
       " Document(page_content='How Product Is Used: To entertain a one year old', metadata={'anger': 'No', 'asin': 'B01M4OV4Q4', 'asin_variant': 'B01M4OV4Q4', 'delight': 'Yes', 'disappointment': 'No', 'id': 406, 'media': '[]', 'negative_sentiment': 0.06298086, 'positive_sentiment': 0.86610514, 'rating': 5, 'sentiment': 'Delight', 'record_type': 'how_product_is_used'}),\n",
       " Document(page_content='How Product Is Used: Entertaining kids while traveling', metadata={'anger': 'No', 'asin': 'B01M4OV4Q4', 'asin_variant': 'B01M4OV4Q4', 'delight': 'Yes', 'disappointment': 'No', 'id': 407, 'media': '[]', 'negative_sentiment': 0.002747004, 'positive_sentiment': 0.9749236, 'rating': 5, 'sentiment': 'Positive', 'record_type': 'how_product_is_used'})]"
      ]
     },
     "execution_count": 77,
     "metadata": {},
     "output_type": "execute_result"
    }
   ],
   "source": [
    "documents"
   ]
  },
  {
   "attachments": {},
   "cell_type": "markdown",
   "metadata": {},
   "source": [
    "#### the Database: Chroma"
   ]
  },
  {
   "cell_type": "code",
   "execution_count": 78,
   "metadata": {},
   "outputs": [
    {
     "data": {
      "text/plain": [
       "<langchain.vectorstores.chroma.Chroma at 0x285d358a0>"
      ]
     },
     "execution_count": 78,
     "metadata": {},
     "output_type": "execute_result"
    }
   ],
   "source": [
    "# https://python.langchain.com/en/latest/modules/indexes/retrievers/examples/chroma_self_query.html\n",
    "# https://python.langchain.com/en/latest/modules/indexes/vectorstores/examples/chroma.html\n",
    "from langchain.vectorstores import Chroma\n",
    "persist_directory = '/Users/vladbordei/Documents/Development/ProductExplorer/data/vectorstores/chroma/db'\n",
    "vectorstore = Chroma.from_documents(documents=documents, embedding=embeddings, persist_directory=persist_directory)\n",
    "vectorstore"
   ]
  },
  {
   "cell_type": "code",
   "execution_count": 81,
   "metadata": {},
   "outputs": [
    {
     "data": {
      "text/plain": [
       "<langchain.vectorstores.chroma.Chroma at 0x29c49e860>"
      ]
     },
     "execution_count": 81,
     "metadata": {},
     "output_type": "execute_result"
    }
   ],
   "source": [
    "vectorstore = Chroma.from_documents(documents=documents, embedding=embeddings)\n",
    "vectorstore"
   ]
  },
  {
   "attachments": {},
   "cell_type": "markdown",
   "metadata": {},
   "source": [
    "How you save to file and stop the database\n",
    "\n",
    "vectorstore.persist()\n",
    "vectorstore = None"
   ]
  },
  {
   "attachments": {},
   "cell_type": "markdown",
   "metadata": {},
   "source": [
    "Now we can load the persisted database from disk, and use it as normal. \n",
    "\n",
    "vectorstore = Chroma(persist_directory=persist_directory, embedding_function=embeddings)"
   ]
  },
  {
   "cell_type": "code",
   "execution_count": 82,
   "metadata": {},
   "outputs": [],
   "source": [
    "query = \"hate that feature\""
   ]
  },
  {
   "cell_type": "code",
   "execution_count": 83,
   "metadata": {},
   "outputs": [
    {
     "data": {
      "text/plain": [
       "Document(page_content='How Product Is Used: Fidgeting', metadata={'anger': 'No', 'asin': 'B07X7YFZWG', 'asin_variant': 'B07XCRT49W', 'delight': 'Yes', 'disappointment': 'No', 'id': 43, 'media': '[]', 'negative_sentiment': 0.0013499174, 'positive_sentiment': 0.99163514, 'rating': 5, 'sentiment': 'Delight', 'record_type': 'how_product_is_used'})"
      ]
     },
     "execution_count": 83,
     "metadata": {},
     "output_type": "execute_result"
    }
   ],
   "source": [
    "retriever = vectorstore.as_retriever(search_type=\"mmr\")\n",
    "retriever.get_relevant_documents(query)[0]"
   ]
  },
  {
   "cell_type": "code",
   "execution_count": 43,
   "metadata": {},
   "outputs": [
    {
     "name": "stdout",
     "output_type": "stream",
     "text": [
      "This product is great however can get annoying after time\n"
     ]
    }
   ],
   "source": [
    "docs = vectorstore.similarity_search(query)\n",
    "print(docs[0].page_content)"
   ]
  },
  {
   "cell_type": "code",
   "execution_count": 44,
   "metadata": {},
   "outputs": [],
   "source": [
    "docs = vectorstore.similarity_search_with_score(query)"
   ]
  },
  {
   "cell_type": "code",
   "execution_count": 50,
   "metadata": {},
   "outputs": [
    {
     "data": {
      "text/plain": [
       "(Document(page_content='This product is great however can get annoying after time', metadata={'asin': 'B07XCRVK2Y', 'review_summary': 'Great product but can get annoying over time', 'rating': 5, 'title': 'Super satisfying/ can get annoying'}),\n",
       " 1.3280236721038818)"
      ]
     },
     "execution_count": 50,
     "metadata": {},
     "output_type": "execute_result"
    }
   ],
   "source": [
    "docs[2]"
   ]
  },
  {
   "attachments": {},
   "cell_type": "markdown",
   "metadata": {},
   "source": [
    "#### the Chat Memory"
   ]
  },
  {
   "cell_type": "code",
   "execution_count": 51,
   "metadata": {},
   "outputs": [],
   "source": [
    "from langchain.memory import ConversationBufferMemory\n",
    "memory = ConversationBufferMemory(memory_key=\"chat_history\", return_messages=True)"
   ]
  },
  {
   "attachments": {},
   "cell_type": "markdown",
   "metadata": {},
   "source": [
    "#### the Conversational Retrieval Chain"
   ]
  },
  {
   "cell_type": "code",
   "execution_count": 52,
   "metadata": {},
   "outputs": [],
   "source": [
    "from langchain.llms import OpenAI\n",
    "from langchain.chains import ConversationalRetrievalChain\n",
    "qa = ConversationalRetrievalChain.from_llm(OpenAI(temperature=0), vectorstore.as_retriever(), memory=memory)"
   ]
  },
  {
   "cell_type": "code",
   "execution_count": 53,
   "metadata": {},
   "outputs": [],
   "source": [
    "query = \"What is the best feature of this product\"\n",
    "result = qa({\"question\": query})"
   ]
  },
  {
   "cell_type": "code",
   "execution_count": 54,
   "metadata": {},
   "outputs": [
    {
     "data": {
      "text/plain": [
       "' The best feature of this product is that there is no mess or cleanup.'"
      ]
     },
     "execution_count": 54,
     "metadata": {},
     "output_type": "execute_result"
    }
   ],
   "source": [
    "result[\"answer\"]"
   ]
  },
  {
   "attachments": {},
   "cell_type": "markdown",
   "metadata": {},
   "source": [
    "#### Using a different model for condensing the question\n",
    "This chain has two steps:\n",
    "- First, it condenses the current question and the chat history into a standalone question. This is neccessary to create a standanlone vector to use for retrieval. \n",
    "- After that, it does retrieval and then answers the question using retrieval augmented generation with a separate model. "
   ]
  },
  {
   "cell_type": "code",
   "execution_count": 62,
   "metadata": {},
   "outputs": [],
   "source": [
    "from langchain.chat_models import ChatOpenAI"
   ]
  },
  {
   "cell_type": "code",
   "execution_count": 63,
   "metadata": {},
   "outputs": [],
   "source": [
    "qa = ConversationalRetrievalChain.from_llm(\n",
    "    ChatOpenAI(temperature=0, model='gpt-3.5-turbo'),   # model='gpt-4'),\n",
    "    vectorstore.as_retriever(),\n",
    "    condense_question_llm = ChatOpenAI(temperature=0, model='gpt-3.5-turbo'),\n",
    ")"
   ]
  },
  {
   "cell_type": "code",
   "execution_count": 64,
   "metadata": {},
   "outputs": [],
   "source": [
    "chat_history = []\n",
    "query = \"What is the best feature of this product\"\n",
    "result = qa({\"question\": query, \"chat_history\": chat_history})"
   ]
  },
  {
   "cell_type": "code",
   "execution_count": 65,
   "metadata": {},
   "outputs": [],
   "source": [
    "chat_history = [(query, result[\"answer\"])]\n",
    "query = \"Why is that?\"\n",
    "result = qa({\"question\": query, \"chat_history\": chat_history})"
   ]
  },
  {
   "cell_type": "code",
   "execution_count": null,
   "metadata": {},
   "outputs": [],
   "source": []
  },
  {
   "attachments": {},
   "cell_type": "markdown",
   "metadata": {},
   "source": [
    "All toghtether now"
   ]
  },
  {
   "cell_type": "code",
   "execution_count": null,
   "metadata": {},
   "outputs": [],
   "source": [
    "from langchain.chat_models import ChatOpenAI\n",
    "from langchain.llms import OpenAI\n",
    "from langchain.chains import ConversationalRetrievalChain"
   ]
  },
  {
   "cell_type": "code",
   "execution_count": null,
   "metadata": {},
   "outputs": [],
   "source": [
    "from langchain.memory import ConversationBufferMemory\n",
    "memory = ConversationBufferMemory(memory_key=\"chat_history\", return_messages=True)"
   ]
  },
  {
   "cell_type": "code",
   "execution_count": 1,
   "metadata": {},
   "outputs": [
    {
     "ename": "NameError",
     "evalue": "name 'ConversationalRetrievalChain' is not defined",
     "output_type": "error",
     "traceback": [
      "\u001b[0;31m---------------------------------------------------------------------------\u001b[0m",
      "\u001b[0;31mNameError\u001b[0m                                 Traceback (most recent call last)",
      "Cell \u001b[0;32mIn[1], line 1\u001b[0m\n\u001b[0;32m----> 1\u001b[0m qa \u001b[39m=\u001b[39m ConversationalRetrievalChain\u001b[39m.\u001b[39mfrom_llm(\n\u001b[1;32m      2\u001b[0m     ChatOpenAI(temperature\u001b[39m=\u001b[39m\u001b[39m0\u001b[39m, model\u001b[39m=\u001b[39m\u001b[39m'\u001b[39m\u001b[39mgpt-3.5-turbo\u001b[39m\u001b[39m'\u001b[39m),   \u001b[39m# model='gpt-4'),\u001b[39;00m\n\u001b[1;32m      3\u001b[0m     vectorstore\u001b[39m.\u001b[39mas_retriever(),\n\u001b[1;32m      4\u001b[0m     condense_question_llm \u001b[39m=\u001b[39m ChatOpenAI(temperature\u001b[39m=\u001b[39m\u001b[39m0\u001b[39m, model\u001b[39m=\u001b[39m\u001b[39m'\u001b[39m\u001b[39mgpt-3.5-turbo\u001b[39m\u001b[39m'\u001b[39m),\n\u001b[1;32m      5\u001b[0m     memory \u001b[39m=\u001b[39m memory\n\u001b[1;32m      6\u001b[0m )\n",
      "\u001b[0;31mNameError\u001b[0m: name 'ConversationalRetrievalChain' is not defined"
     ]
    }
   ],
   "source": [
    "qa = ConversationalRetrievalChain.from_llm(\n",
    "    ChatOpenAI(temperature=0, model='gpt-3.5-turbo'),   # model='gpt-4'),\n",
    "    vectorstore.as_retriever(),\n",
    "    condense_question_llm = ChatOpenAI(temperature=0, model='gpt-3.5-turbo'),\n",
    "    memory = memory\n",
    ")"
   ]
  }
 ],
 "metadata": {
  "kernelspec": {
   "display_name": "pxp",
   "language": "python",
   "name": "python3"
  },
  "language_info": {
   "codemirror_mode": {
    "name": "ipython",
    "version": 3
   },
   "file_extension": ".py",
   "mimetype": "text/x-python",
   "name": "python",
   "nbconvert_exporter": "python",
   "pygments_lexer": "ipython3",
   "version": "3.10.11"
  },
  "orig_nbformat": 4
 },
 "nbformat": 4,
 "nbformat_minor": 2
}
