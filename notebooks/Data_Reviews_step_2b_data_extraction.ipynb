{
 "cells": [
  {
   "attachments": {},
   "cell_type": "markdown",
   "metadata": {},
   "source": [
    "#### STRUCTURE\n",
    "- Select required review data\n",
    "    - read csv\n",
    "    - clean reviews\n",
    "    - filter and sort reviews\n",
    "    - select the number of required reviews\n",
    "- Process review data with GPT\n",
    "    - describe prompts\n",
    "    - write tasks\n",
    "    - process tasks\n",
    "- Process resulting dictionary\n",
    "    - map results\n",
    "    - explode results to dataframe format\n",
    "    - save data\n"
   ]
  },
  {
   "cell_type": "code",
   "execution_count": 3,
   "metadata": {},
   "outputs": [
    {
     "name": "stdout",
     "output_type": "stream",
     "text": [
      "OPENAI_API_KEY is ready\n"
     ]
    }
   ],
   "source": [
    "import pandas as pd\n",
    "import numpy as np\n",
    "import re\n",
    "import requests\n",
    "import json\n",
    "import csv\n",
    "import openai\n",
    "\n",
    "import tiktoken\n",
    "from typing import Dict\n",
    "\n",
    "from rich.console import Console\n",
    "from rich.table import Table\n",
    "console = Console()\n",
    "from datetime import datetime, timedelta\n",
    "from dotenv import load_dotenv\n",
    "import os\n",
    "\n",
    "import requests\n",
    "from tenacity import retry, wait_random_exponential, stop_after_attempt\n",
    "\n",
    "load_dotenv()\n",
    "OPENAI_API_KEY = os.getenv('OPENAI_API_KEY')\n",
    "SERPAPI_API_KEY = os.getenv('SERPAPI_API_KEY')\n",
    "WOLFRAM_ALPHA_APPID = os.getenv('WOLFRAM_ALPHA_APPID')\n",
    "PROMPTLAYER_API_KEY = os.getenv('PROMPTLAYER_API_KEY')\n",
    "HUGGINGFACEHUB_API_TOKEN = os.getenv('HUGGINGFACEHUB_API_TOKEN')\n",
    "\n",
    "if os.getenv(\"OPENAI_API_KEY\") is not None:\n",
    "    print (\"OPENAI_API_KEY is ready\")\n",
    "else:\n",
    "    print (\"OPENAI_API_KEY environment variable not found\")\n",
    "\n",
    "# from getpass import getpass\n",
    "# HUGGINGFACEHUB_API_TOKEN = getpass()\n",
    "\n",
    "\n",
    "GPT_MODEL = \"gpt-3.5-turbo-0613\""
   ]
  },
  {
   "cell_type": "code",
   "execution_count": 5,
   "metadata": {},
   "outputs": [],
   "source": [
    "def num_tokens_from_string(string: str, encoding_name = \"cl100k_base\") -> int:\n",
    "    \"\"\"Returns the number of tokens in a text string.\"\"\"\n",
    "    encoding = tiktoken.get_encoding(encoding_name)\n",
    "    num_tokens = len(encoding.encode(string))\n",
    "    return num_tokens\n"
   ]
  },
  {
   "cell_type": "code",
   "execution_count": 6,
   "metadata": {},
   "outputs": [],
   "source": [
    "def extract_asin(url):\n",
    "    pattern = r'ASIN=(\\w{10})'\n",
    "    match = re.search(pattern, url)\n",
    "    if match:\n",
    "        return match.group(1)\n",
    "    else:\n",
    "        return None\n",
    "\n",
    "def clean_review(review):\n",
    "    try:\n",
    "        return re.sub(r'[^a-zA-Z0-9\\s]+', '', review)\n",
    "    except TypeError as e:\n",
    "        print(f\"Error cleaning review: {e}\")\n",
    "        return \"\"\n",
    "\n",
    "\n",
    "\n",
    "def initial_review_clean_data(df, limit=3000):\n",
    "    # Add the asin column to the dataframe\n",
    "    # df['asin'] = df['asin.original']\n",
    "\n",
    "    # Process the reviews in the dataframe\n",
    "    df.loc[:, 'review'] = df['review'].apply(clean_review)\n",
    "    df.loc[:, 'num_tokens'] = df['review'].apply(num_tokens_from_string)\n",
    "    df.loc[:, 'review'] = df.apply(lambda x: x['review'][:limit * 3] if x['num_tokens'] > limit else x['review'], axis=1)\n",
    "    df.loc[:, 'review_num_tokens'] = df['review'].apply(num_tokens_from_string)\n",
    "\n",
    "    return df\n",
    "\n"
   ]
  },
  {
   "cell_type": "code",
   "execution_count": 7,
   "metadata": {},
   "outputs": [],
   "source": [
    "#asin_list_path = './data/external/asin_list.csv'\n",
    "asin_list_path = '/Users/vladbordei/Documents/Development/ProductExplorer/data/external/asin_list.csv'\n",
    "asin_list = pd.read_csv(asin_list_path)['asin'].tolist()"
   ]
  },
  {
   "cell_type": "code",
   "execution_count": 8,
   "metadata": {},
   "outputs": [],
   "source": [
    "# reviews_path = './data/interim/reviews_with_sentiment.csv'\n",
    "reviews_path = '/Users/vladbordei/Documents/Development/ProductExplorer/data/interim/reviews_with_sentiment.csv'\n",
    "reviews = pd.read_csv(reviews_path)"
   ]
  },
  {
   "attachments": {},
   "cell_type": "markdown",
   "metadata": {},
   "source": [
    "#### THIS PART REDUCES THE REVIEW NUMBERS SO WE CAN TEST AT EASE\n",
    "\n",
    "#### Select required review data\n",
    "    - read csv\n",
    "    - clean reviews\n",
    "    - filter and sort reviews\n",
    "    - select the number of required reviews"
   ]
  },
  {
   "cell_type": "code",
   "execution_count": 34,
   "metadata": {},
   "outputs": [],
   "source": [
    "# reviews.rename(columns={'Variation': 'asin'}, inplace=True)"
   ]
  },
  {
   "cell_type": "code",
   "execution_count": 9,
   "metadata": {},
   "outputs": [],
   "source": [
    "reviews['asin'] = reviews['URL'].apply(extract_asin)"
   ]
  },
  {
   "cell_type": "code",
   "execution_count": 10,
   "metadata": {},
   "outputs": [
    {
     "name": "stderr",
     "output_type": "stream",
     "text": [
      "/var/folders/f6/0jn5yf2x1b319g8j96pnjbwh0000gn/T/ipykernel_59601/691813779.py:14: SettingWithCopyWarning: \n",
      "A value is trying to be set on a copy of a slice from a DataFrame.\n",
      "Try using .loc[row_indexer,col_indexer] = value instead\n",
      "\n",
      "See the caveats in the documentation: https://pandas.pydata.org/pandas-docs/stable/user_guide/indexing.html#returning-a-view-versus-a-copy\n",
      "  reviews_filtered['Date'] = pd.to_datetime(reviews_filtered['Date'].apply(lambda s: s.split(' on ')[-1]))\n",
      "/var/folders/f6/0jn5yf2x1b319g8j96pnjbwh0000gn/T/ipykernel_59601/691813779.py:17: SettingWithCopyWarning: \n",
      "A value is trying to be set on a copy of a slice from a DataFrame.\n",
      "Try using .loc[row_indexer,col_indexer] = value instead\n",
      "\n",
      "See the caveats in the documentation: https://pandas.pydata.org/pandas-docs/stable/user_guide/indexing.html#returning-a-view-versus-a-copy\n",
      "  reviews_filtered['Date'] = pd.to_datetime(reviews_filtered['Date'])\n"
     ]
    }
   ],
   "source": [
    "# Get the value counts for each unique value of 'asin.original'\n",
    "counts = reviews['asin'].value_counts()\n",
    "\n",
    "# Keep only the top values\n",
    "top = counts.head(1000)\n",
    "\n",
    "# Filter the reviews DataFrame to keep only rows with asin.original in the top 10\n",
    "reviews_filtered = reviews[reviews['asin'].isin(top.index)]\n",
    "\n",
    "# Get the datetime object for 12 months ago\n",
    "date_12_months_ago = datetime.today() - timedelta(days=365)\n",
    "\n",
    "# Convert the 'Date_initial' column to datetime format\n",
    "reviews_filtered['Date'] = pd.to_datetime(reviews_filtered['Date'].apply(lambda s: s.split(' on ')[-1]))\n",
    "\n",
    "# Convert the 'date.date' column to datetime format\n",
    "reviews_filtered['Date'] = pd.to_datetime(reviews_filtered['Date'])\n",
    "\n",
    "# Filter the reviews dataframe to only include reviews from the last 12 months\n",
    "reviews_last_12_months = reviews_filtered[reviews_filtered['Date'] >= date_12_months_ago]\n",
    "\n",
    "# keep only latest  x reviews\n",
    "reviews_count_filtered = reviews_last_12_months.groupby('asin').tail(3)\n",
    "\n",
    "# reset index\n",
    "reviews_count_filtered = reviews_count_filtered.reset_index(drop=True)\n",
    "reviews_count_filtered[\"id\"] = reviews_count_filtered.index\n"
   ]
  },
  {
   "cell_type": "code",
   "execution_count": 11,
   "metadata": {},
   "outputs": [],
   "source": [
    "reviews_df = initial_review_clean_data(reviews_count_filtered)"
   ]
  },
  {
   "cell_type": "code",
   "execution_count": 13,
   "metadata": {},
   "outputs": [],
   "source": [
    "try:\n",
    "    reviews_df.drop(columns = [\"index\", \"level_0\", \"Author\"], inplace = True)\n",
    "except:\n",
    "    pass"
   ]
  },
  {
   "attachments": {},
   "cell_type": "markdown",
   "metadata": {},
   "source": [
    "#### WRITING DOWN TASKS FOR AI TO PROCESS IN PARALLEL\n",
    "\n",
    "#### Process review data with GPT\n",
    "    - review functions\n"
   ]
  },
  {
   "cell_type": "code",
   "execution_count": 21,
   "metadata": {},
   "outputs": [],
   "source": [
    "# https://towardsdatascience.com/an-introduction-to-openai-function-calling-e47e7cd7680e\n",
    "review_functions = [\n",
    "    {\n",
    "        \"name\": \"review_data_function\",\n",
    "        \"description\": \"Provide a detailed description of a product\",\n",
    "        \"parameters\": {\n",
    "            \"type\": \"object\",\n",
    "            \"properties\": {\n",
    "                \"Review Summary\": {\n",
    "                    \"type\": \"string\",\n",
    "                    \"description\": \"A brief summary of the review. Example: Good product overall, but improvements can be made in battery life and noise levels.\"\n",
    "                },\n",
    "                \"Topics\": {\n",
    "                    \"type\": \"string\",\n",
    "                    \"description\": \"Topics discussed in the review. Separate the topic and the observation on the topic with a `-`. Example: battery life - installation, noise levels - too high, ease of use - had a hard time starting to use it, durability - easy to break, price - too high\"\n",
    "                },\n",
    "                \"Buyer Motivation\": {\n",
    "                    \"type\": \"string\",\n",
    "                    \"description\": \"Reasons why the buyer purchased the product. Example: to replace an old product, to try out a new product, to give as a gift\"\n",
    "                },\n",
    "                \"Customer Expectations\": {\n",
    "                    \"type\": \"string\",\n",
    "                    \"description\": \"Expectations the customer had before purchasing the product. Example: to be able to use the product for a long time, to be able to use the product in a variety of situations, to be able to use the product for a specific purpose\"\n",
    "                },\n",
    "                \"How the product is used\": {\n",
    "                    \"type\": \"string\",\n",
    "                    \"description\": \"Information about what the product is used for or about how the product is used. Example: doodling, practicing letters/shapes, playing games\"\n",
    "                },\n",
    "                \"Where the product is used\": {\n",
    "                    \"type\": \"string\",\n",
    "                    \"description\": \"Suggested locations or situations where the product can be used. Example: car, restaurant, garden, public parks\"\n",
    "                },\n",
    "                \"User Description\": {\n",
    "                    \"type\": \"string\",\n",
    "                    \"description\": \"Description of the user for the product. Example: children, preschoolers,  basketball players, mothers, office workers\"\n",
    "                },\n",
    "                \"Packaging\": {\n",
    "                    \"type\": \"string\",\n",
    "                    \"description\": \"Description of the product's packaging. Example: sturdy recyclable box, wrapped in plastic, great for gifting\"\n",
    "                },\n",
    "                \"Season\": {\n",
    "                    \"type\": \"string\",\n",
    "                    \"description\": \"Season or time of year when the product is typically used. Example: fall and winter\"\n",
    "                },\n",
    "                \"When the product is used\": {\n",
    "                    \"type\": \"string\",\n",
    "                    \"description\": \"Time of day or week when the product is typically used. Example: early in the morning, in the weekend\"\n",
    "                }\n",
    "            },\n",
    "            \"required\": [\"Review Summary\", \"Topics\", \"Buyer Motivation\", \"Customer Expectations\", \"How the product is used\", \"Where the product is used\", \"User Description\", \"Packaging\", \"Season\", \"When the product is used\"]\n",
    "        },\n",
    "    }\n",
    "]\n"
   ]
  },
  {
   "attachments": {},
   "cell_type": "markdown",
   "metadata": {},
   "source": [
    "#### Process review data with GPT. Run the model in async mode"
   ]
  },
  {
   "cell_type": "code",
   "execution_count": 24,
   "metadata": {},
   "outputs": [],
   "source": [
    "import asyncio\n",
    "import aiohttp\n",
    "from tenacity import (\n",
    "    retry,\n",
    "    stop_after_attempt,\n",
    "    wait_random_exponential,\n",
    ")\n",
    "\n",
    "headers = {\n",
    "    \"Content-Type\": \"application/json\",\n",
    "    \"Authorization\": f\"Bearer {OPENAI_API_KEY}\"\n",
    "}\n",
    "\n",
    "class ProgressLog:\n",
    "    def __init__(self, total):\n",
    "        self.total = total\n",
    "        self.done = 0\n",
    "\n",
    "    def increment(self):\n",
    "        self.done = self.done + 1\n",
    "\n",
    "    def __repr__(self):\n",
    "        return f\"Done runs {self.done}/{self.total}.\"\n",
    "\n",
    "@retry(wait=wait_random_exponential(min=1, max=60), stop=stop_after_attempt(20), before_sleep=print, retry_error_callback=lambda _: None)\n",
    "async def get_completion(content, session, semaphore, progress_log, functions=None, function_call=None):\n",
    "    async with semaphore:\n",
    "        json_data = {\n",
    "            \"model\": GPT_MODEL,\n",
    "            \"messages\": content,\n",
    "            \"temperature\": 0\n",
    "        }\n",
    "        \n",
    "        if functions is not None:\n",
    "            json_data.update({\"functions\": functions})\n",
    "        if function_call is not None:\n",
    "            json_data.update({\"function_call\": function_call})\n",
    "\n",
    "        async with session.post(\"https://api.openai.com/v1/chat/completions\", headers=headers, json=json_data) as resp:\n",
    "            response_json = await resp.json()\n",
    "            progress_log.increment()\n",
    "            print(progress_log)\n",
    "            return response_json[\"choices\"][0]['message']\n",
    "\n",
    "async def get_completion_list(content_list, max_parallel_calls, timeout, functions=None, function_call=None):\n",
    "    semaphore = asyncio.Semaphore(value=max_parallel_calls)\n",
    "    progress_log = ProgressLog(len(content_list))\n",
    "\n",
    "    async with aiohttp.ClientSession(timeout=aiohttp.ClientTimeout(timeout)) as session:\n",
    "        return await asyncio.gather(*[get_completion(content, session, semaphore, progress_log, functions, function_call) for content in content_list])\n",
    "\n",
    "# Define maximum parallel calls and timeout\n",
    "max_parallel_calls = 10  # Adjust based on how many requests you want to make concurrently\n",
    "timeout = 60  # Adjust timeout as per your needs\n",
    "\n",
    "# Define functions and function call\n",
    "functions = review_functions  # Replace with your functions\n",
    "function_call = {\"name\": \"review_data_function\"}\n",
    "\n",
    "# Create a list of messages for all reviews\n",
    "content_list = []\n",
    "for id in reviews_df['id']:\n",
    "    review = reviews_df[reviews_df['id'] == id]['review'].values[0]\n",
    "    messages = [\n",
    "        {\"role\": \"user\", \"content\": f\"REVIEW: ```{review}```\"},\n",
    "    ]\n",
    "    content_list.append(messages)"
   ]
  },
  {
   "cell_type": "code",
   "execution_count": 25,
   "metadata": {},
   "outputs": [
    {
     "name": "stdout",
     "output_type": "stream",
     "text": [
      "Done runs 1/33.\n",
      "Done runs 2/33.\n",
      "Done runs 3/33.\n",
      "Done runs 4/33.\n",
      "Done runs 5/33.\n",
      "Done runs 6/33.\n",
      "Done runs 7/33.\n",
      "Done runs 8/33.\n",
      "Done runs 9/33.\n",
      "Done runs 10/33.\n",
      "Done runs 11/33.\n",
      "Done runs 12/33.\n",
      "Done runs 13/33.\n",
      "Done runs 14/33.\n",
      "Done runs 15/33.\n",
      "Done runs 16/33.\n",
      "Done runs 17/33.\n",
      "Done runs 18/33.\n",
      "Done runs 19/33.\n",
      "Done runs 20/33.\n",
      "Done runs 21/33.\n",
      "Done runs 22/33.\n",
      "Done runs 23/33.\n",
      "Done runs 24/33.\n",
      "Done runs 25/33.\n",
      "Done runs 26/33.\n",
      "Done runs 27/33.\n",
      "Done runs 28/33.\n",
      "Done runs 29/33.\n",
      "Done runs 30/33.\n",
      "Done runs 31/33.\n",
      "Done runs 32/33.\n",
      "Done runs 33/33.\n"
     ]
    }
   ],
   "source": [
    "# Wrap your main coroutine invocation in another async function.\n",
    "async def main():\n",
    "    responses = await get_completion_list(content_list, max_parallel_calls, timeout, functions, function_call)\n",
    "    return responses\n",
    "\n",
    "# Now you can run your code using an await expression:\n",
    "responses = await main()"
   ]
  },
  {
   "cell_type": "code",
   "execution_count": null,
   "metadata": {},
   "outputs": [],
   "source": [
    "reviews_df['initial_response'] = responses"
   ]
  },
  {
   "cell_type": "code",
   "execution_count": 27,
   "metadata": {},
   "outputs": [],
   "source": [
    "initial_responses = responses.copy()"
   ]
  },
  {
   "cell_type": "code",
   "execution_count": 40,
   "metadata": {},
   "outputs": [],
   "source": [
    "eval_responses = []\n",
    "for item in initial_responses:\n",
    "    data = item['function_call']['arguments']\n",
    "    eval_data = eval(data)\n",
    "    eval_responses.append(eval_data)"
   ]
  },
  {
   "cell_type": "code",
   "execution_count": 41,
   "metadata": {},
   "outputs": [],
   "source": [
    "reviews_df['eval_response'] = eval_responses"
   ]
  },
  {
   "cell_type": "code",
   "execution_count": 47,
   "metadata": {},
   "outputs": [],
   "source": [
    "new_cols = list(reviews_df['eval_response'][3].keys())"
   ]
  },
  {
   "cell_type": "code",
   "execution_count": 58,
   "metadata": {},
   "outputs": [],
   "source": [
    "for col in new_cols:\n",
    "    reviews_df[col] = np.nan"
   ]
  },
  {
   "cell_type": "code",
   "execution_count": 61,
   "metadata": {},
   "outputs": [
    {
     "name": "stderr",
     "output_type": "stream",
     "text": [
      "/var/folders/f6/0jn5yf2x1b319g8j96pnjbwh0000gn/T/ipykernel_59601/2164609202.py:3: SettingWithCopyWarning: \n",
      "A value is trying to be set on a copy of a slice from a DataFrame\n",
      "\n",
      "See the caveats in the documentation: https://pandas.pydata.org/pandas-docs/stable/user_guide/indexing.html#returning-a-view-versus-a-copy\n",
      "  reviews_df[col][i] = reviews_df['eval_response'][i][col]\n"
     ]
    }
   ],
   "source": [
    "for i in reviews_df.index:\n",
    "        for col in new_cols:\n",
    "                reviews_df[col][i] = reviews_df['eval_response'][i][col]"
   ]
  },
  {
   "cell_type": "code",
   "execution_count": 63,
   "metadata": {},
   "outputs": [],
   "source": [
    "interim_reviews_path = '/Users/vladbordei/Documents/Development/ProductExplorer/data/interim/reviews_df_interim.csv'\n",
    "reviews_df.to_csv(interim_reviews_path, index=False)"
   ]
  }
 ],
 "metadata": {
  "kernelspec": {
   "display_name": "oaie",
   "language": "python",
   "name": "python3"
  },
  "language_info": {
   "codemirror_mode": {
    "name": "ipython",
    "version": 3
   },
   "file_extension": ".py",
   "mimetype": "text/x-python",
   "name": "python",
   "nbconvert_exporter": "python",
   "pygments_lexer": "ipython3",
   "version": "3.10.11"
  },
  "orig_nbformat": 4
 },
 "nbformat": 4,
 "nbformat_minor": 2
}
