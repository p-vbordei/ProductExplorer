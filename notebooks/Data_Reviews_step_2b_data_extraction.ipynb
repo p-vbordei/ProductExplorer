{
 "cells": [
  {
   "attachments": {},
   "cell_type": "markdown",
   "metadata": {},
   "source": [
    "#### STRUCTURE\n",
    "- Select required review data\n",
    "    - read csv\n",
    "    - clean reviews\n",
    "    - filter and sort reviews\n",
    "    - select the number of required reviews\n",
    "- Process review data with GPT\n",
    "    - describe prompts\n",
    "    - write tasks\n",
    "    - process tasks\n",
    "- Process resulting dictionary\n",
    "    - map results\n",
    "    - explode results to dataframe format\n",
    "    - save data\n"
   ]
  },
  {
   "cell_type": "code",
   "execution_count": 104,
   "metadata": {},
   "outputs": [
    {
     "name": "stdout",
     "output_type": "stream",
     "text": [
      "OPENAI_API_KEY is ready\n"
     ]
    }
   ],
   "source": [
    "import pandas as pd\n",
    "import numpy as np\n",
    "import re\n",
    "import requests\n",
    "import json\n",
    "import csv\n",
    "import openai\n",
    "\n",
    "import tiktoken\n",
    "from typing import Dict\n",
    "\n",
    "from rich.console import Console\n",
    "from rich.table import Table\n",
    "console = Console()\n",
    "from datetime import datetime, timedelta\n",
    "from dotenv import load_dotenv\n",
    "import os\n",
    "\n",
    "import requests\n",
    "from tenacity import retry, wait_random_exponential, stop_after_attempt\n",
    "\n",
    "load_dotenv()\n",
    "OPENAI_API_KEY = os.getenv('OPENAI_API_KEY')\n",
    "SERPAPI_API_KEY = os.getenv('SERPAPI_API_KEY')\n",
    "WOLFRAM_ALPHA_APPID = os.getenv('WOLFRAM_ALPHA_APPID')\n",
    "PROMPTLAYER_API_KEY = os.getenv('PROMPTLAYER_API_KEY')\n",
    "HUGGINGFACEHUB_API_TOKEN = os.getenv('HUGGINGFACEHUB_API_TOKEN')\n",
    "\n",
    "if os.getenv(\"OPENAI_API_KEY\") is not None:\n",
    "    print (\"OPENAI_API_KEY is ready\")\n",
    "else:\n",
    "    print (\"OPENAI_API_KEY environment variable not found\")\n",
    "\n",
    "# from getpass import getpass\n",
    "# HUGGINGFACEHUB_API_TOKEN = getpass()\n",
    "\n",
    "\n",
    "GPT_MODEL = \"gpt-3.5-turbo-0613\""
   ]
  },
  {
   "cell_type": "code",
   "execution_count": 105,
   "metadata": {},
   "outputs": [],
   "source": [
    "def num_tokens_from_string(string: str, encoding_name = \"cl100k_base\") -> int:\n",
    "    \"\"\"Returns the number of tokens in a text string.\"\"\"\n",
    "    encoding = tiktoken.get_encoding(encoding_name)\n",
    "    num_tokens = len(encoding.encode(string))\n",
    "    return num_tokens\n"
   ]
  },
  {
   "cell_type": "code",
   "execution_count": 106,
   "metadata": {},
   "outputs": [],
   "source": [
    "def extract_asin(url):\n",
    "    pattern = r'ASIN=(\\w{10})'\n",
    "    match = re.search(pattern, url)\n",
    "    if match:\n",
    "        return match.group(1)\n",
    "    else:\n",
    "        return None\n",
    "\n",
    "def clean_review(review):\n",
    "    try:\n",
    "        return re.sub(r'[^a-zA-Z0-9\\s]+', '', review)\n",
    "    except TypeError as e:\n",
    "        print(f\"Error cleaning review: {e}\")\n",
    "        return \"\"\n",
    "\n",
    "\n",
    "\n",
    "def initial_review_clean_data(df, limit=3000):\n",
    "    # Add the asin column to the dataframe\n",
    "    # df['asin'] = df['asin.original']\n",
    "\n",
    "    # Process the reviews in the dataframe\n",
    "    df.loc[:, 'review'] = df['review'].apply(clean_review)\n",
    "    df.loc[:, 'num_tokens'] = df['review'].apply(num_tokens_from_string)\n",
    "    df.loc[:, 'review'] = df.apply(lambda x: x['review'][:limit * 3] if x['num_tokens'] > limit else x['review'], axis=1)\n",
    "    df.loc[:, 'review_num_tokens'] = df['review'].apply(num_tokens_from_string)\n",
    "\n",
    "    return df\n",
    "\n"
   ]
  },
  {
   "cell_type": "code",
   "execution_count": 107,
   "metadata": {},
   "outputs": [],
   "source": [
    "#asin_list_path = './data/external/asin_list.csv'\n",
    "asin_list_path = '/Users/vladbordei/Documents/Development/ProductExplorer/data/external/asin_list.csv'\n",
    "asin_list = pd.read_csv(asin_list_path)['asin'].tolist()"
   ]
  },
  {
   "cell_type": "code",
   "execution_count": 108,
   "metadata": {},
   "outputs": [],
   "source": [
    "# reviews_path = './data/interim/reviews_with_sentiment.csv'\n",
    "reviews_path = '/Users/vladbordei/Documents/Development/ProductExplorer/data/interim/reviews_with_sentiment.csv'\n",
    "reviews = pd.read_csv(reviews_path)"
   ]
  },
  {
   "attachments": {},
   "cell_type": "markdown",
   "metadata": {},
   "source": [
    "#### THIS PART REDUCES THE REVIEW NUMBERS SO WE CAN TEST AT EASE\n",
    "\n",
    "#### Select required review data\n",
    "    - read csv\n",
    "    - clean reviews\n",
    "    - filter and sort reviews\n",
    "    - select the number of required reviews"
   ]
  },
  {
   "cell_type": "code",
   "execution_count": 109,
   "metadata": {},
   "outputs": [],
   "source": [
    "# reviews.rename(columns={'Variation': 'asin'}, inplace=True)"
   ]
  },
  {
   "cell_type": "code",
   "execution_count": 110,
   "metadata": {},
   "outputs": [],
   "source": [
    "reviews['asin'] = reviews['URL'].apply(extract_asin)"
   ]
  },
  {
   "cell_type": "code",
   "execution_count": 111,
   "metadata": {},
   "outputs": [
    {
     "name": "stderr",
     "output_type": "stream",
     "text": [
      "/var/folders/f6/0jn5yf2x1b319g8j96pnjbwh0000gn/T/ipykernel_1291/148454809.py:14: SettingWithCopyWarning: \n",
      "A value is trying to be set on a copy of a slice from a DataFrame.\n",
      "Try using .loc[row_indexer,col_indexer] = value instead\n",
      "\n",
      "See the caveats in the documentation: https://pandas.pydata.org/pandas-docs/stable/user_guide/indexing.html#returning-a-view-versus-a-copy\n",
      "  reviews_filtered['Date'] = pd.to_datetime(reviews_filtered['Date'].apply(lambda s: s.split(' on ')[-1]))\n",
      "/var/folders/f6/0jn5yf2x1b319g8j96pnjbwh0000gn/T/ipykernel_1291/148454809.py:17: SettingWithCopyWarning: \n",
      "A value is trying to be set on a copy of a slice from a DataFrame.\n",
      "Try using .loc[row_indexer,col_indexer] = value instead\n",
      "\n",
      "See the caveats in the documentation: https://pandas.pydata.org/pandas-docs/stable/user_guide/indexing.html#returning-a-view-versus-a-copy\n",
      "  reviews_filtered['Date'] = pd.to_datetime(reviews_filtered['Date'])\n"
     ]
    }
   ],
   "source": [
    "# Get the value counts for each unique value of 'asin.original'\n",
    "counts = reviews['asin'].value_counts()\n",
    "\n",
    "# Keep only the top values\n",
    "top = counts.head(1000)\n",
    "\n",
    "# Filter the reviews DataFrame to keep only rows with asin.original in the top 10\n",
    "reviews_filtered = reviews[reviews['asin'].isin(top.index)]\n",
    "\n",
    "# Get the datetime object for 12 months ago\n",
    "date_12_months_ago = datetime.today() - timedelta(days=365)\n",
    "\n",
    "# Convert the 'Date_initial' column to datetime format\n",
    "reviews_filtered['Date'] = pd.to_datetime(reviews_filtered['Date'].apply(lambda s: s.split(' on ')[-1]))\n",
    "\n",
    "# Convert the 'date.date' column to datetime format\n",
    "reviews_filtered['Date'] = pd.to_datetime(reviews_filtered['Date'])\n",
    "\n",
    "# Filter the reviews dataframe to only include reviews from the last 12 months\n",
    "reviews_last_12_months = reviews_filtered[reviews_filtered['Date'] >= date_12_months_ago]\n",
    "\n",
    "# keep only latest  x reviews\n",
    "reviews_count_filtered = reviews_last_12_months.groupby('asin').tail(1)\n",
    "\n",
    "# reset index\n",
    "reviews_count_filtered = reviews_count_filtered.reset_index(drop=True)\n",
    "reviews_count_filtered[\"id\"] = reviews_count_filtered.index\n"
   ]
  },
  {
   "cell_type": "code",
   "execution_count": 112,
   "metadata": {},
   "outputs": [],
   "source": [
    "reviews_df = initial_review_clean_data(reviews_count_filtered)"
   ]
  },
  {
   "cell_type": "code",
   "execution_count": 113,
   "metadata": {},
   "outputs": [],
   "source": [
    "try:\n",
    "    reviews_df.drop(columns = [\"index\", \"level_0\", \"Author\"], inplace = True)\n",
    "except:\n",
    "    pass"
   ]
  },
  {
   "attachments": {},
   "cell_type": "markdown",
   "metadata": {},
   "source": [
    "#### WRITING DOWN TASKS FOR AI TO PROCESS IN PARALLEL\n",
    "\n",
    "#### Process review data with GPT\n",
    "    - review functions\n"
   ]
  },
  {
   "cell_type": "code",
   "execution_count": 114,
   "metadata": {},
   "outputs": [],
   "source": [
    "# https://towardsdatascience.com/an-introduction-to-openai-function-calling-e47e7cd7680e\n",
    "review_functions = [\n",
    "    {\n",
    "        \"name\": \"review_data_function\",\n",
    "        \"description\": \"Provide a detailed description of a product\",\n",
    "        \"parameters\": {\n",
    "            \"type\": \"object\",\n",
    "            \"properties\": {\n",
    "                \"Review Summary\": {\n",
    "                    \"type\": \"string\",\n",
    "                    \"description\": \"A brief summary of the review. Example: Good product overall, but improvements can be made in battery life and noise levels.\"\n",
    "                },\n",
    "                \"Buyer Motivation\": {\n",
    "                    \"type\": \"string\",\n",
    "                    \"description\": \"Reasons why the buyer purchased the product. Example: to replace an old product, to try out a new product, to give as a gift\"\n",
    "                },\n",
    "                \"Customer Expectations\": {\n",
    "                    \"type\": \"string\",\n",
    "                    \"description\": \"Expectations the customer had before purchasing the product. Example: to be able to use the product for a long time, to be able to use the product in a variety of situations, to be able to use the product for a specific purpose\"\n",
    "                },\n",
    "                \"How the product is used\": {\n",
    "                    \"type\": \"string\",\n",
    "                    \"description\": \"Information about what the product is used for or about how the product is used. Example: doodling, practicing letters/shapes, playing games\"\n",
    "                },\n",
    "                \"Where the product is used\": {\n",
    "                    \"type\": \"string\",\n",
    "                    \"description\": \"Suggested locations or situations where the product can be used. Example: car, restaurant, garden, public parks\"\n",
    "                },\n",
    "                \"User Description\": {\n",
    "                    \"type\": \"string\",\n",
    "                    \"description\": \"Description of the user for the product. Example: children, preschoolers,  basketball players, mothers, office workers\"\n",
    "                },\n",
    "                \"Packaging\": {\n",
    "                    \"type\": \"string\",\n",
    "                    \"description\": \"Description of the product's packaging. Example: sturdy recyclable box, wrapped in plastic, great for gifting\"\n",
    "                },\n",
    "                \"Season\": {\n",
    "                    \"type\": \"string\",\n",
    "                    \"description\": \"Season or time of year when the product is typically used. Example: fall and winter\"\n",
    "                },\n",
    "                \"When the product is used\": {\n",
    "                    \"type\": \"string\",\n",
    "                    \"description\": \"Time of day or week when the product is typically used. Example: early in the morning, in the weekend\"\n",
    "                },\n",
    "                \"Price\": {\n",
    "                    \"type\": \"string\",\n",
    "                    \"description\": \"Observations on the price. Example: not worth the price, good value for the price, great price\"\n",
    "                },\n",
    "                \"Quality\": {\n",
    "                    \"type\": \"string\",\n",
    "                    \"description\": \"Observations on the quality. Example: poor quality, great quality\"\n",
    "                },\n",
    "                \"Durability\": {\n",
    "                    \"type\": \"string\",\n",
    "                    \"description\": \"Observations on the durability. Example: not durable, durable, very durable\"\n",
    "                },\n",
    "                \"Ease of Use\": {\n",
    "                    \"type\": \"string\",\n",
    "                    \"description\": \"Observations on the ease of use. Example: not easy to use, easy to use\"\n",
    "                },\n",
    "                \"Setup and Instructions\": {\n",
    "                    \"type\": \"string\",\n",
    "                    \"description\": \"Observations on the setup. Example: not easy to set up, easy to set up, easy to follow instructions,  not clear instructions\"\n",
    "                },\n",
    "                \"Noise and Smell\": {\n",
    "                    \"type\": \"string\",\n",
    "                    \"description\": \"Observations on the noise level or smell. Example: too loud, quiet, squeaky, smells like roses, plastic smell\"\n",
    "                },\n",
    "                \"Colors\": {\n",
    "                    \"type\": \"string\",\n",
    "                    \"description\": \"Observations on the colors. Example: not enough color options, great color options, love the red\"\n",
    "                },\n",
    "                \"Size and Fit\": {\n",
    "                    \"type\": \"string\",\n",
    "                    \"description\": \"Observations on the fit. Example: too tight, too loose, fits well, too small, too big\"\n",
    "                },\n",
    "                \"Danger Appraisal\": {\n",
    "                    \"type\": \"string\",\n",
    "                    \"description\": \"Observations on the safety of the product. Example: dangerous, hazardous, safe, can break and harm, safe for children\"\n",
    "                },\n",
    "                \"Design and Appearance\": {\n",
    "                    \"type\": \"string\",\n",
    "                    \"description\": \"Observations on the design and appearance. Example: not attractive, attractive, love the design, love the appearance\"\n",
    "                },\n",
    "                \"Parts and Components\": {\n",
    "                    \"type\": \"string\",\n",
    "                    \"description\": \"Observations on the parts and components. Example: missing parts, all parts included, parts are easy to assemble\"\n",
    "                },\n",
    "\n",
    "\n",
    "            },\n",
    "            \"required\": [\"Review Summary\",\"Buyer Motivation\", \"Customer Expectations\", \"How the product is used\", \"Where the product is used\", \"User Description\", \"Packaging\", \"Season\", \"When the product is used\", \"Price\", \"Quality\", \"Durability\", \"Ease of Use\", \"Setup and Instructions\", \"Noise and Smell\", \"Colors\", \"Size and Fit\", \"Danger Appraisal\", \"Design and Appearance\", \"Parts and Components\"]\n",
    "        },\n",
    "    }\n",
    "]\n"
   ]
  },
  {
   "attachments": {},
   "cell_type": "markdown",
   "metadata": {},
   "source": [
    "#### Process review data with GPT. Run the model in async mode"
   ]
  },
  {
   "cell_type": "code",
   "execution_count": 115,
   "metadata": {},
   "outputs": [],
   "source": [
    "import asyncio\n",
    "import aiohttp\n",
    "from tenacity import (\n",
    "    retry,\n",
    "    stop_after_attempt,\n",
    "    wait_random_exponential,\n",
    ")\n",
    "\n",
    "headers = {\n",
    "    \"Content-Type\": \"application/json\",\n",
    "    \"Authorization\": f\"Bearer {OPENAI_API_KEY}\"\n",
    "}\n",
    "\n",
    "class ProgressLog:\n",
    "    def __init__(self, total):\n",
    "        self.total = total\n",
    "        self.done = 0\n",
    "\n",
    "    def increment(self):\n",
    "        self.done = self.done + 1\n",
    "\n",
    "    def __repr__(self):\n",
    "        return f\"Done runs {self.done}/{self.total}.\"\n",
    "\n",
    "@retry(wait=wait_random_exponential(min=1, max=60), stop=stop_after_attempt(20), before_sleep=print, retry_error_callback=lambda _: None)\n",
    "async def get_completion(content, session, semaphore, progress_log, functions=None, function_call=None):\n",
    "    async with semaphore:\n",
    "        json_data = {\n",
    "            \"model\": GPT_MODEL,\n",
    "            \"messages\": content,\n",
    "            \"temperature\": 0\n",
    "        }\n",
    "        \n",
    "        if functions is not None:\n",
    "            json_data.update({\"functions\": functions})\n",
    "        if function_call is not None:\n",
    "            json_data.update({\"function_call\": function_call})\n",
    "\n",
    "        async with session.post(\"https://api.openai.com/v1/chat/completions\", headers=headers, json=json_data) as resp:\n",
    "            response_json = await resp.json()\n",
    "            progress_log.increment()\n",
    "            print(progress_log)\n",
    "            return response_json[\"choices\"][0]['message']\n",
    "\n",
    "async def get_completion_list(content_list, max_parallel_calls, timeout, functions=None, function_call=None):\n",
    "    semaphore = asyncio.Semaphore(value=max_parallel_calls)\n",
    "    progress_log = ProgressLog(len(content_list))\n",
    "\n",
    "    async with aiohttp.ClientSession(timeout=aiohttp.ClientTimeout(timeout)) as session:\n",
    "        return await asyncio.gather(*[get_completion(content, session, semaphore, progress_log, functions, function_call) for content in content_list])\n",
    "\n"
   ]
  },
  {
   "cell_type": "code",
   "execution_count": 116,
   "metadata": {},
   "outputs": [
    {
     "name": "stdout",
     "output_type": "stream",
     "text": [
      "Done runs 1/11.\n",
      "Done runs 2/11.\n",
      "Done runs 3/11.\n",
      "Done runs 4/11.\n",
      "Done runs 5/11.\n",
      "Done runs 6/11.\n",
      "Done runs 7/11.\n",
      "Done runs 8/11.\n",
      "Done runs 9/11.\n",
      "Done runs 10/11.\n",
      "Done runs 11/11.\n"
     ]
    }
   ],
   "source": [
    "# Define maximum parallel calls and timeout\n",
    "max_parallel_calls = 100  # Adjust based on how many requests you want to make concurrently\n",
    "timeout = 60  # Adjust timeout as per your needs\n",
    "\n",
    "# Define functions and function call\n",
    "functions = review_functions  # Replace with your functions\n",
    "function_call = {\"name\": \"review_data_function\"}\n",
    "\n",
    "# Create a list of messages for all reviews\n",
    "content_list = []\n",
    "for id in reviews_df['id']:\n",
    "    review = reviews_df[reviews_df['id'] == id]['review'].values[0]\n",
    "    messages = [\n",
    "        {\"role\": \"user\", \"content\": f\"REVIEW: ```{review}```\"},\n",
    "    ]\n",
    "    content_list.append(messages)\n",
    "\n",
    "# Wrap your main coroutine invocation in another async function.\n",
    "async def main():\n",
    "    responses = await get_completion_list(content_list, max_parallel_calls, timeout, functions, function_call)\n",
    "    return responses\n",
    "\n",
    "# Now you can run your code using an await expression:\n",
    "responses = await main()"
   ]
  },
  {
   "cell_type": "code",
   "execution_count": 117,
   "metadata": {},
   "outputs": [],
   "source": [
    "reviews_df['initial_response'] = responses"
   ]
  },
  {
   "cell_type": "code",
   "execution_count": 118,
   "metadata": {},
   "outputs": [
    {
     "data": {
      "text/plain": [
       "{'role': 'assistant',\n",
       " 'content': None,\n",
       " 'function_call': {'name': 'review_data_function',\n",
       "  'arguments': '{\\n  \"Review Summary\": \"Great for gardening\",\\n  \"Buyer Motivation\": \"To have a convenient gardening space\",\\n  \"Customer Expectations\": \"To have a sturdy and functional gardening space\",\\n  \"How the product is used\": \"For gardening purposes\",\\n  \"Where the product is used\": \"Next to a garden shed and against a wall\",\\n  \"User Description\": \"Gardeners\",\\n  \"Packaging\": \"Not specified\",\\n  \"Season\": \"Not specified\",\\n  \"When the product is used\": \"Not specified\",\\n  \"Price\": \"Not specified\",\\n  \"Quality\": \"Not specified\",\\n  \"Durability\": \"Not specified\",\\n  \"Ease of Use\": \"Not specified\",\\n  \"Setup and Instructions\": \"Not specified\",\\n  \"Noise and Smell\": \"Not specified\",\\n  \"Colors\": \"Not specified\",\\n  \"Size and Fit\": \"Not specified\",\\n  \"Danger Appraisal\": \"Not specified\",\\n  \"Design and Appearance\": \"Square design, fits well next to a garden shed and against a wall\",\\n  \"Parts and Components\": \"Not specified\"\\n}'}}"
      ]
     },
     "execution_count": 118,
     "metadata": {},
     "output_type": "execute_result"
    }
   ],
   "source": [
    "reviews_df['initial_response'][8]"
   ]
  },
  {
   "cell_type": "code",
   "execution_count": 119,
   "metadata": {},
   "outputs": [],
   "source": [
    "initial_responses = responses.copy()"
   ]
  },
  {
   "cell_type": "code",
   "execution_count": 120,
   "metadata": {},
   "outputs": [],
   "source": [
    "eval_responses = []\n",
    "for item in initial_responses:\n",
    "    data = item['function_call']['arguments']\n",
    "    eval_data = eval(data)\n",
    "    eval_responses.append(eval_data)\n",
    "\n",
    "reviews_df['eval_response'] = eval_responses\n",
    "\n",
    "new_cols = list(reviews_df['eval_response'][3].keys())"
   ]
  },
  {
   "cell_type": "code",
   "execution_count": 121,
   "metadata": {},
   "outputs": [
    {
     "name": "stderr",
     "output_type": "stream",
     "text": [
      "/var/folders/f6/0jn5yf2x1b319g8j96pnjbwh0000gn/T/ipykernel_1291/3498695424.py:6: SettingWithCopyWarning: \n",
      "A value is trying to be set on a copy of a slice from a DataFrame\n",
      "\n",
      "See the caveats in the documentation: https://pandas.pydata.org/pandas-docs/stable/user_guide/indexing.html#returning-a-view-versus-a-copy\n",
      "  reviews_df[col][i] = reviews_df['eval_response'][i][col]\n"
     ]
    }
   ],
   "source": [
    "for col in new_cols:\n",
    "    reviews_df[col] = np.nan\n",
    "\n",
    "for i in reviews_df.index:\n",
    "        for col in new_cols:\n",
    "                reviews_df[col][i] = reviews_df['eval_response'][i][col]"
   ]
  },
  {
   "cell_type": "code",
   "execution_count": 122,
   "metadata": {},
   "outputs": [
    {
     "data": {
      "text/plain": [
       "Index(['Date', 'Author', 'Verified', 'Helpful', 'Title', 'review', 'Rating',\n",
       "       'Images', 'Videos', 'URL', 'Variation', 'Style', 'positive_sentiment',\n",
       "       'negative_sentiment', 'asin', 'id', 'num_tokens', 'review_num_tokens',\n",
       "       'initial_response', 'eval_response', 'Review Summary',\n",
       "       'Buyer Motivation', 'Customer Expectations', 'How the product is used',\n",
       "       'Where the product is used', 'User Description', 'Packaging', 'Season',\n",
       "       'When the product is used', 'Price', 'Quality', 'Durability',\n",
       "       'Ease of Use', 'Setup and Instructions', 'Noise and Smell', 'Colors',\n",
       "       'Size and Fit', 'Danger Appraisal', 'Design and Appearance',\n",
       "       'Parts and Components'],\n",
       "      dtype='object')"
      ]
     },
     "execution_count": 122,
     "metadata": {},
     "output_type": "execute_result"
    }
   ],
   "source": [
    "reviews_df.columns"
   ]
  },
  {
   "cell_type": "code",
   "execution_count": 123,
   "metadata": {},
   "outputs": [],
   "source": [
    "interim_reviews_path = '/Users/vladbordei/Documents/Development/ProductExplorer/data/interim/reviews_df_interim.csv'\n",
    "reviews_df.to_csv(interim_reviews_path, index=False)"
   ]
  }
 ],
 "metadata": {
  "kernelspec": {
   "display_name": "oaie",
   "language": "python",
   "name": "python3"
  },
  "language_info": {
   "codemirror_mode": {
    "name": "ipython",
    "version": 3
   },
   "file_extension": ".py",
   "mimetype": "text/x-python",
   "name": "python",
   "nbconvert_exporter": "python",
   "pygments_lexer": "ipython3",
   "version": "3.10.11"
  },
  "orig_nbformat": 4
 },
 "nbformat": 4,
 "nbformat_minor": 2
}
