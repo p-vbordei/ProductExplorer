{
 "cells": [
  {
   "cell_type": "markdown",
   "metadata": {},
   "source": [
    "# Scope: Trecerea de la problema la solutie"
   ]
  },
  {
   "cell_type": "code",
   "execution_count": 38,
   "metadata": {},
   "outputs": [
    {
     "name": "stdout",
     "output_type": "stream",
     "text": [
      "OPENAI_API_KEY is ready\n"
     ]
    }
   ],
   "source": [
    "import pandas as pd\n",
    "import numpy as np\n",
    "from dotenv import load_dotenv\n",
    "import os\n",
    "import openai\n",
    "import json\n",
    "\n",
    "import requests\n",
    "from tenacity import retry, wait_random_exponential, stop_after_attempt\n",
    "from termcolor import colored\n",
    "\n",
    "\n",
    "load_dotenv()\n",
    "OPENAI_API_KEY = os.getenv('OPENAI_API_KEY')\n",
    "HUGGINGFACEHUB_API_TOKEN = os.getenv('HUGGINGFACEHUB_API_TOKEN')\n",
    "\n",
    "if os.getenv(\"OPENAI_API_KEY\") is not None:\n",
    "    print (\"OPENAI_API_KEY is ready\")\n",
    "else:\n",
    "    print (\"OPENAI_API_KEY environment variable not found\")\n",
    "\n",
    "GPT_MODEL = \"gpt-3.5-turbo\""
   ]
  },
  {
   "cell_type": "code",
   "execution_count": 3,
   "metadata": {},
   "outputs": [],
   "source": [
    "@retry(wait=wait_random_exponential(min=1, max=40), stop=stop_after_attempt(3))\n",
    "def chat_completion_request(messages, functions=None, function_call=None, temperature=0, model=GPT_MODEL):\n",
    "    headers = {\n",
    "        \"Content-Type\": \"application/json\",\n",
    "        \"Authorization\": \"Bearer \" + openai.api_key,\n",
    "    }\n",
    "    json_data = {\"model\": model, \"messages\": messages, \"temperature\": temperature}\n",
    "    if functions is not None:\n",
    "        json_data.update({\"functions\": functions})\n",
    "    if function_call is not None:\n",
    "        json_data.update({\"function_call\": function_call})\n",
    "    try:\n",
    "        response = requests.post(\n",
    "            \"https://api.openai.com/v1/chat/completions\",\n",
    "            headers=headers,\n",
    "            json=json_data,\n",
    "        )\n",
    "        return response\n",
    "    except Exception as e:\n",
    "        print(\"Unable to generate ChatCompletion response\")\n",
    "        print(f\"Exception: {e}\")\n",
    "        return e"
   ]
  },
  {
   "cell_type": "code",
   "execution_count": 4,
   "metadata": {},
   "outputs": [],
   "source": [
    "# Read data about the product\n",
    "\n",
    "with open('/Users/vladbordei/Documents/Development/ProductExplorer/data/interim/short_product_information.json') as file:\n",
    "    json_string = file.read()\n",
    "    general_product_data = json.loads(json_string)"
   ]
  },
  {
   "cell_type": "code",
   "execution_count": 5,
   "metadata": {},
   "outputs": [],
   "source": [
    "#asin_list_path = './data/external/asin_list.csv'\n",
    "asin_list_path = '/Users/vladbordei/Documents/Development/ProductExplorer/data/external/asin_list.csv'\n",
    "asin_list = pd.read_csv(asin_list_path)['asin'].tolist()"
   ]
  },
  {
   "cell_type": "code",
   "execution_count": 6,
   "metadata": {},
   "outputs": [],
   "source": [
    "attribute_clusters_with_percentage_path = '/Users/vladbordei/Documents/Development/ProductExplorer/data/interim/attribute_clusters_with_percentage.csv'\n",
    "attributes = pd.read_csv(attribute_clusters_with_percentage_path)"
   ]
  },
  {
   "cell_type": "code",
   "execution_count": 7,
   "metadata": {},
   "outputs": [],
   "source": [
    "reviews_with_clusters_path = '/Users/vladbordei/Documents/Development/ProductExplorer/data/interim/reviews_with_clusters.csv'\n",
    "reviews_with_clusters = pd.read_csv(reviews_with_clusters_path)"
   ]
  },
  {
   "cell_type": "code",
   "execution_count": 8,
   "metadata": {},
   "outputs": [],
   "source": [
    "df_problem_statements_path = '/Users/vladbordei/Documents/Development/ProductExplorer/data/interim/problem_statements.csv'\n",
    "df_problem_statements = pd.read_csv(df_problem_statements_path)"
   ]
  },
  {
   "cell_type": "code",
   "execution_count": 9,
   "metadata": {},
   "outputs": [
    {
     "data": {
      "text/plain": [
       "Index(['cluster_label', 'Attribute', 'problem_statement'], dtype='object')"
      ]
     },
     "execution_count": 9,
     "metadata": {},
     "output_type": "execute_result"
    }
   ],
   "source": [
    "df_problem_statements.columns"
   ]
  },
  {
   "cell_type": "code",
   "execution_count": 10,
   "metadata": {},
   "outputs": [
    {
     "data": {
      "text/plain": [
       "{'problem_identification': 'Difficult assembly',\n",
       " 'problem_statement': \"Customers have reported that the assembly process for the Raised Garden Bed is challenging and time-consuming. They have encountered issues such as flimsy materials, confusing instructions, and holes that don't align. Some customers have also mentioned that the screws provided are burred and difficult to start by hand. Assembly requires two people and takes a couple of hours. The lack of clear and detailed directions has been a major frustration for customers. Additionally, some customers have expressed concerns about the sturdiness of the product once assembled.\",\n",
       " 'customer_voice_examples': ['Difficult to assemble, flimsy materials',\n",
       "  'Difficult to assemble, ended up in the landfill',\n",
       "  'Assembling this thing by yourself is time consuming and it is not too sturdy.',\n",
       "  'Screws were burred and difficult to start by hand. Assembly requires two people and takes a couple of hours. Directions are almost nonexistent.',\n",
       "  'Just took a long time to assemble',\n",
       "  \"Assembly is time-consuming and holes don't align, cost of filling is expensive\",\n",
       "  'Assembly was not as quick as expected',\n",
       "  'Seems flimsy when putting together',\n",
       "  'Confusing instructions',\n",
       "  'Assembly can be challenging and requires two people',\n",
       "  'It does take a lot of fill',\n",
       "  'Difficult assembly and larger size than expected',\n",
       "  'Very awkward to put together and move around',\n",
       "  'Difficult to assemble',\n",
       "  'Difficult assembly and not sturdy. The screws in the middle are too short and require another person to help. The product folds up easily when weight is applied.',\n",
       "  \"There were many tiny screws that made it time consuming to assemble. The biggest frustration was the sharp edges in many places. I cut my elbow on a corner while assembling it and I fear it won't be the last cut someone gets on it.\",\n",
       "  'The instructions are not good',\n",
       "  'Time consuming to assemble',\n",
       "  'Requires a lot of effort to fill and assemble',\n",
       "  'Instructions are confusing',\n",
       "  'Making assembly difficult']}"
      ]
     },
     "execution_count": 10,
     "metadata": {},
     "output_type": "execute_result"
    }
   ],
   "source": [
    "eval(df_problem_statements['problem_statement'][1])"
   ]
  },
  {
   "cell_type": "code",
   "execution_count": 11,
   "metadata": {},
   "outputs": [
    {
     "data": {
      "text/plain": [
       "{'Product Summary': 'The Raised Garden Bed is a 6x3x2ft galvanized planter box designed for growing vegetables, flowers, and herbs. It is made of stable thickened steel with an evaluated coating paint, ensuring long-term use without rusting. The open bottom design allows for good drainage, promoting healthy plant growth. Setting up the garden bed is quick and easy, as it does not require any tools. The butterfly screws provided can be fastened by hand in just 5-10 minutes. The garden bed also features a cured edge for safety, preventing any injuries to your hands.',\n",
       " 'In_the_Box': 'The package includes the FRIZIONE Galvanized Metal Raised Garden Bed and all the necessary hardware for assembly.',\n",
       " 'technical_facts': 'The garden bed is made of galvanized steel with an anti-rust coating. It has a 2ft depth and measures 6x3ft in size.',\n",
       " 'features': '1. Size: 6x3x2ft, providing ample growing space for vegetables, herbs, and flowers.\\n2. Made of stable thickened steel with evaluated coating paint, ensuring long-term use without rusting.\\n3. Open bottom design for good drainage.\\n4. Easy setup without the need for tools.\\n5. Cured edge for safety.',\n",
       " 'how_the_product_is_used': 'The Raised Garden Bed is used for growing vegetables, flowers, and herbs. It provides a convenient and organized space for gardening.',\n",
       " 'where_the_product_is_used': 'The Raised Garden Bed can be used outdoors in gardens, yards, balconies, or any suitable outdoor space.',\n",
       " 'user_description': 'This product is suitable for gardeners of all levels, from beginners to experienced enthusiasts.',\n",
       " 'product_packaging': 'The Raised Garden Bed is packaged in a sturdy box, ensuring safe delivery. The product is packaged in a sturdy box to ensure safe delivery. The product comes in a sturdy package that includes the raised garden bed, a weed barrier, 8 T-type tags, and 2 gloves. The packaging is suitable for gifting. The garden bed comes in a sturdy package that includes all necessary accessories for assembly. The FRIZIONE Galvanized Metal Raised Garden Bed comes in a sturdy package that ensures safe delivery. The FRIZIONE Galvanized Metal Raised Garden Bed comes in a sturdy package with all the necessary hardware for assembly. The product is packaged in a sturdy box to ensure safe delivery. The product comes in a sturdy package that includes all the necessary parts for assembly. The product is packaged in a sturdy box to ensure safe delivery. The garden beds are packaged in a sturdy box, and the package includes installation gloves and spare screws. The product is packaged in a sturdy box. The Raised Garden Bed is packaged in a sturdy recyclable box, ensuring safe delivery. The garden bed is packaged in a sturdy box to ensure safe delivery. The packaging is suitable for gifting. The garden bed kit comes in a sturdy package that ensures the product is well-protected during shipping. It is also suitable for gifting. The product is packaged in a sturdy box to ensure safe delivery. The KGAR Metal Raised Garden Bed comes in a sturdy package that includes the metal planter box and all the necessary accessories for installation. The packaging is designed to protect the product during shipping and is suitable for gifting.',\n",
       " 'product_seasonal_use': 'The garden bed can be used throughout the year, depending on the climate and the types of plants being grown.',\n",
       " 'when_the_product_is_used': \"The garden bed can be used at any time of the day or week, depending on the user's preference and gardening schedule.\"}"
      ]
     },
     "execution_count": 11,
     "metadata": {},
     "output_type": "execute_result"
    }
   ],
   "source": [
    "general_product_data"
   ]
  },
  {
   "cell_type": "code",
   "execution_count": 30,
   "metadata": {},
   "outputs": [],
   "source": [
    "product_improvement_function = [\n",
    "    {\n",
    "        \"name\": \"product_improvement_function\",\n",
    "        \"description\": \"This function is designed to provide engineering solutions to address \\\n",
    "            the primary issues with a product. The function uses the data from customer complaints \\\n",
    "            and the product's description to propose technical product improvements. \\\n",
    "            Example Output: \\\n",
    "            'Product Improvement 1': { 'Title': 'Reinforced assembly design', \\\n",
    "            'Implementation Details for the engineer': { ... }, 'Implementation Steps': { ... }, 'Considerations': { ... } }, \\\n",
    "            'Product Improvement 2': { 'Title': 'Improved instructions and assembly materials', \\\n",
    "            'Implementation Details for the engineer': { ... }, 'Implementation Steps': { ... }, 'Considerations': { ... } }\",\n",
    "        \"parameters\": {\n",
    "            \"type\": \"object\",\n",
    "            \"properties\": {\n",
    "                \"Product Improvement 1\": {\n",
    "                    \"type\": \"object\",\n",
    "                    \"properties\": {\n",
    "                        \"Title\": {\n",
    "                            \"type\": \"string\",\n",
    "                            \"description\": \"The title or short description of the first proposed product improvement.\"\n",
    "                        },\n",
    "                        \"Implementation Details for the engineer\": {\n",
    "                            \"type\": \"string\",\n",
    "                            \"description\": \"A detailed, 500-word description of the first improvement solution, including specific instructions for implementation by an engineer.\"\n",
    "                        },\n",
    "                        \"Considerations\": {\n",
    "                            \"type\": \"string\",\n",
    "                            \"description\": \"Considerations and potential challenges in the implementation of the proposed solution.\"\n",
    "                        }\n",
    "                    },\n",
    "                    \"required\": [\"Title\", \"Implementation Details for the engineer\", \"Implementation Steps\", \"Considerations\"]\n",
    "                },\n",
    "                \"Product Improvement 2\": {\n",
    "                    \"type\": \"object\",\n",
    "                    \"properties\": {\n",
    "                        \"Title\": {\n",
    "                            \"type\": \"string\",\n",
    "                            \"description\": \"The title or short description of the second proposed product improvement.\"\n",
    "                        },\n",
    "                        \"Implementation Details for the engineer\": {\n",
    "                            \"type\": \"string\",\n",
    "                            \"description\": \"A detailed, 500-word description of the second improvement solution, including specific instructions for implementation by an engineer.\"\n",
    "                        },\n",
    "                        \"Considerations\": {\n",
    "                            \"type\": \"string\",\n",
    "                            \"description\": \"Considerations and potential challenges in the implementation of the proposed solution.\"\n",
    "                        }\n",
    "                    },\n",
    "                    \"required\": [\"Title\", \"Implementation Details for the engineer\", \"Implementation Steps\", \"Considerations\"]\n",
    "                }\n",
    "            },\n",
    "            \"required\": [\"Product Improvement 1\", \"Product Improvement 2\"]\n",
    "        }\n",
    "    }\n",
    "]"
   ]
  },
  {
   "cell_type": "code",
   "execution_count": 31,
   "metadata": {},
   "outputs": [],
   "source": [
    "problem = eval(df_problem_statements['problem_statement'][1])\n",
    "messages = [\n",
    "    {\"role\": \"user\", \"content\": f\"PROBLEM STATEMENT: {problem} AND PRODUCT DESCRIPTION: {general_product_data}\"}\n",
    "]\n",
    "\n",
    "# Send the request to the LLM and get the response\n",
    "response =  chat_completion_request(\n",
    "    messages=messages,\n",
    "    functions=product_improvement_function,\n",
    "    function_call={\"name\": \"product_improvement_function\"},\n",
    "    temperature=0.5,\n",
    "    model=GPT_MODEL\n",
    ")\n",
    "\n",
    "# Process the response and store in the dictionary\n",
    "chat_response = response.json()[\"choices\"][0]"
   ]
  },
  {
   "cell_type": "code",
   "execution_count": 32,
   "metadata": {},
   "outputs": [],
   "source": [
    "data = chat_response['message']['function_call']['arguments']"
   ]
  },
  {
   "cell_type": "code",
   "execution_count": 33,
   "metadata": {},
   "outputs": [],
   "source": [
    "eval_data = eval(data)"
   ]
  },
  {
   "cell_type": "code",
   "execution_count": 34,
   "metadata": {},
   "outputs": [
    {
     "data": {
      "text/plain": [
       "dict_keys(['Product Improvement 1', 'Product Improvement 2'])"
      ]
     },
     "execution_count": 34,
     "metadata": {},
     "output_type": "execute_result"
    }
   ],
   "source": [
    "eval_data.keys()"
   ]
  },
  {
   "cell_type": "code",
   "execution_count": 35,
   "metadata": {},
   "outputs": [
    {
     "data": {
      "text/plain": [
       "'1. Use stronger and more durable materials for the assembly parts, such as screws and brackets.\\n2. Ensure that all holes in the parts align properly.\\n3. Provide screws that are easy to start by hand and do not get burred.\\n4. Consider using color-coded parts or markings to make assembly easier.\\n5. Include spare parts in the package to account for any missing or damaged parts during assembly.'"
      ]
     },
     "execution_count": 35,
     "metadata": {},
     "output_type": "execute_result"
    }
   ],
   "source": [
    "eval_data['Product Improvement 1']['Implementation Details for the engineer']"
   ]
  },
  {
   "cell_type": "code",
   "execution_count": 36,
   "metadata": {},
   "outputs": [
    {
     "data": {
      "text/plain": [
       "'1. Create clear and detailed assembly instructions with step-by-step illustrations.\\n2. Use simple and concise language to explain each assembly step.\\n3. Include labeled diagrams or pictures of the parts to help users identify and locate them.\\n4. Provide troubleshooting tips for common assembly issues.\\n5. Consider creating an assembly video tutorial for visual learners.'"
      ]
     },
     "execution_count": 36,
     "metadata": {},
     "output_type": "execute_result"
    }
   ],
   "source": [
    "eval_data['Product Improvement 2']['Implementation Details for the engineer']"
   ]
  },
  {
   "cell_type": "code",
   "execution_count": null,
   "metadata": {},
   "outputs": [],
   "source": []
  },
  {
   "cell_type": "code",
   "execution_count": 37,
   "metadata": {},
   "outputs": [
    {
     "data": {
      "text/plain": [
       "{'Product Improvement 1': {'Title': 'Improved assembly materials',\n",
       "  'Implementation Details for the engineer': '1. Use stronger and more durable materials for the assembly parts, such as screws and brackets.\\n2. Ensure that all holes in the parts align properly.\\n3. Provide screws that are easy to start by hand and do not get burred.\\n4. Consider using color-coded parts or markings to make assembly easier.\\n5. Include spare parts in the package to account for any missing or damaged parts during assembly.',\n",
       "  'Implementation Steps': '1. Research and source stronger and more durable materials for the assembly parts.\\n2. Test the new materials to ensure they meet the required strength and durability standards.\\n3. Revise the manufacturing process to ensure proper alignment of holes in the parts.\\n4. Work with the screw supplier to provide screws that are easy to start by hand.\\n5. Implement color-coded parts or markings on the assembly parts.\\n6. Include spare parts in the packaging.',\n",
       "  'Considerations': '1. The cost of using stronger and more durable materials may increase the production cost of the product.\\n2. The manufacturing process may need to be adjusted to accommodate the new materials and ensure proper alignment of holes.\\n3. The inclusion of spare parts may require additional packaging space.\\n4. Color-coded parts or markings should be easily understandable and not add confusion to the assembly process.'},\n",
       " 'Product Improvement 2': {'Title': 'Improved assembly instructions',\n",
       "  'Implementation Details for the engineer': '1. Create clear and detailed assembly instructions with step-by-step illustrations.\\n2. Use simple and concise language to explain each assembly step.\\n3. Include labeled diagrams or pictures of the parts to help users identify and locate them.\\n4. Provide troubleshooting tips for common assembly issues.\\n5. Consider creating an assembly video tutorial for visual learners.',\n",
       "  'Implementation Steps': '1. Review customer feedback and identify the specific areas of confusion or frustration in the current assembly instructions.\\n2. Hire a technical writer or instructional designer to create clear and detailed assembly instructions.\\n3. Work with graphic designers to create step-by-step illustrations and labeled diagrams.\\n4. Include troubleshooting tips based on common customer issues.\\n5. Consider creating an assembly video tutorial.',\n",
       "  'Considerations': '1. The cost of hiring a technical writer or instructional designer may be required.\\n2. Graphic design resources may be needed to create the illustrations and diagrams.\\n3. The assembly instructions may need to be translated into multiple languages.\\n4. The assembly video tutorial may require additional resources and expertise.'}}"
      ]
     },
     "execution_count": 37,
     "metadata": {},
     "output_type": "execute_result"
    }
   ],
   "source": [
    "eval_data"
   ]
  }
 ],
 "metadata": {
  "kernelspec": {
   "display_name": "oaie",
   "language": "python",
   "name": "python3"
  },
  "language_info": {
   "codemirror_mode": {
    "name": "ipython",
    "version": 3
   },
   "file_extension": ".py",
   "mimetype": "text/x-python",
   "name": "python",
   "nbconvert_exporter": "python",
   "pygments_lexer": "ipython3",
   "version": "3.10.11"
  },
  "orig_nbformat": 4
 },
 "nbformat": 4,
 "nbformat_minor": 2
}
