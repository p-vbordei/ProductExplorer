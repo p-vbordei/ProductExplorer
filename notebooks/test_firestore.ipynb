{
 "cells": [
  {
   "cell_type": "markdown",
   "metadata": {},
   "source": [
    "# Test Firestore"
   ]
  },
  {
   "cell_type": "code",
   "execution_count": 4,
   "metadata": {},
   "outputs": [],
   "source": [
    "# https://firebase.google.com/docs/firestore/quickstart?authuser=0&_gl=1*2w73qq*_ga*OTM3NzQyMjU5LjE2OTAzMDU0MTU.*_ga_CW55HF8NVT*MTY5MDQ2MDMyNC4yLjEuMTY5MDQ2MTA3MC4wLjAuMA..#python\n",
    "# https://www.youtube.com/watch?v=b4W3YQdViTI\n",
    "# https://www.youtube.com/watch?v=N0j6Fe2vAK4\n",
    "\n",
    "import firebase_admin\n",
    "from firebase_admin import credentials\n",
    "from firebase_admin import firestore\n",
    "\n",
    "# Use a service account.\n",
    "cred = credentials.Certificate('/Users/vladbordei/Documents/Development/ProductExplorer/notebooks/productexplorerdata-firebase-adminsdk-ulb3d-465f23dff3.json')\n",
    "\n",
    "app = firebase_admin.initialize_app(cred)\n",
    "\n",
    "db = firestore.client()"
   ]
  },
  {
   "cell_type": "code",
   "execution_count": 7,
   "metadata": {},
   "outputs": [
    {
     "data": {
      "text/plain": [
       "[{'Name': 'Tony', 'Age': 100, 'Net Worth': 10000000},\n",
       " {'Name': 'Mike', 'Age': 10, 'Net Worth': 100000000}]"
      ]
     },
     "execution_count": 7,
     "metadata": {},
     "output_type": "execute_result"
    }
   ],
   "source": [
    "Obj1 = {\n",
    "'Name':'Tony',\n",
    "'Age': 100,\n",
    "'Net Worth': 10000000\n",
    "}\n",
    "\n",
    "Obj2 = {\n",
    "'Name':'Mike',\n",
    "'Age': 10,\n",
    "'Net Worth': 100000000\n",
    "}\n",
    "\n",
    "data = [Obj1, Obj2]\n",
    "data"
   ]
  },
  {
   "cell_type": "code",
   "execution_count": 9,
   "metadata": {},
   "outputs": [
    {
     "name": "stdout",
     "output_type": "stream",
     "text": [
      "{'Name': 'Tony', 'Age': 100, 'Net Worth': 10000000}\n",
      "{'Name': 'Mike', 'Age': 10, 'Net Worth': 100000000}\n"
     ]
    }
   ],
   "source": [
    "# write data to firestore\n",
    "for record in data:\n",
    "    print(record)\n",
    "    doc_ref = db.collection(\"users\").document(record[\"Name\"])\n",
    "    doc_ref.set(record)"
   ]
  },
  {
   "cell_type": "code",
   "execution_count": 15,
   "metadata": {},
   "outputs": [
    {
     "name": "stdout",
     "output_type": "stream",
     "text": [
      "Mike => {'Age': 10, 'Net Worth': 100000000, 'Name': 'Mike'}\n",
      "Tony => {'Age': 100, 'Net Worth': 10000000, 'Name': 'Tony'}\n"
     ]
    }
   ],
   "source": [
    "# Read data\n",
    "users_ref = db.collection(\"users\")\n",
    "docs = users_ref.stream()\n",
    "\n",
    "for doc in docs:\n",
    "    print(f\"{doc.id} => {doc.to_dict()}\")"
   ]
  },
  {
   "cell_type": "markdown",
   "metadata": {},
   "source": [
    "Data Structure for handling users, payments and subscriptions\n",
    "\n",
    "/users/\n",
    "    userId1:\n",
    "        name: 'John Doe'\n",
    "        email: 'johndoe@example.com'\n",
    "        current_package: 'basic'\n",
    "        remaining_analysis: 10\n",
    "        /subscriptions/\n",
    "            subscriptionId1:\n",
    "                package: 'premium'\n",
    "                start_date: '2023-06-01'\n",
    "                end_date: '2023-06-30'\n",
    "                payment_status: 'paid'\n",
    "            subscriptionId2:\n",
    "                package: 'basic'\n",
    "                start_date: '2023-07-01'\n",
    "                payment_status: 'paid'\n",
    "    userId2: \n",
    "        ...\n",
    "\n",
    "/payments/\n",
    "    paymentId1:\n",
    "        user_id: userId1\n",
    "        subscription_id: subscriptionId1\n",
    "        amount: 100.00\n",
    "        date: '2023-06-01'\n",
    "        status: 'completed'\n",
    "    paymentId2:\n",
    "        ...\n",
    "\n",
    "In this setup, each user has their own document, with a subscriptions collection where you can keep track of each package they've subscribed to, along with the start and end date of each subscription.\n",
    "\n",
    "The current_package field in the user document will store the current package of the user. The remaining_analysis field will store the remaining analysis for the current month, which you will update every time the user uses the service.\n",
    "\n",
    "Payments are stored separately in a payments collection. Each payment is linked to a user and a subscription.\n"
   ]
  },
  {
   "cell_type": "code",
   "execution_count": null,
   "metadata": {},
   "outputs": [],
   "source": [
    "import firebase_admin\n",
    "from firebase_admin import credentials, firestore\n",
    "\n",
    "cred = credentials.Certificate('path/to/serviceAccount.json')\n",
    "firebase_admin.initialize_app(cred)\n",
    "\n",
    "db = firestore.client()\n",
    "\n",
    "def subscribe_user_to_package(user_id, package, start_date, payment_status):\n",
    "    user_ref = db.collection(u'users').document(user_id)\n",
    "    subs = user_ref.collection(u'subscriptions').document()\n",
    "    subs.set({\n",
    "        'package': package,\n",
    "        'start_date': start_date,\n",
    "        'payment_status': payment_status,\n",
    "    })\n",
    "    user_ref.update({\n",
    "        'current_package': package,\n",
    "        # reset remaining_analysis based on package\n",
    "        'remaining_analysis': 50 if package == 'basic' else 100,  # assuming premium users get 100 analyses\n",
    "    })\n",
    "\n",
    "def log_payment(user_id, subscription_id, amount, date, status):\n",
    "    payments_ref = db.collection(u'payments').document()\n",
    "    payments_ref.set({\n",
    "        'user_id': user_id,\n",
    "        'subscription_id': subscription_id,\n",
    "        'amount': amount,\n",
    "        'date': date,\n",
    "        'status': status,\n",
    "    })\n",
    "\n",
    "def use_analysis(user_id):\n",
    "    user_ref = db.collection(u'users').document(user_id)\n",
    "    user = user_ref.get()\n",
    "    remaining = user.get('remaining_analysis')\n",
    "    if remaining > 0:\n",
    "        user_ref.update({\n",
    "            'remaining_analysis': firestore.Increment(-1),\n",
    "        })\n",
    "        return True  # analysis was successful\n",
    "    else:\n",
    "        return False  # user is out of analysis\n"
   ]
  },
  {
   "cell_type": "markdown",
   "metadata": {},
   "source": [
    "Stripe is a service for handling online payments. It provides APIs for various programming languages, including Python. You can use Stripe to process payments for the subscription packages in your app.\n",
    "\n",
    "Here is an overview of how you could use Stripe with your Firestore database:\n",
    "\n",
    "When a user decides to subscribe to a package, you create a new Stripe PaymentIntent using the Stripe Python API. The PaymentIntent represents a payment that the user is about to make.\n",
    "\n",
    "Stripe will return a client_secret for the PaymentIntent. You send this client_secret to your front end. The front end uses the client_secret to confirm the payment with Stripe.\n",
    "\n",
    "Stripe will handle the payment confirmation process, which might involve the user's bank if necessary. Once the payment is confirmed, Stripe will send a webhook event to your server.\n",
    "\n",
    "Your server listens for the webhook event. When it receives the event, it marks the payment as completed in your Firestore database.\n",
    "\n",
    "Here is a basic example of how you can create a PaymentIntent using the Stripe Python API:"
   ]
  },
  {
   "cell_type": "code",
   "execution_count": null,
   "metadata": {},
   "outputs": [],
   "source": [
    "import stripe\n",
    "\n",
    "stripe.api_key = 'your_stripe_api_key'\n",
    "\n",
    "def create_payment(user_id, package, amount):\n",
    "    payment_intent = stripe.PaymentIntent.create(\n",
    "        amount=amount,  # amount in cents\n",
    "        currency='usd',\n",
    "        metadata={'user_id': user_id, 'package': package},\n",
    "    )\n",
    "    return payment_intent.client_secret\n"
   ]
  },
  {
   "cell_type": "markdown",
   "metadata": {},
   "source": [
    "This function creates a PaymentIntent for a given user, package, and amount. It then returns the client_secret of the PaymentIntent. You would typically call this function when a user decides to subscribe to a package.\n",
    "\n",
    "Stripe will handle the payment confirmation process and then send a webhook event to your server. You would set up a route on your server to receive these webhook events:"
   ]
  },
  {
   "cell_type": "code",
   "execution_count": null,
   "metadata": {},
   "outputs": [],
   "source": [
    "from flask import Flask, request\n",
    "import stripe\n",
    "\n",
    "app = Flask(__name__)\n",
    "\n",
    "stripe.api_key = 'your_stripe_api_key'\n",
    "\n",
    "@app.route('/webhook', methods=['POST'])\n",
    "def webhook_received():\n",
    "    event = stripe.Webhook.construct_event(\n",
    "        request.data, request.headers.get('stripe-signature'), 'your_stripe_webhook_secret'\n",
    "    )\n",
    "\n",
    "    if event['type'] == 'payment_intent.succeeded':\n",
    "        payment_intent = event['data']['object']\n",
    "        user_id = payment_intent['metadata']['user_id']\n",
    "        package = payment_intent['metadata']['package']\n",
    "        log_payment(user_id, package, payment_intent['amount'], payment_intent['created'], 'completed')\n",
    "\n",
    "    return '', 200\n"
   ]
  },
  {
   "cell_type": "markdown",
   "metadata": {},
   "source": [
    "This code sets up a route /webhook that listens for POST requests. When it receives a request, it tries to construct a Stripe webhook event from the request data. If the event is a payment_intent.succeeded event, it logs the payment in your Firestore database.\n",
    "\n",
    "Please note, for security reasons, verify the event data with Stripe's API before using the metadata in the webhook payload.\n",
    "\n",
    "Remember to replace 'your_stripe_api_key' and 'your_stripe_webhook_secret' with your actual Stripe API key and webhook secret."
   ]
  }
 ],
 "metadata": {
  "kernelspec": {
   "display_name": "oaie",
   "language": "python",
   "name": "python3"
  },
  "language_info": {
   "codemirror_mode": {
    "name": "ipython",
    "version": 3
   },
   "file_extension": ".py",
   "mimetype": "text/x-python",
   "name": "python",
   "nbconvert_exporter": "python",
   "pygments_lexer": "ipython3",
   "version": "3.10.11"
  },
  "orig_nbformat": 4
 },
 "nbformat": 4,
 "nbformat_minor": 2
}
