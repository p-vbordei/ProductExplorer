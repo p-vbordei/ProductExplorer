{
 "cells": [
  {
   "cell_type": "code",
   "execution_count": 7,
   "metadata": {},
   "outputs": [
    {
     "name": "stdout",
     "output_type": "stream",
     "text": [
      "OPENAI_API_KEY is ready\n"
     ]
    }
   ],
   "source": []
  },
  {
   "attachments": {},
   "cell_type": "markdown",
   "metadata": {},
   "source": [
    "Youtube Transcript Loader\n",
    "https://llamahub.ai/"
   ]
  },
  {
   "attachments": {},
   "cell_type": "markdown",
   "metadata": {},
   "source": [
    "Flask App with React Frontend\n",
    "\n",
    "https://gpt-index.readthedocs.io/en/latest/guides/tutorials/fullstack_app_guide.html\n",
    "https://github.com/logan-markewich/llama_index_starter_pack/tree/main/flask_react\n"
   ]
  },
  {
   "cell_type": "code",
   "execution_count": 1,
   "metadata": {},
   "outputs": [],
   "source": [
    "from llama_index import LLMPredictor, VectorStoreIndex, ServiceContext\n",
    "from langchain import OpenAI\n",
    "\n",
    "# define LLM\n",
    "llm_predictor = LLMPredictor(llm=OpenAI(temperature=0, model='gpt-3.5-turbo'))\n"
   ]
  },
  {
   "cell_type": "code",
   "execution_count": 3,
   "metadata": {},
   "outputs": [
    {
     "ename": "NameError",
     "evalue": "name 'documents' is not defined",
     "output_type": "error",
     "traceback": [
      "\u001b[0;31m---------------------------------------------------------------------------\u001b[0m",
      "\u001b[0;31mNameError\u001b[0m                                 Traceback (most recent call last)",
      "Cell \u001b[0;32mIn[3], line 6\u001b[0m\n\u001b[1;32m      2\u001b[0m service_context \u001b[39m=\u001b[39m ServiceContext\u001b[39m.\u001b[39mfrom_defaults(llm_predictor\u001b[39m=\u001b[39mllm_predictor)\n\u001b[1;32m      4\u001b[0m \u001b[39m# build index\u001b[39;00m\n\u001b[1;32m      5\u001b[0m index \u001b[39m=\u001b[39m VectorStoreIndex\u001b[39m.\u001b[39mfrom_documents(\n\u001b[0;32m----> 6\u001b[0m     documents, service_context\u001b[39m=\u001b[39mservice_context)\n",
      "\u001b[0;31mNameError\u001b[0m: name 'documents' is not defined"
     ]
    }
   ],
   "source": [
    "\n",
    "# configure service context\n",
    "service_context = ServiceContext.from_defaults(llm_predictor=llm_predictor)\n",
    "\n",
    "# build index\n",
    "index = VectorStoreIndex.from_documents(\n",
    "    documents, service_context=service_context)"
   ]
  },
  {
   "cell_type": "code",
   "execution_count": null,
   "metadata": {},
   "outputs": [
    {
     "name": "stdout",
     "output_type": "stream",
     "text": [
      "Collecting llama-index\n",
      "  Downloading llama_index-0.6.21.post1-py3-none-any.whl (476 kB)\n",
      "\u001b[2K     \u001b[90m━━━━━━━━━━━━━━━━━━━━━━━━━━━━━━━━━━━━━━━\u001b[0m \u001b[32m476.3/476.3 kB\u001b[0m \u001b[31m3.5 MB/s\u001b[0m eta \u001b[36m0:00:00\u001b[0ma \u001b[36m0:00:01\u001b[0m\n",
      "\u001b[?25hRequirement already satisfied: dataclasses-json in /Users/vladbordei/anaconda3/envs/oaie/lib/python3.10/site-packages (from llama-index) (0.5.7)\n",
      "Requirement already satisfied: langchain>=0.0.154 in /Users/vladbordei/anaconda3/envs/oaie/lib/python3.10/site-packages (from llama-index) (0.0.189)\n",
      "Collecting sqlalchemy>=2.0.15 (from llama-index)\n",
      "  Downloading SQLAlchemy-2.0.15-cp310-cp310-macosx_11_0_arm64.whl (2.0 MB)\n",
      "\u001b[2K     \u001b[90m━━━━━━━━━━━━━━━━━━━━━━━━━━━━━━━━━━━━━━━━\u001b[0m \u001b[32m2.0/2.0 MB\u001b[0m \u001b[31m15.9 MB/s\u001b[0m eta \u001b[36m0:00:00\u001b[0ma \u001b[36m0:00:01\u001b[0m\n",
      "\u001b[?25hRequirement already satisfied: numpy in /Users/vladbordei/anaconda3/envs/oaie/lib/python3.10/site-packages (from llama-index) (1.23.5)\n",
      "Requirement already satisfied: tenacity<9.0.0,>=8.2.0 in /Users/vladbordei/anaconda3/envs/oaie/lib/python3.10/site-packages (from llama-index) (8.2.2)\n",
      "Requirement already satisfied: openai>=0.26.4 in /Users/vladbordei/anaconda3/envs/oaie/lib/python3.10/site-packages (from llama-index) (0.27.5)\n",
      "Requirement already satisfied: pandas in /Users/vladbordei/anaconda3/envs/oaie/lib/python3.10/site-packages (from llama-index) (1.5.3)\n",
      "Requirement already satisfied: urllib3<2 in /Users/vladbordei/anaconda3/envs/oaie/lib/python3.10/site-packages (from llama-index) (1.26.15)\n",
      "Collecting fsspec>=2023.5.0 (from llama-index)\n",
      "  Downloading fsspec-2023.6.0-py3-none-any.whl (163 kB)\n",
      "\u001b[2K     \u001b[90m━━━━━━━━━━━━━━━━━━━━━━━━━━━━━━━━━━━━━━\u001b[0m \u001b[32m163.8/163.8 kB\u001b[0m \u001b[31m18.9 MB/s\u001b[0m eta \u001b[36m0:00:00\u001b[0m\n",
      "\u001b[?25hCollecting typing-inspect==0.8.0 (from llama-index)\n",
      "  Downloading typing_inspect-0.8.0-py3-none-any.whl (8.7 kB)\n",
      "Requirement already satisfied: typing-extensions==4.5.0 in /Users/vladbordei/anaconda3/envs/oaie/lib/python3.10/site-packages (from llama-index) (4.5.0)\n",
      "Requirement already satisfied: tiktoken in /Users/vladbordei/anaconda3/envs/oaie/lib/python3.10/site-packages (from llama-index) (0.3.3)\n",
      "Requirement already satisfied: mypy-extensions>=0.3.0 in /Users/vladbordei/anaconda3/envs/oaie/lib/python3.10/site-packages (from typing-inspect==0.8.0->llama-index) (0.4.3)\n",
      "Requirement already satisfied: PyYAML>=5.4.1 in /Users/vladbordei/anaconda3/envs/oaie/lib/python3.10/site-packages (from langchain>=0.0.154->llama-index) (6.0)\n",
      "Requirement already satisfied: aiohttp<4.0.0,>=3.8.3 in /Users/vladbordei/anaconda3/envs/oaie/lib/python3.10/site-packages (from langchain>=0.0.154->llama-index) (3.8.4)\n",
      "Requirement already satisfied: async-timeout<5.0.0,>=4.0.0 in /Users/vladbordei/anaconda3/envs/oaie/lib/python3.10/site-packages (from langchain>=0.0.154->llama-index) (4.0.2)\n",
      "Requirement already satisfied: numexpr<3.0.0,>=2.8.4 in /Users/vladbordei/anaconda3/envs/oaie/lib/python3.10/site-packages (from langchain>=0.0.154->llama-index) (2.8.4)\n",
      "Requirement already satisfied: openapi-schema-pydantic<2.0,>=1.2 in /Users/vladbordei/anaconda3/envs/oaie/lib/python3.10/site-packages (from langchain>=0.0.154->llama-index) (1.2.4)\n",
      "Requirement already satisfied: pydantic<2,>=1 in /Users/vladbordei/anaconda3/envs/oaie/lib/python3.10/site-packages (from langchain>=0.0.154->llama-index) (1.10.8)\n",
      "Requirement already satisfied: requests<3,>=2 in /Users/vladbordei/anaconda3/envs/oaie/lib/python3.10/site-packages (from langchain>=0.0.154->llama-index) (2.28.2)\n",
      "Requirement already satisfied: marshmallow<4.0.0,>=3.3.0 in /Users/vladbordei/anaconda3/envs/oaie/lib/python3.10/site-packages (from dataclasses-json->llama-index) (3.19.0)\n",
      "Requirement already satisfied: marshmallow-enum<2.0.0,>=1.5.1 in /Users/vladbordei/anaconda3/envs/oaie/lib/python3.10/site-packages (from dataclasses-json->llama-index) (1.5.1)\n",
      "Requirement already satisfied: tqdm in /Users/vladbordei/anaconda3/envs/oaie/lib/python3.10/site-packages (from openai>=0.26.4->llama-index) (4.65.0)\n",
      "Requirement already satisfied: python-dateutil>=2.8.1 in /Users/vladbordei/anaconda3/envs/oaie/lib/python3.10/site-packages (from pandas->llama-index) (2.8.2)\n",
      "Requirement already satisfied: pytz>=2020.1 in /Users/vladbordei/anaconda3/envs/oaie/lib/python3.10/site-packages (from pandas->llama-index) (2022.7)\n",
      "Requirement already satisfied: regex>=2022.1.18 in /Users/vladbordei/anaconda3/envs/oaie/lib/python3.10/site-packages (from tiktoken->llama-index) (2022.7.9)\n",
      "Requirement already satisfied: attrs>=17.3.0 in /Users/vladbordei/anaconda3/envs/oaie/lib/python3.10/site-packages (from aiohttp<4.0.0,>=3.8.3->langchain>=0.0.154->llama-index) (22.1.0)\n",
      "Requirement already satisfied: charset-normalizer<4.0,>=2.0 in /Users/vladbordei/anaconda3/envs/oaie/lib/python3.10/site-packages (from aiohttp<4.0.0,>=3.8.3->langchain>=0.0.154->llama-index) (2.0.4)\n",
      "Requirement already satisfied: multidict<7.0,>=4.5 in /Users/vladbordei/anaconda3/envs/oaie/lib/python3.10/site-packages (from aiohttp<4.0.0,>=3.8.3->langchain>=0.0.154->llama-index) (6.0.4)\n",
      "Requirement already satisfied: yarl<2.0,>=1.0 in /Users/vladbordei/anaconda3/envs/oaie/lib/python3.10/site-packages (from aiohttp<4.0.0,>=3.8.3->langchain>=0.0.154->llama-index) (1.9.2)\n",
      "Requirement already satisfied: frozenlist>=1.1.1 in /Users/vladbordei/anaconda3/envs/oaie/lib/python3.10/site-packages (from aiohttp<4.0.0,>=3.8.3->langchain>=0.0.154->llama-index) (1.3.3)\n",
      "Requirement already satisfied: aiosignal>=1.1.2 in /Users/vladbordei/anaconda3/envs/oaie/lib/python3.10/site-packages (from aiohttp<4.0.0,>=3.8.3->langchain>=0.0.154->llama-index) (1.3.1)\n",
      "Requirement already satisfied: packaging>=17.0 in /Users/vladbordei/anaconda3/envs/oaie/lib/python3.10/site-packages (from marshmallow<4.0.0,>=3.3.0->dataclasses-json->llama-index) (23.0)\n",
      "Requirement already satisfied: six>=1.5 in /Users/vladbordei/anaconda3/envs/oaie/lib/python3.10/site-packages (from python-dateutil>=2.8.1->pandas->llama-index) (1.16.0)\n",
      "Requirement already satisfied: idna<4,>=2.5 in /Users/vladbordei/anaconda3/envs/oaie/lib/python3.10/site-packages (from requests<3,>=2->langchain>=0.0.154->llama-index) (3.4)\n",
      "Requirement already satisfied: certifi>=2017.4.17 in /Users/vladbordei/anaconda3/envs/oaie/lib/python3.10/site-packages (from requests<3,>=2->langchain>=0.0.154->llama-index) (2022.12.7)\n",
      "Installing collected packages: typing-inspect, sqlalchemy, fsspec, llama-index\n",
      "  Attempting uninstall: typing-inspect\n",
      "    Found existing installation: typing-inspect 0.9.0\n",
      "    Uninstalling typing-inspect-0.9.0:\n",
      "      Successfully uninstalled typing-inspect-0.9.0\n",
      "  Attempting uninstall: sqlalchemy\n",
      "    Found existing installation: SQLAlchemy 1.4.39\n",
      "    Uninstalling SQLAlchemy-1.4.39:\n",
      "      Successfully uninstalled SQLAlchemy-1.4.39\n",
      "  Attempting uninstall: fsspec\n",
      "    Found existing installation: fsspec 2023.4.0\n",
      "    Uninstalling fsspec-2023.4.0:\n",
      "      Successfully uninstalled fsspec-2023.4.0\n",
      "Successfully installed fsspec-2023.6.0 llama-index-0.6.21.post1 sqlalchemy-2.0.15 typing-inspect-0.8.0\n"
     ]
    }
   ],
   "source": [
    "!pip install llama-index"
   ]
  },
  {
   "attachments": {},
   "cell_type": "markdown",
   "metadata": {},
   "source": [
    "Design Philosophy: Progressive Disclosure of Complexity\n",
    "Progressive disclosure of complexity is a design philosophy that aims to strike a balance between the needs of beginners and experts. The idea is that you should give users the simplest and most straightforward interface or experience possible when they first encounter a system or product, but then gradually reveal more complexity and advanced features as users become more familiar with the system. This can help prevent users from feeling overwhelmed or intimidated by a system that seems too complex, while still giving experienced users the tools they need to accomplish advanced tasks.\n",
    "\n",
    "https://gpt-index.readthedocs.io/en/latest/guides/primer/query_interface.html"
   ]
  },
  {
   "attachments": {},
   "cell_type": "markdown",
   "metadata": {},
   "source": [
    "Querying an index or a graph involves a three main components:\n",
    "\n",
    "Retrievers: A retriever class retrieves a set of Nodes from an index given a query.\n",
    "\n",
    "Response Synthesizer: This class takes in a set of Nodes and synthesizes an answer given a query.\n",
    "\n",
    "Query Engine: This class takes in a query and returns a Response object. It can make use of Retrievers and Response Synthesizer modules under the hood."
   ]
  },
  {
   "cell_type": "code",
   "execution_count": null,
   "metadata": {},
   "outputs": [],
   "source": []
  },
  {
   "attachments": {},
   "cell_type": "markdown",
   "metadata": {},
   "source": []
  },
  {
   "attachments": {},
   "cell_type": "markdown",
   "metadata": {},
   "source": [
    "Chat Engine\n",
    "https://gpt-index.readthedocs.io/en/latest/how_to/chat_engine/root.html\n",
    "\n",
    "Chat engine is a high-level interface for having a conversation with your data (multiple back-and-forth instead of a single question & answer). Think ChatGPT, but augmented with your knowledge base.\n",
    "\n",
    "Conceptually, it is a stateful analogy of a Query Engine. By keeping track of the conversation history, it can answer questions with past context in mind."
   ]
  },
  {
   "attachments": {},
   "cell_type": "markdown",
   "metadata": {},
   "source": [
    "Guardrails is an open-source Python package for specification/validation/correction of output schemas. See below for a code example.\n",
    "https://gpt-index.readthedocs.io/en/latest/how_to/output_parsing.html\n",
    "https://pypi.org/project/guardrails/\n",
    "\n",
    "\n",
    "Pentru cand vreau sa scot informatii cantitative din model\n",
    "https://gpt-index.readthedocs.io/en/latest/examples/index_structs/struct_indices/SQLIndexDemo.html\n",
    "\n"
   ]
  },
  {
   "attachments": {},
   "cell_type": "markdown",
   "metadata": {},
   "source": [
    "https://gpt-index.readthedocs.io/en/latest/examples/index_structs/knowledge_graph/KnowledgeGraphDemo.html\n",
    "Knowledge Graph Index\n",
    "\n"
   ]
  },
  {
   "attachments": {},
   "cell_type": "markdown",
   "metadata": {},
   "source": [
    "########### INSERTIE DOCUMENTE ############### "
   ]
  },
  {
   "cell_type": "code",
   "execution_count": 4,
   "metadata": {},
   "outputs": [
    {
     "name": "stdout",
     "output_type": "stream",
     "text": [
      "OPENAI_API_KEY is ready\n"
     ]
    }
   ],
   "source": [
    "import pandas as pd\n",
    "import numpy as np\n",
    "from sqlalchemy import create_engine, text\n",
    "import json\n",
    "import os\n",
    "\n",
    "import tiktoken\n",
    "from openai.embeddings_utils import get_embedding\n",
    "from sklearn.cluster import AgglomerativeClustering\n",
    "\n",
    "import openai\n",
    "from dotenv import load_dotenv\n",
    "load_dotenv()\n",
    "OPENAI_API_KEY = os.getenv('OPENAI_API_KEY')\n",
    "if os.getenv(\"OPENAI_API_KEY\") is not None:\n",
    "    print (\"OPENAI_API_KEY is ready\")\n",
    "else:\n",
    "    print (\"OPENAI_API_KEY environment variable not found\")\n",
    "\n",
    "# Read the ASIN values from the CSV file\n",
    "asin_list_path = '/Users/vladbordei/Documents/Development/ProductExplorer/data/external/asin_list.csv'\n",
    "#asin_list_path = './data/external/asin_list.csv'\n",
    "asin_list = pd.read_csv(asin_list_path)['asin'].tolist()"
   ]
  },
  {
   "attachments": {},
   "cell_type": "markdown",
   "metadata": {},
   "source": [
    "https://gpt-index.readthedocs.io/en/latest/how_to/index/usage_pattern.html#get-started"
   ]
  },
  {
   "attachments": {},
   "cell_type": "markdown",
   "metadata": {},
   "source": [
    "Read Data"
   ]
  },
  {
   "cell_type": "code",
   "execution_count": 5,
   "metadata": {},
   "outputs": [],
   "source": [
    "from pathlib import Path\n",
    "from llama_index import download_loader\n",
    "\n",
    "SimpleCSVReader = download_loader(\"SimpleCSVReader\")\n",
    "\n",
    "loader = SimpleCSVReader()\n",
    "reviews = loader.load_data(file=Path('/Users/vladbordei/Documents/Development/ProductExplorer/data/processed/reviews_export.csv'))\n",
    "products = loader.load_data(file=Path('/Users/vladbordei/Documents/Development/ProductExplorer/data/processed/products_export.csv'))\n",
    "weighted_graph = loader.load_data(file=Path('/Users/vladbordei/Documents/Development/ProductExplorer/data/processed/weighted_trait_graph_export.csv'))\n",
    "cluster_solutions = loader.load_data(file=Path('/Users/vladbordei/Documents/Development/ProductExplorer/data/processed/cluster_solutions.csv'))"
   ]
  },
  {
   "cell_type": "code",
   "execution_count": 6,
   "metadata": {},
   "outputs": [],
   "source": [
    "JSONReader = download_loader(\"JSONReader\")\n",
    "\n",
    "loader = JSONReader()\n",
    "product_summary = loader.load_data(Path('/Users/vladbordei/Documents/Development/ProductExplorer/data/processed/summarised_product_information.json'))\n"
   ]
  },
  {
   "attachments": {},
   "cell_type": "markdown",
   "metadata": {},
   "source": [
    "Build Indices"
   ]
  },
  {
   "cell_type": "code",
   "execution_count": 7,
   "metadata": {},
   "outputs": [],
   "source": [
    "reviews_index =  VectorStoreIndex.from_documents(reviews)\n",
    "products_index = VectorStoreIndex.from_documents(products)\n",
    "weighted_graph_index = VectorStoreIndex.from_documents(weighted_graph)\n",
    "product_summary_index = VectorStoreIndex.from_documents(product_summary)\n",
    "cluster_solutions_index = VectorStoreIndex.from_documents(cluster_solutions)"
   ]
  },
  {
   "attachments": {},
   "cell_type": "markdown",
   "metadata": {},
   "source": [
    "##### Build Query Engines\n",
    "\n",
    "https://gpt-index.readthedocs.io/en/latest/examples/usecases/10q_sub_question.html\n",
    "\n",
    "https://gpt-index.readthedocs.io/en/latest/guides/primer/usage_pattern.html\n",
    "\n",
    "Right now, we support the following options:\n",
    "\n",
    "default: “create and refine” an answer by sequentially going through each retrieved Node; This makes a separate LLM call per Node. Good for more detailed answers.\n",
    "\n",
    "compact: “compact” the prompt during each LLM call by stuffing as many Node text chunks that can fit within the maximum prompt size. If there are too many chunks to stuff in one prompt, “create and refine” an answer by going through multiple prompts.\n",
    "\n",
    "tree_summarize: Given a set of Node objects and the query, recursively construct a tree and return the root node as the response. Good for summarization purposes.\n",
    "\n",
    "no_text: Only runs the retriever to fetch the nodes that would have been sent to the LLM, without actually sending them. Then can be inspected by checking response.source_nodes. The response object is covered in more detail in Section 5.\n",
    "\n",
    "accumulate: Given a set of Node objects and the query, apply the query to each Node text chunk while accumulating the responses into an array. Returns a concatenated string of all responses. Good for when you need to run the same query separately against each text chunk.\n",
    "\n",
    "\n",
    "\n",
    "index = ListIndex.from_documents(documents)\n",
    "\n",
    "retriever = index.as_retriever()\n",
    "\n",
    "\n",
    "\n",
    "query_engine = RetrieverQueryEngine.from_args(retriever, response_mode='default')\n",
    "\n",
    "\n",
    "\n",
    "query_engine = RetrieverQueryEngine.from_args(retriever, response_mode='compact')\n",
    "\n",
    "\n",
    "\n",
    "query_engine = RetrieverQueryEngine.from_args(retriever, response_mode='tree_summarize')\n",
    "\n",
    "\n",
    "\n",
    "query_engine = RetrieverQueryEngine.from_args(retriever, response_mode='no_text')"
   ]
  },
  {
   "cell_type": "code",
   "execution_count": 55,
   "metadata": {},
   "outputs": [],
   "source": [
    "reviews_query_engine = reviews_index.as_query_engine(similarity_top_k=5)\n",
    "products_query_engine = products_index.as_query_engine(similarity_top_k=5)\n",
    "weighted_graph_query_engine = weighted_graph_index.as_query_engine(similarity_top_k=5)\n",
    "product_summary_query_engine = product_summary_index.as_query_engine(similarity_top_k=5)\n",
    "cluster_solutions_query_engine = cluster_solutions_index.as_query_engine(similarity_top_k=5)"
   ]
  },
  {
   "cell_type": "code",
   "execution_count": 56,
   "metadata": {},
   "outputs": [],
   "source": [
    "query_engine_tools = [\n",
    "    QueryEngineTool(\n",
    "        query_engine=reviews_query_engine, \n",
    "        metadata=ToolMetadata(name='reviews', description='Product reviews')\n",
    "    ),\n",
    "    QueryEngineTool(\n",
    "        query_engine=products_query_engine, \n",
    "        metadata=ToolMetadata(name='products', description='Provides information about products, as described on the Amazon pages')\n",
    "    ),\n",
    "    QueryEngineTool(\n",
    "        query_engine=weighted_graph_query_engine, \n",
    "        metadata=ToolMetadata(name='aggregated reviews data', description='Aggregated information extracted from the reviews')\n",
    "    ),\n",
    "    QueryEngineTool(\n",
    "        query_engine=product_summary_query_engine,\n",
    "        metadata=ToolMetadata(name='product summary', description='A general description of the product')\n",
    "    ),\n",
    "    QueryEngineTool(\n",
    "        query_engine=cluster_solutions_query_engine,\n",
    "        metadata=ToolMetadata(name='cluster solutions', description='A database of solutions to problems that users have encountered')\n",
    "    )\n",
    "]"
   ]
  },
  {
   "cell_type": "code",
   "execution_count": 57,
   "metadata": {},
   "outputs": [],
   "source": [
    "s_engine = SubQuestionQueryEngine.from_defaults(query_engine_tools=query_engine_tools)"
   ]
  },
  {
   "cell_type": "code",
   "execution_count": 58,
   "metadata": {},
   "outputs": [
    {
     "name": "stdout",
     "output_type": "stream",
     "text": [
      "Generated 4 sub questions.\n",
      "\u001b[36;1m\u001b[1;3m[reviews] Q: What is the issue with the product noise\n",
      "\u001b[0m\u001b[36;1m\u001b[1;3m[reviews] A: The issues with product noise include clicking sounds that can be annoying, loud and obnoxious volume, and loud and bothersome noise for plane travel. One review also mentions that the product can get annoying over time.\n",
      "\u001b[0m\u001b[33;1m\u001b[1;3m[products] Q: What is the product description\n",
      "\u001b[0m\u001b[33;1m\u001b[1;3m[products] A: The product description is not provided in the given context information.\n",
      "\u001b[0m\u001b[38;5;200m\u001b[1;3m[cluster solutions] Q: What are the common solutions to the issue with product noise\n",
      "\u001b[0m\u001b[38;5;200m\u001b[1;3m[cluster solutions] A: The common solutions to the issue with product noise are adding a volume control feature, incorporating noise-dampening materials like foam or rubber into the product design, and conducting a feasibility analysis for cost-effective implementation. These solutions should be user-friendly and highlighted in packaging and marketing materials, and the modifications should be tested to ensure they do not negatively impact the product's performance or durability.\n",
      "\u001b[0m\u001b[32;1m\u001b[1;3m[aggregated reviews data] Q: What are the highly rated solutions to the issue with product noise\n",
      "\u001b[0m\u001b[32;1m\u001b[1;3m[aggregated reviews data] A: The highly rated solutions to the issue with product noise are implementing noise reduction technology, including noise-cancelling headphones with the product, and providing a volume control feature.\n",
      "\u001b[0m"
     ]
    }
   ],
   "source": [
    "response = s_engine.query('Analyze the issue with the product noise and let me know what good solutions are available.')"
   ]
  },
  {
   "cell_type": "code",
   "execution_count": 59,
   "metadata": {},
   "outputs": [
    {
     "name": "stdout",
     "output_type": "stream",
     "text": [
      "The issue with the product noise includes clicking sounds, loud and obnoxious volume, and bothersome noise for plane travel. One review also mentions that the product can get annoying over time. Common solutions to this issue are adding a volume control feature, incorporating noise-dampening materials like foam or rubber into the product design, and conducting a feasibility analysis for cost-effective implementation. Highly rated solutions include implementing noise reduction technology, including noise-cancelling headphones with the product, and providing a volume control feature. These solutions should be user-friendly and highlighted in packaging and marketing materials, and the modifications should be tested to ensure they do not negatively impact the product's performance or durability.\n"
     ]
    }
   ],
   "source": [
    "print(response)"
   ]
  },
  {
   "cell_type": "code",
   "execution_count": 64,
   "metadata": {},
   "outputs": [
    {
     "name": "stdout",
     "output_type": "stream",
     "text": [
      "Generated 5 sub questions.\n",
      "\u001b[36;1m\u001b[1;3m[reviews] Q: What are the issues mentioned in the reviews\n",
      "\u001b[0m\u001b[36;1m\u001b[1;3m[reviews] A: The issues mentioned in the reviews include: \n",
      "- Loudness and rattling of a toy car \n",
      "- Beads getting stuck and decreased functionality over time in a Magnatab \n",
      "- Balls not staying up and getting stuck, as well as a detachable pen, in a toy for kids \n",
      "- Connectivity issues with a pen in a drawing and writing practice toy \n",
      "- Some magnets being harder to fit in a drawing toy \n",
      "- Stylus getting lost easily in a toy for young children \n",
      "- Some balls not working properly and a detachable pen in a toy for kids \n",
      "- Chips next to many holes and metal balls not staying up in those areas in a Magnatab.\n",
      "\u001b[0m\u001b[33;1m\u001b[1;3m[aggregated reviews data] Q: What is the frequency of each issue mentioned in the reviews\n",
      "\u001b[0m\u001b[33;1m\u001b[1;3m[aggregated reviews data] A: It is not possible to answer the question without further information. The context information provides examples of reviews mentioning various issues, but it does not provide a comprehensive list of all issues mentioned in the reviews. Additionally, the frequency of each issue would require analyzing the entire set of reviews, which is not provided in the context information.\n",
      "\u001b[0m\u001b[38;5;200m\u001b[1;3m[products] Q: What is the product in question\n",
      "\u001b[0m\u001b[38;5;200m\u001b[1;3m[products] A: The product in question is not explicitly stated in the given context information.\n",
      "\u001b[0m\u001b[32;1m\u001b[1;3m[product summary] Q: Can you provide a general description of the product\n",
      "\u001b[0m\u001b[32;1m\u001b[1;3m[product summary] A: Yes, the product is a magnetic drawing board that is primarily used for drawing, designing, creating, and playing with magnetic beads. It can also be used for teaching children how to write and draw, taking messages, completing classroom assignments, and practicing alphabets and numbers. The product features magnetized beads and a stylus pen for easy drawing and erasing, and is made of child-safe, non-toxic, BPA-free, and lead-free materials. It is suitable for ages 3 to adult and can be used at home, schools, classrooms, long drives, flights, train rides, doctor's offices, waiting for a flight, restaurants, on-the-go, and travel.\n",
      "\u001b[0m\u001b[31;1m\u001b[1;3m[cluster solutions] Q: Are there any known solutions to the most frequently found issue\n",
      "\u001b[0m\u001b[31;1m\u001b[1;3m[cluster solutions] A: It is not clear which issue is the most frequently found as multiple issues are mentioned in the context information. However, for each issue mentioned, there are proposed solutions provided.\n",
      "\u001b[0m"
     ]
    }
   ],
   "source": [
    "response = s_engine.query('what is the most frequently found issue with the product?')"
   ]
  },
  {
   "cell_type": "code",
   "execution_count": 65,
   "metadata": {},
   "outputs": [
    {
     "name": "stdout",
     "output_type": "stream",
     "text": [
      "It is not possible to answer the question without further information. The context information provides examples of reviews mentioning various issues, but it does not provide a comprehensive list of all issues mentioned in the reviews. Additionally, the frequency of each issue would require analyzing the entire set of reviews, which is not provided in the context information.\n"
     ]
    }
   ],
   "source": [
    "print(response)"
   ]
  },
  {
   "cell_type": "code",
   "execution_count": 66,
   "metadata": {},
   "outputs": [
    {
     "name": "stdout",
     "output_type": "stream",
     "text": [
      "Generated 4 sub questions.\n",
      "\u001b[36;1m\u001b[1;3m[product summary] Q: What are the different use cases of the product\n",
      "\u001b[0m\u001b[36;1m\u001b[1;3m[product summary] A: The product can be used for drawing, designing, creating, and playing with magnetic beads. It can also be used for teaching children how to write and draw, taking messages, completing classroom assignments, and practicing alphabets and numbers. It is suitable for use at home, schools, classrooms, long drives, flights, train rides, doctor's offices, waiting for a flight, restaurants, on-the-go, and travel. It promotes early writing education, STEM learning, and sensory-based learning. It encourages creativity, exploration, and problem-solving. It helps improve handwriting and fine motor skills. It is versatile and adaptable to different learning activities and environments.\n",
      "\u001b[0m\u001b[33;1m\u001b[1;3m[cluster solutions] Q: What are the common problems users have encountered\n",
      "\u001b[0m\u001b[33;1m\u001b[1;3m[cluster solutions] A: Users have encountered common problems such as beads getting stuck, difficulty in drawing, limited hole pattern options, the pen and magnet being easily breakable, balls falling off the board, noise levels, and difficulty in pushing down the magnets. These issues have led to user dissatisfaction, negatively impacting the overall perceived value and marketability of the product.\n",
      "\u001b[0m\u001b[38;5;200m\u001b[1;3m[aggregated reviews data] Q: What are the most common positive reviews\n",
      "\u001b[0m\u001b[38;5;200m\u001b[1;3m[aggregated reviews data] A: There is no information provided about the most common positive reviews.\n",
      "\u001b[0m\u001b[32;1m\u001b[1;3m[aggregated reviews data] Q: What are the most common negative reviews\n",
      "\u001b[0m\u001b[32;1m\u001b[1;3m[aggregated reviews data] A: It is not possible to determine the most common negative reviews without further information as the context information provided includes multiple products and issues.\n",
      "\u001b[0m"
     ]
    }
   ],
   "source": [
    "response = s_engine.query('what is the most common use case?')"
   ]
  },
  {
   "cell_type": "code",
   "execution_count": 67,
   "metadata": {},
   "outputs": [
    {
     "name": "stdout",
     "output_type": "stream",
     "text": [
      "The most common use case of the product is not specified as multiple use cases are mentioned with equal emphasis.\n"
     ]
    }
   ],
   "source": [
    "print(response)"
   ]
  },
  {
   "cell_type": "code",
   "execution_count": null,
   "metadata": {},
   "outputs": [],
   "source": [
    "# Problema ramasa de rezolvat: trebuie introduse informatii cantitative in analiza: cat de comuna este o problema, etc. Toate informatiile primite pana acum au fost cantitative nu calitative."
   ]
  }
 ],
 "metadata": {
  "kernelspec": {
   "display_name": "oaie",
   "language": "python",
   "name": "python3"
  },
  "language_info": {
   "codemirror_mode": {
    "name": "ipython",
    "version": 3
   },
   "file_extension": ".py",
   "mimetype": "text/x-python",
   "name": "python",
   "nbconvert_exporter": "python",
   "pygments_lexer": "ipython3",
   "version": "3.10.11"
  },
  "orig_nbformat": 4
 },
 "nbformat": 4,
 "nbformat_minor": 2
}
