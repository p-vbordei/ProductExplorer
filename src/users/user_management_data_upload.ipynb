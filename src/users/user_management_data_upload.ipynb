{
 "cells": [
  {
   "cell_type": "code",
   "execution_count": 1,
   "metadata": {},
   "outputs": [],
   "source": [
    "import json\n",
    "import firebase_admin\n",
    "from firebase_admin import credentials, firestore\n",
    "\n",
    "# Firestore details\n",
    "cred_path = '/Users/vladbordei/Documents/Development/ProductExplorer/notebooks/productexplorerdata-firebase-adminsdk-ulb3d-465f23dff3.json'\n",
    "\n",
    "# Initialize Firestore\n",
    "cred = credentials.Certificate(cred_path)\n",
    "if not firebase_admin._apps:\n",
    "    firebase_admin.initialize_app(cred)\n",
    "db = firestore.client()"
   ]
  },
  {
   "cell_type": "code",
   "execution_count": 2,
   "metadata": {},
   "outputs": [],
   "source": [
    "\n",
    "\n",
    "# Load users data from JSON file\n",
    "json_users_path  = '/Users/vladbordei/Documents/Development/ProductExplorer/data/external/user_jsons/users_example.json'\n",
    "with open(json_users_path) as f:\n",
    "    users_data = json.load(f)\n",
    "\n",
    "\n",
    "# Upload users data to Firestore\n",
    "for user_id, user_data in users_data.items():\n",
    "    user_ref = db.collection(u'users').document(user_id)\n",
    "    user_ref.set({\n",
    "        'name': user_data['name'],\n",
    "        'email': user_data['email'],\n",
    "        'current_package': user_data['current_package'],\n",
    "        'remaining_investigations': user_data['remaining_investigations'],\n",
    "    })\n",
    "\n",
    "    # Upload subscriptions data to Firestore\n",
    "    for subscription_id, subscription_data in user_data['subscriptions'].items():\n",
    "        subscription_ref = user_ref.collection(u'subscriptions').document(subscription_id)\n",
    "        subscription_ref.set(subscription_data)\n",
    "\n"
   ]
  },
  {
   "cell_type": "code",
   "execution_count": 3,
   "metadata": {},
   "outputs": [],
   "source": [
    "# Load payments data from JSON file\n",
    "json_payments_path  = '/Users/vladbordei/Documents/Development/ProductExplorer/data/external/payment_jsons/payment_example.json'\n",
    "with open(json_payments_path) as f:\n",
    "    payments_data = json.load(f)\n",
    "\n",
    "# Upload payments data to Firestore\n",
    "for payment_id, payment_data in payments_data.items():\n",
    "    payment_ref = db.collection(u'payments').document(payment_id)\n",
    "    payment_ref.set(payment_data)"
   ]
  },
  {
   "cell_type": "code",
   "execution_count": 4,
   "metadata": {},
   "outputs": [],
   "source": [
    "# Load investigations data from JSON file\n",
    "json_investigations_path = '/Users/vladbordei/Documents/Development/ProductExplorer/data/external/investigations_json/investigations_example.json'\n",
    "with open(json_investigations_path) as f:\n",
    "    investigations_data = json.load(f)\n",
    "\n",
    "# Upload investigations data to Firestore\n",
    "for investigation_id, investigation_data in investigations_data.items():\n",
    "    investigation_ref = db.collection(u'investigations').document(investigation_id)\n",
    "    investigation_ref.set(investigation_data)"
   ]
  },
  {
   "cell_type": "code",
   "execution_count": null,
   "metadata": {},
   "outputs": [],
   "source": [
    "asin_list = [ \n",
    "    'B0BCTTCSBZ',\n",
    "    'B0BLNBS36G',\n",
    "    'B0BW8Y2B8Z',\n",
    "    'B08X2324ZL',\n",
    "    'B09NR5JW8Y',\n",
    "    'B091325ZMB'    \n",
    "]"
   ]
  }
 ],
 "metadata": {
  "kernelspec": {
   "display_name": "oaie",
   "language": "python",
   "name": "python3"
  },
  "language_info": {
   "codemirror_mode": {
    "name": "ipython",
    "version": 3
   },
   "file_extension": ".py",
   "mimetype": "text/x-python",
   "name": "python",
   "nbconvert_exporter": "python",
   "pygments_lexer": "ipython3",
   "version": "3.10.11"
  },
  "orig_nbformat": 4
 },
 "nbformat": 4,
 "nbformat_minor": 2
}
